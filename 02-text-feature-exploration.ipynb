{
 "cells": [
  {
   "cell_type": "markdown",
   "id": "086a5bdf",
   "metadata": {
    "papermill": {
     "duration": 0.016858,
     "end_time": "2022-10-22T07:05:04.487983",
     "exception": false,
     "start_time": "2022-10-22T07:05:04.471125",
     "status": "completed"
    },
    "tags": []
   },
   "source": [
    "Reference: https://www.kaggle.com/code/finlay/shopee-products-matching-text-part-english"
   ]
  },
  {
   "cell_type": "code",
   "execution_count": 1,
   "id": "b546ed51",
   "metadata": {
    "execution": {
     "iopub.execute_input": "2022-10-22T07:05:04.520501Z",
     "iopub.status.busy": "2022-10-22T07:05:04.519530Z",
     "iopub.status.idle": "2022-10-22T07:05:04.742874Z",
     "shell.execute_reply": "2022-10-22T07:05:04.741922Z"
    },
    "papermill": {
     "duration": 0.242241,
     "end_time": "2022-10-22T07:05:04.745315",
     "exception": false,
     "start_time": "2022-10-22T07:05:04.503074",
     "status": "completed"
    },
    "tags": []
   },
   "outputs": [],
   "source": [
    "import numpy as np\n",
    "import pandas as pd\n",
    "import cv2\n",
    "import matplotlib.pyplot as plt\n",
    "from tqdm.notebook import tqdm\n",
    "import gc"
   ]
  },
  {
   "cell_type": "code",
   "execution_count": 2,
   "id": "18fd1f64",
   "metadata": {
    "execution": {
     "iopub.execute_input": "2022-10-22T07:05:04.776985Z",
     "iopub.status.busy": "2022-10-22T07:05:04.776054Z",
     "iopub.status.idle": "2022-10-22T07:05:05.487065Z",
     "shell.execute_reply": "2022-10-22T07:05:05.486111Z"
    },
    "papermill": {
     "duration": 0.729401,
     "end_time": "2022-10-22T07:05:05.489665",
     "exception": false,
     "start_time": "2022-10-22T07:05:04.760264",
     "status": "completed"
    },
    "tags": []
   },
   "outputs": [],
   "source": [
    "DATA_PATH = '../input/shopee-product-matching/'\n",
    "\n",
    "def getMetric(col):\n",
    "    def f1score(row):\n",
    "        n = len( np.intersect1d(row.target,row[col]) )\n",
    "        return 2*n / (len(row.target) + len(row[col]))\n",
    "    return f1score\n",
    "\n",
    "train = pd.read_csv(DATA_PATH + 'train.csv')\n",
    "train['image'] = DATA_PATH + 'train_images/' + train['image']\n",
    "target_mapping = train.groupby('label_group').posting_id.agg('unique').to_dict()\n",
    "train['target'] = train.label_group.map(target_mapping)"
   ]
  },
  {
   "cell_type": "code",
   "execution_count": 3,
   "id": "a4b323e8",
   "metadata": {
    "execution": {
     "iopub.execute_input": "2022-10-22T07:05:05.522211Z",
     "iopub.status.busy": "2022-10-22T07:05:05.521905Z",
     "iopub.status.idle": "2022-10-22T07:05:05.566628Z",
     "shell.execute_reply": "2022-10-22T07:05:05.565606Z"
    },
    "papermill": {
     "duration": 0.06275,
     "end_time": "2022-10-22T07:05:05.568738",
     "exception": false,
     "start_time": "2022-10-22T07:05:05.505988",
     "status": "completed"
    },
    "tags": []
   },
   "outputs": [
    {
     "data": {
      "text/html": [
       "<div>\n",
       "<style scoped>\n",
       "    .dataframe tbody tr th:only-of-type {\n",
       "        vertical-align: middle;\n",
       "    }\n",
       "\n",
       "    .dataframe tbody tr th {\n",
       "        vertical-align: top;\n",
       "    }\n",
       "\n",
       "    .dataframe thead th {\n",
       "        text-align: right;\n",
       "    }\n",
       "</style>\n",
       "<table border=\"1\" class=\"dataframe\">\n",
       "  <thead>\n",
       "    <tr style=\"text-align: right;\">\n",
       "      <th></th>\n",
       "      <th>posting_id</th>\n",
       "      <th>image</th>\n",
       "      <th>image_phash</th>\n",
       "      <th>title</th>\n",
       "      <th>label_group</th>\n",
       "      <th>target</th>\n",
       "    </tr>\n",
       "  </thead>\n",
       "  <tbody>\n",
       "    <tr>\n",
       "      <th>3874</th>\n",
       "      <td>train_1646767365</td>\n",
       "      <td>../input/shopee-product-matching/train_images/...</td>\n",
       "      <td>e925873ed09cd08f</td>\n",
       "      <td>sarung celana wadimor original 100% dewasa dan...</td>\n",
       "      <td>258047</td>\n",
       "      <td>[train_1646767365, train_398181303, train_1528...</td>\n",
       "    </tr>\n",
       "    <tr>\n",
       "      <th>31859</th>\n",
       "      <td>train_1528423085</td>\n",
       "      <td>../input/shopee-product-matching/train_images/...</td>\n",
       "      <td>ea97861c926a71e3</td>\n",
       "      <td>warna random acak sarung celana wadimor murah ...</td>\n",
       "      <td>258047</td>\n",
       "      <td>[train_1646767365, train_398181303, train_1528...</td>\n",
       "    </tr>\n",
       "    <tr>\n",
       "      <th>6738</th>\n",
       "      <td>train_398181303</td>\n",
       "      <td>../input/shopee-product-matching/train_images/...</td>\n",
       "      <td>e9b5833e929e909c</td>\n",
       "      <td>sarung celana wadimor dewasa hitam polos sarcel</td>\n",
       "      <td>258047</td>\n",
       "      <td>[train_1646767365, train_398181303, train_1528...</td>\n",
       "    </tr>\n",
       "    <tr>\n",
       "      <th>7613</th>\n",
       "      <td>train_2865605743</td>\n",
       "      <td>../input/shopee-product-matching/train_images/...</td>\n",
       "      <td>bfc3cc1cc636c14c</td>\n",
       "      <td>wall sticker / wallsticker -  submarine measur...</td>\n",
       "      <td>297977</td>\n",
       "      <td>[train_2865605743, train_1382500866]</td>\n",
       "    </tr>\n",
       "    <tr>\n",
       "      <th>12367</th>\n",
       "      <td>train_1382500866</td>\n",
       "      <td>../input/shopee-product-matching/train_images/...</td>\n",
       "      <td>838436c07dff19e4</td>\n",
       "      <td>reliza wall sticker pengukur tinggi badan jera...</td>\n",
       "      <td>297977</td>\n",
       "      <td>[train_2865605743, train_1382500866]</td>\n",
       "    </tr>\n",
       "  </tbody>\n",
       "</table>\n",
       "</div>"
      ],
      "text/plain": [
       "             posting_id                                              image  \\\n",
       "3874   train_1646767365  ../input/shopee-product-matching/train_images/...   \n",
       "31859  train_1528423085  ../input/shopee-product-matching/train_images/...   \n",
       "6738    train_398181303  ../input/shopee-product-matching/train_images/...   \n",
       "7613   train_2865605743  ../input/shopee-product-matching/train_images/...   \n",
       "12367  train_1382500866  ../input/shopee-product-matching/train_images/...   \n",
       "\n",
       "            image_phash                                              title  \\\n",
       "3874   e925873ed09cd08f  sarung celana wadimor original 100% dewasa dan...   \n",
       "31859  ea97861c926a71e3  warna random acak sarung celana wadimor murah ...   \n",
       "6738   e9b5833e929e909c    sarung celana wadimor dewasa hitam polos sarcel   \n",
       "7613   bfc3cc1cc636c14c  wall sticker / wallsticker -  submarine measur...   \n",
       "12367  838436c07dff19e4  reliza wall sticker pengukur tinggi badan jera...   \n",
       "\n",
       "       label_group                                             target  \n",
       "3874        258047  [train_1646767365, train_398181303, train_1528...  \n",
       "31859       258047  [train_1646767365, train_398181303, train_1528...  \n",
       "6738        258047  [train_1646767365, train_398181303, train_1528...  \n",
       "7613        297977               [train_2865605743, train_1382500866]  \n",
       "12367       297977               [train_2865605743, train_1382500866]  "
      ]
     },
     "execution_count": 3,
     "metadata": {},
     "output_type": "execute_result"
    }
   ],
   "source": [
    "train = train.sort_values(by='label_group')\n",
    "train['title'] = train['title'].str.lower()\n",
    "train.head()"
   ]
  },
  {
   "cell_type": "markdown",
   "id": "8660dfc5",
   "metadata": {
    "papermill": {
     "duration": 0.015201,
     "end_time": "2022-10-22T07:05:05.598834",
     "exception": false,
     "start_time": "2022-10-22T07:05:05.583633",
     "status": "completed"
    },
    "tags": []
   },
   "source": [
    "# 1 Edit Distance\n",
    "\n",
    "https://stackoverflow.com/questions/2460177/edit-distance-in-python\n",
    "\n",
    "Here just try word intersection."
   ]
  },
  {
   "cell_type": "code",
   "execution_count": 4,
   "id": "e49d4c06",
   "metadata": {
    "execution": {
     "iopub.execute_input": "2022-10-22T07:05:05.630629Z",
     "iopub.status.busy": "2022-10-22T07:05:05.629687Z",
     "iopub.status.idle": "2022-10-22T07:05:05.635230Z",
     "shell.execute_reply": "2022-10-22T07:05:05.634392Z"
    },
    "papermill": {
     "duration": 0.023366,
     "end_time": "2022-10-22T07:05:05.637121",
     "exception": false,
     "start_time": "2022-10-22T07:05:05.613755",
     "status": "completed"
    },
    "tags": []
   },
   "outputs": [],
   "source": [
    "def title_dist_intersection(s1, s2):\n",
    "    s1_word = set(s1.split(' '))\n",
    "    s2_word = set(s2.split(' '))\n",
    "    return 1 - len((s1_word.intersection(s2_word))) / len(s1_word.union(s2_word))"
   ]
  },
  {
   "cell_type": "code",
   "execution_count": 5,
   "id": "4631af2d",
   "metadata": {
    "execution": {
     "iopub.execute_input": "2022-10-22T07:05:05.668512Z",
     "iopub.status.busy": "2022-10-22T07:05:05.667706Z",
     "iopub.status.idle": "2022-10-22T07:05:05.674354Z",
     "shell.execute_reply": "2022-10-22T07:05:05.673409Z"
    },
    "papermill": {
     "duration": 0.024627,
     "end_time": "2022-10-22T07:05:05.676287",
     "exception": false,
     "start_time": "2022-10-22T07:05:05.651660",
     "status": "completed"
    },
    "tags": []
   },
   "outputs": [
    {
     "data": {
      "text/plain": [
       "0.8"
      ]
     },
     "execution_count": 5,
     "metadata": {},
     "output_type": "execute_result"
    }
   ],
   "source": [
    "# same group\n",
    "title_dist_intersection(train['title'].iloc[0], train['title'].iloc[1])"
   ]
  },
  {
   "cell_type": "code",
   "execution_count": 6,
   "id": "4be11a2b",
   "metadata": {
    "execution": {
     "iopub.execute_input": "2022-10-22T07:05:05.707965Z",
     "iopub.status.busy": "2022-10-22T07:05:05.707133Z",
     "iopub.status.idle": "2022-10-22T07:05:05.713438Z",
     "shell.execute_reply": "2022-10-22T07:05:05.712493Z"
    },
    "papermill": {
     "duration": 0.024292,
     "end_time": "2022-10-22T07:05:05.715392",
     "exception": false,
     "start_time": "2022-10-22T07:05:05.691100",
     "status": "completed"
    },
    "tags": []
   },
   "outputs": [
    {
     "data": {
      "text/plain": [
       "0.5"
      ]
     },
     "execution_count": 6,
     "metadata": {},
     "output_type": "execute_result"
    }
   ],
   "source": [
    "# same group\n",
    "title_dist_intersection(train['title'].iloc[0], train['title'].iloc[2])"
   ]
  },
  {
   "cell_type": "code",
   "execution_count": 7,
   "id": "9b01a1a9",
   "metadata": {
    "execution": {
     "iopub.execute_input": "2022-10-22T07:05:05.746928Z",
     "iopub.status.busy": "2022-10-22T07:05:05.746262Z",
     "iopub.status.idle": "2022-10-22T07:05:05.752140Z",
     "shell.execute_reply": "2022-10-22T07:05:05.751259Z"
    },
    "papermill": {
     "duration": 0.023905,
     "end_time": "2022-10-22T07:05:05.754027",
     "exception": false,
     "start_time": "2022-10-22T07:05:05.730122",
     "status": "completed"
    },
    "tags": []
   },
   "outputs": [
    {
     "data": {
      "text/plain": [
       "0.9565217391304348"
      ]
     },
     "execution_count": 7,
     "metadata": {},
     "output_type": "execute_result"
    }
   ],
   "source": [
    "# different group\n",
    "title_dist_intersection(train['title'].iloc[0], train['title'].iloc[1000])"
   ]
  },
  {
   "cell_type": "code",
   "execution_count": 8,
   "id": "e68a5ab4",
   "metadata": {
    "execution": {
     "iopub.execute_input": "2022-10-22T07:05:05.786555Z",
     "iopub.status.busy": "2022-10-22T07:05:05.785212Z",
     "iopub.status.idle": "2022-10-22T07:05:05.808680Z",
     "shell.execute_reply": "2022-10-22T07:05:05.804843Z"
    },
    "papermill": {
     "duration": 0.042558,
     "end_time": "2022-10-22T07:05:05.811328",
     "exception": false,
     "start_time": "2022-10-22T07:05:05.768770",
     "status": "completed"
    },
    "tags": []
   },
   "outputs": [
    {
     "data": {
      "text/plain": [
       "1.0"
      ]
     },
     "execution_count": 8,
     "metadata": {},
     "output_type": "execute_result"
    }
   ],
   "source": [
    "# different group\n",
    "title_dist_intersection(train['title'].iloc[0], train['title'].iloc[2000])"
   ]
  },
  {
   "attachments": {
    "image.png": {
     "image/png": "[encoded data removed]"
    }
   },
   "cell_type": "markdown",
   "id": "81eb5a01",
   "metadata": {
    "papermill": {
     "duration": 0.02202,
     "end_time": "2022-10-22T07:05:05.862629",
     "exception": false,
     "start_time": "2022-10-22T07:05:05.840609",
     "status": "completed"
    },
    "tags": []
   },
   "source": [
    "# 2 TF-IDF\n",
    "\n",
    "![image.png](attachment:image.png)\n",
    "\n",
    "https://scikit-learn.org/stable/modules/generated/sklearn.feature_extraction.text.TfidfVectorizer.html"
   ]
  },
  {
   "cell_type": "code",
   "execution_count": 9,
   "id": "a3332f3f",
   "metadata": {
    "execution": {
     "iopub.execute_input": "2022-10-22T07:05:05.909300Z",
     "iopub.status.busy": "2022-10-22T07:05:05.908422Z",
     "iopub.status.idle": "2022-10-22T07:05:06.722476Z",
     "shell.execute_reply": "2022-10-22T07:05:06.719916Z"
    },
    "papermill": {
     "duration": 0.840857,
     "end_time": "2022-10-22T07:05:06.725840",
     "exception": false,
     "start_time": "2022-10-22T07:05:05.884983",
     "status": "completed"
    },
    "tags": []
   },
   "outputs": [
    {
     "name": "stdout",
     "output_type": "stream",
     "text": [
      "['and', 'document', 'first', 'is', 'one', 'second', 'the', 'third', 'this']\n",
      "(4, 9)\n"
     ]
    },
    {
     "name": "stderr",
     "output_type": "stream",
     "text": [
      "/opt/conda/lib/python3.7/site-packages/sklearn/utils/deprecation.py:87: FutureWarning: Function get_feature_names is deprecated; get_feature_names is deprecated in 1.0 and will be removed in 1.2. Please use get_feature_names_out instead.\n",
      "  warnings.warn(msg, category=FutureWarning)\n"
     ]
    }
   ],
   "source": [
    "from sklearn.feature_extraction.text import TfidfVectorizer\n",
    "\n",
    "# a trivial example \n",
    "corpus = [\n",
    "    'This is the first document.',\n",
    "    'This document is the second document.',\n",
    "    'And this is the third one.',\n",
    "    'Is this the first document?',\n",
    "]\n",
    "vectorizer = TfidfVectorizer()\n",
    "X = vectorizer.fit_transform(corpus)\n",
    "print(vectorizer.get_feature_names())\n",
    "print(X.shape)"
   ]
  },
  {
   "cell_type": "code",
   "execution_count": 10,
   "id": "0f37aa8c",
   "metadata": {
    "execution": {
     "iopub.execute_input": "2022-10-22T07:05:06.758971Z",
     "iopub.status.busy": "2022-10-22T07:05:06.758650Z",
     "iopub.status.idle": "2022-10-22T07:05:06.766567Z",
     "shell.execute_reply": "2022-10-22T07:05:06.765654Z"
    },
    "papermill": {
     "duration": 0.027351,
     "end_time": "2022-10-22T07:05:06.769380",
     "exception": false,
     "start_time": "2022-10-22T07:05:06.742029",
     "status": "completed"
    },
    "tags": []
   },
   "outputs": [
    {
     "name": "stdout",
     "output_type": "stream",
     "text": [
      "['and', 'and this', 'document', 'document is', 'first', 'first document', 'is', 'is the', 'is this', 'one', 'second', 'second document', 'the', 'the first', 'the second', 'the third', 'third', 'third one', 'this', 'this document', 'this is', 'this the']\n",
      "(4, 22)\n"
     ]
    }
   ],
   "source": [
    "# a trivial example using uni- and bi-gram\n",
    "corpus = [\n",
    "    'This is the first document.',\n",
    "    'This document is the second document.',\n",
    "    'And this is the third one.',\n",
    "    'Is this the first document?',\n",
    "]\n",
    "vectorizer = TfidfVectorizer(ngram_range=(1, 2))\n",
    "X = vectorizer.fit_transform(corpus)\n",
    "print(vectorizer.get_feature_names())\n",
    "print(X.shape)"
   ]
  },
  {
   "cell_type": "code",
   "execution_count": 11,
   "id": "2e5efee4",
   "metadata": {
    "execution": {
     "iopub.execute_input": "2022-10-22T07:05:06.802819Z",
     "iopub.status.busy": "2022-10-22T07:05:06.801987Z",
     "iopub.status.idle": "2022-10-22T07:05:08.470379Z",
     "shell.execute_reply": "2022-10-22T07:05:08.469304Z"
    },
    "papermill": {
     "duration": 1.687295,
     "end_time": "2022-10-22T07:05:08.472712",
     "exception": false,
     "start_time": "2022-10-22T07:05:06.785417",
     "status": "completed"
    },
    "tags": []
   },
   "outputs": [
    {
     "name": "stdout",
     "output_type": "stream",
     "text": [
      "text embeddings shape (34250, 25069)\n"
     ]
    }
   ],
   "source": [
    "# fit training examples\n",
    "model = TfidfVectorizer(stop_words=None, binary=True, max_features=55000)\n",
    "text_embeddings = model.fit_transform(train.title).toarray()\n",
    "print('text embeddings shape',text_embeddings.shape)"
   ]
  },
  {
   "cell_type": "code",
   "execution_count": 12,
   "id": "02fbb264",
   "metadata": {
    "execution": {
     "iopub.execute_input": "2022-10-22T07:05:08.508316Z",
     "iopub.status.busy": "2022-10-22T07:05:08.507396Z",
     "iopub.status.idle": "2022-10-22T07:06:13.333486Z",
     "shell.execute_reply": "2022-10-22T07:06:13.332509Z"
    },
    "papermill": {
     "duration": 64.845964,
     "end_time": "2022-10-22T07:06:13.336108",
     "exception": false,
     "start_time": "2022-10-22T07:05:08.490144",
     "status": "completed"
    },
    "tags": []
   },
   "outputs": [
    {
     "name": "stdout",
     "output_type": "stream",
     "text": [
      "Finding similar titles...\n",
      "chunk 0 to 2048\n",
      "chunk 2048 to 4096\n",
      "chunk 4096 to 6144\n",
      "chunk 6144 to 8192\n",
      "chunk 8192 to 10240\n",
      "chunk 10240 to 12288\n",
      "chunk 12288 to 14336\n",
      "chunk 14336 to 16384\n",
      "chunk 16384 to 18432\n",
      "chunk 18432 to 20480\n",
      "chunk 20480 to 22528\n",
      "chunk 22528 to 24576\n",
      "chunk 24576 to 26624\n",
      "chunk 26624 to 28672\n",
      "chunk 28672 to 30720\n",
      "chunk 30720 to 32768\n",
      "chunk 32768 to 34250\n"
     ]
    }
   ],
   "source": [
    "import torch\n",
    "\n",
    "text_embeddings = torch.from_numpy(text_embeddings).cuda()\n",
    "\n",
    "preds = []\n",
    "CHUNK = 1024 * 2\n",
    "\n",
    "print('Finding similar titles...')\n",
    "\n",
    "CTS = len(train) // CHUNK\n",
    "if len(train) % CHUNK != 0: \n",
    "    CTS += 1\n",
    "text_ids = None\n",
    "    \n",
    "for j in range(CTS):\n",
    "    a = j * CHUNK\n",
    "    b = (j + 1) * CHUNK\n",
    "    b = min(b, len(train))\n",
    "    print('chunk', a, 'to', b)\n",
    "    \n",
    "    cts = torch.matmul(text_embeddings, text_embeddings[a:b].T).T\n",
    "    cts = cts.data.cpu().numpy()\n",
    "    for k in range(b - a):\n",
    "        idx = np.where(cts[k,] > 0.6)[0]\n",
    "        o = train.iloc[idx].posting_id.values\n",
    "        preds.append(o)\n",
    "        \n",
    "    del cts\n",
    "    torch.cuda.empty_cache()\n",
    "    \n",
    "del text_embeddings\n",
    "\n",
    "train['oof_text'] = preds"
   ]
  },
  {
   "cell_type": "code",
   "execution_count": 13,
   "id": "51012dce",
   "metadata": {
    "execution": {
     "iopub.execute_input": "2022-10-22T07:06:13.370548Z",
     "iopub.status.busy": "2022-10-22T07:06:13.370100Z",
     "iopub.status.idle": "2022-10-22T07:06:13.538726Z",
     "shell.execute_reply": "2022-10-22T07:06:13.537473Z"
    },
    "papermill": {
     "duration": 0.189285,
     "end_time": "2022-10-22T07:06:13.542130",
     "exception": false,
     "start_time": "2022-10-22T07:06:13.352845",
     "status": "completed"
    },
    "tags": []
   },
   "outputs": [
    {
     "data": {
      "text/html": [
       "<div>\n",
       "<style scoped>\n",
       "    .dataframe tbody tr th:only-of-type {\n",
       "        vertical-align: middle;\n",
       "    }\n",
       "\n",
       "    .dataframe tbody tr th {\n",
       "        vertical-align: top;\n",
       "    }\n",
       "\n",
       "    .dataframe thead th {\n",
       "        text-align: right;\n",
       "    }\n",
       "</style>\n",
       "<table border=\"1\" class=\"dataframe\">\n",
       "  <thead>\n",
       "    <tr style=\"text-align: right;\">\n",
       "      <th></th>\n",
       "      <th>word</th>\n",
       "      <th>count</th>\n",
       "    </tr>\n",
       "  </thead>\n",
       "  <tbody>\n",
       "    <tr>\n",
       "      <th>7</th>\n",
       "      <td>anak</td>\n",
       "      <td>1916</td>\n",
       "    </tr>\n",
       "    <tr>\n",
       "      <th>111</th>\n",
       "      <td>wanita</td>\n",
       "      <td>1820</td>\n",
       "    </tr>\n",
       "    <tr>\n",
       "      <th>3</th>\n",
       "      <td>original</td>\n",
       "      <td>1681</td>\n",
       "    </tr>\n",
       "    <tr>\n",
       "      <th>14</th>\n",
       "      <td>murah</td>\n",
       "      <td>1363</td>\n",
       "    </tr>\n",
       "    <tr>\n",
       "      <th>149</th>\n",
       "      <td>tas</td>\n",
       "      <td>1192</td>\n",
       "    </tr>\n",
       "    <tr>\n",
       "      <th>6</th>\n",
       "      <td>dan</td>\n",
       "      <td>1157</td>\n",
       "    </tr>\n",
       "    <tr>\n",
       "      <th>378</th>\n",
       "      <td>pria</td>\n",
       "      <td>1122</td>\n",
       "    </tr>\n",
       "    <tr>\n",
       "      <th>946</th>\n",
       "      <td>masker</td>\n",
       "      <td>1111</td>\n",
       "    </tr>\n",
       "    <tr>\n",
       "      <th>110</th>\n",
       "      <td>untuk</td>\n",
       "      <td>1068</td>\n",
       "    </tr>\n",
       "    <tr>\n",
       "      <th>72</th>\n",
       "      <td>bayi</td>\n",
       "      <td>1061</td>\n",
       "    </tr>\n",
       "  </tbody>\n",
       "</table>\n",
       "</div>"
      ],
      "text/plain": [
       "         word  count\n",
       "7        anak   1916\n",
       "111    wanita   1820\n",
       "3    original   1681\n",
       "14      murah   1363\n",
       "149       tas   1192\n",
       "6         dan   1157\n",
       "378      pria   1122\n",
       "946    masker   1111\n",
       "110     untuk   1068\n",
       "72       bayi   1061"
      ]
     },
     "execution_count": 13,
     "metadata": {},
     "output_type": "execute_result"
    }
   ],
   "source": [
    "from collections import Counter\n",
    "\n",
    "# count most frequent words\n",
    "word_counter = Counter(' '.join(train['title'].values).split(' '))\n",
    "most_occur = pd.DataFrame({'word': word_counter.keys(), 'count': word_counter.values()})\n",
    "most_occur = most_occur[most_occur['word'].apply(len) > 1]\n",
    "\n",
    "most_occur = most_occur.sort_values(by='count', ascending=False)\n",
    "most_occur.head(10)"
   ]
  },
  {
   "attachments": {
    "image.png": {
     "image/png": "[encoded data removed]"
    }
   },
   "cell_type": "markdown",
   "id": "0d51b12f",
   "metadata": {
    "papermill": {
     "duration": 0.028104,
     "end_time": "2022-10-22T07:06:13.598150",
     "exception": false,
     "start_time": "2022-10-22T07:06:13.570046",
     "status": "completed"
    },
    "tags": []
   },
   "source": [
    "# 3 BM25\n",
    "\n",
    "BM25 improves upon TF-IDF. \n",
    "\n",
    "![image.png](attachment:image.png)\n",
    "\n",
    "https://github.com/dorianbrown/rank_bm25,\n",
    "https://www.kaggle.com/ideanlabib/bm25-search-query-similarity-ranking/"
   ]
  },
  {
   "cell_type": "code",
   "execution_count": 14,
   "id": "fec4dfe8",
   "metadata": {
    "execution": {
     "iopub.execute_input": "2022-10-22T07:06:13.651780Z",
     "iopub.status.busy": "2022-10-22T07:06:13.651386Z",
     "iopub.status.idle": "2022-10-22T07:06:25.290276Z",
     "shell.execute_reply": "2022-10-22T07:06:25.289115Z"
    },
    "papermill": {
     "duration": 11.668315,
     "end_time": "2022-10-22T07:06:25.292759",
     "exception": false,
     "start_time": "2022-10-22T07:06:13.624444",
     "status": "completed"
    },
    "tags": []
   },
   "outputs": [
    {
     "name": "stdout",
     "output_type": "stream",
     "text": [
      "Collecting rank_bm25\r\n",
      "  Downloading rank_bm25-0.2.2-py3-none-any.whl (8.6 kB)\r\n",
      "Requirement already satisfied: numpy in /opt/conda/lib/python3.7/site-packages (from rank_bm25) (1.21.6)\r\n",
      "Installing collected packages: rank_bm25\r\n",
      "Successfully installed rank_bm25-0.2.2\r\n",
      "\u001b[33mWARNING: Running pip as the 'root' user can result in broken permissions and conflicting behaviour with the system package manager. It is recommended to use a virtual environment instead: https://pip.pypa.io/warnings/venv\u001b[0m\u001b[33m\r\n",
      "\u001b[0m"
     ]
    }
   ],
   "source": [
    "!pip install rank_bm25"
   ]
  },
  {
   "cell_type": "code",
   "execution_count": 15,
   "id": "97ebec9f",
   "metadata": {
    "execution": {
     "iopub.execute_input": "2022-10-22T07:06:25.327869Z",
     "iopub.status.busy": "2022-10-22T07:06:25.327519Z",
     "iopub.status.idle": "2022-10-22T07:06:25.941010Z",
     "shell.execute_reply": "2022-10-22T07:06:25.940071Z"
    },
    "papermill": {
     "duration": 0.633812,
     "end_time": "2022-10-22T07:06:25.943493",
     "exception": false,
     "start_time": "2022-10-22T07:06:25.309681",
     "status": "completed"
    },
    "tags": []
   },
   "outputs": [],
   "source": [
    "from rank_bm25 import BM25Okapi\n",
    "from nltk.tokenize import word_tokenize"
   ]
  },
  {
   "cell_type": "code",
   "execution_count": 16,
   "id": "c4bbef63",
   "metadata": {
    "execution": {
     "iopub.execute_input": "2022-10-22T07:06:25.978629Z",
     "iopub.status.busy": "2022-10-22T07:06:25.978322Z",
     "iopub.status.idle": "2022-10-22T07:06:29.493328Z",
     "shell.execute_reply": "2022-10-22T07:06:29.492362Z"
    },
    "papermill": {
     "duration": 3.535096,
     "end_time": "2022-10-22T07:06:29.495812",
     "exception": false,
     "start_time": "2022-10-22T07:06:25.960716",
     "status": "completed"
    },
    "tags": []
   },
   "outputs": [],
   "source": [
    "train_title_token = train['title'].apply(lambda x: word_tokenize(x))\n",
    "bm25 = BM25Okapi(train_title_token)"
   ]
  },
  {
   "cell_type": "code",
   "execution_count": 17,
   "id": "a84e3906",
   "metadata": {
    "execution": {
     "iopub.execute_input": "2022-10-22T07:06:29.531396Z",
     "iopub.status.busy": "2022-10-22T07:06:29.531074Z",
     "iopub.status.idle": "2022-10-22T07:06:29.620229Z",
     "shell.execute_reply": "2022-10-22T07:06:29.618665Z"
    },
    "papermill": {
     "duration": 0.110163,
     "end_time": "2022-10-22T07:06:29.623521",
     "exception": false,
     "start_time": "2022-10-22T07:06:29.513358",
     "status": "completed"
    },
    "tags": []
   },
   "outputs": [
    {
     "name": "stdout",
     "output_type": "stream",
     "text": [
      "[67.97019803 52.92810898 51.13522523]\n"
     ]
    },
    {
     "data": {
      "text/html": [
       "<div>\n",
       "<style scoped>\n",
       "    .dataframe tbody tr th:only-of-type {\n",
       "        vertical-align: middle;\n",
       "    }\n",
       "\n",
       "    .dataframe tbody tr th {\n",
       "        vertical-align: top;\n",
       "    }\n",
       "\n",
       "    .dataframe thead th {\n",
       "        text-align: right;\n",
       "    }\n",
       "</style>\n",
       "<table border=\"1\" class=\"dataframe\">\n",
       "  <thead>\n",
       "    <tr style=\"text-align: right;\">\n",
       "      <th></th>\n",
       "      <th>posting_id</th>\n",
       "      <th>image</th>\n",
       "      <th>image_phash</th>\n",
       "      <th>title</th>\n",
       "      <th>label_group</th>\n",
       "      <th>target</th>\n",
       "      <th>oof_text</th>\n",
       "    </tr>\n",
       "  </thead>\n",
       "  <tbody>\n",
       "    <tr>\n",
       "      <th>29449</th>\n",
       "      <td>train_2181332714</td>\n",
       "      <td>../input/shopee-product-matching/train_images/...</td>\n",
       "      <td>bb39c4c6c6399a91</td>\n",
       "      <td>bedak salicyl 60gr | bedak salicyl kf</td>\n",
       "      <td>25802082</td>\n",
       "      <td>[train_4129791793, train_1553039102, train_218...</td>\n",
       "      <td>[train_2181332714, train_4129791793, train_349...</td>\n",
       "    </tr>\n",
       "    <tr>\n",
       "      <th>25246</th>\n",
       "      <td>train_4129791793</td>\n",
       "      <td>../input/shopee-product-matching/train_images/...</td>\n",
       "      <td>bb39c4c6c6399a91</td>\n",
       "      <td>bedak salicyl 60gr</td>\n",
       "      <td>25802082</td>\n",
       "      <td>[train_4129791793, train_1553039102, train_218...</td>\n",
       "      <td>[train_2181332714, train_4129791793, train_349...</td>\n",
       "    </tr>\n",
       "    <tr>\n",
       "      <th>30719</th>\n",
       "      <td>train_3493652138</td>\n",
       "      <td>../input/shopee-product-matching/train_images/...</td>\n",
       "      <td>b987860f3b78c664</td>\n",
       "      <td>salicyl bedak kf 60ml</td>\n",
       "      <td>25802082</td>\n",
       "      <td>[train_4129791793, train_1553039102, train_218...</td>\n",
       "      <td>[train_2181332714, train_4129791793, train_349...</td>\n",
       "    </tr>\n",
       "  </tbody>\n",
       "</table>\n",
       "</div>"
      ],
      "text/plain": [
       "             posting_id                                              image  \\\n",
       "29449  train_2181332714  ../input/shopee-product-matching/train_images/...   \n",
       "25246  train_4129791793  ../input/shopee-product-matching/train_images/...   \n",
       "30719  train_3493652138  ../input/shopee-product-matching/train_images/...   \n",
       "\n",
       "            image_phash                                  title  label_group  \\\n",
       "29449  bb39c4c6c6399a91  bedak salicyl 60gr | bedak salicyl kf     25802082   \n",
       "25246  bb39c4c6c6399a91                     bedak salicyl 60gr     25802082   \n",
       "30719  b987860f3b78c664                  salicyl bedak kf 60ml     25802082   \n",
       "\n",
       "                                                  target  \\\n",
       "29449  [train_4129791793, train_1553039102, train_218...   \n",
       "25246  [train_4129791793, train_1553039102, train_218...   \n",
       "30719  [train_4129791793, train_1553039102, train_218...   \n",
       "\n",
       "                                                oof_text  \n",
       "29449  [train_2181332714, train_4129791793, train_349...  \n",
       "25246  [train_2181332714, train_4129791793, train_349...  \n",
       "30719  [train_2181332714, train_4129791793, train_349...  "
      ]
     },
     "execution_count": 17,
     "metadata": {},
     "output_type": "execute_result"
    }
   ],
   "source": [
    "ids = bm25.get_scores(train_title_token.iloc[200])\n",
    "idx = np.where(ids > 50)[0]\n",
    "print(ids[idx])\n",
    "train.iloc[idx]"
   ]
  },
  {
   "cell_type": "code",
   "execution_count": 18,
   "id": "bab8aed1",
   "metadata": {
    "execution": {
     "iopub.execute_input": "2022-10-22T07:06:29.659411Z",
     "iopub.status.busy": "2022-10-22T07:06:29.658724Z",
     "iopub.status.idle": "2022-10-22T07:06:29.814255Z",
     "shell.execute_reply": "2022-10-22T07:06:29.812790Z"
    },
    "papermill": {
     "duration": 0.177587,
     "end_time": "2022-10-22T07:06:29.818362",
     "exception": false,
     "start_time": "2022-10-22T07:06:29.640775",
     "status": "completed"
    },
    "tags": []
   },
   "outputs": [
    {
     "name": "stdout",
     "output_type": "stream",
     "text": [
      "[61.29051863 50.36337052 50.36337052 74.6285323  50.36337052 75.25192355\n",
      " 90.90745136 78.97894391 97.31959375]\n"
     ]
    },
    {
     "data": {
      "text/html": [
       "<div>\n",
       "<style scoped>\n",
       "    .dataframe tbody tr th:only-of-type {\n",
       "        vertical-align: middle;\n",
       "    }\n",
       "\n",
       "    .dataframe tbody tr th {\n",
       "        vertical-align: top;\n",
       "    }\n",
       "\n",
       "    .dataframe thead th {\n",
       "        text-align: right;\n",
       "    }\n",
       "</style>\n",
       "<table border=\"1\" class=\"dataframe\">\n",
       "  <thead>\n",
       "    <tr style=\"text-align: right;\">\n",
       "      <th></th>\n",
       "      <th>posting_id</th>\n",
       "      <th>image</th>\n",
       "      <th>image_phash</th>\n",
       "      <th>title</th>\n",
       "      <th>label_group</th>\n",
       "      <th>target</th>\n",
       "      <th>oof_text</th>\n",
       "    </tr>\n",
       "  </thead>\n",
       "  <tbody>\n",
       "    <tr>\n",
       "      <th>24504</th>\n",
       "      <td>train_1165058967</td>\n",
       "      <td>../input/shopee-product-matching/train_images/...</td>\n",
       "      <td>e1729e67c63460cd</td>\n",
       "      <td>natur hair tonic aloe vera 90 ml</td>\n",
       "      <td>122550860</td>\n",
       "      <td>[train_404207615, train_3597470302, train_2823...</td>\n",
       "      <td>[train_1165058967, train_2823824337, train_183...</td>\n",
       "    </tr>\n",
       "    <tr>\n",
       "      <th>3165</th>\n",
       "      <td>train_2823824337</td>\n",
       "      <td>../input/shopee-product-matching/train_images/...</td>\n",
       "      <td>e1729e67c63460d9</td>\n",
       "      <td>natur hair tonic gingseng 90 ml</td>\n",
       "      <td>122550860</td>\n",
       "      <td>[train_404207615, train_3597470302, train_2823...</td>\n",
       "      <td>[train_1165058967, train_2823824337, train_183...</td>\n",
       "    </tr>\n",
       "    <tr>\n",
       "      <th>8551</th>\n",
       "      <td>train_1831498823</td>\n",
       "      <td>../input/shopee-product-matching/train_images/...</td>\n",
       "      <td>e8ce87079771d170</td>\n",
       "      <td>natur hair tonic gingseng 90 ml</td>\n",
       "      <td>122550860</td>\n",
       "      <td>[train_404207615, train_3597470302, train_2823...</td>\n",
       "      <td>[train_1165058967, train_2823824337, train_183...</td>\n",
       "    </tr>\n",
       "    <tr>\n",
       "      <th>2207</th>\n",
       "      <td>train_3597470302</td>\n",
       "      <td>../input/shopee-product-matching/train_images/...</td>\n",
       "      <td>eec8c0cdcf829596</td>\n",
       "      <td>natur hair tonic aloe vera 90ml</td>\n",
       "      <td>122550860</td>\n",
       "      <td>[train_404207615, train_3597470302, train_2823...</td>\n",
       "      <td>[train_1165058967, train_3597470302, train_404...</td>\n",
       "    </tr>\n",
       "    <tr>\n",
       "      <th>13444</th>\n",
       "      <td>train_2857221499</td>\n",
       "      <td>../input/shopee-product-matching/train_images/...</td>\n",
       "      <td>e6cecc64c9319993</td>\n",
       "      <td>natur hair tonic gingseng 90 ml</td>\n",
       "      <td>122550860</td>\n",
       "      <td>[train_404207615, train_3597470302, train_2823...</td>\n",
       "      <td>[train_1165058967, train_2823824337, train_183...</td>\n",
       "    </tr>\n",
       "    <tr>\n",
       "      <th>115</th>\n",
       "      <td>train_404207615</td>\n",
       "      <td>../input/shopee-product-matching/train_images/...</td>\n",
       "      <td>ae2ed1d1d1d12ad8</td>\n",
       "      <td>natur hair tonic ginseng dan aloe vera 90ml</td>\n",
       "      <td>122550860</td>\n",
       "      <td>[train_404207615, train_3597470302, train_2823...</td>\n",
       "      <td>[train_1165058967, train_3597470302, train_404...</td>\n",
       "    </tr>\n",
       "    <tr>\n",
       "      <th>7354</th>\n",
       "      <td>train_3960172945</td>\n",
       "      <td>../input/shopee-product-matching/train_images/...</td>\n",
       "      <td>d8c327356e1c1f38</td>\n",
       "      <td>bpom - natur hair tonic 90ml / natur hair toni...</td>\n",
       "      <td>122550860</td>\n",
       "      <td>[train_404207615, train_3597470302, train_2823...</td>\n",
       "      <td>[train_3597470302, train_404207615, train_3960...</td>\n",
       "    </tr>\n",
       "    <tr>\n",
       "      <th>28958</th>\n",
       "      <td>train_530505223</td>\n",
       "      <td>../input/shopee-product-matching/train_images/...</td>\n",
       "      <td>9de1c616323b694b</td>\n",
       "      <td>[bpom] natur hair tonic 90ml / hair tonic gins...</td>\n",
       "      <td>122550860</td>\n",
       "      <td>[train_404207615, train_3597470302, train_2823...</td>\n",
       "      <td>[train_3597470302, train_404207615, train_3960...</td>\n",
       "    </tr>\n",
       "    <tr>\n",
       "      <th>5806</th>\n",
       "      <td>train_3990088467</td>\n",
       "      <td>../input/shopee-product-matching/train_images/...</td>\n",
       "      <td>811d7e697a6619e4</td>\n",
       "      <td>original natur hair tonic 90ml bpom / hair ton...</td>\n",
       "      <td>122550860</td>\n",
       "      <td>[train_404207615, train_3597470302, train_2823...</td>\n",
       "      <td>[train_3597470302, train_404207615, train_3960...</td>\n",
       "    </tr>\n",
       "  </tbody>\n",
       "</table>\n",
       "</div>"
      ],
      "text/plain": [
       "             posting_id                                              image  \\\n",
       "24504  train_1165058967  ../input/shopee-product-matching/train_images/...   \n",
       "3165   train_2823824337  ../input/shopee-product-matching/train_images/...   \n",
       "8551   train_1831498823  ../input/shopee-product-matching/train_images/...   \n",
       "2207   train_3597470302  ../input/shopee-product-matching/train_images/...   \n",
       "13444  train_2857221499  ../input/shopee-product-matching/train_images/...   \n",
       "115     train_404207615  ../input/shopee-product-matching/train_images/...   \n",
       "7354   train_3960172945  ../input/shopee-product-matching/train_images/...   \n",
       "28958   train_530505223  ../input/shopee-product-matching/train_images/...   \n",
       "5806   train_3990088467  ../input/shopee-product-matching/train_images/...   \n",
       "\n",
       "            image_phash                                              title  \\\n",
       "24504  e1729e67c63460cd                   natur hair tonic aloe vera 90 ml   \n",
       "3165   e1729e67c63460d9                    natur hair tonic gingseng 90 ml   \n",
       "8551   e8ce87079771d170                    natur hair tonic gingseng 90 ml   \n",
       "2207   eec8c0cdcf829596                    natur hair tonic aloe vera 90ml   \n",
       "13444  e6cecc64c9319993                    natur hair tonic gingseng 90 ml   \n",
       "115    ae2ed1d1d1d12ad8        natur hair tonic ginseng dan aloe vera 90ml   \n",
       "7354   d8c327356e1c1f38  bpom - natur hair tonic 90ml / natur hair toni...   \n",
       "28958  9de1c616323b694b  [bpom] natur hair tonic 90ml / hair tonic gins...   \n",
       "5806   811d7e697a6619e4  original natur hair tonic 90ml bpom / hair ton...   \n",
       "\n",
       "       label_group                                             target  \\\n",
       "24504    122550860  [train_404207615, train_3597470302, train_2823...   \n",
       "3165     122550860  [train_404207615, train_3597470302, train_2823...   \n",
       "8551     122550860  [train_404207615, train_3597470302, train_2823...   \n",
       "2207     122550860  [train_404207615, train_3597470302, train_2823...   \n",
       "13444    122550860  [train_404207615, train_3597470302, train_2823...   \n",
       "115      122550860  [train_404207615, train_3597470302, train_2823...   \n",
       "7354     122550860  [train_404207615, train_3597470302, train_2823...   \n",
       "28958    122550860  [train_404207615, train_3597470302, train_2823...   \n",
       "5806     122550860  [train_404207615, train_3597470302, train_2823...   \n",
       "\n",
       "                                                oof_text  \n",
       "24504  [train_1165058967, train_2823824337, train_183...  \n",
       "3165   [train_1165058967, train_2823824337, train_183...  \n",
       "8551   [train_1165058967, train_2823824337, train_183...  \n",
       "2207   [train_1165058967, train_3597470302, train_404...  \n",
       "13444  [train_1165058967, train_2823824337, train_183...  \n",
       "115    [train_1165058967, train_3597470302, train_404...  \n",
       "7354   [train_3597470302, train_404207615, train_3960...  \n",
       "28958  [train_3597470302, train_404207615, train_3960...  \n",
       "5806   [train_3597470302, train_404207615, train_3960...  "
      ]
     },
     "execution_count": 18,
     "metadata": {},
     "output_type": "execute_result"
    }
   ],
   "source": [
    "ids = bm25.get_scores(train_title_token.iloc[1000])\n",
    "idx = np.where(ids > 50)[0]\n",
    "print(ids[idx])\n",
    "train.iloc[idx]"
   ]
  },
  {
   "cell_type": "markdown",
   "id": "c2688544",
   "metadata": {
    "papermill": {
     "duration": 0.016885,
     "end_time": "2022-10-22T07:06:29.852827",
     "exception": false,
     "start_time": "2022-10-22T07:06:29.835942",
     "status": "completed"
    },
    "tags": []
   },
   "source": [
    "# 4 Word2Vec"
   ]
  },
  {
   "cell_type": "code",
   "execution_count": 19,
   "id": "ce167475",
   "metadata": {
    "execution": {
     "iopub.execute_input": "2022-10-22T07:06:29.889055Z",
     "iopub.status.busy": "2022-10-22T07:06:29.888370Z",
     "iopub.status.idle": "2022-10-22T07:07:14.557994Z",
     "shell.execute_reply": "2022-10-22T07:07:14.556976Z"
    },
    "papermill": {
     "duration": 44.690782,
     "end_time": "2022-10-22T07:07:14.560452",
     "exception": false,
     "start_time": "2022-10-22T07:06:29.869670",
     "status": "completed"
    },
    "tags": []
   },
   "outputs": [],
   "source": [
    "from gensim.test.utils import get_tmpfile\n",
    "from gensim.models import KeyedVectors\n",
    "\n",
    "vectors = KeyedVectors.load_word2vec_format(\"../input/glove2word2vec/glove_w2v.txt\")"
   ]
  },
  {
   "cell_type": "code",
   "execution_count": 20,
   "id": "c938769c",
   "metadata": {
    "execution": {
     "iopub.execute_input": "2022-10-22T07:07:14.597601Z",
     "iopub.status.busy": "2022-10-22T07:07:14.597288Z",
     "iopub.status.idle": "2022-10-22T07:07:15.851716Z",
     "shell.execute_reply": "2022-10-22T07:07:15.850602Z"
    },
    "papermill": {
     "duration": 1.276686,
     "end_time": "2022-10-22T07:07:15.855245",
     "exception": false,
     "start_time": "2022-10-22T07:07:14.578559",
     "status": "completed"
    },
    "tags": []
   },
   "outputs": [
    {
     "data": {
      "application/vnd.jupyter.widget-view+json": {
       "model_id": "666fd67138314d66890af610f4abe1ea",
       "version_major": 2,
       "version_minor": 0
      },
      "text/plain": [
       "  0%|          | 0/34250 [00:00<?, ?it/s]"
      ]
     },
     "metadata": {},
     "output_type": "display_data"
    }
   ],
   "source": [
    "text_embeddings = []\n",
    "for title in tqdm(train_title_token[:]):\n",
    "    title_feat = []\n",
    "    for word in title:\n",
    "        if word in vectors:\n",
    "            title_feat.append(vectors[word])\n",
    "    \n",
    "    if len(title_feat) == 0:\n",
    "        title_feat = np.random.rand(200)\n",
    "    else:\n",
    "        # max-pooling\n",
    "        # mean-pooling\n",
    "        # IDF\n",
    "        # SIF\n",
    "        title_feat = np.vstack(title_feat).max(0)\n",
    "        \n",
    "    text_embeddings.append(title_feat)"
   ]
  },
  {
   "cell_type": "code",
   "execution_count": 21,
   "id": "53144bb1",
   "metadata": {
    "execution": {
     "iopub.execute_input": "2022-10-22T07:07:15.891836Z",
     "iopub.status.busy": "2022-10-22T07:07:15.891117Z",
     "iopub.status.idle": "2022-10-22T07:07:16.011208Z",
     "shell.execute_reply": "2022-10-22T07:07:16.010177Z"
    },
    "papermill": {
     "duration": 0.140787,
     "end_time": "2022-10-22T07:07:16.013725",
     "exception": false,
     "start_time": "2022-10-22T07:07:15.872938",
     "status": "completed"
    },
    "tags": []
   },
   "outputs": [],
   "source": [
    "from sklearn.preprocessing import normalize\n",
    "\n",
    "text_embeddings = normalize(np.vstack(text_embeddings))\n",
    "\n",
    "text_embeddings = torch.from_numpy(text_embeddings).cuda()"
   ]
  },
  {
   "cell_type": "code",
   "execution_count": 22,
   "id": "d8da1fab",
   "metadata": {
    "execution": {
     "iopub.execute_input": "2022-10-22T07:07:16.051079Z",
     "iopub.status.busy": "2022-10-22T07:07:16.050785Z",
     "iopub.status.idle": "2022-10-22T07:07:52.225836Z",
     "shell.execute_reply": "2022-10-22T07:07:52.224826Z"
    },
    "papermill": {
     "duration": 36.196921,
     "end_time": "2022-10-22T07:07:52.228357",
     "exception": false,
     "start_time": "2022-10-22T07:07:16.031436",
     "status": "completed"
    },
    "tags": []
   },
   "outputs": [
    {
     "name": "stdout",
     "output_type": "stream",
     "text": [
      "Finding similar images...\n",
      "chunk 0 to 4096\n",
      "chunk 4096 to 8192\n",
      "chunk 8192 to 12288\n",
      "chunk 12288 to 16384\n",
      "chunk 16384 to 20480\n",
      "chunk 20480 to 24576\n",
      "chunk 24576 to 28672\n",
      "chunk 28672 to 32768\n",
      "chunk 32768 to 34250\n"
     ]
    }
   ],
   "source": [
    "preds = []\n",
    "CHUNK = 1024 * 4\n",
    "\n",
    "print('Finding similar images...')\n",
    "\n",
    "CTS = len(text_embeddings) // CHUNK\n",
    "if len(text_embeddings) % CHUNK != 0:\n",
    "    CTS += 1\n",
    "    \n",
    "for j in range(CTS):\n",
    "    a = j * CHUNK\n",
    "    b = (j + 1) * CHUNK\n",
    "    b = min(b, len(train))\n",
    "    print('chunk', a, 'to', b)\n",
    "    \n",
    "    cts = torch.matmul(text_embeddings, text_embeddings[a:b].T).T\n",
    "    cts = cts.data.cpu().numpy()\n",
    "    for k in range(b - a):\n",
    "        idx = np.where(cts[k,] > 0.93)[0]\n",
    "        o = train.iloc[idx].posting_id.values\n",
    "        preds.append(o)\n",
    "        \n",
    "    del cts\n",
    "    torch.cuda.empty_cache()"
   ]
  },
  {
   "cell_type": "code",
   "execution_count": 23,
   "id": "81871b81",
   "metadata": {
    "execution": {
     "iopub.execute_input": "2022-10-22T07:07:52.269352Z",
     "iopub.status.busy": "2022-10-22T07:07:52.267862Z",
     "iopub.status.idle": "2022-10-22T07:07:52.279131Z",
     "shell.execute_reply": "2022-10-22T07:07:52.278264Z"
    },
    "papermill": {
     "duration": 0.033926,
     "end_time": "2022-10-22T07:07:52.281278",
     "exception": false,
     "start_time": "2022-10-22T07:07:52.247352",
     "status": "completed"
    },
    "tags": []
   },
   "outputs": [],
   "source": [
    "train['oof_w2v'] = preds"
   ]
  },
  {
   "cell_type": "markdown",
   "id": "17a41596",
   "metadata": {
    "papermill": {
     "duration": 0.017228,
     "end_time": "2022-10-22T07:07:52.316510",
     "exception": false,
     "start_time": "2022-10-22T07:07:52.299282",
     "status": "completed"
    },
    "tags": []
   },
   "source": [
    "### Train Your Own Word2Vec\n",
    "\n",
    "* https://machinelearningmastery.com/develop-word-embeddings-python-gensim/\n",
    "* https://radimrehurek.com/gensim/models/word2vec.html"
   ]
  },
  {
   "cell_type": "code",
   "execution_count": 24,
   "id": "a4aec5bd",
   "metadata": {
    "execution": {
     "iopub.execute_input": "2022-10-22T07:07:52.353792Z",
     "iopub.status.busy": "2022-10-22T07:07:52.352291Z",
     "iopub.status.idle": "2022-10-22T07:07:52.371988Z",
     "shell.execute_reply": "2022-10-22T07:07:52.371172Z"
    },
    "papermill": {
     "duration": 0.040124,
     "end_time": "2022-10-22T07:07:52.373956",
     "exception": false,
     "start_time": "2022-10-22T07:07:52.333832",
     "status": "completed"
    },
    "tags": []
   },
   "outputs": [],
   "source": [
    "from gensim.test.utils import common_texts\n",
    "from gensim.models import Word2Vec\n",
    "\n",
    "model = Word2Vec(sentences=common_texts, vector_size=100, window=5, min_count=1, workers=4)\n",
    "model.save(\"word2vec.model\")"
   ]
  },
  {
   "cell_type": "code",
   "execution_count": 25,
   "id": "e4405314",
   "metadata": {
    "execution": {
     "iopub.execute_input": "2022-10-22T07:07:52.414843Z",
     "iopub.status.busy": "2022-10-22T07:07:52.413085Z",
     "iopub.status.idle": "2022-10-22T07:07:52.428373Z",
     "shell.execute_reply": "2022-10-22T07:07:52.427095Z"
    },
    "papermill": {
     "duration": 0.04,
     "end_time": "2022-10-22T07:07:52.431631",
     "exception": false,
     "start_time": "2022-10-22T07:07:52.391631",
     "status": "completed"
    },
    "tags": []
   },
   "outputs": [
    {
     "data": {
      "text/plain": [
       "[['human', 'interface', 'computer'],\n",
       " ['survey', 'user', 'computer', 'system', 'response', 'time'],\n",
       " ['eps', 'user', 'interface', 'system'],\n",
       " ['system', 'human', 'system', 'eps'],\n",
       " ['user', 'response', 'time'],\n",
       " ['trees'],\n",
       " ['graph', 'trees'],\n",
       " ['graph', 'minors', 'trees'],\n",
       " ['graph', 'minors', 'survey']]"
      ]
     },
     "execution_count": 25,
     "metadata": {},
     "output_type": "execute_result"
    }
   ],
   "source": [
    "common_texts"
   ]
  },
  {
   "attachments": {
    "image.png": {
     "image/png": "[encoded data removed]"
    }
   },
   "cell_type": "markdown",
   "id": "0dc15c61",
   "metadata": {
    "papermill": {
     "duration": 0.036486,
     "end_time": "2022-10-22T07:07:52.492030",
     "exception": false,
     "start_time": "2022-10-22T07:07:52.455544",
     "status": "completed"
    },
    "tags": []
   },
   "source": [
    "# 5 Bert\n",
    "\n",
    "![image.png](attachment:image.png)"
   ]
  },
  {
   "cell_type": "code",
   "execution_count": 26,
   "id": "f9a865fe",
   "metadata": {
    "execution": {
     "iopub.execute_input": "2022-10-22T07:07:52.561788Z",
     "iopub.status.busy": "2022-10-22T07:07:52.561200Z",
     "iopub.status.idle": "2022-10-22T07:07:54.043306Z",
     "shell.execute_reply": "2022-10-22T07:07:54.042350Z"
    },
    "papermill": {
     "duration": 1.519354,
     "end_time": "2022-10-22T07:07:54.045758",
     "exception": false,
     "start_time": "2022-10-22T07:07:52.526404",
     "status": "completed"
    },
    "tags": []
   },
   "outputs": [],
   "source": [
    "# combine tf-idf and word2vec to retrieve similar examples\n",
    "# which can be used as positive/negative training examples\n",
    "\n",
    "def combine_for_oof(row):\n",
    "    x = np.concatenate([row.oof_text, row.oof_w2v])\n",
    "    return np.unique(x)\n",
    "\n",
    "train['oof'] = train.apply(combine_for_oof, axis=1)"
   ]
  },
  {
   "cell_type": "code",
   "execution_count": 27,
   "id": "e7c1355f",
   "metadata": {
    "execution": {
     "iopub.execute_input": "2022-10-22T07:07:54.083719Z",
     "iopub.status.busy": "2022-10-22T07:07:54.083373Z",
     "iopub.status.idle": "2022-10-22T07:09:14.038436Z",
     "shell.execute_reply": "2022-10-22T07:09:14.037443Z"
    },
    "papermill": {
     "duration": 79.976634,
     "end_time": "2022-10-22T07:09:14.040556",
     "exception": false,
     "start_time": "2022-10-22T07:07:54.063922",
     "status": "completed"
    },
    "tags": []
   },
   "outputs": [
    {
     "data": {
      "application/vnd.jupyter.widget-view+json": {
       "model_id": "d23d7a7842ed42e3af468bba27e05e3c",
       "version_major": 2,
       "version_minor": 0
      },
      "text/plain": [
       "0it [00:00, ?it/s]"
      ]
     },
     "metadata": {},
     "output_type": "display_data"
    }
   ],
   "source": [
    "train = train.set_index('posting_id')\n",
    "\n",
    "title_pair = []\n",
    "for row in tqdm(train.iterrows()):\n",
    "    for pair in row[1].oof:\n",
    "        \n",
    "        # skip itself\n",
    "        if pair == row[0]:\n",
    "            continue\n",
    "    \n",
    "        # positive examples\n",
    "        if pair in row[1].target:\n",
    "            lbl = 1\n",
    "        # negative examples\n",
    "        else:\n",
    "            lbl = 0\n",
    "\n",
    "        title_pair.append([row[1].title, train.loc[pair]['title'], lbl])"
   ]
  },
  {
   "cell_type": "code",
   "execution_count": 28,
   "id": "013135e2",
   "metadata": {
    "execution": {
     "iopub.execute_input": "2022-10-22T07:09:14.078524Z",
     "iopub.status.busy": "2022-10-22T07:09:14.077850Z",
     "iopub.status.idle": "2022-10-22T07:09:14.341889Z",
     "shell.execute_reply": "2022-10-22T07:09:14.340817Z"
    },
    "papermill": {
     "duration": 0.285658,
     "end_time": "2022-10-22T07:09:14.344603",
     "exception": false,
     "start_time": "2022-10-22T07:09:14.058945",
     "status": "completed"
    },
    "tags": []
   },
   "outputs": [
    {
     "data": {
      "text/html": [
       "<div>\n",
       "<style scoped>\n",
       "    .dataframe tbody tr th:only-of-type {\n",
       "        vertical-align: middle;\n",
       "    }\n",
       "\n",
       "    .dataframe tbody tr th {\n",
       "        vertical-align: top;\n",
       "    }\n",
       "\n",
       "    .dataframe thead th {\n",
       "        text-align: right;\n",
       "    }\n",
       "</style>\n",
       "<table border=\"1\" class=\"dataframe\">\n",
       "  <thead>\n",
       "    <tr style=\"text-align: right;\">\n",
       "      <th></th>\n",
       "      <th>s1</th>\n",
       "      <th>s2</th>\n",
       "      <th>label</th>\n",
       "    </tr>\n",
       "  </thead>\n",
       "  <tbody>\n",
       "    <tr>\n",
       "      <th>326837</th>\n",
       "      <td>jarum tusukan ejector sim card</td>\n",
       "      <td>hot sale! jarum sim card pin ejector tusukan k...</td>\n",
       "      <td>0</td>\n",
       "    </tr>\n",
       "    <tr>\n",
       "      <th>163520</th>\n",
       "      <td>tas tote bag level . j premium ( waterproof ) ...</td>\n",
       "      <td>kacamata photocromic wanita pria anti radiasi ...</td>\n",
       "      <td>0</td>\n",
       "    </tr>\n",
       "    <tr>\n",
       "      <th>77869</th>\n",
       "      <td>enblanc baby wipes tissue basah bayi tisue kor...</td>\n",
       "      <td>enblanc indipink korea - tissue basah korea - ...</td>\n",
       "      <td>1</td>\n",
       "    </tr>\n",
       "    <tr>\n",
       "      <th>300786</th>\n",
       "      <td>kings - j398 jam tangan q&amp;q wanita / jam tanga...</td>\n",
       "      <td>bestfashions baju tidur piyama dewasa wanita (...</td>\n",
       "      <td>0</td>\n",
       "    </tr>\n",
       "    <tr>\n",
       "      <th>369337</th>\n",
       "      <td>salep gatal bl 100% original</td>\n",
       "      <td>sabun tzuki original 100%</td>\n",
       "      <td>0</td>\n",
       "    </tr>\n",
       "  </tbody>\n",
       "</table>\n",
       "</div>"
      ],
      "text/plain": [
       "                                                       s1  \\\n",
       "326837                     jarum tusukan ejector sim card   \n",
       "163520  tas tote bag level . j premium ( waterproof ) ...   \n",
       "77869   enblanc baby wipes tissue basah bayi tisue kor...   \n",
       "300786  kings - j398 jam tangan q&q wanita / jam tanga...   \n",
       "369337                       salep gatal bl 100% original   \n",
       "\n",
       "                                                       s2  label  \n",
       "326837  hot sale! jarum sim card pin ejector tusukan k...      0  \n",
       "163520  kacamata photocromic wanita pria anti radiasi ...      0  \n",
       "77869   enblanc indipink korea - tissue basah korea - ...      1  \n",
       "300786  bestfashions baju tidur piyama dewasa wanita (...      0  \n",
       "369337                          sabun tzuki original 100%      0  "
      ]
     },
     "execution_count": 28,
     "metadata": {},
     "output_type": "execute_result"
    }
   ],
   "source": [
    "title_pair = pd.DataFrame(title_pair, columns=['s1', 's2', 'label'])\n",
    "title_pair = title_pair.sample(frac=1)\n",
    "title_pair.head(5)"
   ]
  },
  {
   "cell_type": "code",
   "execution_count": 29,
   "id": "c96f04ea",
   "metadata": {
    "execution": {
     "iopub.execute_input": "2022-10-22T07:09:14.382792Z",
     "iopub.status.busy": "2022-10-22T07:09:14.382474Z",
     "iopub.status.idle": "2022-10-22T07:09:14.387117Z",
     "shell.execute_reply": "2022-10-22T07:09:14.386160Z"
    },
    "papermill": {
     "duration": 0.026123,
     "end_time": "2022-10-22T07:09:14.389064",
     "exception": false,
     "start_time": "2022-10-22T07:09:14.362941",
     "status": "completed"
    },
    "tags": []
   },
   "outputs": [],
   "source": [
    "# here just try partial dataset\n",
    "train_pair = title_pair.iloc[:5000]\n",
    "val_pair = title_pair.iloc[5000:6000]"
   ]
  },
  {
   "cell_type": "code",
   "execution_count": 30,
   "id": "ae148166",
   "metadata": {
    "execution": {
     "iopub.execute_input": "2022-10-22T07:09:14.427066Z",
     "iopub.status.busy": "2022-10-22T07:09:14.426259Z",
     "iopub.status.idle": "2022-10-22T07:09:23.239218Z",
     "shell.execute_reply": "2022-10-22T07:09:23.238180Z"
    },
    "papermill": {
     "duration": 8.834821,
     "end_time": "2022-10-22T07:09:23.241715",
     "exception": false,
     "start_time": "2022-10-22T07:09:14.406894",
     "status": "completed"
    },
    "tags": []
   },
   "outputs": [
    {
     "data": {
      "application/vnd.jupyter.widget-view+json": {
       "model_id": "badf82533a3a4cae8cff34304d1c9d2c",
       "version_major": 2,
       "version_minor": 0
      },
      "text/plain": [
       "Downloading:   0%|          | 0.00/208k [00:00<?, ?B/s]"
      ]
     },
     "metadata": {},
     "output_type": "display_data"
    },
    {
     "data": {
      "application/vnd.jupyter.widget-view+json": {
       "model_id": "b906abc220e841068626f6a76811cc77",
       "version_major": 2,
       "version_minor": 0
      },
      "text/plain": [
       "Downloading:   0%|          | 0.00/29.0 [00:00<?, ?B/s]"
      ]
     },
     "metadata": {},
     "output_type": "display_data"
    },
    {
     "data": {
      "application/vnd.jupyter.widget-view+json": {
       "model_id": "e98a18143edc4dccae6b4b03471b7811",
       "version_major": 2,
       "version_minor": 0
      },
      "text/plain": [
       "Downloading:   0%|          | 0.00/570 [00:00<?, ?B/s]"
      ]
     },
     "metadata": {},
     "output_type": "display_data"
    },
    {
     "data": {
      "text/plain": [
       "{'input_ids': [101, 20164, 10932, 2271, 7954, 1110, 1359, 1107, 17520, 102, 20164, 10932, 2271, 7954, 1110, 1359, 1107, 17520, 102], 'token_type_ids': [0, 0, 0, 0, 0, 0, 0, 0, 0, 0, 1, 1, 1, 1, 1, 1, 1, 1, 1], 'attention_mask': [1, 1, 1, 1, 1, 1, 1, 1, 1, 1, 1, 1, 1, 1, 1, 1, 1, 1, 1]}"
      ]
     },
     "execution_count": 30,
     "metadata": {},
     "output_type": "execute_result"
    }
   ],
   "source": [
    "import transformers\n",
    "from transformers import BertTokenizer\n",
    "\n",
    "transformers.logging.set_verbosity_error()\n",
    "\n",
    "tokenizer = BertTokenizer.from_pretrained(\"bert-base-cased\", model_max_length=128)\n",
    "\n",
    "# bert tokenizer example\n",
    "sequence_a = \"HuggingFace is based in NYC\"\n",
    "sequence_b = \"Where is HuggingFace based?\"\n",
    "encoded_dict = tokenizer(sequence_a, sequence_a)\n",
    "encoded_dict"
   ]
  },
  {
   "cell_type": "code",
   "execution_count": 31,
   "id": "a157027e",
   "metadata": {
    "execution": {
     "iopub.execute_input": "2022-10-22T07:09:23.280826Z",
     "iopub.status.busy": "2022-10-22T07:09:23.280329Z",
     "iopub.status.idle": "2022-10-22T07:09:23.287139Z",
     "shell.execute_reply": "2022-10-22T07:09:23.286188Z"
    },
    "papermill": {
     "duration": 0.02867,
     "end_time": "2022-10-22T07:09:23.289196",
     "exception": false,
     "start_time": "2022-10-22T07:09:23.260526",
     "status": "completed"
    },
    "tags": []
   },
   "outputs": [],
   "source": [
    "from torch.utils.data import Dataset, DataLoader\n",
    "\n",
    "class ShopeeTextDataset(Dataset):\n",
    "    def __init__(self, df):\n",
    "        self.df = df\n",
    "        \n",
    "    def __getitem__(self, idx):\n",
    "        item = tokenizer(self.df.iloc[idx]['s1'], self.df.iloc[idx]['s2'], \n",
    "                         truncation=True, padding='max_length',  max_length=128)\n",
    "        item = {key: torch.tensor(val) for key, val in item.items()}\n",
    "        item['labels'] = torch.tensor(self.df.iloc[idx]['label'])\n",
    "        return item\n",
    "    \n",
    "    def __len__(self):\n",
    "        return self.df.shape[0]"
   ]
  },
  {
   "cell_type": "code",
   "execution_count": 32,
   "id": "e5d92f22",
   "metadata": {
    "execution": {
     "iopub.execute_input": "2022-10-22T07:09:23.327322Z",
     "iopub.status.busy": "2022-10-22T07:09:23.327046Z",
     "iopub.status.idle": "2022-10-22T07:10:10.821756Z",
     "shell.execute_reply": "2022-10-22T07:10:10.820500Z"
    },
    "papermill": {
     "duration": 47.516602,
     "end_time": "2022-10-22T07:10:10.824481",
     "exception": false,
     "start_time": "2022-10-22T07:09:23.307879",
     "status": "completed"
    },
    "tags": []
   },
   "outputs": [
    {
     "data": {
      "application/vnd.jupyter.widget-view+json": {
       "model_id": "4713bb6020e448dd8b650789b5a5c1bb",
       "version_major": 2,
       "version_minor": 0
      },
      "text/plain": [
       "Downloading:   0%|          | 0.00/416M [00:00<?, ?B/s]"
      ]
     },
     "metadata": {},
     "output_type": "display_data"
    }
   ],
   "source": [
    "from transformers import BertForSequenceClassification, AdamW\n",
    "\n",
    "device = torch.device(\"cuda:0\" if torch.cuda.is_available() else \"cpu\")\n",
    "\n",
    "model = BertForSequenceClassification.from_pretrained('bert-base-cased')\n",
    "model = model.to(device)"
   ]
  },
  {
   "cell_type": "code",
   "execution_count": 33,
   "id": "e173fd97",
   "metadata": {
    "execution": {
     "iopub.execute_input": "2022-10-22T07:10:10.867477Z",
     "iopub.status.busy": "2022-10-22T07:10:10.865800Z",
     "iopub.status.idle": "2022-10-22T07:10:10.878757Z",
     "shell.execute_reply": "2022-10-22T07:10:10.876996Z"
    },
    "papermill": {
     "duration": 0.036408,
     "end_time": "2022-10-22T07:10:10.880875",
     "exception": false,
     "start_time": "2022-10-22T07:10:10.844467",
     "status": "completed"
    },
    "tags": []
   },
   "outputs": [
    {
     "name": "stderr",
     "output_type": "stream",
     "text": [
      "/opt/conda/lib/python3.7/site-packages/transformers/optimization.py:310: FutureWarning: This implementation of AdamW is deprecated and will be removed in a future version. Use the PyTorch implementation torch.optim.AdamW instead, or set `no_deprecation_warning=True` to disable this warning\n",
      "  FutureWarning,\n"
     ]
    }
   ],
   "source": [
    "optim = AdamW(model.parameters(), lr=2e-5)\n",
    "\n",
    "train_dataset = ShopeeTextDataset(train_pair)\n",
    "train_loader = DataLoader(train_dataset, batch_size=16, shuffle=True)\n",
    "\n",
    "val_dataset = ShopeeTextDataset(val_pair)\n",
    "val_loader = DataLoader(train_dataset, batch_size=16, shuffle=True)"
   ]
  },
  {
   "cell_type": "code",
   "execution_count": 34,
   "id": "80654498",
   "metadata": {
    "execution": {
     "iopub.execute_input": "2022-10-22T07:10:10.920365Z",
     "iopub.status.busy": "2022-10-22T07:10:10.920080Z",
     "iopub.status.idle": "2022-10-22T07:10:10.953402Z",
     "shell.execute_reply": "2022-10-22T07:10:10.952216Z"
    },
    "papermill": {
     "duration": 0.056106,
     "end_time": "2022-10-22T07:10:10.955800",
     "exception": false,
     "start_time": "2022-10-22T07:10:10.899694",
     "status": "completed"
    },
    "tags": []
   },
   "outputs": [],
   "source": [
    "def flat_accuracy(preds, labels):\n",
    "    pred_flat = np.argmax(preds, axis=1).flatten()\n",
    "    labels_flat = labels.flatten()\n",
    "    return np.sum(pred_flat == labels_flat) / len(labels_flat)\n",
    "\n",
    "def train():\n",
    "    model.train()\n",
    "    total_train_loss = 0\n",
    "    iter_num = 0\n",
    "    total_iter = len(train_loader)\n",
    "    for batch in train_loader:\n",
    "        optim.zero_grad()\n",
    "        input_ids = batch['input_ids'].to(device)\n",
    "        attention_mask = batch['attention_mask'].to(device)\n",
    "        labels = batch['labels'].to(device)\n",
    "        outputs = model(input_ids, attention_mask=attention_mask, labels=labels)\n",
    "        loss = outputs[0]\n",
    "        total_train_loss += loss.item()\n",
    "        loss.backward()\n",
    "        torch.nn.utils.clip_grad_norm_(model.parameters(), 1.0)\n",
    "        optim.step()\n",
    "\n",
    "        iter_num += 1\n",
    "        if(iter_num % 100 == 0):\n",
    "            print(\"epoch: %d, iter_num: %d, loss: %.4f, %.2f%%\" % (epoch, iter_num, loss.item(), iter_num/total_iter*100))\n",
    "        \n",
    "    print(\"Epoch: %d, Average training loss: %.4f\"%(epoch, total_train_loss/len(train_loader)))\n",
    "    \n",
    "def validation():\n",
    "    model.eval()\n",
    "    total_eval_accuracy = 0\n",
    "    total_eval_loss = 0\n",
    "    for batch in tqdm(val_loader):\n",
    "        with torch.no_grad():\n",
    "            input_ids = batch['input_ids'].to(device)\n",
    "            attention_mask = batch['attention_mask'].to(device)\n",
    "            labels = batch['labels'].to(device)\n",
    "            outputs = model(input_ids, attention_mask=attention_mask, labels=labels)\n",
    "        \n",
    "        loss = outputs[0]\n",
    "        logits = outputs[1]\n",
    "\n",
    "        total_eval_loss += loss.item()\n",
    "        logits = logits.detach().cpu().numpy()\n",
    "        label_ids = labels.to('cpu').numpy()\n",
    "        total_eval_accuracy += flat_accuracy(logits, label_ids)\n",
    "        \n",
    "    avg_val_accuracy = total_eval_accuracy / len(val_loader)\n",
    "    print(\"Accuracy: %.4f\" % (avg_val_accuracy))\n",
    "    print(\"Average testing loss: %.4f\"%(total_eval_loss/len(val_loader)))\n",
    "    print(\"-------------------------------\")"
   ]
  },
  {
   "cell_type": "code",
   "execution_count": 35,
   "id": "834824ea",
   "metadata": {
    "execution": {
     "iopub.execute_input": "2022-10-22T07:10:10.995434Z",
     "iopub.status.busy": "2022-10-22T07:10:10.993944Z",
     "iopub.status.idle": "2022-10-22T07:14:52.981989Z",
     "shell.execute_reply": "2022-10-22T07:14:52.980640Z"
    },
    "papermill": {
     "duration": 282.009898,
     "end_time": "2022-10-22T07:14:52.984147",
     "exception": false,
     "start_time": "2022-10-22T07:10:10.974249",
     "status": "completed"
    },
    "tags": []
   },
   "outputs": [
    {
     "name": "stdout",
     "output_type": "stream",
     "text": [
      "------------Epoch: 0 ----------------\n",
      "epoch: 0, iter_num: 100, loss: 0.5937, 31.95%\n",
      "epoch: 0, iter_num: 200, loss: 0.0964, 63.90%\n",
      "epoch: 0, iter_num: 300, loss: 0.1188, 95.85%\n",
      "Epoch: 0, Average training loss: 0.2573\n"
     ]
    },
    {
     "data": {
      "application/vnd.jupyter.widget-view+json": {
       "model_id": "ccae98809e2f417c95ca1620d7aa0752",
       "version_major": 2,
       "version_minor": 0
      },
      "text/plain": [
       "  0%|          | 0/313 [00:00<?, ?it/s]"
      ]
     },
     "metadata": {},
     "output_type": "display_data"
    },
    {
     "name": "stdout",
     "output_type": "stream",
     "text": [
      "Accuracy: 0.9417\n",
      "Average testing loss: 0.1487\n",
      "-------------------------------\n",
      "------------Epoch: 1 ----------------\n",
      "epoch: 1, iter_num: 100, loss: 0.2217, 31.95%\n",
      "epoch: 1, iter_num: 200, loss: 0.2270, 63.90%\n",
      "epoch: 1, iter_num: 300, loss: 0.0792, 95.85%\n",
      "Epoch: 1, Average training loss: 0.1741\n"
     ]
    },
    {
     "data": {
      "application/vnd.jupyter.widget-view+json": {
       "model_id": "6c4b9cfee14642c68eaaf1233994a786",
       "version_major": 2,
       "version_minor": 0
      },
      "text/plain": [
       "  0%|          | 0/313 [00:00<?, ?it/s]"
      ]
     },
     "metadata": {},
     "output_type": "display_data"
    },
    {
     "name": "stdout",
     "output_type": "stream",
     "text": [
      "Accuracy: 0.9738\n",
      "Average testing loss: 0.0773\n",
      "-------------------------------\n",
      "------------Epoch: 2 ----------------\n",
      "epoch: 2, iter_num: 100, loss: 0.0026, 31.95%\n",
      "epoch: 2, iter_num: 200, loss: 0.0925, 63.90%\n",
      "epoch: 2, iter_num: 300, loss: 0.5833, 95.85%\n",
      "Epoch: 2, Average training loss: 0.1161\n"
     ]
    },
    {
     "data": {
      "application/vnd.jupyter.widget-view+json": {
       "model_id": "be275142d64b4949914ad30002a301db",
       "version_major": 2,
       "version_minor": 0
      },
      "text/plain": [
       "  0%|          | 0/313 [00:00<?, ?it/s]"
      ]
     },
     "metadata": {},
     "output_type": "display_data"
    },
    {
     "name": "stdout",
     "output_type": "stream",
     "text": [
      "Accuracy: 0.9858\n",
      "Average testing loss: 0.0519\n",
      "-------------------------------\n"
     ]
    }
   ],
   "source": [
    "for epoch in range(3):\n",
    "    print(\"------------Epoch: %d ----------------\" % epoch)\n",
    "    train()\n",
    "    validation()"
   ]
  },
  {
   "cell_type": "code",
   "execution_count": null,
   "id": "a1897e28",
   "metadata": {
    "papermill": {
     "duration": 0.019428,
     "end_time": "2022-10-22T07:14:53.025433",
     "exception": false,
     "start_time": "2022-10-22T07:14:53.006005",
     "status": "completed"
    },
    "tags": []
   },
   "outputs": [],
   "source": []
  }
 ],
 "metadata": {
  "kernelspec": {
   "display_name": "Python 3",
   "language": "python",
   "name": "python3"
  },
  "language_info": {
   "codemirror_mode": {
    "name": "ipython",
    "version": 3
   },
   "file_extension": ".py",
   "mimetype": "text/x-python",
   "name": "python",
   "nbconvert_exporter": "python",
   "pygments_lexer": "ipython3",
   "version": "3.7.12"
  },
  "papermill": {
   "default_parameters": {},
   "duration": 599.529512,
   "end_time": "2022-10-22T07:14:56.248600",
   "environment_variables": {},
   "exception": null,
   "input_path": "__notebook__.ipynb",
   "output_path": "__notebook__.ipynb",
   "parameters": {},
   "start_time": "2022-10-22T07:04:56.719088",
   "version": "2.3.4"
  },
  "widgets": {
   "application/vnd.jupyter.widget-state+json": {
    "state": {
     "01d24a88a0ba4afdaac52201aa4a10ae": {
      "model_module": "@jupyter-widgets/controls",
      "model_module_version": "1.5.0",
      "model_name": "DescriptionStyleModel",
      "state": {
       "_model_module": "@jupyter-widgets/controls",
       "_model_module_version": "1.5.0",
       "_model_name": "DescriptionStyleModel",
       "_view_count": null,
       "_view_module": "@jupyter-widgets/base",
       "_view_module_version": "1.2.0",
       "_view_name": "StyleView",
       "description_width": ""
      }
     },
     "046ae7c631ac42e89c95e71fed45ff96": {
      "model_module": "@jupyter-widgets/base",
      "model_module_version": "1.2.0",
      "model_name": "LayoutModel",
      "state": {
       "_model_module": "@jupyter-widgets/base",
       "_model_module_version": "1.2.0",
       "_model_name": "LayoutModel",
       "_view_count": null,
       "_view_module": "@jupyter-widgets/base",
       "_view_module_version": "1.2.0",
       "_view_name": "LayoutView",
       "align_content": null,
       "align_items": null,
       "align_self": null,
       "border": null,
       "bottom": null,
       "display": null,
       "flex": null,
       "flex_flow": null,
       "grid_area": null,
       "grid_auto_columns": null,
       "grid_auto_flow": null,
       "grid_auto_rows": null,
       "grid_column": null,
       "grid_gap": null,
       "grid_row": null,
       "grid_template_areas": null,
       "grid_template_columns": null,
       "grid_template_rows": null,
       "height": null,
       "justify_content": null,
       "justify_items": null,
       "left": null,
       "margin": null,
       "max_height": null,
       "max_width": null,
       "min_height": null,
       "min_width": null,
       "object_fit": null,
       "object_position": null,
       "order": null,
       "overflow": null,
       "overflow_x": null,
       "overflow_y": null,
       "padding": null,
       "right": null,
       "top": null,
       "visibility": null,
       "width": null
      }
     },
     "06f83e025542467889988a1280cabb06": {
      "model_module": "@jupyter-widgets/controls",
      "model_module_version": "1.5.0",
      "model_name": "HTMLModel",
      "state": {
       "_dom_classes": [],
       "_model_module": "@jupyter-widgets/controls",
       "_model_module_version": "1.5.0",
       "_model_name": "HTMLModel",
       "_view_count": null,
       "_view_module": "@jupyter-widgets/controls",
       "_view_module_version": "1.5.0",
       "_view_name": "HTMLView",
       "description": "",
       "description_tooltip": null,
       "layout": "IPY_MODEL_e0f0b7f45d62485d9c549ea226b785e2",
       "placeholder": "​",
       "style": "IPY_MODEL_97423b70921f4149a93063ab97077605",
       "value": "100%"
      }
     },
     "0739fb0826a7409594580e62c1ecbbd2": {
      "model_module": "@jupyter-widgets/controls",
      "model_module_version": "1.5.0",
      "model_name": "FloatProgressModel",
      "state": {
       "_dom_classes": [],
       "_model_module": "@jupyter-widgets/controls",
       "_model_module_version": "1.5.0",
       "_model_name": "FloatProgressModel",
       "_view_count": null,
       "_view_module": "@jupyter-widgets/controls",
       "_view_module_version": "1.5.0",
       "_view_name": "ProgressView",
       "bar_style": "success",
       "description": "",
       "description_tooltip": null,
       "layout": "IPY_MODEL_e6729c35407d4e308e52e578d8076284",
       "max": 570.0,
       "min": 0.0,
       "orientation": "horizontal",
       "style": "IPY_MODEL_ad166c2c607a4ee890eee54d9f66d1a9",
       "value": 570.0
      }
     },
     "08aa2ceb993e4743a81ee77d72a4f32f": {
      "model_module": "@jupyter-widgets/base",
      "model_module_version": "1.2.0",
      "model_name": "LayoutModel",
      "state": {
       "_model_module": "@jupyter-widgets/base",
       "_model_module_version": "1.2.0",
       "_model_name": "LayoutModel",
       "_view_count": null,
       "_view_module": "@jupyter-widgets/base",
       "_view_module_version": "1.2.0",
       "_view_name": "LayoutView",
       "align_content": null,
       "align_items": null,
       "align_self": null,
       "border": null,
       "bottom": null,
       "display": null,
       "flex": null,
       "flex_flow": null,
       "grid_area": null,
       "grid_auto_columns": null,
       "grid_auto_flow": null,
       "grid_auto_rows": null,
       "grid_column": null,
       "grid_gap": null,
       "grid_row": null,
       "grid_template_areas": null,
       "grid_template_columns": null,
       "grid_template_rows": null,
       "height": null,
       "justify_content": null,
       "justify_items": null,
       "left": null,
       "margin": null,
       "max_height": null,
       "max_width": null,
       "min_height": null,
       "min_width": null,
       "object_fit": null,
       "object_position": null,
       "order": null,
       "overflow": null,
       "overflow_x": null,
       "overflow_y": null,
       "padding": null,
       "right": null,
       "top": null,
       "visibility": null,
       "width": null
      }
     },
     "09b8cb9dd8e440d385131da806a92146": {
      "model_module": "@jupyter-widgets/controls",
      "model_module_version": "1.5.0",
      "model_name": "FloatProgressModel",
      "state": {
       "_dom_classes": [],
       "_model_module": "@jupyter-widgets/controls",
       "_model_module_version": "1.5.0",
       "_model_name": "FloatProgressModel",
       "_view_count": null,
       "_view_module": "@jupyter-widgets/controls",
       "_view_module_version": "1.5.0",
       "_view_name": "ProgressView",
       "bar_style": "success",
       "description": "",
       "description_tooltip": null,
       "layout": "IPY_MODEL_e1b05d058d194fefa2519b5194863c21",
       "max": 313.0,
       "min": 0.0,
       "orientation": "horizontal",
       "style": "IPY_MODEL_74110567417e47c5a281423129b0e933",
       "value": 313.0
      }
     },
     "0cc67aebd919439382ecd3b40653245f": {
      "model_module": "@jupyter-widgets/controls",
      "model_module_version": "1.5.0",
      "model_name": "ProgressStyleModel",
      "state": {
       "_model_module": "@jupyter-widgets/controls",
       "_model_module_version": "1.5.0",
       "_model_name": "ProgressStyleModel",
       "_view_count": null,
       "_view_module": "@jupyter-widgets/base",
       "_view_module_version": "1.2.0",
       "_view_name": "StyleView",
       "bar_color": null,
       "description_width": ""
      }
     },
     "1224a7a493d2437a8d5de3660dc61d94": {
      "model_module": "@jupyter-widgets/controls",
      "model_module_version": "1.5.0",
      "model_name": "HTMLModel",
      "state": {
       "_dom_classes": [],
       "_model_module": "@jupyter-widgets/controls",
       "_model_module_version": "1.5.0",
       "_model_name": "HTMLModel",
       "_view_count": null,
       "_view_module": "@jupyter-widgets/controls",
       "_view_module_version": "1.5.0",
       "_view_name": "HTMLView",
       "description": "",
       "description_tooltip": null,
       "layout": "IPY_MODEL_76d6380a8f3445e2872b212c73d6fedc",
       "placeholder": "​",
       "style": "IPY_MODEL_c4ef9ef31d794b7caca6587330b57fa7",
       "value": " 313/313 [00:26&lt;00:00, 13.01it/s]"
      }
     },
     "124fbd40cf0a4f24b9d37a0ee64f757f": {
      "model_module": "@jupyter-widgets/base",
      "model_module_version": "1.2.0",
      "model_name": "LayoutModel",
      "state": {
       "_model_module": "@jupyter-widgets/base",
       "_model_module_version": "1.2.0",
       "_model_name": "LayoutModel",
       "_view_count": null,
       "_view_module": "@jupyter-widgets/base",
       "_view_module_version": "1.2.0",
       "_view_name": "LayoutView",
       "align_content": null,
       "align_items": null,
       "align_self": null,
       "border": null,
       "bottom": null,
       "display": null,
       "flex": null,
       "flex_flow": null,
       "grid_area": null,
       "grid_auto_columns": null,
       "grid_auto_flow": null,
       "grid_auto_rows": null,
       "grid_column": null,
       "grid_gap": null,
       "grid_row": null,
       "grid_template_areas": null,
       "grid_template_columns": null,
       "grid_template_rows": null,
       "height": null,
       "justify_content": null,
       "justify_items": null,
       "left": null,
       "margin": null,
       "max_height": null,
       "max_width": null,
       "min_height": null,
       "min_width": null,
       "object_fit": null,
       "object_position": null,
       "order": null,
       "overflow": null,
       "overflow_x": null,
       "overflow_y": null,
       "padding": null,
       "right": null,
       "top": null,
       "visibility": null,
       "width": null
      }
     },
     "13b22a77d4714094aacccab0b578f344": {
      "model_module": "@jupyter-widgets/controls",
      "model_module_version": "1.5.0",
      "model_name": "ProgressStyleModel",
      "state": {
       "_model_module": "@jupyter-widgets/controls",
       "_model_module_version": "1.5.0",
       "_model_name": "ProgressStyleModel",
       "_view_count": null,
       "_view_module": "@jupyter-widgets/base",
       "_view_module_version": "1.2.0",
       "_view_name": "StyleView",
       "bar_color": null,
       "description_width": ""
      }
     },
     "16de16add48c426a95ae8bd2aa0a5804": {
      "model_module": "@jupyter-widgets/controls",
      "model_module_version": "1.5.0",
      "model_name": "DescriptionStyleModel",
      "state": {
       "_model_module": "@jupyter-widgets/controls",
       "_model_module_version": "1.5.0",
       "_model_name": "DescriptionStyleModel",
       "_view_count": null,
       "_view_module": "@jupyter-widgets/base",
       "_view_module_version": "1.2.0",
       "_view_name": "StyleView",
       "description_width": ""
      }
     },
     "181c59093af34793be3553b70a362898": {
      "model_module": "@jupyter-widgets/controls",
      "model_module_version": "1.5.0",
      "model_name": "FloatProgressModel",
      "state": {
       "_dom_classes": [],
       "_model_module": "@jupyter-widgets/controls",
       "_model_module_version": "1.5.0",
       "_model_name": "FloatProgressModel",
       "_view_count": null,
       "_view_module": "@jupyter-widgets/controls",
       "_view_module_version": "1.5.0",
       "_view_name": "ProgressView",
       "bar_style": "success",
       "description": "",
       "description_tooltip": null,
       "layout": "IPY_MODEL_79ba5e0e356a4c13bdcc1047a5e0a7b7",
       "max": 313.0,
       "min": 0.0,
       "orientation": "horizontal",
       "style": "IPY_MODEL_2c35c337aa25409eb20f4e49a700262a",
       "value": 313.0
      }
     },
     "1943159d840b4e929d48207045f4c1bb": {
      "model_module": "@jupyter-widgets/controls",
      "model_module_version": "1.5.0",
      "model_name": "FloatProgressModel",
      "state": {
       "_dom_classes": [],
       "_model_module": "@jupyter-widgets/controls",
       "_model_module_version": "1.5.0",
       "_model_name": "FloatProgressModel",
       "_view_count": null,
       "_view_module": "@jupyter-widgets/controls",
       "_view_module_version": "1.5.0",
       "_view_name": "ProgressView",
       "bar_style": "success",
       "description": "",
       "description_tooltip": null,
       "layout": "IPY_MODEL_d0d0dafbf8d64cc4835aa6240bef16e8",
       "max": 435779157.0,
       "min": 0.0,
       "orientation": "horizontal",
       "style": "IPY_MODEL_d7494e7d18624ab1a1760328a43dd896",
       "value": 435779157.0
      }
     },
     "1c62e5960d574e139a0db2a700732a43": {
      "model_module": "@jupyter-widgets/base",
      "model_module_version": "1.2.0",
      "model_name": "LayoutModel",
      "state": {
       "_model_module": "@jupyter-widgets/base",
       "_model_module_version": "1.2.0",
       "_model_name": "LayoutModel",
       "_view_count": null,
       "_view_module": "@jupyter-widgets/base",
       "_view_module_version": "1.2.0",
       "_view_name": "LayoutView",
       "align_content": null,
       "align_items": null,
       "align_self": null,
       "border": null,
       "bottom": null,
       "display": null,
       "flex": null,
       "flex_flow": null,
       "grid_area": null,
       "grid_auto_columns": null,
       "grid_auto_flow": null,
       "grid_auto_rows": null,
       "grid_column": null,
       "grid_gap": null,
       "grid_row": null,
       "grid_template_areas": null,
       "grid_template_columns": null,
       "grid_template_rows": null,
       "height": null,
       "justify_content": null,
       "justify_items": null,
       "left": null,
       "margin": null,
       "max_height": null,
       "max_width": null,
       "min_height": null,
       "min_width": null,
       "object_fit": null,
       "object_position": null,
       "order": null,
       "overflow": null,
       "overflow_x": null,
       "overflow_y": null,
       "padding": null,
       "right": null,
       "top": null,
       "visibility": null,
       "width": null
      }
     },
     "1fba1c602b3a4ca58fabf6c9e687a5ed": {
      "model_module": "@jupyter-widgets/base",
      "model_module_version": "1.2.0",
      "model_name": "LayoutModel",
      "state": {
       "_model_module": "@jupyter-widgets/base",
       "_model_module_version": "1.2.0",
       "_model_name": "LayoutModel",
       "_view_count": null,
       "_view_module": "@jupyter-widgets/base",
       "_view_module_version": "1.2.0",
       "_view_name": "LayoutView",
       "align_content": null,
       "align_items": null,
       "align_self": null,
       "border": null,
       "bottom": null,
       "display": null,
       "flex": null,
       "flex_flow": null,
       "grid_area": null,
       "grid_auto_columns": null,
       "grid_auto_flow": null,
       "grid_auto_rows": null,
       "grid_column": null,
       "grid_gap": null,
       "grid_row": null,
       "grid_template_areas": null,
       "grid_template_columns": null,
       "grid_template_rows": null,
       "height": null,
       "justify_content": null,
       "justify_items": null,
       "left": null,
       "margin": null,
       "max_height": null,
       "max_width": null,
       "min_height": null,
       "min_width": null,
       "object_fit": null,
       "object_position": null,
       "order": null,
       "overflow": null,
       "overflow_x": null,
       "overflow_y": null,
       "padding": null,
       "right": null,
       "top": null,
       "visibility": null,
       "width": null
      }
     },
     "21e7839d113f45d18117d3f5cc4f8051": {
      "model_module": "@jupyter-widgets/controls",
      "model_module_version": "1.5.0",
      "model_name": "HTMLModel",
      "state": {
       "_dom_classes": [],
       "_model_module": "@jupyter-widgets/controls",
       "_model_module_version": "1.5.0",
       "_model_name": "HTMLModel",
       "_view_count": null,
       "_view_module": "@jupyter-widgets/controls",
       "_view_module_version": "1.5.0",
       "_view_name": "HTMLView",
       "description": "",
       "description_tooltip": null,
       "layout": "IPY_MODEL_b68fc1999c6f48c2912ab7b56179c598",
       "placeholder": "​",
       "style": "IPY_MODEL_61ed97c9caea458a80c0f22b38cb9037",
       "value": " 34250/34250 [00:01&lt;00:00, 27481.41it/s]"
      }
     },
     "249eacef835443c68ab4109bb9348ba9": {
      "model_module": "@jupyter-widgets/controls",
      "model_module_version": "1.5.0",
      "model_name": "DescriptionStyleModel",
      "state": {
       "_model_module": "@jupyter-widgets/controls",
       "_model_module_version": "1.5.0",
       "_model_name": "DescriptionStyleModel",
       "_view_count": null,
       "_view_module": "@jupyter-widgets/base",
       "_view_module_version": "1.2.0",
       "_view_name": "StyleView",
       "description_width": ""
      }
     },
     "2787072446b7442897aab4a0f59d5013": {
      "model_module": "@jupyter-widgets/controls",
      "model_module_version": "1.5.0",
      "model_name": "DescriptionStyleModel",
      "state": {
       "_model_module": "@jupyter-widgets/controls",
       "_model_module_version": "1.5.0",
       "_model_name": "DescriptionStyleModel",
       "_view_count": null,
       "_view_module": "@jupyter-widgets/base",
       "_view_module_version": "1.2.0",
       "_view_name": "StyleView",
       "description_width": ""
      }
     },
     "298c2a04e7dd487d94e67e7941908258": {
      "model_module": "@jupyter-widgets/controls",
      "model_module_version": "1.5.0",
      "model_name": "DescriptionStyleModel",
      "state": {
       "_model_module": "@jupyter-widgets/controls",
       "_model_module_version": "1.5.0",
       "_model_name": "DescriptionStyleModel",
       "_view_count": null,
       "_view_module": "@jupyter-widgets/base",
       "_view_module_version": "1.2.0",
       "_view_name": "StyleView",
       "description_width": ""
      }
     },
     "2c35c337aa25409eb20f4e49a700262a": {
      "model_module": "@jupyter-widgets/controls",
      "model_module_version": "1.5.0",
      "model_name": "ProgressStyleModel",
      "state": {
       "_model_module": "@jupyter-widgets/controls",
       "_model_module_version": "1.5.0",
       "_model_name": "ProgressStyleModel",
       "_view_count": null,
       "_view_module": "@jupyter-widgets/base",
       "_view_module_version": "1.2.0",
       "_view_name": "StyleView",
       "bar_color": null,
       "description_width": ""
      }
     },
     "2f5131999e084ef7b7d78adfec2bfa15": {
      "model_module": "@jupyter-widgets/base",
      "model_module_version": "1.2.0",
      "model_name": "LayoutModel",
      "state": {
       "_model_module": "@jupyter-widgets/base",
       "_model_module_version": "1.2.0",
       "_model_name": "LayoutModel",
       "_view_count": null,
       "_view_module": "@jupyter-widgets/base",
       "_view_module_version": "1.2.0",
       "_view_name": "LayoutView",
       "align_content": null,
       "align_items": null,
       "align_self": null,
       "border": null,
       "bottom": null,
       "display": null,
       "flex": null,
       "flex_flow": null,
       "grid_area": null,
       "grid_auto_columns": null,
       "grid_auto_flow": null,
       "grid_auto_rows": null,
       "grid_column": null,
       "grid_gap": null,
       "grid_row": null,
       "grid_template_areas": null,
       "grid_template_columns": null,
       "grid_template_rows": null,
       "height": null,
       "justify_content": null,
       "justify_items": null,
       "left": null,
       "margin": null,
       "max_height": null,
       "max_width": null,
       "min_height": null,
       "min_width": null,
       "object_fit": null,
       "object_position": null,
       "order": null,
       "overflow": null,
       "overflow_x": null,
       "overflow_y": null,
       "padding": null,
       "right": null,
       "top": null,
       "visibility": null,
       "width": null
      }
     },
     "33b5f5c8e936416e9521ada7dbf444ba": {
      "model_module": "@jupyter-widgets/controls",
      "model_module_version": "1.5.0",
      "model_name": "HTMLModel",
      "state": {
       "_dom_classes": [],
       "_model_module": "@jupyter-widgets/controls",
       "_model_module_version": "1.5.0",
       "_model_name": "HTMLModel",
       "_view_count": null,
       "_view_module": "@jupyter-widgets/controls",
       "_view_module_version": "1.5.0",
       "_view_name": "HTMLView",
       "description": "",
       "description_tooltip": null,
       "layout": "IPY_MODEL_e166863ee4f644a6a31e48524a2ab810",
       "placeholder": "​",
       "style": "IPY_MODEL_91ac26b7d78d471cb50a6af167fe4884",
       "value": "Downloading: 100%"
      }
     },
     "3c9af0900bfb40689c1912691b0e46da": {
      "model_module": "@jupyter-widgets/controls",
      "model_module_version": "1.5.0",
      "model_name": "HTMLModel",
      "state": {
       "_dom_classes": [],
       "_model_module": "@jupyter-widgets/controls",
       "_model_module_version": "1.5.0",
       "_model_name": "HTMLModel",
       "_view_count": null,
       "_view_module": "@jupyter-widgets/controls",
       "_view_module_version": "1.5.0",
       "_view_name": "HTMLView",
       "description": "",
       "description_tooltip": null,
       "layout": "IPY_MODEL_c97ad5f90d4b4e4f92334f8187e8c058",
       "placeholder": "​",
       "style": "IPY_MODEL_a2c3111edf7f477da18f2add8b9d559a",
       "value": ""
      }
     },
     "40829fa3c58f4fb898494b347efda1de": {
      "model_module": "@jupyter-widgets/controls",
      "model_module_version": "1.5.0",
      "model_name": "DescriptionStyleModel",
      "state": {
       "_model_module": "@jupyter-widgets/controls",
       "_model_module_version": "1.5.0",
       "_model_name": "DescriptionStyleModel",
       "_view_count": null,
       "_view_module": "@jupyter-widgets/base",
       "_view_module_version": "1.2.0",
       "_view_name": "StyleView",
       "description_width": ""
      }
     },
     "428f653ada1f4ccb9163b26360f7e575": {
      "model_module": "@jupyter-widgets/base",
      "model_module_version": "1.2.0",
      "model_name": "LayoutModel",
      "state": {
       "_model_module": "@jupyter-widgets/base",
       "_model_module_version": "1.2.0",
       "_model_name": "LayoutModel",
       "_view_count": null,
       "_view_module": "@jupyter-widgets/base",
       "_view_module_version": "1.2.0",
       "_view_name": "LayoutView",
       "align_content": null,
       "align_items": null,
       "align_self": null,
       "border": null,
       "bottom": null,
       "display": null,
       "flex": null,
       "flex_flow": null,
       "grid_area": null,
       "grid_auto_columns": null,
       "grid_auto_flow": null,
       "grid_auto_rows": null,
       "grid_column": null,
       "grid_gap": null,
       "grid_row": null,
       "grid_template_areas": null,
       "grid_template_columns": null,
       "grid_template_rows": null,
       "height": null,
       "justify_content": null,
       "justify_items": null,
       "left": null,
       "margin": null,
       "max_height": null,
       "max_width": null,
       "min_height": null,
       "min_width": null,
       "object_fit": null,
       "object_position": null,
       "order": null,
       "overflow": null,
       "overflow_x": null,
       "overflow_y": null,
       "padding": null,
       "right": null,
       "top": null,
       "visibility": null,
       "width": null
      }
     },
     "4368c61bd3e94bbbae8d5ff6077d86cf": {
      "model_module": "@jupyter-widgets/controls",
      "model_module_version": "1.5.0",
      "model_name": "HTMLModel",
      "state": {
       "_dom_classes": [],
       "_model_module": "@jupyter-widgets/controls",
       "_model_module_version": "1.5.0",
       "_model_name": "HTMLModel",
       "_view_count": null,
       "_view_module": "@jupyter-widgets/controls",
       "_view_module_version": "1.5.0",
       "_view_name": "HTMLView",
       "description": "",
       "description_tooltip": null,
       "layout": "IPY_MODEL_1c62e5960d574e139a0db2a700732a43",
       "placeholder": "​",
       "style": "IPY_MODEL_f21e1145c18a4f52a9f3f24b11e52390",
       "value": " 416M/416M [00:36&lt;00:00, 12.8MB/s]"
      }
     },
     "45d7cc140ee44162a1059aa8560b0c20": {
      "model_module": "@jupyter-widgets/controls",
      "model_module_version": "1.5.0",
      "model_name": "ProgressStyleModel",
      "state": {
       "_model_module": "@jupyter-widgets/controls",
       "_model_module_version": "1.5.0",
       "_model_name": "ProgressStyleModel",
       "_view_count": null,
       "_view_module": "@jupyter-widgets/base",
       "_view_module_version": "1.2.0",
       "_view_name": "StyleView",
       "bar_color": null,
       "description_width": ""
      }
     },
     "4713bb6020e448dd8b650789b5a5c1bb": {
      "model_module": "@jupyter-widgets/controls",
      "model_module_version": "1.5.0",
      "model_name": "HBoxModel",
      "state": {
       "_dom_classes": [],
       "_model_module": "@jupyter-widgets/controls",
       "_model_module_version": "1.5.0",
       "_model_name": "HBoxModel",
       "_view_count": null,
       "_view_module": "@jupyter-widgets/controls",
       "_view_module_version": "1.5.0",
       "_view_name": "HBoxView",
       "box_style": "",
       "children": [
        "IPY_MODEL_624c9e58db3b4aed8f1525b8e6530774",
        "IPY_MODEL_1943159d840b4e929d48207045f4c1bb",
        "IPY_MODEL_4368c61bd3e94bbbae8d5ff6077d86cf"
       ],
       "layout": "IPY_MODEL_a43537a5524f47efbc9c3fb310d9f9f5"
      }
     },
     "4e196510e9054d56ad51d8604e88f216": {
      "model_module": "@jupyter-widgets/base",
      "model_module_version": "1.2.0",
      "model_name": "LayoutModel",
      "state": {
       "_model_module": "@jupyter-widgets/base",
       "_model_module_version": "1.2.0",
       "_model_name": "LayoutModel",
       "_view_count": null,
       "_view_module": "@jupyter-widgets/base",
       "_view_module_version": "1.2.0",
       "_view_name": "LayoutView",
       "align_content": null,
       "align_items": null,
       "align_self": null,
       "border": null,
       "bottom": null,
       "display": null,
       "flex": null,
       "flex_flow": null,
       "grid_area": null,
       "grid_auto_columns": null,
       "grid_auto_flow": null,
       "grid_auto_rows": null,
       "grid_column": null,
       "grid_gap": null,
       "grid_row": null,
       "grid_template_areas": null,
       "grid_template_columns": null,
       "grid_template_rows": null,
       "height": null,
       "justify_content": null,
       "justify_items": null,
       "left": null,
       "margin": null,
       "max_height": null,
       "max_width": null,
       "min_height": null,
       "min_width": null,
       "object_fit": null,
       "object_position": null,
       "order": null,
       "overflow": null,
       "overflow_x": null,
       "overflow_y": null,
       "padding": null,
       "right": null,
       "top": null,
       "visibility": null,
       "width": null
      }
     },
     "5bdcd39d369a466b94733bff4960e078": {
      "model_module": "@jupyter-widgets/controls",
      "model_module_version": "1.5.0",
      "model_name": "HTMLModel",
      "state": {
       "_dom_classes": [],
       "_model_module": "@jupyter-widgets/controls",
       "_model_module_version": "1.5.0",
       "_model_name": "HTMLModel",
       "_view_count": null,
       "_view_module": "@jupyter-widgets/controls",
       "_view_module_version": "1.5.0",
       "_view_name": "HTMLView",
       "description": "",
       "description_tooltip": null,
       "layout": "IPY_MODEL_64ddefc37ac94401a9a4655f687d649f",
       "placeholder": "​",
       "style": "IPY_MODEL_40829fa3c58f4fb898494b347efda1de",
       "value": " 208k/208k [00:00&lt;00:00, 333kB/s]"
      }
     },
     "61ed97c9caea458a80c0f22b38cb9037": {
      "model_module": "@jupyter-widgets/controls",
      "model_module_version": "1.5.0",
      "model_name": "DescriptionStyleModel",
      "state": {
       "_model_module": "@jupyter-widgets/controls",
       "_model_module_version": "1.5.0",
       "_model_name": "DescriptionStyleModel",
       "_view_count": null,
       "_view_module": "@jupyter-widgets/base",
       "_view_module_version": "1.2.0",
       "_view_name": "StyleView",
       "description_width": ""
      }
     },
     "624c9e58db3b4aed8f1525b8e6530774": {
      "model_module": "@jupyter-widgets/controls",
      "model_module_version": "1.5.0",
      "model_name": "HTMLModel",
      "state": {
       "_dom_classes": [],
       "_model_module": "@jupyter-widgets/controls",
       "_model_module_version": "1.5.0",
       "_model_name": "HTMLModel",
       "_view_count": null,
       "_view_module": "@jupyter-widgets/controls",
       "_view_module_version": "1.5.0",
       "_view_name": "HTMLView",
       "description": "",
       "description_tooltip": null,
       "layout": "IPY_MODEL_7bf03794ffd84bf096fa06f28691c29d",
       "placeholder": "​",
       "style": "IPY_MODEL_01d24a88a0ba4afdaac52201aa4a10ae",
       "value": "Downloading: 100%"
      }
     },
     "64ddefc37ac94401a9a4655f687d649f": {
      "model_module": "@jupyter-widgets/base",
      "model_module_version": "1.2.0",
      "model_name": "LayoutModel",
      "state": {
       "_model_module": "@jupyter-widgets/base",
       "_model_module_version": "1.2.0",
       "_model_name": "LayoutModel",
       "_view_count": null,
       "_view_module": "@jupyter-widgets/base",
       "_view_module_version": "1.2.0",
       "_view_name": "LayoutView",
       "align_content": null,
       "align_items": null,
       "align_self": null,
       "border": null,
       "bottom": null,
       "display": null,
       "flex": null,
       "flex_flow": null,
       "grid_area": null,
       "grid_auto_columns": null,
       "grid_auto_flow": null,
       "grid_auto_rows": null,
       "grid_column": null,
       "grid_gap": null,
       "grid_row": null,
       "grid_template_areas": null,
       "grid_template_columns": null,
       "grid_template_rows": null,
       "height": null,
       "justify_content": null,
       "justify_items": null,
       "left": null,
       "margin": null,
       "max_height": null,
       "max_width": null,
       "min_height": null,
       "min_width": null,
       "object_fit": null,
       "object_position": null,
       "order": null,
       "overflow": null,
       "overflow_x": null,
       "overflow_y": null,
       "padding": null,
       "right": null,
       "top": null,
       "visibility": null,
       "width": null
      }
     },
     "666fd67138314d66890af610f4abe1ea": {
      "model_module": "@jupyter-widgets/controls",
      "model_module_version": "1.5.0",
      "model_name": "HBoxModel",
      "state": {
       "_dom_classes": [],
       "_model_module": "@jupyter-widgets/controls",
       "_model_module_version": "1.5.0",
       "_model_name": "HBoxModel",
       "_view_count": null,
       "_view_module": "@jupyter-widgets/controls",
       "_view_module_version": "1.5.0",
       "_view_name": "HBoxView",
       "box_style": "",
       "children": [
        "IPY_MODEL_c84c3577249f4c4895258dcbc50f7546",
        "IPY_MODEL_8e5aba7e43c74ad5b6e40d1de5a78afc",
        "IPY_MODEL_21e7839d113f45d18117d3f5cc4f8051"
       ],
       "layout": "IPY_MODEL_046ae7c631ac42e89c95e71fed45ff96"
      }
     },
     "667c0c145cb74a648cfe8a95e6c82b45": {
      "model_module": "@jupyter-widgets/base",
      "model_module_version": "1.2.0",
      "model_name": "LayoutModel",
      "state": {
       "_model_module": "@jupyter-widgets/base",
       "_model_module_version": "1.2.0",
       "_model_name": "LayoutModel",
       "_view_count": null,
       "_view_module": "@jupyter-widgets/base",
       "_view_module_version": "1.2.0",
       "_view_name": "LayoutView",
       "align_content": null,
       "align_items": null,
       "align_self": null,
       "border": null,
       "bottom": null,
       "display": null,
       "flex": null,
       "flex_flow": null,
       "grid_area": null,
       "grid_auto_columns": null,
       "grid_auto_flow": null,
       "grid_auto_rows": null,
       "grid_column": null,
       "grid_gap": null,
       "grid_row": null,
       "grid_template_areas": null,
       "grid_template_columns": null,
       "grid_template_rows": null,
       "height": null,
       "justify_content": null,
       "justify_items": null,
       "left": null,
       "margin": null,
       "max_height": null,
       "max_width": null,
       "min_height": null,
       "min_width": null,
       "object_fit": null,
       "object_position": null,
       "order": null,
       "overflow": null,
       "overflow_x": null,
       "overflow_y": null,
       "padding": null,
       "right": null,
       "top": null,
       "visibility": null,
       "width": null
      }
     },
     "68572f1698864d6482461cb2225d792d": {
      "model_module": "@jupyter-widgets/controls",
      "model_module_version": "1.5.0",
      "model_name": "HTMLModel",
      "state": {
       "_dom_classes": [],
       "_model_module": "@jupyter-widgets/controls",
       "_model_module_version": "1.5.0",
       "_model_name": "HTMLModel",
       "_view_count": null,
       "_view_module": "@jupyter-widgets/controls",
       "_view_module_version": "1.5.0",
       "_view_name": "HTMLView",
       "description": "",
       "description_tooltip": null,
       "layout": "IPY_MODEL_9d405e434fd94332b80e1cee9e536774",
       "placeholder": "​",
       "style": "IPY_MODEL_298c2a04e7dd487d94e67e7941908258",
       "value": "100%"
      }
     },
     "69ca1ed065424f0383e70ff350903327": {
      "model_module": "@jupyter-widgets/controls",
      "model_module_version": "1.5.0",
      "model_name": "HTMLModel",
      "state": {
       "_dom_classes": [],
       "_model_module": "@jupyter-widgets/controls",
       "_model_module_version": "1.5.0",
       "_model_name": "HTMLModel",
       "_view_count": null,
       "_view_module": "@jupyter-widgets/controls",
       "_view_module_version": "1.5.0",
       "_view_name": "HTMLView",
       "description": "",
       "description_tooltip": null,
       "layout": "IPY_MODEL_d995766b23d049a3aec1a5181858a723",
       "placeholder": "​",
       "style": "IPY_MODEL_d3ebbfe8d9aa475ba1dcb4078d8fb096",
       "value": " 313/313 [00:26&lt;00:00, 12.86it/s]"
      }
     },
     "69dab5b735f6403da4cbd7d3ede0a1b9": {
      "model_module": "@jupyter-widgets/controls",
      "model_module_version": "1.5.0",
      "model_name": "DescriptionStyleModel",
      "state": {
       "_model_module": "@jupyter-widgets/controls",
       "_model_module_version": "1.5.0",
       "_model_name": "DescriptionStyleModel",
       "_view_count": null,
       "_view_module": "@jupyter-widgets/base",
       "_view_module_version": "1.2.0",
       "_view_name": "StyleView",
       "description_width": ""
      }
     },
     "6c4b9cfee14642c68eaaf1233994a786": {
      "model_module": "@jupyter-widgets/controls",
      "model_module_version": "1.5.0",
      "model_name": "HBoxModel",
      "state": {
       "_dom_classes": [],
       "_model_module": "@jupyter-widgets/controls",
       "_model_module_version": "1.5.0",
       "_model_name": "HBoxModel",
       "_view_count": null,
       "_view_module": "@jupyter-widgets/controls",
       "_view_module_version": "1.5.0",
       "_view_name": "HBoxView",
       "box_style": "",
       "children": [
        "IPY_MODEL_06f83e025542467889988a1280cabb06",
        "IPY_MODEL_ad9b17b486e2422dab59fb6b1d26762d",
        "IPY_MODEL_1224a7a493d2437a8d5de3660dc61d94"
       ],
       "layout": "IPY_MODEL_ff7db92ea1cd488499f4e91e5073e884"
      }
     },
     "6e6a51d3ac0b435db2b8c4dabab48607": {
      "model_module": "@jupyter-widgets/controls",
      "model_module_version": "1.5.0",
      "model_name": "DescriptionStyleModel",
      "state": {
       "_model_module": "@jupyter-widgets/controls",
       "_model_module_version": "1.5.0",
       "_model_name": "DescriptionStyleModel",
       "_view_count": null,
       "_view_module": "@jupyter-widgets/base",
       "_view_module_version": "1.2.0",
       "_view_name": "StyleView",
       "description_width": ""
      }
     },
     "6ef067ed6d8a4cb596e9354302a8c5f3": {
      "model_module": "@jupyter-widgets/controls",
      "model_module_version": "1.5.0",
      "model_name": "HTMLModel",
      "state": {
       "_dom_classes": [],
       "_model_module": "@jupyter-widgets/controls",
       "_model_module_version": "1.5.0",
       "_model_name": "HTMLModel",
       "_view_count": null,
       "_view_module": "@jupyter-widgets/controls",
       "_view_module_version": "1.5.0",
       "_view_name": "HTMLView",
       "description": "",
       "description_tooltip": null,
       "layout": "IPY_MODEL_124fbd40cf0a4f24b9d37a0ee64f757f",
       "placeholder": "​",
       "style": "IPY_MODEL_b04ea98b59464a0f8ee8b67fb5800907",
       "value": " 29.0/29.0 [00:00&lt;00:00, 1.14kB/s]"
      }
     },
     "74110567417e47c5a281423129b0e933": {
      "model_module": "@jupyter-widgets/controls",
      "model_module_version": "1.5.0",
      "model_name": "ProgressStyleModel",
      "state": {
       "_model_module": "@jupyter-widgets/controls",
       "_model_module_version": "1.5.0",
       "_model_name": "ProgressStyleModel",
       "_view_count": null,
       "_view_module": "@jupyter-widgets/base",
       "_view_module_version": "1.2.0",
       "_view_name": "StyleView",
       "bar_color": null,
       "description_width": ""
      }
     },
     "74aded99bc5f487b8241dfd23577395e": {
      "model_module": "@jupyter-widgets/controls",
      "model_module_version": "1.5.0",
      "model_name": "FloatProgressModel",
      "state": {
       "_dom_classes": [],
       "_model_module": "@jupyter-widgets/controls",
       "_model_module_version": "1.5.0",
       "_model_name": "FloatProgressModel",
       "_view_count": null,
       "_view_module": "@jupyter-widgets/controls",
       "_view_module_version": "1.5.0",
       "_view_name": "ProgressView",
       "bar_style": "success",
       "description": "",
       "description_tooltip": null,
       "layout": "IPY_MODEL_d25339c7a7d348bbb764fa25088c6204",
       "max": 29.0,
       "min": 0.0,
       "orientation": "horizontal",
       "style": "IPY_MODEL_0cc67aebd919439382ecd3b40653245f",
       "value": 29.0
      }
     },
     "76d6380a8f3445e2872b212c73d6fedc": {
      "model_module": "@jupyter-widgets/base",
      "model_module_version": "1.2.0",
      "model_name": "LayoutModel",
      "state": {
       "_model_module": "@jupyter-widgets/base",
       "_model_module_version": "1.2.0",
       "_model_name": "LayoutModel",
       "_view_count": null,
       "_view_module": "@jupyter-widgets/base",
       "_view_module_version": "1.2.0",
       "_view_name": "LayoutView",
       "align_content": null,
       "align_items": null,
       "align_self": null,
       "border": null,
       "bottom": null,
       "display": null,
       "flex": null,
       "flex_flow": null,
       "grid_area": null,
       "grid_auto_columns": null,
       "grid_auto_flow": null,
       "grid_auto_rows": null,
       "grid_column": null,
       "grid_gap": null,
       "grid_row": null,
       "grid_template_areas": null,
       "grid_template_columns": null,
       "grid_template_rows": null,
       "height": null,
       "justify_content": null,
       "justify_items": null,
       "left": null,
       "margin": null,
       "max_height": null,
       "max_width": null,
       "min_height": null,
       "min_width": null,
       "object_fit": null,
       "object_position": null,
       "order": null,
       "overflow": null,
       "overflow_x": null,
       "overflow_y": null,
       "padding": null,
       "right": null,
       "top": null,
       "visibility": null,
       "width": null
      }
     },
     "77c5088746954dc08b3e763ace5a4953": {
      "model_module": "@jupyter-widgets/controls",
      "model_module_version": "1.5.0",
      "model_name": "FloatProgressModel",
      "state": {
       "_dom_classes": [],
       "_model_module": "@jupyter-widgets/controls",
       "_model_module_version": "1.5.0",
       "_model_name": "FloatProgressModel",
       "_view_count": null,
       "_view_module": "@jupyter-widgets/controls",
       "_view_module_version": "1.5.0",
       "_view_name": "ProgressView",
       "bar_style": "success",
       "description": "",
       "description_tooltip": null,
       "layout": "IPY_MODEL_89858584dcd94ae3a1fc8b0c79e9cbce",
       "max": 213450.0,
       "min": 0.0,
       "orientation": "horizontal",
       "style": "IPY_MODEL_13b22a77d4714094aacccab0b578f344",
       "value": 213450.0
      }
     },
     "78c6b6ec167740c9b73fe9b6630d2c8a": {
      "model_module": "@jupyter-widgets/controls",
      "model_module_version": "1.5.0",
      "model_name": "ProgressStyleModel",
      "state": {
       "_model_module": "@jupyter-widgets/controls",
       "_model_module_version": "1.5.0",
       "_model_name": "ProgressStyleModel",
       "_view_count": null,
       "_view_module": "@jupyter-widgets/base",
       "_view_module_version": "1.2.0",
       "_view_name": "StyleView",
       "bar_color": null,
       "description_width": ""
      }
     },
     "79ba5e0e356a4c13bdcc1047a5e0a7b7": {
      "model_module": "@jupyter-widgets/base",
      "model_module_version": "1.2.0",
      "model_name": "LayoutModel",
      "state": {
       "_model_module": "@jupyter-widgets/base",
       "_model_module_version": "1.2.0",
       "_model_name": "LayoutModel",
       "_view_count": null,
       "_view_module": "@jupyter-widgets/base",
       "_view_module_version": "1.2.0",
       "_view_name": "LayoutView",
       "align_content": null,
       "align_items": null,
       "align_self": null,
       "border": null,
       "bottom": null,
       "display": null,
       "flex": null,
       "flex_flow": null,
       "grid_area": null,
       "grid_auto_columns": null,
       "grid_auto_flow": null,
       "grid_auto_rows": null,
       "grid_column": null,
       "grid_gap": null,
       "grid_row": null,
       "grid_template_areas": null,
       "grid_template_columns": null,
       "grid_template_rows": null,
       "height": null,
       "justify_content": null,
       "justify_items": null,
       "left": null,
       "margin": null,
       "max_height": null,
       "max_width": null,
       "min_height": null,
       "min_width": null,
       "object_fit": null,
       "object_position": null,
       "order": null,
       "overflow": null,
       "overflow_x": null,
       "overflow_y": null,
       "padding": null,
       "right": null,
       "top": null,
       "visibility": null,
       "width": null
      }
     },
     "7bf03794ffd84bf096fa06f28691c29d": {
      "model_module": "@jupyter-widgets/base",
      "model_module_version": "1.2.0",
      "model_name": "LayoutModel",
      "state": {
       "_model_module": "@jupyter-widgets/base",
       "_model_module_version": "1.2.0",
       "_model_name": "LayoutModel",
       "_view_count": null,
       "_view_module": "@jupyter-widgets/base",
       "_view_module_version": "1.2.0",
       "_view_name": "LayoutView",
       "align_content": null,
       "align_items": null,
       "align_self": null,
       "border": null,
       "bottom": null,
       "display": null,
       "flex": null,
       "flex_flow": null,
       "grid_area": null,
       "grid_auto_columns": null,
       "grid_auto_flow": null,
       "grid_auto_rows": null,
       "grid_column": null,
       "grid_gap": null,
       "grid_row": null,
       "grid_template_areas": null,
       "grid_template_columns": null,
       "grid_template_rows": null,
       "height": null,
       "justify_content": null,
       "justify_items": null,
       "left": null,
       "margin": null,
       "max_height": null,
       "max_width": null,
       "min_height": null,
       "min_width": null,
       "object_fit": null,
       "object_position": null,
       "order": null,
       "overflow": null,
       "overflow_x": null,
       "overflow_y": null,
       "padding": null,
       "right": null,
       "top": null,
       "visibility": null,
       "width": null
      }
     },
     "7e745f0f0e1e439f80df0d7cb05f534c": {
      "model_module": "@jupyter-widgets/base",
      "model_module_version": "1.2.0",
      "model_name": "LayoutModel",
      "state": {
       "_model_module": "@jupyter-widgets/base",
       "_model_module_version": "1.2.0",
       "_model_name": "LayoutModel",
       "_view_count": null,
       "_view_module": "@jupyter-widgets/base",
       "_view_module_version": "1.2.0",
       "_view_name": "LayoutView",
       "align_content": null,
       "align_items": null,
       "align_self": null,
       "border": null,
       "bottom": null,
       "display": null,
       "flex": null,
       "flex_flow": null,
       "grid_area": null,
       "grid_auto_columns": null,
       "grid_auto_flow": null,
       "grid_auto_rows": null,
       "grid_column": null,
       "grid_gap": null,
       "grid_row": null,
       "grid_template_areas": null,
       "grid_template_columns": null,
       "grid_template_rows": null,
       "height": null,
       "justify_content": null,
       "justify_items": null,
       "left": null,
       "margin": null,
       "max_height": null,
       "max_width": null,
       "min_height": null,
       "min_width": null,
       "object_fit": null,
       "object_position": null,
       "order": null,
       "overflow": null,
       "overflow_x": null,
       "overflow_y": null,
       "padding": null,
       "right": null,
       "top": null,
       "visibility": null,
       "width": null
      }
     },
     "8811d114a62745c98f93758a0a25d1b3": {
      "model_module": "@jupyter-widgets/base",
      "model_module_version": "1.2.0",
      "model_name": "LayoutModel",
      "state": {
       "_model_module": "@jupyter-widgets/base",
       "_model_module_version": "1.2.0",
       "_model_name": "LayoutModel",
       "_view_count": null,
       "_view_module": "@jupyter-widgets/base",
       "_view_module_version": "1.2.0",
       "_view_name": "LayoutView",
       "align_content": null,
       "align_items": null,
       "align_self": null,
       "border": null,
       "bottom": null,
       "display": null,
       "flex": null,
       "flex_flow": null,
       "grid_area": null,
       "grid_auto_columns": null,
       "grid_auto_flow": null,
       "grid_auto_rows": null,
       "grid_column": null,
       "grid_gap": null,
       "grid_row": null,
       "grid_template_areas": null,
       "grid_template_columns": null,
       "grid_template_rows": null,
       "height": null,
       "justify_content": null,
       "justify_items": null,
       "left": null,
       "margin": null,
       "max_height": null,
       "max_width": null,
       "min_height": null,
       "min_width": null,
       "object_fit": null,
       "object_position": null,
       "order": null,
       "overflow": null,
       "overflow_x": null,
       "overflow_y": null,
       "padding": null,
       "right": null,
       "top": null,
       "visibility": null,
       "width": null
      }
     },
     "88561b4653224ee6b6ab1fb29c978f30": {
      "model_module": "@jupyter-widgets/base",
      "model_module_version": "1.2.0",
      "model_name": "LayoutModel",
      "state": {
       "_model_module": "@jupyter-widgets/base",
       "_model_module_version": "1.2.0",
       "_model_name": "LayoutModel",
       "_view_count": null,
       "_view_module": "@jupyter-widgets/base",
       "_view_module_version": "1.2.0",
       "_view_name": "LayoutView",
       "align_content": null,
       "align_items": null,
       "align_self": null,
       "border": null,
       "bottom": null,
       "display": null,
       "flex": null,
       "flex_flow": null,
       "grid_area": null,
       "grid_auto_columns": null,
       "grid_auto_flow": null,
       "grid_auto_rows": null,
       "grid_column": null,
       "grid_gap": null,
       "grid_row": null,
       "grid_template_areas": null,
       "grid_template_columns": null,
       "grid_template_rows": null,
       "height": null,
       "justify_content": null,
       "justify_items": null,
       "left": null,
       "margin": null,
       "max_height": null,
       "max_width": null,
       "min_height": null,
       "min_width": null,
       "object_fit": null,
       "object_position": null,
       "order": null,
       "overflow": null,
       "overflow_x": null,
       "overflow_y": null,
       "padding": null,
       "right": null,
       "top": null,
       "visibility": null,
       "width": null
      }
     },
     "89858584dcd94ae3a1fc8b0c79e9cbce": {
      "model_module": "@jupyter-widgets/base",
      "model_module_version": "1.2.0",
      "model_name": "LayoutModel",
      "state": {
       "_model_module": "@jupyter-widgets/base",
       "_model_module_version": "1.2.0",
       "_model_name": "LayoutModel",
       "_view_count": null,
       "_view_module": "@jupyter-widgets/base",
       "_view_module_version": "1.2.0",
       "_view_name": "LayoutView",
       "align_content": null,
       "align_items": null,
       "align_self": null,
       "border": null,
       "bottom": null,
       "display": null,
       "flex": null,
       "flex_flow": null,
       "grid_area": null,
       "grid_auto_columns": null,
       "grid_auto_flow": null,
       "grid_auto_rows": null,
       "grid_column": null,
       "grid_gap": null,
       "grid_row": null,
       "grid_template_areas": null,
       "grid_template_columns": null,
       "grid_template_rows": null,
       "height": null,
       "justify_content": null,
       "justify_items": null,
       "left": null,
       "margin": null,
       "max_height": null,
       "max_width": null,
       "min_height": null,
       "min_width": null,
       "object_fit": null,
       "object_position": null,
       "order": null,
       "overflow": null,
       "overflow_x": null,
       "overflow_y": null,
       "padding": null,
       "right": null,
       "top": null,
       "visibility": null,
       "width": null
      }
     },
     "8e5aba7e43c74ad5b6e40d1de5a78afc": {
      "model_module": "@jupyter-widgets/controls",
      "model_module_version": "1.5.0",
      "model_name": "FloatProgressModel",
      "state": {
       "_dom_classes": [],
       "_model_module": "@jupyter-widgets/controls",
       "_model_module_version": "1.5.0",
       "_model_name": "FloatProgressModel",
       "_view_count": null,
       "_view_module": "@jupyter-widgets/controls",
       "_view_module_version": "1.5.0",
       "_view_name": "ProgressView",
       "bar_style": "success",
       "description": "",
       "description_tooltip": null,
       "layout": "IPY_MODEL_8811d114a62745c98f93758a0a25d1b3",
       "max": 34250.0,
       "min": 0.0,
       "orientation": "horizontal",
       "style": "IPY_MODEL_45d7cc140ee44162a1059aa8560b0c20",
       "value": 34250.0
      }
     },
     "91ac26b7d78d471cb50a6af167fe4884": {
      "model_module": "@jupyter-widgets/controls",
      "model_module_version": "1.5.0",
      "model_name": "DescriptionStyleModel",
      "state": {
       "_model_module": "@jupyter-widgets/controls",
       "_model_module_version": "1.5.0",
       "_model_name": "DescriptionStyleModel",
       "_view_count": null,
       "_view_module": "@jupyter-widgets/base",
       "_view_module_version": "1.2.0",
       "_view_name": "StyleView",
       "description_width": ""
      }
     },
     "97423b70921f4149a93063ab97077605": {
      "model_module": "@jupyter-widgets/controls",
      "model_module_version": "1.5.0",
      "model_name": "DescriptionStyleModel",
      "state": {
       "_model_module": "@jupyter-widgets/controls",
       "_model_module_version": "1.5.0",
       "_model_name": "DescriptionStyleModel",
       "_view_count": null,
       "_view_module": "@jupyter-widgets/base",
       "_view_module_version": "1.2.0",
       "_view_name": "StyleView",
       "description_width": ""
      }
     },
     "982290e149114ebca168b5e31e9bb108": {
      "model_module": "@jupyter-widgets/controls",
      "model_module_version": "1.5.0",
      "model_name": "HTMLModel",
      "state": {
       "_dom_classes": [],
       "_model_module": "@jupyter-widgets/controls",
       "_model_module_version": "1.5.0",
       "_model_name": "HTMLModel",
       "_view_count": null,
       "_view_module": "@jupyter-widgets/controls",
       "_view_module_version": "1.5.0",
       "_view_name": "HTMLView",
       "description": "",
       "description_tooltip": null,
       "layout": "IPY_MODEL_a97d74576f5c4a938057b69b0cb6acf5",
       "placeholder": "​",
       "style": "IPY_MODEL_2787072446b7442897aab4a0f59d5013",
       "value": " 34250/? [01:19&lt;00:00, 488.74it/s]"
      }
     },
     "9d405e434fd94332b80e1cee9e536774": {
      "model_module": "@jupyter-widgets/base",
      "model_module_version": "1.2.0",
      "model_name": "LayoutModel",
      "state": {
       "_model_module": "@jupyter-widgets/base",
       "_model_module_version": "1.2.0",
       "_model_name": "LayoutModel",
       "_view_count": null,
       "_view_module": "@jupyter-widgets/base",
       "_view_module_version": "1.2.0",
       "_view_name": "LayoutView",
       "align_content": null,
       "align_items": null,
       "align_self": null,
       "border": null,
       "bottom": null,
       "display": null,
       "flex": null,
       "flex_flow": null,
       "grid_area": null,
       "grid_auto_columns": null,
       "grid_auto_flow": null,
       "grid_auto_rows": null,
       "grid_column": null,
       "grid_gap": null,
       "grid_row": null,
       "grid_template_areas": null,
       "grid_template_columns": null,
       "grid_template_rows": null,
       "height": null,
       "justify_content": null,
       "justify_items": null,
       "left": null,
       "margin": null,
       "max_height": null,
       "max_width": null,
       "min_height": null,
       "min_width": null,
       "object_fit": null,
       "object_position": null,
       "order": null,
       "overflow": null,
       "overflow_x": null,
       "overflow_y": null,
       "padding": null,
       "right": null,
       "top": null,
       "visibility": null,
       "width": null
      }
     },
     "a2c3111edf7f477da18f2add8b9d559a": {
      "model_module": "@jupyter-widgets/controls",
      "model_module_version": "1.5.0",
      "model_name": "DescriptionStyleModel",
      "state": {
       "_model_module": "@jupyter-widgets/controls",
       "_model_module_version": "1.5.0",
       "_model_name": "DescriptionStyleModel",
       "_view_count": null,
       "_view_module": "@jupyter-widgets/base",
       "_view_module_version": "1.2.0",
       "_view_name": "StyleView",
       "description_width": ""
      }
     },
     "a43537a5524f47efbc9c3fb310d9f9f5": {
      "model_module": "@jupyter-widgets/base",
      "model_module_version": "1.2.0",
      "model_name": "LayoutModel",
      "state": {
       "_model_module": "@jupyter-widgets/base",
       "_model_module_version": "1.2.0",
       "_model_name": "LayoutModel",
       "_view_count": null,
       "_view_module": "@jupyter-widgets/base",
       "_view_module_version": "1.2.0",
       "_view_name": "LayoutView",
       "align_content": null,
       "align_items": null,
       "align_self": null,
       "border": null,
       "bottom": null,
       "display": null,
       "flex": null,
       "flex_flow": null,
       "grid_area": null,
       "grid_auto_columns": null,
       "grid_auto_flow": null,
       "grid_auto_rows": null,
       "grid_column": null,
       "grid_gap": null,
       "grid_row": null,
       "grid_template_areas": null,
       "grid_template_columns": null,
       "grid_template_rows": null,
       "height": null,
       "justify_content": null,
       "justify_items": null,
       "left": null,
       "margin": null,
       "max_height": null,
       "max_width": null,
       "min_height": null,
       "min_width": null,
       "object_fit": null,
       "object_position": null,
       "order": null,
       "overflow": null,
       "overflow_x": null,
       "overflow_y": null,
       "padding": null,
       "right": null,
       "top": null,
       "visibility": null,
       "width": null
      }
     },
     "a619078f86df48fba022c80706628bee": {
      "model_module": "@jupyter-widgets/base",
      "model_module_version": "1.2.0",
      "model_name": "LayoutModel",
      "state": {
       "_model_module": "@jupyter-widgets/base",
       "_model_module_version": "1.2.0",
       "_model_name": "LayoutModel",
       "_view_count": null,
       "_view_module": "@jupyter-widgets/base",
       "_view_module_version": "1.2.0",
       "_view_name": "LayoutView",
       "align_content": null,
       "align_items": null,
       "align_self": null,
       "border": null,
       "bottom": null,
       "display": null,
       "flex": null,
       "flex_flow": null,
       "grid_area": null,
       "grid_auto_columns": null,
       "grid_auto_flow": null,
       "grid_auto_rows": null,
       "grid_column": null,
       "grid_gap": null,
       "grid_row": null,
       "grid_template_areas": null,
       "grid_template_columns": null,
       "grid_template_rows": null,
       "height": null,
       "justify_content": null,
       "justify_items": null,
       "left": null,
       "margin": null,
       "max_height": null,
       "max_width": null,
       "min_height": null,
       "min_width": null,
       "object_fit": null,
       "object_position": null,
       "order": null,
       "overflow": null,
       "overflow_x": null,
       "overflow_y": null,
       "padding": null,
       "right": null,
       "top": null,
       "visibility": null,
       "width": null
      }
     },
     "a73dd7d86e7541ec9cf5424ef4dd6041": {
      "model_module": "@jupyter-widgets/controls",
      "model_module_version": "1.5.0",
      "model_name": "HTMLModel",
      "state": {
       "_dom_classes": [],
       "_model_module": "@jupyter-widgets/controls",
       "_model_module_version": "1.5.0",
       "_model_name": "HTMLModel",
       "_view_count": null,
       "_view_module": "@jupyter-widgets/controls",
       "_view_module_version": "1.5.0",
       "_view_name": "HTMLView",
       "description": "",
       "description_tooltip": null,
       "layout": "IPY_MODEL_7e745f0f0e1e439f80df0d7cb05f534c",
       "placeholder": "​",
       "style": "IPY_MODEL_d3f4780352ee4d08b01b974fffc0a4d1",
       "value": "Downloading: 100%"
      }
     },
     "a97d74576f5c4a938057b69b0cb6acf5": {
      "model_module": "@jupyter-widgets/base",
      "model_module_version": "1.2.0",
      "model_name": "LayoutModel",
      "state": {
       "_model_module": "@jupyter-widgets/base",
       "_model_module_version": "1.2.0",
       "_model_name": "LayoutModel",
       "_view_count": null,
       "_view_module": "@jupyter-widgets/base",
       "_view_module_version": "1.2.0",
       "_view_name": "LayoutView",
       "align_content": null,
       "align_items": null,
       "align_self": null,
       "border": null,
       "bottom": null,
       "display": null,
       "flex": null,
       "flex_flow": null,
       "grid_area": null,
       "grid_auto_columns": null,
       "grid_auto_flow": null,
       "grid_auto_rows": null,
       "grid_column": null,
       "grid_gap": null,
       "grid_row": null,
       "grid_template_areas": null,
       "grid_template_columns": null,
       "grid_template_rows": null,
       "height": null,
       "justify_content": null,
       "justify_items": null,
       "left": null,
       "margin": null,
       "max_height": null,
       "max_width": null,
       "min_height": null,
       "min_width": null,
       "object_fit": null,
       "object_position": null,
       "order": null,
       "overflow": null,
       "overflow_x": null,
       "overflow_y": null,
       "padding": null,
       "right": null,
       "top": null,
       "visibility": null,
       "width": null
      }
     },
     "aa447d8adf3240cfb840d53604b2567b": {
      "model_module": "@jupyter-widgets/base",
      "model_module_version": "1.2.0",
      "model_name": "LayoutModel",
      "state": {
       "_model_module": "@jupyter-widgets/base",
       "_model_module_version": "1.2.0",
       "_model_name": "LayoutModel",
       "_view_count": null,
       "_view_module": "@jupyter-widgets/base",
       "_view_module_version": "1.2.0",
       "_view_name": "LayoutView",
       "align_content": null,
       "align_items": null,
       "align_self": null,
       "border": null,
       "bottom": null,
       "display": null,
       "flex": null,
       "flex_flow": null,
       "grid_area": null,
       "grid_auto_columns": null,
       "grid_auto_flow": null,
       "grid_auto_rows": null,
       "grid_column": null,
       "grid_gap": null,
       "grid_row": null,
       "grid_template_areas": null,
       "grid_template_columns": null,
       "grid_template_rows": null,
       "height": null,
       "justify_content": null,
       "justify_items": null,
       "left": null,
       "margin": null,
       "max_height": null,
       "max_width": null,
       "min_height": null,
       "min_width": null,
       "object_fit": null,
       "object_position": null,
       "order": null,
       "overflow": null,
       "overflow_x": null,
       "overflow_y": null,
       "padding": null,
       "right": null,
       "top": null,
       "visibility": null,
       "width": null
      }
     },
     "ad166c2c607a4ee890eee54d9f66d1a9": {
      "model_module": "@jupyter-widgets/controls",
      "model_module_version": "1.5.0",
      "model_name": "ProgressStyleModel",
      "state": {
       "_model_module": "@jupyter-widgets/controls",
       "_model_module_version": "1.5.0",
       "_model_name": "ProgressStyleModel",
       "_view_count": null,
       "_view_module": "@jupyter-widgets/base",
       "_view_module_version": "1.2.0",
       "_view_name": "StyleView",
       "bar_color": null,
       "description_width": ""
      }
     },
     "ad9b17b486e2422dab59fb6b1d26762d": {
      "model_module": "@jupyter-widgets/controls",
      "model_module_version": "1.5.0",
      "model_name": "FloatProgressModel",
      "state": {
       "_dom_classes": [],
       "_model_module": "@jupyter-widgets/controls",
       "_model_module_version": "1.5.0",
       "_model_name": "FloatProgressModel",
       "_view_count": null,
       "_view_module": "@jupyter-widgets/controls",
       "_view_module_version": "1.5.0",
       "_view_name": "ProgressView",
       "bar_style": "success",
       "description": "",
       "description_tooltip": null,
       "layout": "IPY_MODEL_a619078f86df48fba022c80706628bee",
       "max": 313.0,
       "min": 0.0,
       "orientation": "horizontal",
       "style": "IPY_MODEL_f6ac21531fe5477eac3b8729ae99e2fd",
       "value": 313.0
      }
     },
     "ae5da9811dfc421ab5610b8594b9b66a": {
      "model_module": "@jupyter-widgets/controls",
      "model_module_version": "1.5.0",
      "model_name": "DescriptionStyleModel",
      "state": {
       "_model_module": "@jupyter-widgets/controls",
       "_model_module_version": "1.5.0",
       "_model_name": "DescriptionStyleModel",
       "_view_count": null,
       "_view_module": "@jupyter-widgets/base",
       "_view_module_version": "1.2.0",
       "_view_name": "StyleView",
       "description_width": ""
      }
     },
     "b04ea98b59464a0f8ee8b67fb5800907": {
      "model_module": "@jupyter-widgets/controls",
      "model_module_version": "1.5.0",
      "model_name": "DescriptionStyleModel",
      "state": {
       "_model_module": "@jupyter-widgets/controls",
       "_model_module_version": "1.5.0",
       "_model_name": "DescriptionStyleModel",
       "_view_count": null,
       "_view_module": "@jupyter-widgets/base",
       "_view_module_version": "1.2.0",
       "_view_name": "StyleView",
       "description_width": ""
      }
     },
     "b68fc1999c6f48c2912ab7b56179c598": {
      "model_module": "@jupyter-widgets/base",
      "model_module_version": "1.2.0",
      "model_name": "LayoutModel",
      "state": {
       "_model_module": "@jupyter-widgets/base",
       "_model_module_version": "1.2.0",
       "_model_name": "LayoutModel",
       "_view_count": null,
       "_view_module": "@jupyter-widgets/base",
       "_view_module_version": "1.2.0",
       "_view_name": "LayoutView",
       "align_content": null,
       "align_items": null,
       "align_self": null,
       "border": null,
       "bottom": null,
       "display": null,
       "flex": null,
       "flex_flow": null,
       "grid_area": null,
       "grid_auto_columns": null,
       "grid_auto_flow": null,
       "grid_auto_rows": null,
       "grid_column": null,
       "grid_gap": null,
       "grid_row": null,
       "grid_template_areas": null,
       "grid_template_columns": null,
       "grid_template_rows": null,
       "height": null,
       "justify_content": null,
       "justify_items": null,
       "left": null,
       "margin": null,
       "max_height": null,
       "max_width": null,
       "min_height": null,
       "min_width": null,
       "object_fit": null,
       "object_position": null,
       "order": null,
       "overflow": null,
       "overflow_x": null,
       "overflow_y": null,
       "padding": null,
       "right": null,
       "top": null,
       "visibility": null,
       "width": null
      }
     },
     "b78ce67d9f8542fe89737fb8acb28f41": {
      "model_module": "@jupyter-widgets/controls",
      "model_module_version": "1.5.0",
      "model_name": "FloatProgressModel",
      "state": {
       "_dom_classes": [],
       "_model_module": "@jupyter-widgets/controls",
       "_model_module_version": "1.5.0",
       "_model_name": "FloatProgressModel",
       "_view_count": null,
       "_view_module": "@jupyter-widgets/controls",
       "_view_module_version": "1.5.0",
       "_view_name": "ProgressView",
       "bar_style": "success",
       "description": "",
       "description_tooltip": null,
       "layout": "IPY_MODEL_ca13322e792e40f6bf5586a8d2a0bccb",
       "max": 1.0,
       "min": 0.0,
       "orientation": "horizontal",
       "style": "IPY_MODEL_78c6b6ec167740c9b73fe9b6630d2c8a",
       "value": 1.0
      }
     },
     "b870cca97fbe41158b6342c4c6effaf2": {
      "model_module": "@jupyter-widgets/controls",
      "model_module_version": "1.5.0",
      "model_name": "HTMLModel",
      "state": {
       "_dom_classes": [],
       "_model_module": "@jupyter-widgets/controls",
       "_model_module_version": "1.5.0",
       "_model_name": "HTMLModel",
       "_view_count": null,
       "_view_module": "@jupyter-widgets/controls",
       "_view_module_version": "1.5.0",
       "_view_name": "HTMLView",
       "description": "",
       "description_tooltip": null,
       "layout": "IPY_MODEL_08aa2ceb993e4743a81ee77d72a4f32f",
       "placeholder": "​",
       "style": "IPY_MODEL_16de16add48c426a95ae8bd2aa0a5804",
       "value": "100%"
      }
     },
     "b906abc220e841068626f6a76811cc77": {
      "model_module": "@jupyter-widgets/controls",
      "model_module_version": "1.5.0",
      "model_name": "HBoxModel",
      "state": {
       "_dom_classes": [],
       "_model_module": "@jupyter-widgets/controls",
       "_model_module_version": "1.5.0",
       "_model_name": "HBoxModel",
       "_view_count": null,
       "_view_module": "@jupyter-widgets/controls",
       "_view_module_version": "1.5.0",
       "_view_name": "HBoxView",
       "box_style": "",
       "children": [
        "IPY_MODEL_c32bf1e0c5354423be18a0c82d93a0df",
        "IPY_MODEL_74aded99bc5f487b8241dfd23577395e",
        "IPY_MODEL_6ef067ed6d8a4cb596e9354302a8c5f3"
       ],
       "layout": "IPY_MODEL_2f5131999e084ef7b7d78adfec2bfa15"
      }
     },
     "badf82533a3a4cae8cff34304d1c9d2c": {
      "model_module": "@jupyter-widgets/controls",
      "model_module_version": "1.5.0",
      "model_name": "HBoxModel",
      "state": {
       "_dom_classes": [],
       "_model_module": "@jupyter-widgets/controls",
       "_model_module_version": "1.5.0",
       "_model_name": "HBoxModel",
       "_view_count": null,
       "_view_module": "@jupyter-widgets/controls",
       "_view_module_version": "1.5.0",
       "_view_name": "HBoxView",
       "box_style": "",
       "children": [
        "IPY_MODEL_a73dd7d86e7541ec9cf5424ef4dd6041",
        "IPY_MODEL_77c5088746954dc08b3e763ace5a4953",
        "IPY_MODEL_5bdcd39d369a466b94733bff4960e078"
       ],
       "layout": "IPY_MODEL_428f653ada1f4ccb9163b26360f7e575"
      }
     },
     "bb90ac3756e844eb8a092f610fe19bda": {
      "model_module": "@jupyter-widgets/base",
      "model_module_version": "1.2.0",
      "model_name": "LayoutModel",
      "state": {
       "_model_module": "@jupyter-widgets/base",
       "_model_module_version": "1.2.0",
       "_model_name": "LayoutModel",
       "_view_count": null,
       "_view_module": "@jupyter-widgets/base",
       "_view_module_version": "1.2.0",
       "_view_name": "LayoutView",
       "align_content": null,
       "align_items": null,
       "align_self": null,
       "border": null,
       "bottom": null,
       "display": null,
       "flex": null,
       "flex_flow": null,
       "grid_area": null,
       "grid_auto_columns": null,
       "grid_auto_flow": null,
       "grid_auto_rows": null,
       "grid_column": null,
       "grid_gap": null,
       "grid_row": null,
       "grid_template_areas": null,
       "grid_template_columns": null,
       "grid_template_rows": null,
       "height": null,
       "justify_content": null,
       "justify_items": null,
       "left": null,
       "margin": null,
       "max_height": null,
       "max_width": null,
       "min_height": null,
       "min_width": null,
       "object_fit": null,
       "object_position": null,
       "order": null,
       "overflow": null,
       "overflow_x": null,
       "overflow_y": null,
       "padding": null,
       "right": null,
       "top": null,
       "visibility": null,
       "width": null
      }
     },
     "be275142d64b4949914ad30002a301db": {
      "model_module": "@jupyter-widgets/controls",
      "model_module_version": "1.5.0",
      "model_name": "HBoxModel",
      "state": {
       "_dom_classes": [],
       "_model_module": "@jupyter-widgets/controls",
       "_model_module_version": "1.5.0",
       "_model_name": "HBoxModel",
       "_view_count": null,
       "_view_module": "@jupyter-widgets/controls",
       "_view_module_version": "1.5.0",
       "_view_name": "HBoxView",
       "box_style": "",
       "children": [
        "IPY_MODEL_68572f1698864d6482461cb2225d792d",
        "IPY_MODEL_09b8cb9dd8e440d385131da806a92146",
        "IPY_MODEL_69ca1ed065424f0383e70ff350903327"
       ],
       "layout": "IPY_MODEL_aa447d8adf3240cfb840d53604b2567b"
      }
     },
     "c32bf1e0c5354423be18a0c82d93a0df": {
      "model_module": "@jupyter-widgets/controls",
      "model_module_version": "1.5.0",
      "model_name": "HTMLModel",
      "state": {
       "_dom_classes": [],
       "_model_module": "@jupyter-widgets/controls",
       "_model_module_version": "1.5.0",
       "_model_name": "HTMLModel",
       "_view_count": null,
       "_view_module": "@jupyter-widgets/controls",
       "_view_module_version": "1.5.0",
       "_view_name": "HTMLView",
       "description": "",
       "description_tooltip": null,
       "layout": "IPY_MODEL_667c0c145cb74a648cfe8a95e6c82b45",
       "placeholder": "​",
       "style": "IPY_MODEL_249eacef835443c68ab4109bb9348ba9",
       "value": "Downloading: 100%"
      }
     },
     "c4ef9ef31d794b7caca6587330b57fa7": {
      "model_module": "@jupyter-widgets/controls",
      "model_module_version": "1.5.0",
      "model_name": "DescriptionStyleModel",
      "state": {
       "_model_module": "@jupyter-widgets/controls",
       "_model_module_version": "1.5.0",
       "_model_name": "DescriptionStyleModel",
       "_view_count": null,
       "_view_module": "@jupyter-widgets/base",
       "_view_module_version": "1.2.0",
       "_view_name": "StyleView",
       "description_width": ""
      }
     },
     "c84c3577249f4c4895258dcbc50f7546": {
      "model_module": "@jupyter-widgets/controls",
      "model_module_version": "1.5.0",
      "model_name": "HTMLModel",
      "state": {
       "_dom_classes": [],
       "_model_module": "@jupyter-widgets/controls",
       "_model_module_version": "1.5.0",
       "_model_name": "HTMLModel",
       "_view_count": null,
       "_view_module": "@jupyter-widgets/controls",
       "_view_module_version": "1.5.0",
       "_view_name": "HTMLView",
       "description": "",
       "description_tooltip": null,
       "layout": "IPY_MODEL_1fba1c602b3a4ca58fabf6c9e687a5ed",
       "placeholder": "​",
       "style": "IPY_MODEL_ae5da9811dfc421ab5610b8594b9b66a",
       "value": "100%"
      }
     },
     "c97ad5f90d4b4e4f92334f8187e8c058": {
      "model_module": "@jupyter-widgets/base",
      "model_module_version": "1.2.0",
      "model_name": "LayoutModel",
      "state": {
       "_model_module": "@jupyter-widgets/base",
       "_model_module_version": "1.2.0",
       "_model_name": "LayoutModel",
       "_view_count": null,
       "_view_module": "@jupyter-widgets/base",
       "_view_module_version": "1.2.0",
       "_view_name": "LayoutView",
       "align_content": null,
       "align_items": null,
       "align_self": null,
       "border": null,
       "bottom": null,
       "display": null,
       "flex": null,
       "flex_flow": null,
       "grid_area": null,
       "grid_auto_columns": null,
       "grid_auto_flow": null,
       "grid_auto_rows": null,
       "grid_column": null,
       "grid_gap": null,
       "grid_row": null,
       "grid_template_areas": null,
       "grid_template_columns": null,
       "grid_template_rows": null,
       "height": null,
       "justify_content": null,
       "justify_items": null,
       "left": null,
       "margin": null,
       "max_height": null,
       "max_width": null,
       "min_height": null,
       "min_width": null,
       "object_fit": null,
       "object_position": null,
       "order": null,
       "overflow": null,
       "overflow_x": null,
       "overflow_y": null,
       "padding": null,
       "right": null,
       "top": null,
       "visibility": null,
       "width": null
      }
     },
     "ca13322e792e40f6bf5586a8d2a0bccb": {
      "model_module": "@jupyter-widgets/base",
      "model_module_version": "1.2.0",
      "model_name": "LayoutModel",
      "state": {
       "_model_module": "@jupyter-widgets/base",
       "_model_module_version": "1.2.0",
       "_model_name": "LayoutModel",
       "_view_count": null,
       "_view_module": "@jupyter-widgets/base",
       "_view_module_version": "1.2.0",
       "_view_name": "LayoutView",
       "align_content": null,
       "align_items": null,
       "align_self": null,
       "border": null,
       "bottom": null,
       "display": null,
       "flex": null,
       "flex_flow": null,
       "grid_area": null,
       "grid_auto_columns": null,
       "grid_auto_flow": null,
       "grid_auto_rows": null,
       "grid_column": null,
       "grid_gap": null,
       "grid_row": null,
       "grid_template_areas": null,
       "grid_template_columns": null,
       "grid_template_rows": null,
       "height": null,
       "justify_content": null,
       "justify_items": null,
       "left": null,
       "margin": null,
       "max_height": null,
       "max_width": null,
       "min_height": null,
       "min_width": null,
       "object_fit": null,
       "object_position": null,
       "order": null,
       "overflow": null,
       "overflow_x": null,
       "overflow_y": null,
       "padding": null,
       "right": null,
       "top": null,
       "visibility": null,
       "width": "20px"
      }
     },
     "ccae98809e2f417c95ca1620d7aa0752": {
      "model_module": "@jupyter-widgets/controls",
      "model_module_version": "1.5.0",
      "model_name": "HBoxModel",
      "state": {
       "_dom_classes": [],
       "_model_module": "@jupyter-widgets/controls",
       "_model_module_version": "1.5.0",
       "_model_name": "HBoxModel",
       "_view_count": null,
       "_view_module": "@jupyter-widgets/controls",
       "_view_module_version": "1.5.0",
       "_view_name": "HBoxView",
       "box_style": "",
       "children": [
        "IPY_MODEL_b870cca97fbe41158b6342c4c6effaf2",
        "IPY_MODEL_181c59093af34793be3553b70a362898",
        "IPY_MODEL_ef42ea1db5164a17b64bad85de6639f9"
       ],
       "layout": "IPY_MODEL_bb90ac3756e844eb8a092f610fe19bda"
      }
     },
     "d0d0dafbf8d64cc4835aa6240bef16e8": {
      "model_module": "@jupyter-widgets/base",
      "model_module_version": "1.2.0",
      "model_name": "LayoutModel",
      "state": {
       "_model_module": "@jupyter-widgets/base",
       "_model_module_version": "1.2.0",
       "_model_name": "LayoutModel",
       "_view_count": null,
       "_view_module": "@jupyter-widgets/base",
       "_view_module_version": "1.2.0",
       "_view_name": "LayoutView",
       "align_content": null,
       "align_items": null,
       "align_self": null,
       "border": null,
       "bottom": null,
       "display": null,
       "flex": null,
       "flex_flow": null,
       "grid_area": null,
       "grid_auto_columns": null,
       "grid_auto_flow": null,
       "grid_auto_rows": null,
       "grid_column": null,
       "grid_gap": null,
       "grid_row": null,
       "grid_template_areas": null,
       "grid_template_columns": null,
       "grid_template_rows": null,
       "height": null,
       "justify_content": null,
       "justify_items": null,
       "left": null,
       "margin": null,
       "max_height": null,
       "max_width": null,
       "min_height": null,
       "min_width": null,
       "object_fit": null,
       "object_position": null,
       "order": null,
       "overflow": null,
       "overflow_x": null,
       "overflow_y": null,
       "padding": null,
       "right": null,
       "top": null,
       "visibility": null,
       "width": null
      }
     },
     "d0e1c854fe314c949a5dc0a8a8cb9ee6": {
      "model_module": "@jupyter-widgets/base",
      "model_module_version": "1.2.0",
      "model_name": "LayoutModel",
      "state": {
       "_model_module": "@jupyter-widgets/base",
       "_model_module_version": "1.2.0",
       "_model_name": "LayoutModel",
       "_view_count": null,
       "_view_module": "@jupyter-widgets/base",
       "_view_module_version": "1.2.0",
       "_view_name": "LayoutView",
       "align_content": null,
       "align_items": null,
       "align_self": null,
       "border": null,
       "bottom": null,
       "display": null,
       "flex": null,
       "flex_flow": null,
       "grid_area": null,
       "grid_auto_columns": null,
       "grid_auto_flow": null,
       "grid_auto_rows": null,
       "grid_column": null,
       "grid_gap": null,
       "grid_row": null,
       "grid_template_areas": null,
       "grid_template_columns": null,
       "grid_template_rows": null,
       "height": null,
       "justify_content": null,
       "justify_items": null,
       "left": null,
       "margin": null,
       "max_height": null,
       "max_width": null,
       "min_height": null,
       "min_width": null,
       "object_fit": null,
       "object_position": null,
       "order": null,
       "overflow": null,
       "overflow_x": null,
       "overflow_y": null,
       "padding": null,
       "right": null,
       "top": null,
       "visibility": null,
       "width": null
      }
     },
     "d23d7a7842ed42e3af468bba27e05e3c": {
      "model_module": "@jupyter-widgets/controls",
      "model_module_version": "1.5.0",
      "model_name": "HBoxModel",
      "state": {
       "_dom_classes": [],
       "_model_module": "@jupyter-widgets/controls",
       "_model_module_version": "1.5.0",
       "_model_name": "HBoxModel",
       "_view_count": null,
       "_view_module": "@jupyter-widgets/controls",
       "_view_module_version": "1.5.0",
       "_view_name": "HBoxView",
       "box_style": "",
       "children": [
        "IPY_MODEL_3c9af0900bfb40689c1912691b0e46da",
        "IPY_MODEL_b78ce67d9f8542fe89737fb8acb28f41",
        "IPY_MODEL_982290e149114ebca168b5e31e9bb108"
       ],
       "layout": "IPY_MODEL_e4b097fd02c345dc8e7fdcb9c54d52e8"
      }
     },
     "d25339c7a7d348bbb764fa25088c6204": {
      "model_module": "@jupyter-widgets/base",
      "model_module_version": "1.2.0",
      "model_name": "LayoutModel",
      "state": {
       "_model_module": "@jupyter-widgets/base",
       "_model_module_version": "1.2.0",
       "_model_name": "LayoutModel",
       "_view_count": null,
       "_view_module": "@jupyter-widgets/base",
       "_view_module_version": "1.2.0",
       "_view_name": "LayoutView",
       "align_content": null,
       "align_items": null,
       "align_self": null,
       "border": null,
       "bottom": null,
       "display": null,
       "flex": null,
       "flex_flow": null,
       "grid_area": null,
       "grid_auto_columns": null,
       "grid_auto_flow": null,
       "grid_auto_rows": null,
       "grid_column": null,
       "grid_gap": null,
       "grid_row": null,
       "grid_template_areas": null,
       "grid_template_columns": null,
       "grid_template_rows": null,
       "height": null,
       "justify_content": null,
       "justify_items": null,
       "left": null,
       "margin": null,
       "max_height": null,
       "max_width": null,
       "min_height": null,
       "min_width": null,
       "object_fit": null,
       "object_position": null,
       "order": null,
       "overflow": null,
       "overflow_x": null,
       "overflow_y": null,
       "padding": null,
       "right": null,
       "top": null,
       "visibility": null,
       "width": null
      }
     },
     "d3ebbfe8d9aa475ba1dcb4078d8fb096": {
      "model_module": "@jupyter-widgets/controls",
      "model_module_version": "1.5.0",
      "model_name": "DescriptionStyleModel",
      "state": {
       "_model_module": "@jupyter-widgets/controls",
       "_model_module_version": "1.5.0",
       "_model_name": "DescriptionStyleModel",
       "_view_count": null,
       "_view_module": "@jupyter-widgets/base",
       "_view_module_version": "1.2.0",
       "_view_name": "StyleView",
       "description_width": ""
      }
     },
     "d3f4780352ee4d08b01b974fffc0a4d1": {
      "model_module": "@jupyter-widgets/controls",
      "model_module_version": "1.5.0",
      "model_name": "DescriptionStyleModel",
      "state": {
       "_model_module": "@jupyter-widgets/controls",
       "_model_module_version": "1.5.0",
       "_model_name": "DescriptionStyleModel",
       "_view_count": null,
       "_view_module": "@jupyter-widgets/base",
       "_view_module_version": "1.2.0",
       "_view_name": "StyleView",
       "description_width": ""
      }
     },
     "d7494e7d18624ab1a1760328a43dd896": {
      "model_module": "@jupyter-widgets/controls",
      "model_module_version": "1.5.0",
      "model_name": "ProgressStyleModel",
      "state": {
       "_model_module": "@jupyter-widgets/controls",
       "_model_module_version": "1.5.0",
       "_model_name": "ProgressStyleModel",
       "_view_count": null,
       "_view_module": "@jupyter-widgets/base",
       "_view_module_version": "1.2.0",
       "_view_name": "StyleView",
       "bar_color": null,
       "description_width": ""
      }
     },
     "d995766b23d049a3aec1a5181858a723": {
      "model_module": "@jupyter-widgets/base",
      "model_module_version": "1.2.0",
      "model_name": "LayoutModel",
      "state": {
       "_model_module": "@jupyter-widgets/base",
       "_model_module_version": "1.2.0",
       "_model_name": "LayoutModel",
       "_view_count": null,
       "_view_module": "@jupyter-widgets/base",
       "_view_module_version": "1.2.0",
       "_view_name": "LayoutView",
       "align_content": null,
       "align_items": null,
       "align_self": null,
       "border": null,
       "bottom": null,
       "display": null,
       "flex": null,
       "flex_flow": null,
       "grid_area": null,
       "grid_auto_columns": null,
       "grid_auto_flow": null,
       "grid_auto_rows": null,
       "grid_column": null,
       "grid_gap": null,
       "grid_row": null,
       "grid_template_areas": null,
       "grid_template_columns": null,
       "grid_template_rows": null,
       "height": null,
       "justify_content": null,
       "justify_items": null,
       "left": null,
       "margin": null,
       "max_height": null,
       "max_width": null,
       "min_height": null,
       "min_width": null,
       "object_fit": null,
       "object_position": null,
       "order": null,
       "overflow": null,
       "overflow_x": null,
       "overflow_y": null,
       "padding": null,
       "right": null,
       "top": null,
       "visibility": null,
       "width": null
      }
     },
     "e0f0b7f45d62485d9c549ea226b785e2": {
      "model_module": "@jupyter-widgets/base",
      "model_module_version": "1.2.0",
      "model_name": "LayoutModel",
      "state": {
       "_model_module": "@jupyter-widgets/base",
       "_model_module_version": "1.2.0",
       "_model_name": "LayoutModel",
       "_view_count": null,
       "_view_module": "@jupyter-widgets/base",
       "_view_module_version": "1.2.0",
       "_view_name": "LayoutView",
       "align_content": null,
       "align_items": null,
       "align_self": null,
       "border": null,
       "bottom": null,
       "display": null,
       "flex": null,
       "flex_flow": null,
       "grid_area": null,
       "grid_auto_columns": null,
       "grid_auto_flow": null,
       "grid_auto_rows": null,
       "grid_column": null,
       "grid_gap": null,
       "grid_row": null,
       "grid_template_areas": null,
       "grid_template_columns": null,
       "grid_template_rows": null,
       "height": null,
       "justify_content": null,
       "justify_items": null,
       "left": null,
       "margin": null,
       "max_height": null,
       "max_width": null,
       "min_height": null,
       "min_width": null,
       "object_fit": null,
       "object_position": null,
       "order": null,
       "overflow": null,
       "overflow_x": null,
       "overflow_y": null,
       "padding": null,
       "right": null,
       "top": null,
       "visibility": null,
       "width": null
      }
     },
     "e166863ee4f644a6a31e48524a2ab810": {
      "model_module": "@jupyter-widgets/base",
      "model_module_version": "1.2.0",
      "model_name": "LayoutModel",
      "state": {
       "_model_module": "@jupyter-widgets/base",
       "_model_module_version": "1.2.0",
       "_model_name": "LayoutModel",
       "_view_count": null,
       "_view_module": "@jupyter-widgets/base",
       "_view_module_version": "1.2.0",
       "_view_name": "LayoutView",
       "align_content": null,
       "align_items": null,
       "align_self": null,
       "border": null,
       "bottom": null,
       "display": null,
       "flex": null,
       "flex_flow": null,
       "grid_area": null,
       "grid_auto_columns": null,
       "grid_auto_flow": null,
       "grid_auto_rows": null,
       "grid_column": null,
       "grid_gap": null,
       "grid_row": null,
       "grid_template_areas": null,
       "grid_template_columns": null,
       "grid_template_rows": null,
       "height": null,
       "justify_content": null,
       "justify_items": null,
       "left": null,
       "margin": null,
       "max_height": null,
       "max_width": null,
       "min_height": null,
       "min_width": null,
       "object_fit": null,
       "object_position": null,
       "order": null,
       "overflow": null,
       "overflow_x": null,
       "overflow_y": null,
       "padding": null,
       "right": null,
       "top": null,
       "visibility": null,
       "width": null
      }
     },
     "e1b05d058d194fefa2519b5194863c21": {
      "model_module": "@jupyter-widgets/base",
      "model_module_version": "1.2.0",
      "model_name": "LayoutModel",
      "state": {
       "_model_module": "@jupyter-widgets/base",
       "_model_module_version": "1.2.0",
       "_model_name": "LayoutModel",
       "_view_count": null,
       "_view_module": "@jupyter-widgets/base",
       "_view_module_version": "1.2.0",
       "_view_name": "LayoutView",
       "align_content": null,
       "align_items": null,
       "align_self": null,
       "border": null,
       "bottom": null,
       "display": null,
       "flex": null,
       "flex_flow": null,
       "grid_area": null,
       "grid_auto_columns": null,
       "grid_auto_flow": null,
       "grid_auto_rows": null,
       "grid_column": null,
       "grid_gap": null,
       "grid_row": null,
       "grid_template_areas": null,
       "grid_template_columns": null,
       "grid_template_rows": null,
       "height": null,
       "justify_content": null,
       "justify_items": null,
       "left": null,
       "margin": null,
       "max_height": null,
       "max_width": null,
       "min_height": null,
       "min_width": null,
       "object_fit": null,
       "object_position": null,
       "order": null,
       "overflow": null,
       "overflow_x": null,
       "overflow_y": null,
       "padding": null,
       "right": null,
       "top": null,
       "visibility": null,
       "width": null
      }
     },
     "e4b097fd02c345dc8e7fdcb9c54d52e8": {
      "model_module": "@jupyter-widgets/base",
      "model_module_version": "1.2.0",
      "model_name": "LayoutModel",
      "state": {
       "_model_module": "@jupyter-widgets/base",
       "_model_module_version": "1.2.0",
       "_model_name": "LayoutModel",
       "_view_count": null,
       "_view_module": "@jupyter-widgets/base",
       "_view_module_version": "1.2.0",
       "_view_name": "LayoutView",
       "align_content": null,
       "align_items": null,
       "align_self": null,
       "border": null,
       "bottom": null,
       "display": null,
       "flex": null,
       "flex_flow": null,
       "grid_area": null,
       "grid_auto_columns": null,
       "grid_auto_flow": null,
       "grid_auto_rows": null,
       "grid_column": null,
       "grid_gap": null,
       "grid_row": null,
       "grid_template_areas": null,
       "grid_template_columns": null,
       "grid_template_rows": null,
       "height": null,
       "justify_content": null,
       "justify_items": null,
       "left": null,
       "margin": null,
       "max_height": null,
       "max_width": null,
       "min_height": null,
       "min_width": null,
       "object_fit": null,
       "object_position": null,
       "order": null,
       "overflow": null,
       "overflow_x": null,
       "overflow_y": null,
       "padding": null,
       "right": null,
       "top": null,
       "visibility": null,
       "width": null
      }
     },
     "e6729c35407d4e308e52e578d8076284": {
      "model_module": "@jupyter-widgets/base",
      "model_module_version": "1.2.0",
      "model_name": "LayoutModel",
      "state": {
       "_model_module": "@jupyter-widgets/base",
       "_model_module_version": "1.2.0",
       "_model_name": "LayoutModel",
       "_view_count": null,
       "_view_module": "@jupyter-widgets/base",
       "_view_module_version": "1.2.0",
       "_view_name": "LayoutView",
       "align_content": null,
       "align_items": null,
       "align_self": null,
       "border": null,
       "bottom": null,
       "display": null,
       "flex": null,
       "flex_flow": null,
       "grid_area": null,
       "grid_auto_columns": null,
       "grid_auto_flow": null,
       "grid_auto_rows": null,
       "grid_column": null,
       "grid_gap": null,
       "grid_row": null,
       "grid_template_areas": null,
       "grid_template_columns": null,
       "grid_template_rows": null,
       "height": null,
       "justify_content": null,
       "justify_items": null,
       "left": null,
       "margin": null,
       "max_height": null,
       "max_width": null,
       "min_height": null,
       "min_width": null,
       "object_fit": null,
       "object_position": null,
       "order": null,
       "overflow": null,
       "overflow_x": null,
       "overflow_y": null,
       "padding": null,
       "right": null,
       "top": null,
       "visibility": null,
       "width": null
      }
     },
     "e98a18143edc4dccae6b4b03471b7811": {
      "model_module": "@jupyter-widgets/controls",
      "model_module_version": "1.5.0",
      "model_name": "HBoxModel",
      "state": {
       "_dom_classes": [],
       "_model_module": "@jupyter-widgets/controls",
       "_model_module_version": "1.5.0",
       "_model_name": "HBoxModel",
       "_view_count": null,
       "_view_module": "@jupyter-widgets/controls",
       "_view_module_version": "1.5.0",
       "_view_name": "HBoxView",
       "box_style": "",
       "children": [
        "IPY_MODEL_33b5f5c8e936416e9521ada7dbf444ba",
        "IPY_MODEL_0739fb0826a7409594580e62c1ecbbd2",
        "IPY_MODEL_fe9cacdc547f4196a380c40cf66bba2d"
       ],
       "layout": "IPY_MODEL_88561b4653224ee6b6ab1fb29c978f30"
      }
     },
     "ef42ea1db5164a17b64bad85de6639f9": {
      "model_module": "@jupyter-widgets/controls",
      "model_module_version": "1.5.0",
      "model_name": "HTMLModel",
      "state": {
       "_dom_classes": [],
       "_model_module": "@jupyter-widgets/controls",
       "_model_module_version": "1.5.0",
       "_model_name": "HTMLModel",
       "_view_count": null,
       "_view_module": "@jupyter-widgets/controls",
       "_view_module_version": "1.5.0",
       "_view_name": "HTMLView",
       "description": "",
       "description_tooltip": null,
       "layout": "IPY_MODEL_d0e1c854fe314c949a5dc0a8a8cb9ee6",
       "placeholder": "​",
       "style": "IPY_MODEL_6e6a51d3ac0b435db2b8c4dabab48607",
       "value": " 313/313 [00:26&lt;00:00, 12.82it/s]"
      }
     },
     "f21e1145c18a4f52a9f3f24b11e52390": {
      "model_module": "@jupyter-widgets/controls",
      "model_module_version": "1.5.0",
      "model_name": "DescriptionStyleModel",
      "state": {
       "_model_module": "@jupyter-widgets/controls",
       "_model_module_version": "1.5.0",
       "_model_name": "DescriptionStyleModel",
       "_view_count": null,
       "_view_module": "@jupyter-widgets/base",
       "_view_module_version": "1.2.0",
       "_view_name": "StyleView",
       "description_width": ""
      }
     },
     "f6ac21531fe5477eac3b8729ae99e2fd": {
      "model_module": "@jupyter-widgets/controls",
      "model_module_version": "1.5.0",
      "model_name": "ProgressStyleModel",
      "state": {
       "_model_module": "@jupyter-widgets/controls",
       "_model_module_version": "1.5.0",
       "_model_name": "ProgressStyleModel",
       "_view_count": null,
       "_view_module": "@jupyter-widgets/base",
       "_view_module_version": "1.2.0",
       "_view_name": "StyleView",
       "bar_color": null,
       "description_width": ""
      }
     },
     "fe9cacdc547f4196a380c40cf66bba2d": {
      "model_module": "@jupyter-widgets/controls",
      "model_module_version": "1.5.0",
      "model_name": "HTMLModel",
      "state": {
       "_dom_classes": [],
       "_model_module": "@jupyter-widgets/controls",
       "_model_module_version": "1.5.0",
       "_model_name": "HTMLModel",
       "_view_count": null,
       "_view_module": "@jupyter-widgets/controls",
       "_view_module_version": "1.5.0",
       "_view_name": "HTMLView",
       "description": "",
       "description_tooltip": null,
       "layout": "IPY_MODEL_4e196510e9054d56ad51d8604e88f216",
       "placeholder": "​",
       "style": "IPY_MODEL_69dab5b735f6403da4cbd7d3ede0a1b9",
       "value": " 570/570 [00:00&lt;00:00, 22.3kB/s]"
      }
     },
     "ff7db92ea1cd488499f4e91e5073e884": {
      "model_module": "@jupyter-widgets/base",
      "model_module_version": "1.2.0",
      "model_name": "LayoutModel",
      "state": {
       "_model_module": "@jupyter-widgets/base",
       "_model_module_version": "1.2.0",
       "_model_name": "LayoutModel",
       "_view_count": null,
       "_view_module": "@jupyter-widgets/base",
       "_view_module_version": "1.2.0",
       "_view_name": "LayoutView",
       "align_content": null,
       "align_items": null,
       "align_self": null,
       "border": null,
       "bottom": null,
       "display": null,
       "flex": null,
       "flex_flow": null,
       "grid_area": null,
       "grid_auto_columns": null,
       "grid_auto_flow": null,
       "grid_auto_rows": null,
       "grid_column": null,
       "grid_gap": null,
       "grid_row": null,
       "grid_template_areas": null,
       "grid_template_columns": null,
       "grid_template_rows": null,
       "height": null,
       "justify_content": null,
       "justify_items": null,
       "left": null,
       "margin": null,
       "max_height": null,
       "max_width": null,
       "min_height": null,
       "min_width": null,
       "object_fit": null,
       "object_position": null,
       "order": null,
       "overflow": null,
       "overflow_x": null,
       "overflow_y": null,
       "padding": null,
       "right": null,
       "top": null,
       "visibility": null,
       "width": null
      }
     }
    },
    "version_major": 2,
    "version_minor": 0
   }
  }
 },
 "nbformat": 4,
 "nbformat_minor": 5
}
