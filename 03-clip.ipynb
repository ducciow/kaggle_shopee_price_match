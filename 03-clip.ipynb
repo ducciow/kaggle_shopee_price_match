{
 "cells": [
  {
   "cell_type": "markdown",
   "metadata": {
    "papermill": {
     "duration": 0.017706,
     "end_time": "2022-10-22T06:40:09.041361",
     "exception": false,
     "start_time": "2022-10-22T06:40:09.023655",
     "status": "completed"
    },
    "tags": []
   },
   "source": [
    "Reference: https://www.kaggle.com/code/bguberfain/openai-clip-with-train"
   ]
  },
  {
   "cell_type": "code",
   "execution_count": 1,
   "metadata": {
    "_kg_hide-input": true,
    "_kg_hide-output": true,
    "execution": {
     "iopub.execute_input": "2022-10-22T06:40:09.081942Z",
     "iopub.status.busy": "2022-10-22T06:40:09.081293Z",
     "iopub.status.idle": "2022-10-22T06:41:38.015710Z",
     "shell.execute_reply": "2022-10-22T06:41:38.016243Z",
     "shell.execute_reply.started": "2022-10-20T11:54:18.923915Z"
    },
    "papermill": {
     "duration": 88.959447,
     "end_time": "2022-10-22T06:41:38.016631",
     "exception": false,
     "start_time": "2022-10-22T06:40:09.057184",
     "status": "completed"
    },
    "tags": []
   },
   "outputs": [],
   "source": [
    "%%capture\n",
    "\n",
    "import sys\n",
    "!cp -r ../input/openai-clip/CLIP/CLIP-main /tmp/\n",
    "\n",
    "!gzip -c /tmp/CLIP-main/clip/bpe_simple_vocab_16e6.txt > /tmp/CLIP-main/clip/bpe_simple_vocab_16e6.txt.gz\n",
    "sys.path.append('/tmp/CLIP-main')\n",
    "\n",
    "!pip install ../input/openai-clip/ftfy-5.9/ftfy-5.9 \\\n",
    "             ../input/openai-clip/torch-1.7.1+cu110-cp37-cp37m-linux_x86_64.whl \\\n",
    "             ../input/openai-clip/torchvision-0.8.2+cu110-cp37-cp37m-linux_x86_64.whl \\\n",
    "             ../input/faiss-163/faiss_gpu-1.6.3-cp37-cp37m-manylinux2010_x86_64.whl"
   ]
  },
  {
   "cell_type": "code",
   "execution_count": 2,
   "metadata": {
    "_cell_guid": "b1076dfc-b9ad-4769-8c92-a6c4dae69d19",
    "_uuid": "8f2839f25d086af736a60e9eeb907d3b93b6e0e5",
    "execution": {
     "iopub.execute_input": "2022-10-22T06:41:38.058527Z",
     "iopub.status.busy": "2022-10-22T06:41:38.056993Z",
     "iopub.status.idle": "2022-10-22T06:41:39.180552Z",
     "shell.execute_reply": "2022-10-22T06:41:39.179965Z",
     "shell.execute_reply.started": "2022-10-20T11:55:46.143499Z"
    },
    "papermill": {
     "duration": 1.147403,
     "end_time": "2022-10-22T06:41:39.180708",
     "exception": false,
     "start_time": "2022-10-22T06:41:38.033305",
     "status": "completed"
    },
    "tags": []
   },
   "outputs": [],
   "source": [
    "import numpy as np\n",
    "import pandas as pd\n",
    "import torch\n",
    "from torch.utils.data import Dataset, DataLoader\n",
    "from torch.utils.data.sampler import Sampler\n",
    "import clip\n",
    "from clip.simple_tokenizer import SimpleTokenizer\n",
    "from PIL import Image\n",
    "from pathlib import Path\n",
    "from tqdm.auto import tqdm\n",
    "import re\n",
    "import faiss  # for similarity search and clustering of dense vectors\n",
    "import matplotlib.pyplot as plt\n",
    "from triplet_loss import TripletLoss\n",
    "\n",
    "%matplotlib inline"
   ]
  },
  {
   "cell_type": "code",
   "execution_count": 3,
   "metadata": {
    "execution": {
     "iopub.execute_input": "2022-10-22T06:41:39.220303Z",
     "iopub.status.busy": "2022-10-22T06:41:39.219703Z",
     "iopub.status.idle": "2022-10-22T06:41:39.248815Z",
     "shell.execute_reply": "2022-10-22T06:41:39.248274Z",
     "shell.execute_reply.started": "2022-10-20T11:55:47.170851Z"
    },
    "papermill": {
     "duration": 0.052563,
     "end_time": "2022-10-22T06:41:39.248967",
     "exception": false,
     "start_time": "2022-10-22T06:41:39.196404",
     "status": "completed"
    },
    "tags": []
   },
   "outputs": [],
   "source": [
    "df_test = pd.read_csv('../input/shopee-product-matching/test.csv', index_col='posting_id')\n",
    "\n",
    "RUN_ON_TRAIN = len(df_test) == 3"
   ]
  },
  {
   "cell_type": "markdown",
   "metadata": {
    "papermill": {
     "duration": 0.014478,
     "end_time": "2022-10-22T06:41:39.278959",
     "exception": false,
     "start_time": "2022-10-22T06:41:39.264481",
     "status": "completed"
    },
    "tags": []
   },
   "source": [
    "### Utility classes and functions"
   ]
  },
  {
   "cell_type": "code",
   "execution_count": 4,
   "metadata": {
    "execution": {
     "iopub.execute_input": "2022-10-22T06:41:39.317470Z",
     "iopub.status.busy": "2022-10-22T06:41:39.316650Z",
     "iopub.status.idle": "2022-10-22T06:41:39.448563Z",
     "shell.execute_reply": "2022-10-22T06:41:39.447973Z",
     "shell.execute_reply.started": "2022-10-20T11:55:47.192021Z"
    },
    "papermill": {
     "duration": 0.153655,
     "end_time": "2022-10-22T06:41:39.448724",
     "exception": false,
     "start_time": "2022-10-22T06:41:39.295069",
     "status": "completed"
    },
    "tags": []
   },
   "outputs": [],
   "source": [
    "_tokenizer = SimpleTokenizer()\n",
    "\n",
    "# Copied from https://github.com/openai/CLIP/blob/beba48f35392a73c6c47ae67ddffced81ad1916d/clip/clip.py#L164\n",
    "# but with relaxed exception\n",
    "def tokenize(texts, context_length: int = 77) -> torch.LongTensor:\n",
    "    if isinstance(texts, str):\n",
    "        texts = [texts]\n",
    "\n",
    "    sot_token = _tokenizer.encoder[\"<|startoftext|>\"]\n",
    "    eot_token = _tokenizer.encoder[\"<|endoftext|>\"]\n",
    "    all_tokens = [[sot_token] + _tokenizer.encode(text) + [eot_token] for text in texts]\n",
    "    result = torch.zeros(len(all_tokens), context_length, dtype=torch.long)\n",
    "\n",
    "    for i, tokens in enumerate(all_tokens):\n",
    "        n = min(len(tokens), context_length)\n",
    "        result[i, :n] = torch.tensor(tokens)[:n]\n",
    "        if len(tokens) > context_length:\n",
    "            result[i, -1] = tokens[-1]\n",
    "\n",
    "    return result"
   ]
  },
  {
   "cell_type": "code",
   "execution_count": 5,
   "metadata": {
    "execution": {
     "iopub.execute_input": "2022-10-22T06:41:39.486722Z",
     "iopub.status.busy": "2022-10-22T06:41:39.485940Z",
     "iopub.status.idle": "2022-10-22T06:41:39.489855Z",
     "shell.execute_reply": "2022-10-22T06:41:39.489372Z",
     "shell.execute_reply.started": "2022-10-20T11:55:47.316907Z"
    },
    "papermill": {
     "duration": 0.024749,
     "end_time": "2022-10-22T06:41:39.489993",
     "exception": false,
     "start_time": "2022-10-22T06:41:39.465244",
     "status": "completed"
    },
    "tags": []
   },
   "outputs": [],
   "source": [
    "# Remove EMOJI\n",
    "RE_EMOJI = re.compile(r\"\\\\x[A-Za-z0-9./]+\", flags=re.UNICODE)\n",
    "\n",
    "def strip_emoji(text):\n",
    "    return RE_EMOJI.sub(r'', text)"
   ]
  },
  {
   "cell_type": "code",
   "execution_count": 6,
   "metadata": {
    "execution": {
     "iopub.execute_input": "2022-10-22T06:41:39.530231Z",
     "iopub.status.busy": "2022-10-22T06:41:39.529351Z",
     "iopub.status.idle": "2022-10-22T06:41:39.531986Z",
     "shell.execute_reply": "2022-10-22T06:41:39.532620Z",
     "shell.execute_reply.started": "2022-10-20T11:55:47.324038Z"
    },
    "papermill": {
     "duration": 0.026634,
     "end_time": "2022-10-22T06:41:39.532784",
     "exception": false,
     "start_time": "2022-10-22T06:41:39.506150",
     "status": "completed"
    },
    "tags": []
   },
   "outputs": [],
   "source": [
    "class RollingMean():\n",
    "    def __init__(self):\n",
    "        self.n = 0\n",
    "        self.mean = 0\n",
    "        \n",
    "    def update(self, value):\n",
    "        self.mean = (self.mean * self.n + value) / (self.n+1)\n",
    "        self.n += 1\n",
    "        \n",
    "    def result(self):\n",
    "        return self.mean"
   ]
  },
  {
   "cell_type": "markdown",
   "metadata": {
    "papermill": {
     "duration": 0.016051,
     "end_time": "2022-10-22T06:41:39.565441",
     "exception": false,
     "start_time": "2022-10-22T06:41:39.549390",
     "status": "completed"
    },
    "tags": []
   },
   "source": [
    "### Sampler and dataset"
   ]
  },
  {
   "cell_type": "code",
   "execution_count": 7,
   "metadata": {
    "execution": {
     "iopub.execute_input": "2022-10-22T06:41:39.606005Z",
     "iopub.status.busy": "2022-10-22T06:41:39.605199Z",
     "iopub.status.idle": "2022-10-22T06:41:39.608455Z",
     "shell.execute_reply": "2022-10-22T06:41:39.607824Z",
     "shell.execute_reply.started": "2022-10-20T11:55:47.337135Z"
    },
    "papermill": {
     "duration": 0.026809,
     "end_time": "2022-10-22T06:41:39.608591",
     "exception": false,
     "start_time": "2022-10-22T06:41:39.581782",
     "status": "completed"
    },
    "tags": []
   },
   "outputs": [],
   "source": [
    "# to make sure that in every batch, two samples of the same group are always present\n",
    "# which is required by Triplet SemiHardLoss (https://github.com/alfonmedela/triplet-loss-pytorch/blob/master/loss_functions/triplet_loss.py)\n",
    "\n",
    "class SameGroupSampler(Sampler):\n",
    "    def __init__(self, df ,ds):\n",
    "        super().__init__(ds)\n",
    "        \n",
    "        # Create a dictionary of posting_id -> index in dataset\n",
    "        self.index_to_position = dict(zip(df.index, range(len(df))))\n",
    "        \n",
    "        # Create a Series of label_group -> set(posting_id)\n",
    "        self.label_group = df.reset_index().groupby('label_group')['posting_id'].apply(set).map(sorted).map(np.array)\n",
    "\n",
    "    def __len__(self):\n",
    "        return len(self.label_group)\n",
    "        \n",
    "    def __iter__(self):\n",
    "        for _ in range(len(self)):\n",
    "            # Sample one label_group\n",
    "            label_group_sample = self.label_group.sample(1).iloc[0]\n",
    "            \n",
    "            # Sample two posting_id's\n",
    "            sample1, sample2 = np.random.choice(label_group_sample, 2, replace=False)\n",
    "            \n",
    "            yield self.index_to_position[sample1]\n",
    "            yield self.index_to_position[sample2]            "
   ]
  },
  {
   "cell_type": "code",
   "execution_count": 8,
   "metadata": {
    "execution": {
     "iopub.execute_input": "2022-10-22T06:41:39.647592Z",
     "iopub.status.busy": "2022-10-22T06:41:39.646799Z",
     "iopub.status.idle": "2022-10-22T06:41:39.650029Z",
     "shell.execute_reply": "2022-10-22T06:41:39.649561Z",
     "shell.execute_reply.started": "2022-10-20T11:55:47.348343Z"
    },
    "papermill": {
     "duration": 0.025664,
     "end_time": "2022-10-22T06:41:39.650200",
     "exception": false,
     "start_time": "2022-10-22T06:41:39.624536",
     "status": "completed"
    },
    "tags": []
   },
   "outputs": [],
   "source": [
    "class MyDataset(Dataset):\n",
    "    def __init__(self, df, images_path):\n",
    "        super().__init__()\n",
    "        self.df = df\n",
    "        self.images_path = images_path\n",
    "        self.has_target = ('label_group' in df)\n",
    "        \n",
    "    def __len__(self):\n",
    "        return len(self.df)\n",
    "    \n",
    "    def __getitem__(self, idx):\n",
    "        row = self.df.iloc[idx]\n",
    "        \n",
    "        image = preprocess(Image.open(self.images_path / row['image']))\n",
    "        text = tokenize([strip_emoji(row['title'])])[0]\n",
    "        \n",
    "        if self.has_target:\n",
    "            return image, text, row['label_group']\n",
    "        else:\n",
    "            return image, text, 0"
   ]
  },
  {
   "cell_type": "markdown",
   "metadata": {
    "papermill": {
     "duration": 0.014887,
     "end_time": "2022-10-22T06:41:39.680051",
     "exception": false,
     "start_time": "2022-10-22T06:41:39.665164",
     "status": "completed"
    },
    "tags": []
   },
   "source": [
    "## Finetune CLIP on train data\n",
    "\n",
    "Here we use the triplet loss principe to ajust CLIP:\n",
    "\n",
    "![Triplet loss](https://user-images.githubusercontent.com/18154355/61485418-1cbb1f00-a96f-11e9-8de8-3c46eef5a7dc.png)"
   ]
  },
  {
   "cell_type": "code",
   "execution_count": 9,
   "metadata": {
    "execution": {
     "iopub.execute_input": "2022-10-22T06:41:39.717321Z",
     "iopub.status.busy": "2022-10-22T06:41:39.716667Z",
     "iopub.status.idle": "2022-10-22T06:41:48.146540Z",
     "shell.execute_reply": "2022-10-22T06:41:48.147104Z",
     "shell.execute_reply.started": "2022-10-20T11:55:47.361240Z"
    },
    "papermill": {
     "duration": 8.45149,
     "end_time": "2022-10-22T06:41:48.147293",
     "exception": false,
     "start_time": "2022-10-22T06:41:39.695803",
     "status": "completed"
    },
    "tags": []
   },
   "outputs": [
    {
     "data": {
      "text/plain": [
       "512"
      ]
     },
     "execution_count": 9,
     "metadata": {},
     "output_type": "execute_result"
    }
   ],
   "source": [
    "# Load CLIP\n",
    "device = \"cuda\" if torch.cuda.is_available() else \"cpu\"\n",
    "model, preprocess = clip.load(\"../input/openai-clip/ViT-B-32.pt\", device=device, jit=False)\n",
    "\n",
    "# Get embedding size\n",
    "embed_dim = model.text_projection.shape[1]\n",
    "embed_dim"
   ]
  },
  {
   "cell_type": "code",
   "execution_count": 10,
   "metadata": {
    "execution": {
     "iopub.execute_input": "2022-10-22T06:41:48.186432Z",
     "iopub.status.busy": "2022-10-22T06:41:48.185849Z",
     "iopub.status.idle": "2022-10-22T06:41:48.668328Z",
     "shell.execute_reply": "2022-10-22T06:41:48.667767Z",
     "shell.execute_reply.started": "2022-10-20T11:55:56.935290Z"
    },
    "papermill": {
     "duration": 0.504886,
     "end_time": "2022-10-22T06:41:48.668484",
     "exception": false,
     "start_time": "2022-10-22T06:41:48.163598",
     "status": "completed"
    },
    "tags": []
   },
   "outputs": [],
   "source": [
    "# Load train data\n",
    "train_images_path = Path('../input/shopee-product-matching/train_images')\n",
    "\n",
    "df_train = pd.read_csv('../input/shopee-product-matching/train.csv', index_col='posting_id')\n",
    "\n",
    "dstrain = MyDataset(df_train, train_images_path)\n",
    "dltrain = DataLoader(dstrain, batch_size=128, num_workers=2, sampler=SameGroupSampler(df_train, dstrain))"
   ]
  },
  {
   "cell_type": "code",
   "execution_count": 11,
   "metadata": {
    "execution": {
     "iopub.execute_input": "2022-10-22T06:41:48.706837Z",
     "iopub.status.busy": "2022-10-22T06:41:48.706013Z",
     "iopub.status.idle": "2022-10-22T06:41:58.491594Z",
     "shell.execute_reply": "2022-10-22T06:41:58.492014Z",
     "shell.execute_reply.started": "2022-10-20T11:55:57.388833Z"
    },
    "papermill": {
     "duration": 9.807369,
     "end_time": "2022-10-22T06:41:58.492253",
     "exception": false,
     "start_time": "2022-10-22T06:41:48.684884",
     "status": "completed"
    },
    "tags": []
   },
   "outputs": [
    {
     "name": "stdout",
     "output_type": "stream",
     "text": [
      "label_group in one batch:\n",
      "[2209994116 2209994116]\n",
      "[1287470540 1287470540]\n",
      "[2885752806 2885752806]\n",
      "[3170502392 3170502392]\n",
      "[2724853036 2724853036]\n",
      "[3727750590 3727750590]\n",
      "[430501350 430501350]\n",
      "[4008024672 4008024672]\n",
      "[2157423883 2157423883]\n",
      "[1198315635 1198315635]\n",
      "[3763036039 3763036039]\n",
      "[3661312991 3661312991]\n",
      "[1779408602 1779408602]\n",
      "[847854913 847854913]\n",
      "[4103124262 4103124262]\n",
      "[3136889376 3136889376]\n",
      "[1461239259 1461239259]\n",
      "[3713968593 3713968593]\n",
      "[1947359892 1947359892]\n",
      "[3784808595 3784808595]\n",
      "[1682488100 1682488100]\n",
      "[3566522501 3566522501]\n",
      "[4114962237 4114962237]\n",
      "[1542179482 1542179482]\n",
      "[2779526092 2779526092]\n",
      "[3242646592 3242646592]\n",
      "[1850007430 1850007430]\n",
      "[2091479370 2091479370]\n",
      "[3678349373 3678349373]\n",
      "[2384596174 2384596174]\n",
      "[3699648654 3699648654]\n",
      "[3424584900 3424584900]\n",
      "[3925954645 3925954645]\n",
      "[1571631297 1571631297]\n",
      "[4086252188 4086252188]\n",
      "[3156823611 3156823611]\n",
      "[2898255895 2898255895]\n",
      "[705729218 705729218]\n",
      "[3671283483 3671283483]\n",
      "[3596008611 3596008611]\n",
      "[4203412919 4203412919]\n",
      "[2951799757 2951799757]\n",
      "[1429371944 1429371944]\n",
      "[2094617093 2094617093]\n",
      "[1503383993 1503383993]\n",
      "[3274495236 3274495236]\n",
      "[2248671498 2248671498]\n",
      "[3578235866 3578235866]\n",
      "[1835591307 1835591307]\n",
      "[3691961493 3691961493]\n",
      "[3309830291 3309830291]\n",
      "[3530882111 3530882111]\n",
      "[359468572 359468572]\n",
      "[2096005797 2096005797]\n",
      "[2286870056 2286870056]\n",
      "[3171624737 3171624737]\n",
      "[2656848782 2656848782]\n",
      "[3234804620 3234804620]\n",
      "[4086252188 4086252188]\n",
      "[2968084237 2968084237]\n",
      "[2155806999 2155806999]\n",
      "[3890044804 3890044804]\n",
      "[3132560288 3132560288]\n",
      "[2788192088 2788192088]\n"
     ]
    }
   ],
   "source": [
    "# a demonstration of the sampler result\n",
    "for i, d in enumerate(dltrain):\n",
    "    if i > 0:\n",
    "        break\n",
    "    label_group = d[2].numpy()\n",
    "    \n",
    "    print(\"label_group in one batch:\")\n",
    "    for idx in range(0, 128, 2):\n",
    "        print(label_group[idx : idx+2])"
   ]
  },
  {
   "cell_type": "code",
   "execution_count": 12,
   "metadata": {
    "execution": {
     "iopub.execute_input": "2022-10-22T06:41:58.537484Z",
     "iopub.status.busy": "2022-10-22T06:41:58.536643Z",
     "iopub.status.idle": "2022-10-22T06:41:58.540119Z",
     "shell.execute_reply": "2022-10-22T06:41:58.539625Z",
     "shell.execute_reply.started": "2022-10-20T05:39:46.840876Z"
    },
    "papermill": {
     "duration": 0.031054,
     "end_time": "2022-10-22T06:41:58.540293",
     "exception": false,
     "start_time": "2022-10-22T06:41:58.509239",
     "status": "completed"
    },
    "tags": []
   },
   "outputs": [],
   "source": [
    "n_epochs = 1\n",
    "\n",
    "optim = torch.optim.AdamW(model.parameters(), lr=1e-4, eps=1e-8, weight_decay=1e-2)\n",
    "scheduler = torch.optim.lr_scheduler.OneCycleLR(optim, 1e-2, total_steps=n_epochs * (2*len(dltrain)-1),\n",
    "                                               base_momentum=0.0, max_momentum=0.5, pct_start=0.1, div_factor=1e2, final_div_factor=1e4)\n",
    "criterion = TripletLoss(device)"
   ]
  },
  {
   "cell_type": "code",
   "execution_count": 13,
   "metadata": {
    "execution": {
     "iopub.execute_input": "2022-10-22T06:41:58.605501Z",
     "iopub.status.busy": "2022-10-22T06:41:58.579744Z",
     "iopub.status.idle": "2022-10-22T06:49:07.636125Z",
     "shell.execute_reply": "2022-10-22T06:49:07.635605Z",
     "shell.execute_reply.started": "2022-10-20T05:40:28.678160Z"
    },
    "papermill": {
     "duration": 429.079393,
     "end_time": "2022-10-22T06:49:07.636303",
     "exception": false,
     "start_time": "2022-10-22T06:41:58.556910",
     "status": "completed"
    },
    "tags": []
   },
   "outputs": [
    {
     "data": {
      "application/vnd.jupyter.widget-view+json": {
       "model_id": "0f272eb41c4f4725a9405d98dfa8c412",
       "version_major": 2,
       "version_minor": 0
      },
      "text/plain": [
       "  0%|          | 0/173 [00:00<?, ?it/s]"
      ]
     },
     "metadata": {},
     "output_type": "display_data"
    }
   ],
   "source": [
    "for epoch in range(n_epochs):\n",
    "    with tqdm(total=2*len(dltrain)-1) as bar:\n",
    "        loss_mean = RollingMean()\n",
    "        for images, texts, targets in dltrain:\n",
    "            targets = targets.to(device)\n",
    "            \n",
    "            # Generate train and text features\n",
    "            images_features = model.encode_image(images.to(device))\n",
    "            texts_features = model.encode_text(texts.to(device))\n",
    "\n",
    "            optim.zero_grad()\n",
    "\n",
    "            # Join train and test features\n",
    "            features = torch.hstack([images_features, texts_features])\n",
    "            \n",
    "            # L2-normalize features\n",
    "            features = features / features.norm(2, dim=1, keepdim=True)\n",
    "\n",
    "            # Apply Triplet SemiHardLoss\n",
    "            loss = criterion(features, targets)\n",
    "\n",
    "            loss.backward()\n",
    "            optim.step()\n",
    "            scheduler.step()\n",
    "\n",
    "            # Update metric and progress bar\n",
    "            loss_mean.update(loss.item())\n",
    "            bar.update()\n",
    "            bar.set_description('{:.4f}'.format(loss_mean.result()))"
   ]
  },
  {
   "cell_type": "markdown",
   "metadata": {
    "papermill": {
     "duration": 0.016174,
     "end_time": "2022-10-22T06:49:07.669847",
     "exception": false,
     "start_time": "2022-10-22T06:49:07.653673",
     "status": "completed"
    },
    "tags": []
   },
   "source": [
    "Generate features using finetuned CLIP and perform a similiarity search to find the closest matches under a threshold:"
   ]
  },
  {
   "cell_type": "code",
   "execution_count": 14,
   "metadata": {
    "execution": {
     "iopub.execute_input": "2022-10-22T06:49:07.716577Z",
     "iopub.status.busy": "2022-10-22T06:49:07.714660Z",
     "iopub.status.idle": "2022-10-22T06:49:07.717304Z",
     "shell.execute_reply": "2022-10-22T06:49:07.717770Z",
     "shell.execute_reply.started": "2022-10-20T05:47:47.563026Z"
    },
    "papermill": {
     "duration": 0.03066,
     "end_time": "2022-10-22T06:49:07.717942",
     "exception": false,
     "start_time": "2022-10-22T06:49:07.687282",
     "status": "completed"
    },
    "tags": []
   },
   "outputs": [],
   "source": [
    "def find_similarities_and_indexes(df, images_path, top_n=100, features_file=None):\n",
    "    # Create pytorch Dataset/DataLoader\n",
    "    ds = MyDataset(df, images_path)\n",
    "    dl = DataLoader(ds, batch_size=32, shuffle=False, num_workers=2)\n",
    "\n",
    "    # Allocate memory for features\n",
    "    features = np.empty((len(df), 2*embed_dim), dtype=np.float32)\n",
    "\n",
    "    i = 0\n",
    "    for images, texts, _ in tqdm(dl):\n",
    "        n = len(images)\n",
    "        with torch.no_grad():\n",
    "            # Generate image and text features\n",
    "            images_features = model.encode_image(images.to(device))\n",
    "            texts_features = model.encode_text(texts.to(device))\n",
    "\n",
    "        # Concat features\n",
    "        features[i:i+n, :embed_dim] = images_features.cpu()\n",
    "        features[i:i+n, embed_dim:] = texts_features.cpu()\n",
    "\n",
    "        i += n\n",
    "\n",
    "    # Option to save these features (may be usefull to tune cut value)\n",
    "    if features_file is not None:\n",
    "        np.save(features_file, features)\n",
    "\n",
    "    # l2-normalize\n",
    "    features /= np.linalg.norm(features, 2, axis=1, keepdims=True)\n",
    "\n",
    "    # Create index\n",
    "    index = faiss.IndexFlatIP(2*embed_dim)\n",
    "    index.add(features)\n",
    "\n",
    "    # Search index\n",
    "    return index.search(features, top_n)\n",
    "\n",
    "    # TODO: try range_search\n",
    "    # lims, similarities, indexes = index_test.range_search(test_features, GROUP_CUT)"
   ]
  },
  {
   "cell_type": "code",
   "execution_count": 15,
   "metadata": {
    "execution": {
     "iopub.execute_input": "2022-10-22T06:49:07.760104Z",
     "iopub.status.busy": "2022-10-22T06:49:07.758999Z",
     "iopub.status.idle": "2022-10-22T06:59:57.560908Z",
     "shell.execute_reply": "2022-10-22T06:59:57.561354Z",
     "shell.execute_reply.started": "2022-10-20T05:47:50.548701Z"
    },
    "papermill": {
     "duration": 649.826599,
     "end_time": "2022-10-22T06:59:57.561522",
     "exception": false,
     "start_time": "2022-10-22T06:49:07.734923",
     "status": "completed"
    },
    "tags": []
   },
   "outputs": [
    {
     "data": {
      "application/vnd.jupyter.widget-view+json": {
       "model_id": "2e28b93160f04742803f442b88dbe8b7",
       "version_major": 2,
       "version_minor": 0
      },
      "text/plain": [
       "  0%|          | 0/1071 [00:00<?, ?it/s]"
      ]
     },
     "metadata": {},
     "output_type": "display_data"
    },
    {
     "data": {
      "image/png": "[encoded data removed]",
      "text/plain": [
       "<Figure size 720x360 with 1 Axes>"
      ]
     },
     "metadata": {
      "needs_background": "light"
     },
     "output_type": "display_data"
    }
   ],
   "source": [
    "if RUN_ON_TRAIN:\n",
    "    # Perform search of similiar items\n",
    "    similarities, indexes = find_similarities_and_indexes(df_train, train_images_path, features_file='features-no-norm.npy')\n",
    "    \n",
    "    # `similarities` will have shape (n, 100) and will have the similarites scores for closest matches.\n",
    "    # `indexes` will have shape (n, 100) and have the index closest matches.\n",
    "    # Both arrays are aligned.\n",
    "\n",
    "    # Convert index to groups, will have shape (n, 100)\n",
    "    found_groups = df_train['label_group'].values[indexes]\n",
    "\n",
    "    # Check if matches are from same group. Will create a boolean vector of (n, 100)\n",
    "    is_same_group = (found_groups == df_train['label_group'].values[:, np.newaxis])\n",
    "\n",
    "    # Plot similarities score from same group and different groups\n",
    "    plt.figure(figsize=(10, 5))\n",
    "    plt.hist([similarities[is_same_group], similarities[~is_same_group]], density=False, bins=51,\n",
    "         label=['Same group', 'Different group'], histtype='stepfilled', alpha=0.75)\n",
    "    plt.xlim(0, 1)\n",
    "    plt.xlabel('Similarity score')\n",
    "    plt.legend();"
   ]
  },
  {
   "cell_type": "markdown",
   "metadata": {
    "papermill": {
     "duration": 0.017971,
     "end_time": "2022-10-22T06:59:57.597417",
     "exception": false,
     "start_time": "2022-10-22T06:59:57.579446",
     "status": "completed"
    },
    "tags": []
   },
   "source": [
    "Move the `cut_value` to find optimal F1-score."
   ]
  },
  {
   "cell_type": "code",
   "execution_count": 16,
   "metadata": {
    "execution": {
     "iopub.execute_input": "2022-10-22T06:59:57.644035Z",
     "iopub.status.busy": "2022-10-22T06:59:57.643068Z",
     "iopub.status.idle": "2022-10-22T06:59:57.645658Z",
     "shell.execute_reply": "2022-10-22T06:59:57.646129Z"
    },
    "papermill": {
     "duration": 0.030822,
     "end_time": "2022-10-22T06:59:57.646331",
     "exception": false,
     "start_time": "2022-10-22T06:59:57.615509",
     "status": "completed"
    },
    "tags": []
   },
   "outputs": [],
   "source": [
    "# SRC: https://www.kaggle.com/c/shopee-product-matching/discussion/224782#1233338\n",
    "# With some adaptation\n",
    "def row_wise_f1_score(y_true, y_pred):\n",
    "    tp = np.array([len(x[0] & x[1]) for x in zip(y_true, y_pred)])\n",
    "    fp = y_pred.apply(lambda x: len(x)).values - tp\n",
    "    fn = y_true.apply(lambda x: len(x)).values - tp\n",
    "\n",
    "    precision = tp / (tp + fp)\n",
    "    recall = tp / (tp + fn)\n",
    "    f1 = 2 * ((precision * recall) / (precision + recall))\n",
    "    return f1\n",
    "\n",
    "\n",
    "def calc_score(cut_value):\n",
    "    # Apply cutoff of similarities\n",
    "    groups_are_same = (similarities > cut_value)\n",
    "\n",
    "    # Build results\n",
    "    results = []\n",
    "    for i, (group_is_same, index_result) in enumerate(zip(groups_are_same, indexes)):\n",
    "        row_results = df_train.index[index_result[group_is_same]]\n",
    "\n",
    "        # Keep found matches as a `set`\n",
    "        results.append(set(row_results))\n",
    "\n",
    "    df_results = pd.Series(results, index=df_answer.index)\n",
    "    \n",
    "    # Evaluate results\n",
    "    return row_wise_f1_score(df_answer, df_results).mean()"
   ]
  },
  {
   "cell_type": "code",
   "execution_count": 17,
   "metadata": {
    "execution": {
     "iopub.execute_input": "2022-10-22T06:59:57.689989Z",
     "iopub.status.busy": "2022-10-22T06:59:57.688846Z",
     "iopub.status.idle": "2022-10-22T07:00:20.248943Z",
     "shell.execute_reply": "2022-10-22T07:00:20.248509Z"
    },
    "papermill": {
     "duration": 22.584355,
     "end_time": "2022-10-22T07:00:20.249076",
     "exception": false,
     "start_time": "2022-10-22T06:59:57.664721",
     "status": "completed"
    },
    "tags": []
   },
   "outputs": [
    {
     "data": {
      "application/vnd.jupyter.widget-view+json": {
       "model_id": "7832d99116b1440fa154e625ea962f57",
       "version_major": 2,
       "version_minor": 0
      },
      "text/plain": [
       "  0%|          | 0/51 [00:00<?, ?it/s]"
      ]
     },
     "metadata": {},
     "output_type": "display_data"
    },
    {
     "name": "stderr",
     "output_type": "stream",
     "text": [
      "/opt/conda/lib/python3.7/site-packages/ipykernel_launcher.py:8: RuntimeWarning: invalid value encountered in true_divide\n",
      "  \n"
     ]
    },
    {
     "name": "stdout",
     "output_type": "stream",
     "text": [
      "Best cutoff is 0.50 with expected F1 score of nan\n"
     ]
    },
    {
     "data": {
      "image/png": "[encoded data removed]",
      "text/plain": [
       "<Figure size 432x288 with 1 Axes>"
      ]
     },
     "metadata": {
      "needs_background": "light"
     },
     "output_type": "display_data"
    }
   ],
   "source": [
    "if RUN_ON_TRAIN:\n",
    "    # Create answer dataframe. This will have posting_id on index and a set of label_group as values \n",
    "    groups = df_train.reset_index().groupby('label_group')['posting_id'].apply(set)\n",
    "    df_answer = df_train['label_group'].map(groups)\n",
    "\n",
    "    # Cut values to evaluate\n",
    "    cuts = np.linspace(0.5, 0.95, 51)\n",
    "    scores = [calc_score(c) for c in tqdm(cuts)]\n",
    "\n",
    "    # Plot curve\n",
    "    plt.plot(cuts, scores)\n",
    "    plt.xlabel('Cutoff value')\n",
    "    plt.ylabel('F1 score')\n",
    "\n",
    "    print('Best cutoff is {:.2f} with expected F1 score of {:.4f}'.format(cuts[np.argmax(scores)], max(scores)))"
   ]
  },
  {
   "cell_type": "markdown",
   "metadata": {
    "papermill": {
     "duration": 0.018949,
     "end_time": "2022-10-22T07:00:20.286777",
     "exception": false,
     "start_time": "2022-10-22T07:00:20.267828",
     "status": "completed"
    },
    "tags": []
   },
   "source": [
    "## Run on test"
   ]
  },
  {
   "cell_type": "code",
   "execution_count": 18,
   "metadata": {
    "execution": {
     "iopub.execute_input": "2022-10-22T07:00:20.328298Z",
     "iopub.status.busy": "2022-10-22T07:00:20.327720Z",
     "iopub.status.idle": "2022-10-22T07:00:20.331868Z",
     "shell.execute_reply": "2022-10-22T07:00:20.331402Z"
    },
    "papermill": {
     "duration": 0.026671,
     "end_time": "2022-10-22T07:00:20.331998",
     "exception": false,
     "start_time": "2022-10-22T07:00:20.305327",
     "status": "completed"
    },
    "tags": []
   },
   "outputs": [],
   "source": [
    "GROUP_CUT = 0.71\n",
    "\n",
    "test_images_path = Path('../input/shopee-product-matching/test_images')"
   ]
  },
  {
   "cell_type": "code",
   "execution_count": 19,
   "metadata": {
    "execution": {
     "iopub.execute_input": "2022-10-22T07:00:20.376862Z",
     "iopub.status.busy": "2022-10-22T07:00:20.376280Z",
     "iopub.status.idle": "2022-10-22T07:00:20.803733Z",
     "shell.execute_reply": "2022-10-22T07:00:20.802897Z"
    },
    "papermill": {
     "duration": 0.452501,
     "end_time": "2022-10-22T07:00:20.803969",
     "exception": false,
     "start_time": "2022-10-22T07:00:20.351468",
     "status": "completed"
    },
    "tags": []
   },
   "outputs": [
    {
     "data": {
      "application/vnd.jupyter.widget-view+json": {
       "model_id": "4c6e2c3a28a9403193a7d797a59e5512",
       "version_major": 2,
       "version_minor": 0
      },
      "text/plain": [
       "  0%|          | 0/1 [00:00<?, ?it/s]"
      ]
     },
     "metadata": {},
     "output_type": "display_data"
    }
   ],
   "source": [
    "# Find similar matches\n",
    "similarities, indexes = find_similarities_and_indexes(df_test, test_images_path)\n",
    "\n",
    "# Apply cutoff of similiarites\n",
    "test_are_same_groups = (similarities > GROUP_CUT)"
   ]
  },
  {
   "cell_type": "code",
   "execution_count": 20,
   "metadata": {
    "execution": {
     "iopub.execute_input": "2022-10-22T07:00:20.855357Z",
     "iopub.status.busy": "2022-10-22T07:00:20.854394Z",
     "iopub.status.idle": "2022-10-22T07:00:20.863895Z",
     "shell.execute_reply": "2022-10-22T07:00:20.863462Z"
    },
    "papermill": {
     "duration": 0.038823,
     "end_time": "2022-10-22T07:00:20.864021",
     "exception": false,
     "start_time": "2022-10-22T07:00:20.825198",
     "status": "completed"
    },
    "tags": []
   },
   "outputs": [],
   "source": [
    "# Build submission\n",
    "results = []\n",
    "\n",
    "for i, (test_is_same_group, index_result) in enumerate(zip(test_are_same_groups, indexes)):\n",
    "    row_results = set(df_test.index[index_result[test_is_same_group]])\n",
    "    \n",
    "    results.append({\n",
    "        'posting_id': df_test.index[i],\n",
    "        'matches': ' '.join(row_results)\n",
    "    })\n",
    "    \n",
    "df_sub = pd.DataFrame(results)"
   ]
  },
  {
   "cell_type": "code",
   "execution_count": 21,
   "metadata": {
    "execution": {
     "iopub.execute_input": "2022-10-22T07:00:20.906229Z",
     "iopub.status.busy": "2022-10-22T07:00:20.905644Z",
     "iopub.status.idle": "2022-10-22T07:00:21.287711Z",
     "shell.execute_reply": "2022-10-22T07:00:21.287150Z"
    },
    "papermill": {
     "duration": 0.405011,
     "end_time": "2022-10-22T07:00:21.287849",
     "exception": false,
     "start_time": "2022-10-22T07:00:20.882838",
     "status": "completed"
    },
    "tags": []
   },
   "outputs": [],
   "source": [
    "df_sub.to_csv('submission.csv', index=False)"
   ]
  }
 ],
 "metadata": {
  "kernelspec": {
   "display_name": "Python 3",
   "language": "python",
   "name": "python3"
  },
  "language_info": {
   "codemirror_mode": {
    "name": "ipython",
    "version": 3
   },
   "file_extension": ".py",
   "mimetype": "text/x-python",
   "name": "python",
   "nbconvert_exporter": "python",
   "pygments_lexer": "ipython3",
   "version": "3.7.9"
  },
  "papermill": {
   "default_parameters": {},
   "duration": 1218.568278,
   "end_time": "2022-10-22T07:00:22.622560",
   "environment_variables": {},
   "exception": null,
   "input_path": "__notebook__.ipynb",
   "output_path": "__notebook__.ipynb",
   "parameters": {},
   "start_time": "2022-10-22T06:40:04.054282",
   "version": "2.2.2"
  },
  "widgets": {
   "application/vnd.jupyter.widget-state+json": {
    "state": {
     "051ca2eb37c8459b86070eaf74bbf787": {
      "model_module": "@jupyter-widgets/controls",
      "model_module_version": "1.5.0",
      "model_name": "FloatProgressModel",
      "state": {
       "_dom_classes": [],
       "_model_module": "@jupyter-widgets/controls",
       "_model_module_version": "1.5.0",
       "_model_name": "FloatProgressModel",
       "_view_count": null,
       "_view_module": "@jupyter-widgets/controls",
       "_view_module_version": "1.5.0",
       "_view_name": "ProgressView",
       "bar_style": "success",
       "description": "",
       "description_tooltip": null,
       "layout": "IPY_MODEL_3ff25209c6f94481bb6ac3a25f868dd6",
       "max": 1.0,
       "min": 0.0,
       "orientation": "horizontal",
       "style": "IPY_MODEL_85cdb57d0404460faf2daafcac8b4505",
       "value": 1.0
      }
     },
     "061f5a720b444e7d8ecb7d5cc2bc724d": {
      "model_module": "@jupyter-widgets/controls",
      "model_module_version": "1.5.0",
      "model_name": "FloatProgressModel",
      "state": {
       "_dom_classes": [],
       "_model_module": "@jupyter-widgets/controls",
       "_model_module_version": "1.5.0",
       "_model_name": "FloatProgressModel",
       "_view_count": null,
       "_view_module": "@jupyter-widgets/controls",
       "_view_module_version": "1.5.0",
       "_view_name": "ProgressView",
       "bar_style": "success",
       "description": "",
       "description_tooltip": null,
       "layout": "IPY_MODEL_2cb11856b6d04d3b934a06e05a1d9be3",
       "max": 173.0,
       "min": 0.0,
       "orientation": "horizontal",
       "style": "IPY_MODEL_2c68698259b0423c802be33024091f72",
       "value": 173.0
      }
     },
     "0c947063b3184d158ab9b4be3e80a2d3": {
      "model_module": "@jupyter-widgets/controls",
      "model_module_version": "1.5.0",
      "model_name": "HTMLModel",
      "state": {
       "_dom_classes": [],
       "_model_module": "@jupyter-widgets/controls",
       "_model_module_version": "1.5.0",
       "_model_name": "HTMLModel",
       "_view_count": null,
       "_view_module": "@jupyter-widgets/controls",
       "_view_module_version": "1.5.0",
       "_view_name": "HTMLView",
       "description": "",
       "description_tooltip": null,
       "layout": "IPY_MODEL_f71a90a93b8d436b82bd273545911647",
       "placeholder": "​",
       "style": "IPY_MODEL_2cfd775e39a64152b101120f48f27c81",
       "value": " 1/1 [00:00&lt;00:00,  2.89it/s]"
      }
     },
     "0f272eb41c4f4725a9405d98dfa8c412": {
      "model_module": "@jupyter-widgets/controls",
      "model_module_version": "1.5.0",
      "model_name": "HBoxModel",
      "state": {
       "_dom_classes": [],
       "_model_module": "@jupyter-widgets/controls",
       "_model_module_version": "1.5.0",
       "_model_name": "HBoxModel",
       "_view_count": null,
       "_view_module": "@jupyter-widgets/controls",
       "_view_module_version": "1.5.0",
       "_view_name": "HBoxView",
       "box_style": "",
       "children": [
        "IPY_MODEL_f15f20ff19514fefb064374750df57de",
        "IPY_MODEL_061f5a720b444e7d8ecb7d5cc2bc724d",
        "IPY_MODEL_602bdf5418224045830de2dda9543c2b"
       ],
       "layout": "IPY_MODEL_8593c74bc37248bf8a18a9d915f36b0e"
      }
     },
     "104da0125786469a95140ed9a5e57246": {
      "model_module": "@jupyter-widgets/controls",
      "model_module_version": "1.5.0",
      "model_name": "HTMLModel",
      "state": {
       "_dom_classes": [],
       "_model_module": "@jupyter-widgets/controls",
       "_model_module_version": "1.5.0",
       "_model_name": "HTMLModel",
       "_view_count": null,
       "_view_module": "@jupyter-widgets/controls",
       "_view_module_version": "1.5.0",
       "_view_name": "HTMLView",
       "description": "",
       "description_tooltip": null,
       "layout": "IPY_MODEL_5a35e4aa0ac5439e83f8ee903de7a442",
       "placeholder": "​",
       "style": "IPY_MODEL_793f3074a0114409a7a088484d52292a",
       "value": "100%"
      }
     },
     "193f25b1d5074fc1ab012e34aac6999d": {
      "model_module": "@jupyter-widgets/base",
      "model_module_version": "1.2.0",
      "model_name": "LayoutModel",
      "state": {
       "_model_module": "@jupyter-widgets/base",
       "_model_module_version": "1.2.0",
       "_model_name": "LayoutModel",
       "_view_count": null,
       "_view_module": "@jupyter-widgets/base",
       "_view_module_version": "1.2.0",
       "_view_name": "LayoutView",
       "align_content": null,
       "align_items": null,
       "align_self": null,
       "border": null,
       "bottom": null,
       "display": null,
       "flex": null,
       "flex_flow": null,
       "grid_area": null,
       "grid_auto_columns": null,
       "grid_auto_flow": null,
       "grid_auto_rows": null,
       "grid_column": null,
       "grid_gap": null,
       "grid_row": null,
       "grid_template_areas": null,
       "grid_template_columns": null,
       "grid_template_rows": null,
       "height": null,
       "justify_content": null,
       "justify_items": null,
       "left": null,
       "margin": null,
       "max_height": null,
       "max_width": null,
       "min_height": null,
       "min_width": null,
       "object_fit": null,
       "object_position": null,
       "order": null,
       "overflow": null,
       "overflow_x": null,
       "overflow_y": null,
       "padding": null,
       "right": null,
       "top": null,
       "visibility": null,
       "width": null
      }
     },
     "1ca3cfee2a584c009264efa2dcc23b1b": {
      "model_module": "@jupyter-widgets/base",
      "model_module_version": "1.2.0",
      "model_name": "LayoutModel",
      "state": {
       "_model_module": "@jupyter-widgets/base",
       "_model_module_version": "1.2.0",
       "_model_name": "LayoutModel",
       "_view_count": null,
       "_view_module": "@jupyter-widgets/base",
       "_view_module_version": "1.2.0",
       "_view_name": "LayoutView",
       "align_content": null,
       "align_items": null,
       "align_self": null,
       "border": null,
       "bottom": null,
       "display": null,
       "flex": null,
       "flex_flow": null,
       "grid_area": null,
       "grid_auto_columns": null,
       "grid_auto_flow": null,
       "grid_auto_rows": null,
       "grid_column": null,
       "grid_gap": null,
       "grid_row": null,
       "grid_template_areas": null,
       "grid_template_columns": null,
       "grid_template_rows": null,
       "height": null,
       "justify_content": null,
       "justify_items": null,
       "left": null,
       "margin": null,
       "max_height": null,
       "max_width": null,
       "min_height": null,
       "min_width": null,
       "object_fit": null,
       "object_position": null,
       "order": null,
       "overflow": null,
       "overflow_x": null,
       "overflow_y": null,
       "padding": null,
       "right": null,
       "top": null,
       "visibility": null,
       "width": null
      }
     },
     "2b5e21b6ede744cbb34b278a6493ad85": {
      "model_module": "@jupyter-widgets/base",
      "model_module_version": "1.2.0",
      "model_name": "LayoutModel",
      "state": {
       "_model_module": "@jupyter-widgets/base",
       "_model_module_version": "1.2.0",
       "_model_name": "LayoutModel",
       "_view_count": null,
       "_view_module": "@jupyter-widgets/base",
       "_view_module_version": "1.2.0",
       "_view_name": "LayoutView",
       "align_content": null,
       "align_items": null,
       "align_self": null,
       "border": null,
       "bottom": null,
       "display": null,
       "flex": null,
       "flex_flow": null,
       "grid_area": null,
       "grid_auto_columns": null,
       "grid_auto_flow": null,
       "grid_auto_rows": null,
       "grid_column": null,
       "grid_gap": null,
       "grid_row": null,
       "grid_template_areas": null,
       "grid_template_columns": null,
       "grid_template_rows": null,
       "height": null,
       "justify_content": null,
       "justify_items": null,
       "left": null,
       "margin": null,
       "max_height": null,
       "max_width": null,
       "min_height": null,
       "min_width": null,
       "object_fit": null,
       "object_position": null,
       "order": null,
       "overflow": null,
       "overflow_x": null,
       "overflow_y": null,
       "padding": null,
       "right": null,
       "top": null,
       "visibility": null,
       "width": null
      }
     },
     "2c68698259b0423c802be33024091f72": {
      "model_module": "@jupyter-widgets/controls",
      "model_module_version": "1.5.0",
      "model_name": "ProgressStyleModel",
      "state": {
       "_model_module": "@jupyter-widgets/controls",
       "_model_module_version": "1.5.0",
       "_model_name": "ProgressStyleModel",
       "_view_count": null,
       "_view_module": "@jupyter-widgets/base",
       "_view_module_version": "1.2.0",
       "_view_name": "StyleView",
       "bar_color": null,
       "description_width": ""
      }
     },
     "2cb11856b6d04d3b934a06e05a1d9be3": {
      "model_module": "@jupyter-widgets/base",
      "model_module_version": "1.2.0",
      "model_name": "LayoutModel",
      "state": {
       "_model_module": "@jupyter-widgets/base",
       "_model_module_version": "1.2.0",
       "_model_name": "LayoutModel",
       "_view_count": null,
       "_view_module": "@jupyter-widgets/base",
       "_view_module_version": "1.2.0",
       "_view_name": "LayoutView",
       "align_content": null,
       "align_items": null,
       "align_self": null,
       "border": null,
       "bottom": null,
       "display": null,
       "flex": null,
       "flex_flow": null,
       "grid_area": null,
       "grid_auto_columns": null,
       "grid_auto_flow": null,
       "grid_auto_rows": null,
       "grid_column": null,
       "grid_gap": null,
       "grid_row": null,
       "grid_template_areas": null,
       "grid_template_columns": null,
       "grid_template_rows": null,
       "height": null,
       "justify_content": null,
       "justify_items": null,
       "left": null,
       "margin": null,
       "max_height": null,
       "max_width": null,
       "min_height": null,
       "min_width": null,
       "object_fit": null,
       "object_position": null,
       "order": null,
       "overflow": null,
       "overflow_x": null,
       "overflow_y": null,
       "padding": null,
       "right": null,
       "top": null,
       "visibility": null,
       "width": null
      }
     },
     "2cfd775e39a64152b101120f48f27c81": {
      "model_module": "@jupyter-widgets/controls",
      "model_module_version": "1.5.0",
      "model_name": "DescriptionStyleModel",
      "state": {
       "_model_module": "@jupyter-widgets/controls",
       "_model_module_version": "1.5.0",
       "_model_name": "DescriptionStyleModel",
       "_view_count": null,
       "_view_module": "@jupyter-widgets/base",
       "_view_module_version": "1.2.0",
       "_view_name": "StyleView",
       "description_width": ""
      }
     },
     "2e28b93160f04742803f442b88dbe8b7": {
      "model_module": "@jupyter-widgets/controls",
      "model_module_version": "1.5.0",
      "model_name": "HBoxModel",
      "state": {
       "_dom_classes": [],
       "_model_module": "@jupyter-widgets/controls",
       "_model_module_version": "1.5.0",
       "_model_name": "HBoxModel",
       "_view_count": null,
       "_view_module": "@jupyter-widgets/controls",
       "_view_module_version": "1.5.0",
       "_view_name": "HBoxView",
       "box_style": "",
       "children": [
        "IPY_MODEL_104da0125786469a95140ed9a5e57246",
        "IPY_MODEL_4583a949f54747edb22ca3fbeb1cf436",
        "IPY_MODEL_9ce0fb032dfa407c90b7d0072a9d00fa"
       ],
       "layout": "IPY_MODEL_50f6bfeecb4245c7afcda4780be0eec2"
      }
     },
     "3006a042175644f4be8ea586ee03b425": {
      "model_module": "@jupyter-widgets/controls",
      "model_module_version": "1.5.0",
      "model_name": "DescriptionStyleModel",
      "state": {
       "_model_module": "@jupyter-widgets/controls",
       "_model_module_version": "1.5.0",
       "_model_name": "DescriptionStyleModel",
       "_view_count": null,
       "_view_module": "@jupyter-widgets/base",
       "_view_module_version": "1.2.0",
       "_view_name": "StyleView",
       "description_width": ""
      }
     },
     "336ad6ef09ac4cd4bcf9d994b9622c89": {
      "model_module": "@jupyter-widgets/controls",
      "model_module_version": "1.5.0",
      "model_name": "DescriptionStyleModel",
      "state": {
       "_model_module": "@jupyter-widgets/controls",
       "_model_module_version": "1.5.0",
       "_model_name": "DescriptionStyleModel",
       "_view_count": null,
       "_view_module": "@jupyter-widgets/base",
       "_view_module_version": "1.2.0",
       "_view_name": "StyleView",
       "description_width": ""
      }
     },
     "346161b6a853421dbe7eddb447d4f9d1": {
      "model_module": "@jupyter-widgets/controls",
      "model_module_version": "1.5.0",
      "model_name": "ProgressStyleModel",
      "state": {
       "_model_module": "@jupyter-widgets/controls",
       "_model_module_version": "1.5.0",
       "_model_name": "ProgressStyleModel",
       "_view_count": null,
       "_view_module": "@jupyter-widgets/base",
       "_view_module_version": "1.2.0",
       "_view_name": "StyleView",
       "bar_color": null,
       "description_width": ""
      }
     },
     "361c00b29bc74202b9b198aacdada4a4": {
      "model_module": "@jupyter-widgets/base",
      "model_module_version": "1.2.0",
      "model_name": "LayoutModel",
      "state": {
       "_model_module": "@jupyter-widgets/base",
       "_model_module_version": "1.2.0",
       "_model_name": "LayoutModel",
       "_view_count": null,
       "_view_module": "@jupyter-widgets/base",
       "_view_module_version": "1.2.0",
       "_view_name": "LayoutView",
       "align_content": null,
       "align_items": null,
       "align_self": null,
       "border": null,
       "bottom": null,
       "display": null,
       "flex": null,
       "flex_flow": null,
       "grid_area": null,
       "grid_auto_columns": null,
       "grid_auto_flow": null,
       "grid_auto_rows": null,
       "grid_column": null,
       "grid_gap": null,
       "grid_row": null,
       "grid_template_areas": null,
       "grid_template_columns": null,
       "grid_template_rows": null,
       "height": null,
       "justify_content": null,
       "justify_items": null,
       "left": null,
       "margin": null,
       "max_height": null,
       "max_width": null,
       "min_height": null,
       "min_width": null,
       "object_fit": null,
       "object_position": null,
       "order": null,
       "overflow": null,
       "overflow_x": null,
       "overflow_y": null,
       "padding": null,
       "right": null,
       "top": null,
       "visibility": null,
       "width": null
      }
     },
     "3933f17b65e149fcaa2ece37a25f3d6d": {
      "model_module": "@jupyter-widgets/controls",
      "model_module_version": "1.5.0",
      "model_name": "DescriptionStyleModel",
      "state": {
       "_model_module": "@jupyter-widgets/controls",
       "_model_module_version": "1.5.0",
       "_model_name": "DescriptionStyleModel",
       "_view_count": null,
       "_view_module": "@jupyter-widgets/base",
       "_view_module_version": "1.2.0",
       "_view_name": "StyleView",
       "description_width": ""
      }
     },
     "3ff25209c6f94481bb6ac3a25f868dd6": {
      "model_module": "@jupyter-widgets/base",
      "model_module_version": "1.2.0",
      "model_name": "LayoutModel",
      "state": {
       "_model_module": "@jupyter-widgets/base",
       "_model_module_version": "1.2.0",
       "_model_name": "LayoutModel",
       "_view_count": null,
       "_view_module": "@jupyter-widgets/base",
       "_view_module_version": "1.2.0",
       "_view_name": "LayoutView",
       "align_content": null,
       "align_items": null,
       "align_self": null,
       "border": null,
       "bottom": null,
       "display": null,
       "flex": null,
       "flex_flow": null,
       "grid_area": null,
       "grid_auto_columns": null,
       "grid_auto_flow": null,
       "grid_auto_rows": null,
       "grid_column": null,
       "grid_gap": null,
       "grid_row": null,
       "grid_template_areas": null,
       "grid_template_columns": null,
       "grid_template_rows": null,
       "height": null,
       "justify_content": null,
       "justify_items": null,
       "left": null,
       "margin": null,
       "max_height": null,
       "max_width": null,
       "min_height": null,
       "min_width": null,
       "object_fit": null,
       "object_position": null,
       "order": null,
       "overflow": null,
       "overflow_x": null,
       "overflow_y": null,
       "padding": null,
       "right": null,
       "top": null,
       "visibility": null,
       "width": null
      }
     },
     "4583a949f54747edb22ca3fbeb1cf436": {
      "model_module": "@jupyter-widgets/controls",
      "model_module_version": "1.5.0",
      "model_name": "FloatProgressModel",
      "state": {
       "_dom_classes": [],
       "_model_module": "@jupyter-widgets/controls",
       "_model_module_version": "1.5.0",
       "_model_name": "FloatProgressModel",
       "_view_count": null,
       "_view_module": "@jupyter-widgets/controls",
       "_view_module_version": "1.5.0",
       "_view_name": "ProgressView",
       "bar_style": "success",
       "description": "",
       "description_tooltip": null,
       "layout": "IPY_MODEL_2b5e21b6ede744cbb34b278a6493ad85",
       "max": 1071.0,
       "min": 0.0,
       "orientation": "horizontal",
       "style": "IPY_MODEL_d713d1f342064d2dbf90e633d0479c2f",
       "value": 1071.0
      }
     },
     "4c6e2c3a28a9403193a7d797a59e5512": {
      "model_module": "@jupyter-widgets/controls",
      "model_module_version": "1.5.0",
      "model_name": "HBoxModel",
      "state": {
       "_dom_classes": [],
       "_model_module": "@jupyter-widgets/controls",
       "_model_module_version": "1.5.0",
       "_model_name": "HBoxModel",
       "_view_count": null,
       "_view_module": "@jupyter-widgets/controls",
       "_view_module_version": "1.5.0",
       "_view_name": "HBoxView",
       "box_style": "",
       "children": [
        "IPY_MODEL_570ac574fc5b4fc7ab48971845e97a1e",
        "IPY_MODEL_051ca2eb37c8459b86070eaf74bbf787",
        "IPY_MODEL_0c947063b3184d158ab9b4be3e80a2d3"
       ],
       "layout": "IPY_MODEL_4f5c115a4a1b4ef8ba57ed9253c771bc"
      }
     },
     "4f5c115a4a1b4ef8ba57ed9253c771bc": {
      "model_module": "@jupyter-widgets/base",
      "model_module_version": "1.2.0",
      "model_name": "LayoutModel",
      "state": {
       "_model_module": "@jupyter-widgets/base",
       "_model_module_version": "1.2.0",
       "_model_name": "LayoutModel",
       "_view_count": null,
       "_view_module": "@jupyter-widgets/base",
       "_view_module_version": "1.2.0",
       "_view_name": "LayoutView",
       "align_content": null,
       "align_items": null,
       "align_self": null,
       "border": null,
       "bottom": null,
       "display": null,
       "flex": null,
       "flex_flow": null,
       "grid_area": null,
       "grid_auto_columns": null,
       "grid_auto_flow": null,
       "grid_auto_rows": null,
       "grid_column": null,
       "grid_gap": null,
       "grid_row": null,
       "grid_template_areas": null,
       "grid_template_columns": null,
       "grid_template_rows": null,
       "height": null,
       "justify_content": null,
       "justify_items": null,
       "left": null,
       "margin": null,
       "max_height": null,
       "max_width": null,
       "min_height": null,
       "min_width": null,
       "object_fit": null,
       "object_position": null,
       "order": null,
       "overflow": null,
       "overflow_x": null,
       "overflow_y": null,
       "padding": null,
       "right": null,
       "top": null,
       "visibility": null,
       "width": null
      }
     },
     "50f6bfeecb4245c7afcda4780be0eec2": {
      "model_module": "@jupyter-widgets/base",
      "model_module_version": "1.2.0",
      "model_name": "LayoutModel",
      "state": {
       "_model_module": "@jupyter-widgets/base",
       "_model_module_version": "1.2.0",
       "_model_name": "LayoutModel",
       "_view_count": null,
       "_view_module": "@jupyter-widgets/base",
       "_view_module_version": "1.2.0",
       "_view_name": "LayoutView",
       "align_content": null,
       "align_items": null,
       "align_self": null,
       "border": null,
       "bottom": null,
       "display": null,
       "flex": null,
       "flex_flow": null,
       "grid_area": null,
       "grid_auto_columns": null,
       "grid_auto_flow": null,
       "grid_auto_rows": null,
       "grid_column": null,
       "grid_gap": null,
       "grid_row": null,
       "grid_template_areas": null,
       "grid_template_columns": null,
       "grid_template_rows": null,
       "height": null,
       "justify_content": null,
       "justify_items": null,
       "left": null,
       "margin": null,
       "max_height": null,
       "max_width": null,
       "min_height": null,
       "min_width": null,
       "object_fit": null,
       "object_position": null,
       "order": null,
       "overflow": null,
       "overflow_x": null,
       "overflow_y": null,
       "padding": null,
       "right": null,
       "top": null,
       "visibility": null,
       "width": null
      }
     },
     "570ac574fc5b4fc7ab48971845e97a1e": {
      "model_module": "@jupyter-widgets/controls",
      "model_module_version": "1.5.0",
      "model_name": "HTMLModel",
      "state": {
       "_dom_classes": [],
       "_model_module": "@jupyter-widgets/controls",
       "_model_module_version": "1.5.0",
       "_model_name": "HTMLModel",
       "_view_count": null,
       "_view_module": "@jupyter-widgets/controls",
       "_view_module_version": "1.5.0",
       "_view_name": "HTMLView",
       "description": "",
       "description_tooltip": null,
       "layout": "IPY_MODEL_e846f1d1d7ca44959c19e2c38e1911fa",
       "placeholder": "​",
       "style": "IPY_MODEL_9918a70386354963959da0e62c3d1ae1",
       "value": "100%"
      }
     },
     "5a35e4aa0ac5439e83f8ee903de7a442": {
      "model_module": "@jupyter-widgets/base",
      "model_module_version": "1.2.0",
      "model_name": "LayoutModel",
      "state": {
       "_model_module": "@jupyter-widgets/base",
       "_model_module_version": "1.2.0",
       "_model_name": "LayoutModel",
       "_view_count": null,
       "_view_module": "@jupyter-widgets/base",
       "_view_module_version": "1.2.0",
       "_view_name": "LayoutView",
       "align_content": null,
       "align_items": null,
       "align_self": null,
       "border": null,
       "bottom": null,
       "display": null,
       "flex": null,
       "flex_flow": null,
       "grid_area": null,
       "grid_auto_columns": null,
       "grid_auto_flow": null,
       "grid_auto_rows": null,
       "grid_column": null,
       "grid_gap": null,
       "grid_row": null,
       "grid_template_areas": null,
       "grid_template_columns": null,
       "grid_template_rows": null,
       "height": null,
       "justify_content": null,
       "justify_items": null,
       "left": null,
       "margin": null,
       "max_height": null,
       "max_width": null,
       "min_height": null,
       "min_width": null,
       "object_fit": null,
       "object_position": null,
       "order": null,
       "overflow": null,
       "overflow_x": null,
       "overflow_y": null,
       "padding": null,
       "right": null,
       "top": null,
       "visibility": null,
       "width": null
      }
     },
     "602bdf5418224045830de2dda9543c2b": {
      "model_module": "@jupyter-widgets/controls",
      "model_module_version": "1.5.0",
      "model_name": "HTMLModel",
      "state": {
       "_dom_classes": [],
       "_model_module": "@jupyter-widgets/controls",
       "_model_module_version": "1.5.0",
       "_model_name": "HTMLModel",
       "_view_count": null,
       "_view_module": "@jupyter-widgets/controls",
       "_view_module_version": "1.5.0",
       "_view_name": "HTMLView",
       "description": "",
       "description_tooltip": null,
       "layout": "IPY_MODEL_ea3193be23654924952a4e08ba2a349a",
       "placeholder": "​",
       "style": "IPY_MODEL_3933f17b65e149fcaa2ece37a25f3d6d",
       "value": " 173/173 [07:09&lt;00:00,  1.45s/it]"
      }
     },
     "6eb4836009d14db2b5a76bb072da88a6": {
      "model_module": "@jupyter-widgets/base",
      "model_module_version": "1.2.0",
      "model_name": "LayoutModel",
      "state": {
       "_model_module": "@jupyter-widgets/base",
       "_model_module_version": "1.2.0",
       "_model_name": "LayoutModel",
       "_view_count": null,
       "_view_module": "@jupyter-widgets/base",
       "_view_module_version": "1.2.0",
       "_view_name": "LayoutView",
       "align_content": null,
       "align_items": null,
       "align_self": null,
       "border": null,
       "bottom": null,
       "display": null,
       "flex": null,
       "flex_flow": null,
       "grid_area": null,
       "grid_auto_columns": null,
       "grid_auto_flow": null,
       "grid_auto_rows": null,
       "grid_column": null,
       "grid_gap": null,
       "grid_row": null,
       "grid_template_areas": null,
       "grid_template_columns": null,
       "grid_template_rows": null,
       "height": null,
       "justify_content": null,
       "justify_items": null,
       "left": null,
       "margin": null,
       "max_height": null,
       "max_width": null,
       "min_height": null,
       "min_width": null,
       "object_fit": null,
       "object_position": null,
       "order": null,
       "overflow": null,
       "overflow_x": null,
       "overflow_y": null,
       "padding": null,
       "right": null,
       "top": null,
       "visibility": null,
       "width": null
      }
     },
     "7832d99116b1440fa154e625ea962f57": {
      "model_module": "@jupyter-widgets/controls",
      "model_module_version": "1.5.0",
      "model_name": "HBoxModel",
      "state": {
       "_dom_classes": [],
       "_model_module": "@jupyter-widgets/controls",
       "_model_module_version": "1.5.0",
       "_model_name": "HBoxModel",
       "_view_count": null,
       "_view_module": "@jupyter-widgets/controls",
       "_view_module_version": "1.5.0",
       "_view_name": "HBoxView",
       "box_style": "",
       "children": [
        "IPY_MODEL_b091b599bbea4a5190066af9c2841813",
        "IPY_MODEL_e2350a83cae849c5861531e5123601f9",
        "IPY_MODEL_cae85d9f8ff44c77bcf5b332cf08d262"
       ],
       "layout": "IPY_MODEL_6eb4836009d14db2b5a76bb072da88a6"
      }
     },
     "793f3074a0114409a7a088484d52292a": {
      "model_module": "@jupyter-widgets/controls",
      "model_module_version": "1.5.0",
      "model_name": "DescriptionStyleModel",
      "state": {
       "_model_module": "@jupyter-widgets/controls",
       "_model_module_version": "1.5.0",
       "_model_name": "DescriptionStyleModel",
       "_view_count": null,
       "_view_module": "@jupyter-widgets/base",
       "_view_module_version": "1.2.0",
       "_view_name": "StyleView",
       "description_width": ""
      }
     },
     "8593c74bc37248bf8a18a9d915f36b0e": {
      "model_module": "@jupyter-widgets/base",
      "model_module_version": "1.2.0",
      "model_name": "LayoutModel",
      "state": {
       "_model_module": "@jupyter-widgets/base",
       "_model_module_version": "1.2.0",
       "_model_name": "LayoutModel",
       "_view_count": null,
       "_view_module": "@jupyter-widgets/base",
       "_view_module_version": "1.2.0",
       "_view_name": "LayoutView",
       "align_content": null,
       "align_items": null,
       "align_self": null,
       "border": null,
       "bottom": null,
       "display": null,
       "flex": null,
       "flex_flow": null,
       "grid_area": null,
       "grid_auto_columns": null,
       "grid_auto_flow": null,
       "grid_auto_rows": null,
       "grid_column": null,
       "grid_gap": null,
       "grid_row": null,
       "grid_template_areas": null,
       "grid_template_columns": null,
       "grid_template_rows": null,
       "height": null,
       "justify_content": null,
       "justify_items": null,
       "left": null,
       "margin": null,
       "max_height": null,
       "max_width": null,
       "min_height": null,
       "min_width": null,
       "object_fit": null,
       "object_position": null,
       "order": null,
       "overflow": null,
       "overflow_x": null,
       "overflow_y": null,
       "padding": null,
       "right": null,
       "top": null,
       "visibility": null,
       "width": null
      }
     },
     "85cdb57d0404460faf2daafcac8b4505": {
      "model_module": "@jupyter-widgets/controls",
      "model_module_version": "1.5.0",
      "model_name": "ProgressStyleModel",
      "state": {
       "_model_module": "@jupyter-widgets/controls",
       "_model_module_version": "1.5.0",
       "_model_name": "ProgressStyleModel",
       "_view_count": null,
       "_view_module": "@jupyter-widgets/base",
       "_view_module_version": "1.2.0",
       "_view_name": "StyleView",
       "bar_color": null,
       "description_width": ""
      }
     },
     "913de109c90b41dba9dc41174ecec232": {
      "model_module": "@jupyter-widgets/controls",
      "model_module_version": "1.5.0",
      "model_name": "DescriptionStyleModel",
      "state": {
       "_model_module": "@jupyter-widgets/controls",
       "_model_module_version": "1.5.0",
       "_model_name": "DescriptionStyleModel",
       "_view_count": null,
       "_view_module": "@jupyter-widgets/base",
       "_view_module_version": "1.2.0",
       "_view_name": "StyleView",
       "description_width": ""
      }
     },
     "9918a70386354963959da0e62c3d1ae1": {
      "model_module": "@jupyter-widgets/controls",
      "model_module_version": "1.5.0",
      "model_name": "DescriptionStyleModel",
      "state": {
       "_model_module": "@jupyter-widgets/controls",
       "_model_module_version": "1.5.0",
       "_model_name": "DescriptionStyleModel",
       "_view_count": null,
       "_view_module": "@jupyter-widgets/base",
       "_view_module_version": "1.2.0",
       "_view_name": "StyleView",
       "description_width": ""
      }
     },
     "9ae0dd0ebdaf4084aa7b494a4592fea7": {
      "model_module": "@jupyter-widgets/base",
      "model_module_version": "1.2.0",
      "model_name": "LayoutModel",
      "state": {
       "_model_module": "@jupyter-widgets/base",
       "_model_module_version": "1.2.0",
       "_model_name": "LayoutModel",
       "_view_count": null,
       "_view_module": "@jupyter-widgets/base",
       "_view_module_version": "1.2.0",
       "_view_name": "LayoutView",
       "align_content": null,
       "align_items": null,
       "align_self": null,
       "border": null,
       "bottom": null,
       "display": null,
       "flex": null,
       "flex_flow": null,
       "grid_area": null,
       "grid_auto_columns": null,
       "grid_auto_flow": null,
       "grid_auto_rows": null,
       "grid_column": null,
       "grid_gap": null,
       "grid_row": null,
       "grid_template_areas": null,
       "grid_template_columns": null,
       "grid_template_rows": null,
       "height": null,
       "justify_content": null,
       "justify_items": null,
       "left": null,
       "margin": null,
       "max_height": null,
       "max_width": null,
       "min_height": null,
       "min_width": null,
       "object_fit": null,
       "object_position": null,
       "order": null,
       "overflow": null,
       "overflow_x": null,
       "overflow_y": null,
       "padding": null,
       "right": null,
       "top": null,
       "visibility": null,
       "width": null
      }
     },
     "9ce0fb032dfa407c90b7d0072a9d00fa": {
      "model_module": "@jupyter-widgets/controls",
      "model_module_version": "1.5.0",
      "model_name": "HTMLModel",
      "state": {
       "_dom_classes": [],
       "_model_module": "@jupyter-widgets/controls",
       "_model_module_version": "1.5.0",
       "_model_name": "HTMLModel",
       "_view_count": null,
       "_view_module": "@jupyter-widgets/controls",
       "_view_module_version": "1.5.0",
       "_view_name": "HTMLView",
       "description": "",
       "description_tooltip": null,
       "layout": "IPY_MODEL_9ae0dd0ebdaf4084aa7b494a4592fea7",
       "placeholder": "​",
       "style": "IPY_MODEL_bb1ab5a6cb234c63b70da60c41763f5d",
       "value": " 1071/1071 [09:35&lt;00:00,  1.89it/s]"
      }
     },
     "b091b599bbea4a5190066af9c2841813": {
      "model_module": "@jupyter-widgets/controls",
      "model_module_version": "1.5.0",
      "model_name": "HTMLModel",
      "state": {
       "_dom_classes": [],
       "_model_module": "@jupyter-widgets/controls",
       "_model_module_version": "1.5.0",
       "_model_name": "HTMLModel",
       "_view_count": null,
       "_view_module": "@jupyter-widgets/controls",
       "_view_module_version": "1.5.0",
       "_view_name": "HTMLView",
       "description": "",
       "description_tooltip": null,
       "layout": "IPY_MODEL_193f25b1d5074fc1ab012e34aac6999d",
       "placeholder": "​",
       "style": "IPY_MODEL_3006a042175644f4be8ea586ee03b425",
       "value": "100%"
      }
     },
     "bb1ab5a6cb234c63b70da60c41763f5d": {
      "model_module": "@jupyter-widgets/controls",
      "model_module_version": "1.5.0",
      "model_name": "DescriptionStyleModel",
      "state": {
       "_model_module": "@jupyter-widgets/controls",
       "_model_module_version": "1.5.0",
       "_model_name": "DescriptionStyleModel",
       "_view_count": null,
       "_view_module": "@jupyter-widgets/base",
       "_view_module_version": "1.2.0",
       "_view_name": "StyleView",
       "description_width": ""
      }
     },
     "cae85d9f8ff44c77bcf5b332cf08d262": {
      "model_module": "@jupyter-widgets/controls",
      "model_module_version": "1.5.0",
      "model_name": "HTMLModel",
      "state": {
       "_dom_classes": [],
       "_model_module": "@jupyter-widgets/controls",
       "_model_module_version": "1.5.0",
       "_model_name": "HTMLModel",
       "_view_count": null,
       "_view_module": "@jupyter-widgets/controls",
       "_view_module_version": "1.5.0",
       "_view_name": "HTMLView",
       "description": "",
       "description_tooltip": null,
       "layout": "IPY_MODEL_f7a69c968de4444684e090aeac3b7b2f",
       "placeholder": "​",
       "style": "IPY_MODEL_913de109c90b41dba9dc41174ecec232",
       "value": " 51/51 [00:22&lt;00:00,  2.43it/s]"
      }
     },
     "d713d1f342064d2dbf90e633d0479c2f": {
      "model_module": "@jupyter-widgets/controls",
      "model_module_version": "1.5.0",
      "model_name": "ProgressStyleModel",
      "state": {
       "_model_module": "@jupyter-widgets/controls",
       "_model_module_version": "1.5.0",
       "_model_name": "ProgressStyleModel",
       "_view_count": null,
       "_view_module": "@jupyter-widgets/base",
       "_view_module_version": "1.2.0",
       "_view_name": "StyleView",
       "bar_color": null,
       "description_width": ""
      }
     },
     "e2350a83cae849c5861531e5123601f9": {
      "model_module": "@jupyter-widgets/controls",
      "model_module_version": "1.5.0",
      "model_name": "FloatProgressModel",
      "state": {
       "_dom_classes": [],
       "_model_module": "@jupyter-widgets/controls",
       "_model_module_version": "1.5.0",
       "_model_name": "FloatProgressModel",
       "_view_count": null,
       "_view_module": "@jupyter-widgets/controls",
       "_view_module_version": "1.5.0",
       "_view_name": "ProgressView",
       "bar_style": "success",
       "description": "",
       "description_tooltip": null,
       "layout": "IPY_MODEL_1ca3cfee2a584c009264efa2dcc23b1b",
       "max": 51.0,
       "min": 0.0,
       "orientation": "horizontal",
       "style": "IPY_MODEL_346161b6a853421dbe7eddb447d4f9d1",
       "value": 51.0
      }
     },
     "e846f1d1d7ca44959c19e2c38e1911fa": {
      "model_module": "@jupyter-widgets/base",
      "model_module_version": "1.2.0",
      "model_name": "LayoutModel",
      "state": {
       "_model_module": "@jupyter-widgets/base",
       "_model_module_version": "1.2.0",
       "_model_name": "LayoutModel",
       "_view_count": null,
       "_view_module": "@jupyter-widgets/base",
       "_view_module_version": "1.2.0",
       "_view_name": "LayoutView",
       "align_content": null,
       "align_items": null,
       "align_self": null,
       "border": null,
       "bottom": null,
       "display": null,
       "flex": null,
       "flex_flow": null,
       "grid_area": null,
       "grid_auto_columns": null,
       "grid_auto_flow": null,
       "grid_auto_rows": null,
       "grid_column": null,
       "grid_gap": null,
       "grid_row": null,
       "grid_template_areas": null,
       "grid_template_columns": null,
       "grid_template_rows": null,
       "height": null,
       "justify_content": null,
       "justify_items": null,
       "left": null,
       "margin": null,
       "max_height": null,
       "max_width": null,
       "min_height": null,
       "min_width": null,
       "object_fit": null,
       "object_position": null,
       "order": null,
       "overflow": null,
       "overflow_x": null,
       "overflow_y": null,
       "padding": null,
       "right": null,
       "top": null,
       "visibility": null,
       "width": null
      }
     },
     "ea3193be23654924952a4e08ba2a349a": {
      "model_module": "@jupyter-widgets/base",
      "model_module_version": "1.2.0",
      "model_name": "LayoutModel",
      "state": {
       "_model_module": "@jupyter-widgets/base",
       "_model_module_version": "1.2.0",
       "_model_name": "LayoutModel",
       "_view_count": null,
       "_view_module": "@jupyter-widgets/base",
       "_view_module_version": "1.2.0",
       "_view_name": "LayoutView",
       "align_content": null,
       "align_items": null,
       "align_self": null,
       "border": null,
       "bottom": null,
       "display": null,
       "flex": null,
       "flex_flow": null,
       "grid_area": null,
       "grid_auto_columns": null,
       "grid_auto_flow": null,
       "grid_auto_rows": null,
       "grid_column": null,
       "grid_gap": null,
       "grid_row": null,
       "grid_template_areas": null,
       "grid_template_columns": null,
       "grid_template_rows": null,
       "height": null,
       "justify_content": null,
       "justify_items": null,
       "left": null,
       "margin": null,
       "max_height": null,
       "max_width": null,
       "min_height": null,
       "min_width": null,
       "object_fit": null,
       "object_position": null,
       "order": null,
       "overflow": null,
       "overflow_x": null,
       "overflow_y": null,
       "padding": null,
       "right": null,
       "top": null,
       "visibility": null,
       "width": null
      }
     },
     "f15f20ff19514fefb064374750df57de": {
      "model_module": "@jupyter-widgets/controls",
      "model_module_version": "1.5.0",
      "model_name": "HTMLModel",
      "state": {
       "_dom_classes": [],
       "_model_module": "@jupyter-widgets/controls",
       "_model_module_version": "1.5.0",
       "_model_name": "HTMLModel",
       "_view_count": null,
       "_view_module": "@jupyter-widgets/controls",
       "_view_module_version": "1.5.0",
       "_view_name": "HTMLView",
       "description": "",
       "description_tooltip": null,
       "layout": "IPY_MODEL_361c00b29bc74202b9b198aacdada4a4",
       "placeholder": "​",
       "style": "IPY_MODEL_336ad6ef09ac4cd4bcf9d994b9622c89",
       "value": "nan: 100%"
      }
     },
     "f71a90a93b8d436b82bd273545911647": {
      "model_module": "@jupyter-widgets/base",
      "model_module_version": "1.2.0",
      "model_name": "LayoutModel",
      "state": {
       "_model_module": "@jupyter-widgets/base",
       "_model_module_version": "1.2.0",
       "_model_name": "LayoutModel",
       "_view_count": null,
       "_view_module": "@jupyter-widgets/base",
       "_view_module_version": "1.2.0",
       "_view_name": "LayoutView",
       "align_content": null,
       "align_items": null,
       "align_self": null,
       "border": null,
       "bottom": null,
       "display": null,
       "flex": null,
       "flex_flow": null,
       "grid_area": null,
       "grid_auto_columns": null,
       "grid_auto_flow": null,
       "grid_auto_rows": null,
       "grid_column": null,
       "grid_gap": null,
       "grid_row": null,
       "grid_template_areas": null,
       "grid_template_columns": null,
       "grid_template_rows": null,
       "height": null,
       "justify_content": null,
       "justify_items": null,
       "left": null,
       "margin": null,
       "max_height": null,
       "max_width": null,
       "min_height": null,
       "min_width": null,
       "object_fit": null,
       "object_position": null,
       "order": null,
       "overflow": null,
       "overflow_x": null,
       "overflow_y": null,
       "padding": null,
       "right": null,
       "top": null,
       "visibility": null,
       "width": null
      }
     },
     "f7a69c968de4444684e090aeac3b7b2f": {
      "model_module": "@jupyter-widgets/base",
      "model_module_version": "1.2.0",
      "model_name": "LayoutModel",
      "state": {
       "_model_module": "@jupyter-widgets/base",
       "_model_module_version": "1.2.0",
       "_model_name": "LayoutModel",
       "_view_count": null,
       "_view_module": "@jupyter-widgets/base",
       "_view_module_version": "1.2.0",
       "_view_name": "LayoutView",
       "align_content": null,
       "align_items": null,
       "align_self": null,
       "border": null,
       "bottom": null,
       "display": null,
       "flex": null,
       "flex_flow": null,
       "grid_area": null,
       "grid_auto_columns": null,
       "grid_auto_flow": null,
       "grid_auto_rows": null,
       "grid_column": null,
       "grid_gap": null,
       "grid_row": null,
       "grid_template_areas": null,
       "grid_template_columns": null,
       "grid_template_rows": null,
       "height": null,
       "justify_content": null,
       "justify_items": null,
       "left": null,
       "margin": null,
       "max_height": null,
       "max_width": null,
       "min_height": null,
       "min_width": null,
       "object_fit": null,
       "object_position": null,
       "order": null,
       "overflow": null,
       "overflow_x": null,
       "overflow_y": null,
       "padding": null,
       "right": null,
       "top": null,
       "visibility": null,
       "width": null
      }
     }
    },
    "version_major": 2,
    "version_minor": 0
   }
  }
 },
 "nbformat": 4,
 "nbformat_minor": 4
}
