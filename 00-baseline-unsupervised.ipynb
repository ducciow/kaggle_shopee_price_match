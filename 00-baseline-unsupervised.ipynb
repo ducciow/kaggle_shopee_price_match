{
 "cells": [
  {
   "cell_type": "markdown",
   "id": "97819758",
   "metadata": {
    "papermill": {
     "duration": 0.00671,
     "end_time": "2022-10-22T06:53:24.648813",
     "exception": false,
     "start_time": "2022-10-22T06:53:24.642103",
     "status": "completed"
    },
    "tags": []
   },
   "source": [
    "Reference: https://www.kaggle.com/code/finlay/unsupervised-image-text-baseline-in-20min"
   ]
  },
  {
   "cell_type": "code",
   "execution_count": 1,
   "id": "c0471052",
   "metadata": {
    "execution": {
     "iopub.execute_input": "2022-10-22T06:53:24.661968Z",
     "iopub.status.busy": "2022-10-22T06:53:24.660926Z",
     "iopub.status.idle": "2022-10-22T06:53:28.205642Z",
     "shell.execute_reply": "2022-10-22T06:53:28.204532Z"
    },
    "papermill": {
     "duration": 3.554319,
     "end_time": "2022-10-22T06:53:28.208651",
     "exception": false,
     "start_time": "2022-10-22T06:53:24.654332",
     "status": "completed"
    },
    "tags": []
   },
   "outputs": [],
   "source": [
    "import numpy as np\n",
    "import pandas as pd\n",
    "from tqdm.notebook import tqdm\n",
    "import cudf, cuml, cupy\n",
    "\n",
    "DATA_PATH = '../input/shopee-product-matching/'\n",
    "test = pd.read_csv(DATA_PATH + 'test.csv')\n",
    "COMPUTE_CV = len(test) == 3"
   ]
  },
  {
   "cell_type": "code",
   "execution_count": 2,
   "id": "9a2292c9",
   "metadata": {
    "execution": {
     "iopub.execute_input": "2022-10-22T06:53:28.220810Z",
     "iopub.status.busy": "2022-10-22T06:53:28.220493Z",
     "iopub.status.idle": "2022-10-22T06:53:28.225777Z",
     "shell.execute_reply": "2022-10-22T06:53:28.224826Z"
    },
    "papermill": {
     "duration": 0.01375,
     "end_time": "2022-10-22T06:53:28.227941",
     "exception": false,
     "start_time": "2022-10-22T06:53:28.214191",
     "status": "completed"
    },
    "tags": []
   },
   "outputs": [],
   "source": [
    "def getMetric(col):\n",
    "    def f1score(row):\n",
    "        n = len(np.intersect1d(row.target, row[col]) )\n",
    "        return 2*n / (len(row.target) + len(row[col]))\n",
    "    return f1score"
   ]
  },
  {
   "cell_type": "code",
   "execution_count": 3,
   "id": "5e79661f",
   "metadata": {
    "execution": {
     "iopub.execute_input": "2022-10-22T06:53:28.239743Z",
     "iopub.status.busy": "2022-10-22T06:53:28.239474Z",
     "iopub.status.idle": "2022-10-22T06:53:32.631497Z",
     "shell.execute_reply": "2022-10-22T06:53:32.630435Z"
    },
    "papermill": {
     "duration": 4.401238,
     "end_time": "2022-10-22T06:53:32.634506",
     "exception": false,
     "start_time": "2022-10-22T06:53:28.233268",
     "status": "completed"
    },
    "tags": []
   },
   "outputs": [
    {
     "name": "stdout",
     "output_type": "stream",
     "text": [
      "train shape is (34250, 6)\n"
     ]
    },
    {
     "data": {
      "text/html": [
       "<div>\n",
       "<style scoped>\n",
       "    .dataframe tbody tr th:only-of-type {\n",
       "        vertical-align: middle;\n",
       "    }\n",
       "\n",
       "    .dataframe tbody tr th {\n",
       "        vertical-align: top;\n",
       "    }\n",
       "\n",
       "    .dataframe thead th {\n",
       "        text-align: right;\n",
       "    }\n",
       "</style>\n",
       "<table border=\"1\" class=\"dataframe\">\n",
       "  <thead>\n",
       "    <tr style=\"text-align: right;\">\n",
       "      <th></th>\n",
       "      <th>posting_id</th>\n",
       "      <th>image</th>\n",
       "      <th>image_phash</th>\n",
       "      <th>title</th>\n",
       "      <th>label_group</th>\n",
       "      <th>target</th>\n",
       "    </tr>\n",
       "  </thead>\n",
       "  <tbody>\n",
       "    <tr>\n",
       "      <th>0</th>\n",
       "      <td>train_129225211</td>\n",
       "      <td>../input/shopee-product-matching/train_images/...</td>\n",
       "      <td>94974f937d4c2433</td>\n",
       "      <td>Paper Bag Victoria Secret</td>\n",
       "      <td>249114794</td>\n",
       "      <td>[train_129225211, train_2278313361]</td>\n",
       "    </tr>\n",
       "    <tr>\n",
       "      <th>1</th>\n",
       "      <td>train_3386243561</td>\n",
       "      <td>../input/shopee-product-matching/train_images/...</td>\n",
       "      <td>af3f9460c2838f0f</td>\n",
       "      <td>Double Tape 3M VHB 12 mm x 4,5 m ORIGINAL / DO...</td>\n",
       "      <td>2937985045</td>\n",
       "      <td>[train_3386243561, train_3423213080]</td>\n",
       "    </tr>\n",
       "    <tr>\n",
       "      <th>2</th>\n",
       "      <td>train_2288590299</td>\n",
       "      <td>../input/shopee-product-matching/train_images/...</td>\n",
       "      <td>b94cb00ed3e50f78</td>\n",
       "      <td>Maling TTS Canned Pork Luncheon Meat 397 gr</td>\n",
       "      <td>2395904891</td>\n",
       "      <td>[train_2288590299, train_3803689425]</td>\n",
       "    </tr>\n",
       "    <tr>\n",
       "      <th>3</th>\n",
       "      <td>train_2406599165</td>\n",
       "      <td>../input/shopee-product-matching/train_images/...</td>\n",
       "      <td>8514fc58eafea283</td>\n",
       "      <td>Daster Batik Lengan pendek - Motif Acak / Camp...</td>\n",
       "      <td>4093212188</td>\n",
       "      <td>[train_2406599165, train_3342059966]</td>\n",
       "    </tr>\n",
       "    <tr>\n",
       "      <th>4</th>\n",
       "      <td>train_3369186413</td>\n",
       "      <td>../input/shopee-product-matching/train_images/...</td>\n",
       "      <td>a6f319f924ad708c</td>\n",
       "      <td>Nescafe \\xc3\\x89clair Latte 220ml</td>\n",
       "      <td>3648931069</td>\n",
       "      <td>[train_3369186413, train_921438619]</td>\n",
       "    </tr>\n",
       "  </tbody>\n",
       "</table>\n",
       "</div>"
      ],
      "text/plain": [
       "         posting_id                                              image  \\\n",
       "0   train_129225211  ../input/shopee-product-matching/train_images/...   \n",
       "1  train_3386243561  ../input/shopee-product-matching/train_images/...   \n",
       "2  train_2288590299  ../input/shopee-product-matching/train_images/...   \n",
       "3  train_2406599165  ../input/shopee-product-matching/train_images/...   \n",
       "4  train_3369186413  ../input/shopee-product-matching/train_images/...   \n",
       "\n",
       "        image_phash                                              title  \\\n",
       "0  94974f937d4c2433                          Paper Bag Victoria Secret   \n",
       "1  af3f9460c2838f0f  Double Tape 3M VHB 12 mm x 4,5 m ORIGINAL / DO...   \n",
       "2  b94cb00ed3e50f78        Maling TTS Canned Pork Luncheon Meat 397 gr   \n",
       "3  8514fc58eafea283  Daster Batik Lengan pendek - Motif Acak / Camp...   \n",
       "4  a6f319f924ad708c                  Nescafe \\xc3\\x89clair Latte 220ml   \n",
       "\n",
       "   label_group                                target  \n",
       "0    249114794   [train_129225211, train_2278313361]  \n",
       "1   2937985045  [train_3386243561, train_3423213080]  \n",
       "2   2395904891  [train_2288590299, train_3803689425]  \n",
       "3   4093212188  [train_2406599165, train_3342059966]  \n",
       "4   3648931069   [train_3369186413, train_921438619]  "
      ]
     },
     "execution_count": 3,
     "metadata": {},
     "output_type": "execute_result"
    }
   ],
   "source": [
    "if COMPUTE_CV:  # for training\n",
    "    train = pd.read_csv(DATA_PATH + 'train.csv')\n",
    "    train['image'] = DATA_PATH + 'train_images/' + train['image']\n",
    "    target_mapping = train.groupby('label_group').posting_id.agg('unique').to_dict()\n",
    "    train['target'] = train.label_group.map(target_mapping)\n",
    "    train_gf = cudf.read_csv(DATA_PATH + 'train.csv')\n",
    "else:  # for submitting\n",
    "    train = pd.read_csv(DATA_PATH + 'test.csv')\n",
    "    train['image'] = DATA_PATH + 'test_images/' + train['image']\n",
    "    train_gf = cudf.read_csv(DATA_PATH + 'test.csv')\n",
    "    \n",
    "print('train shape is', train.shape )\n",
    "train.head()"
   ]
  },
  {
   "cell_type": "markdown",
   "id": "54def585",
   "metadata": {
    "papermill": {
     "duration": 0.005311,
     "end_time": "2022-10-22T06:53:32.645689",
     "exception": false,
     "start_time": "2022-10-22T06:53:32.640378",
     "status": "completed"
    },
    "tags": []
   },
   "source": [
    "## Image Hash"
   ]
  },
  {
   "cell_type": "code",
   "execution_count": 4,
   "id": "4b424ffc",
   "metadata": {
    "execution": {
     "iopub.execute_input": "2022-10-22T06:53:32.658653Z",
     "iopub.status.busy": "2022-10-22T06:53:32.657820Z",
     "iopub.status.idle": "2022-10-22T06:53:33.924522Z",
     "shell.execute_reply": "2022-10-22T06:53:33.923650Z"
    },
    "papermill": {
     "duration": 1.277122,
     "end_time": "2022-10-22T06:53:33.928541",
     "exception": false,
     "start_time": "2022-10-22T06:53:32.651419",
     "status": "completed"
    },
    "tags": []
   },
   "outputs": [
    {
     "data": {
      "text/html": [
       "<div>\n",
       "<style scoped>\n",
       "    .dataframe tbody tr th:only-of-type {\n",
       "        vertical-align: middle;\n",
       "    }\n",
       "\n",
       "    .dataframe tbody tr th {\n",
       "        vertical-align: top;\n",
       "    }\n",
       "\n",
       "    .dataframe thead th {\n",
       "        text-align: right;\n",
       "    }\n",
       "</style>\n",
       "<table border=\"1\" class=\"dataframe\">\n",
       "  <thead>\n",
       "    <tr style=\"text-align: right;\">\n",
       "      <th></th>\n",
       "      <th>posting_id</th>\n",
       "      <th>image</th>\n",
       "      <th>image_phash</th>\n",
       "      <th>title</th>\n",
       "      <th>label_group</th>\n",
       "      <th>target</th>\n",
       "      <th>oof_hash</th>\n",
       "    </tr>\n",
       "  </thead>\n",
       "  <tbody>\n",
       "    <tr>\n",
       "      <th>0</th>\n",
       "      <td>train_129225211</td>\n",
       "      <td>../input/shopee-product-matching/train_images/...</td>\n",
       "      <td>94974f937d4c2433</td>\n",
       "      <td>Paper Bag Victoria Secret</td>\n",
       "      <td>249114794</td>\n",
       "      <td>[train_129225211, train_2278313361]</td>\n",
       "      <td>[train_129225211]</td>\n",
       "    </tr>\n",
       "    <tr>\n",
       "      <th>1</th>\n",
       "      <td>train_3386243561</td>\n",
       "      <td>../input/shopee-product-matching/train_images/...</td>\n",
       "      <td>af3f9460c2838f0f</td>\n",
       "      <td>Double Tape 3M VHB 12 mm x 4,5 m ORIGINAL / DO...</td>\n",
       "      <td>2937985045</td>\n",
       "      <td>[train_3386243561, train_3423213080]</td>\n",
       "      <td>[train_3386243561]</td>\n",
       "    </tr>\n",
       "    <tr>\n",
       "      <th>2</th>\n",
       "      <td>train_2288590299</td>\n",
       "      <td>../input/shopee-product-matching/train_images/...</td>\n",
       "      <td>b94cb00ed3e50f78</td>\n",
       "      <td>Maling TTS Canned Pork Luncheon Meat 397 gr</td>\n",
       "      <td>2395904891</td>\n",
       "      <td>[train_2288590299, train_3803689425]</td>\n",
       "      <td>[train_2288590299]</td>\n",
       "    </tr>\n",
       "    <tr>\n",
       "      <th>3</th>\n",
       "      <td>train_2406599165</td>\n",
       "      <td>../input/shopee-product-matching/train_images/...</td>\n",
       "      <td>8514fc58eafea283</td>\n",
       "      <td>Daster Batik Lengan pendek - Motif Acak / Camp...</td>\n",
       "      <td>4093212188</td>\n",
       "      <td>[train_2406599165, train_3342059966]</td>\n",
       "      <td>[train_2406599165]</td>\n",
       "    </tr>\n",
       "    <tr>\n",
       "      <th>4</th>\n",
       "      <td>train_3369186413</td>\n",
       "      <td>../input/shopee-product-matching/train_images/...</td>\n",
       "      <td>a6f319f924ad708c</td>\n",
       "      <td>Nescafe \\xc3\\x89clair Latte 220ml</td>\n",
       "      <td>3648931069</td>\n",
       "      <td>[train_3369186413, train_921438619]</td>\n",
       "      <td>[train_3369186413]</td>\n",
       "    </tr>\n",
       "  </tbody>\n",
       "</table>\n",
       "</div>"
      ],
      "text/plain": [
       "         posting_id                                              image  \\\n",
       "0   train_129225211  ../input/shopee-product-matching/train_images/...   \n",
       "1  train_3386243561  ../input/shopee-product-matching/train_images/...   \n",
       "2  train_2288590299  ../input/shopee-product-matching/train_images/...   \n",
       "3  train_2406599165  ../input/shopee-product-matching/train_images/...   \n",
       "4  train_3369186413  ../input/shopee-product-matching/train_images/...   \n",
       "\n",
       "        image_phash                                              title  \\\n",
       "0  94974f937d4c2433                          Paper Bag Victoria Secret   \n",
       "1  af3f9460c2838f0f  Double Tape 3M VHB 12 mm x 4,5 m ORIGINAL / DO...   \n",
       "2  b94cb00ed3e50f78        Maling TTS Canned Pork Luncheon Meat 397 gr   \n",
       "3  8514fc58eafea283  Daster Batik Lengan pendek - Motif Acak / Camp...   \n",
       "4  a6f319f924ad708c                  Nescafe \\xc3\\x89clair Latte 220ml   \n",
       "\n",
       "   label_group                                target            oof_hash  \n",
       "0    249114794   [train_129225211, train_2278313361]   [train_129225211]  \n",
       "1   2937985045  [train_3386243561, train_3423213080]  [train_3386243561]  \n",
       "2   2395904891  [train_2288590299, train_3803689425]  [train_2288590299]  \n",
       "3   4093212188  [train_2406599165, train_3342059966]  [train_2406599165]  \n",
       "4   3648931069   [train_3369186413, train_921438619]  [train_3369186413]  "
      ]
     },
     "execution_count": 4,
     "metadata": {},
     "output_type": "execute_result"
    }
   ],
   "source": [
    "phash_mapping = train.groupby('image_phash').posting_id.agg('unique').to_dict()\n",
    "train['oof_hash'] = train.image_phash.map(phash_mapping)\n",
    "train.head()"
   ]
  },
  {
   "cell_type": "code",
   "execution_count": 5,
   "id": "611bbd45",
   "metadata": {
    "execution": {
     "iopub.execute_input": "2022-10-22T06:53:33.942028Z",
     "iopub.status.busy": "2022-10-22T06:53:33.941715Z",
     "iopub.status.idle": "2022-10-22T06:53:35.809800Z",
     "shell.execute_reply": "2022-10-22T06:53:35.808676Z"
    },
    "papermill": {
     "duration": 1.877876,
     "end_time": "2022-10-22T06:53:35.812760",
     "exception": false,
     "start_time": "2022-10-22T06:53:33.934884",
     "status": "completed"
    },
    "tags": []
   },
   "outputs": [
    {
     "name": "stdout",
     "output_type": "stream",
     "text": [
      "CV score for baseline = 0.5530933399168149\n"
     ]
    }
   ],
   "source": [
    "if COMPUTE_CV:\n",
    "    train['f1'] = train.apply(getMetric('oof_hash'), axis=1)\n",
    "    print('CV score for baseline =', train.f1.mean())"
   ]
  },
  {
   "cell_type": "markdown",
   "id": "0a0a00e7",
   "metadata": {
    "papermill": {
     "duration": 0.005897,
     "end_time": "2022-10-22T06:53:35.825121",
     "exception": false,
     "start_time": "2022-10-22T06:53:35.819224",
     "status": "completed"
    },
    "tags": []
   },
   "source": [
    "## Image CNN"
   ]
  },
  {
   "cell_type": "code",
   "execution_count": 6,
   "id": "aff5e912",
   "metadata": {
    "execution": {
     "iopub.execute_input": "2022-10-22T06:53:35.839464Z",
     "iopub.status.busy": "2022-10-22T06:53:35.838526Z",
     "iopub.status.idle": "2022-10-22T06:53:37.322724Z",
     "shell.execute_reply": "2022-10-22T06:53:37.321492Z"
    },
    "papermill": {
     "duration": 1.494651,
     "end_time": "2022-10-22T06:53:37.325497",
     "exception": false,
     "start_time": "2022-10-22T06:53:35.830846",
     "status": "completed"
    },
    "tags": []
   },
   "outputs": [],
   "source": [
    "import torch\n",
    "torch.manual_seed(0)\n",
    "torch.backends.cudnn.deterministic = False\n",
    "torch.backends.cudnn.benchmark = True\n",
    "\n",
    "import torch.nn as nn\n",
    "from torch.utils.data import Dataset, DataLoader\n",
    "\n",
    "import torchvision.models as models\n",
    "import torchvision.transforms as transforms\n",
    "\n",
    "from PIL import Image\n",
    "\n",
    "from sklearn.preprocessing import normalize"
   ]
  },
  {
   "cell_type": "code",
   "execution_count": 7,
   "id": "b556d029",
   "metadata": {
    "execution": {
     "iopub.execute_input": "2022-10-22T06:53:37.339500Z",
     "iopub.status.busy": "2022-10-22T06:53:37.338955Z",
     "iopub.status.idle": "2022-10-22T06:53:37.343410Z",
     "shell.execute_reply": "2022-10-22T06:53:37.342392Z"
    },
    "papermill": {
     "duration": 0.014264,
     "end_time": "2022-10-22T06:53:37.346171",
     "exception": false,
     "start_time": "2022-10-22T06:53:37.331907",
     "status": "completed"
    },
    "tags": []
   },
   "outputs": [],
   "source": [
    "# MODEL_PATH = \"../input/pretrained-pytorch-models/resnet18-5c106cde.pth\""
   ]
  },
  {
   "cell_type": "code",
   "execution_count": 8,
   "id": "d2295a05",
   "metadata": {
    "execution": {
     "iopub.execute_input": "2022-10-22T06:53:37.359433Z",
     "iopub.status.busy": "2022-10-22T06:53:37.359142Z",
     "iopub.status.idle": "2022-10-22T06:53:37.365043Z",
     "shell.execute_reply": "2022-10-22T06:53:37.363995Z"
    },
    "papermill": {
     "duration": 0.015212,
     "end_time": "2022-10-22T06:53:37.367358",
     "exception": false,
     "start_time": "2022-10-22T06:53:37.352146",
     "status": "completed"
    },
    "tags": []
   },
   "outputs": [],
   "source": [
    "class ShopeeImageDataset(Dataset):\n",
    "    def __init__(self, img_path, transform):\n",
    "        self.img_path = img_path\n",
    "        self.transform = transform\n",
    "        \n",
    "    def __getitem__(self, index):\n",
    "        img = Image.open(self.img_path[index]).convert('RGB')\n",
    "        img = self.transform(img)\n",
    "        return img\n",
    "    \n",
    "    def __len__(self):\n",
    "        return len(self.img_path)"
   ]
  },
  {
   "cell_type": "code",
   "execution_count": 9,
   "id": "41492bb1",
   "metadata": {
    "execution": {
     "iopub.execute_input": "2022-10-22T06:53:37.380594Z",
     "iopub.status.busy": "2022-10-22T06:53:37.379782Z",
     "iopub.status.idle": "2022-10-22T06:53:37.386023Z",
     "shell.execute_reply": "2022-10-22T06:53:37.385223Z"
    },
    "papermill": {
     "duration": 0.014719,
     "end_time": "2022-10-22T06:53:37.388017",
     "exception": false,
     "start_time": "2022-10-22T06:53:37.373298",
     "status": "completed"
    },
    "tags": []
   },
   "outputs": [],
   "source": [
    "image_dataset = ShopeeImageDataset(\n",
    "    train['image'].values,\n",
    "    transforms.Compose([\n",
    "        transforms.Resize((512, 512)),\n",
    "        transforms.ToTensor(),\n",
    "        transforms.Normalize([0.485, 0.456, 0.406], [0.229, 0.224, 0.225])\n",
    "]))\n",
    "    \n",
    "image_loader = DataLoader(\n",
    "    image_dataset,\n",
    "    batch_size=10, shuffle=False, num_workers=2\n",
    ")"
   ]
  },
  {
   "cell_type": "code",
   "execution_count": 10,
   "id": "6e3f2e80",
   "metadata": {
    "execution": {
     "iopub.execute_input": "2022-10-22T06:53:37.401217Z",
     "iopub.status.busy": "2022-10-22T06:53:37.400442Z",
     "iopub.status.idle": "2022-10-22T06:53:37.406905Z",
     "shell.execute_reply": "2022-10-22T06:53:37.406072Z"
    },
    "papermill": {
     "duration": 0.015093,
     "end_time": "2022-10-22T06:53:37.408856",
     "exception": false,
     "start_time": "2022-10-22T06:53:37.393763",
     "status": "completed"
    },
    "tags": []
   },
   "outputs": [],
   "source": [
    "class ShopeeImageEmbeddingNet(nn.Module):\n",
    "    def __init__(self):\n",
    "        super(ShopeeImageEmbeddingNet, self).__init__()\n",
    "        \n",
    "        model = models.resnet18(pretrained=True)\n",
    "#         model = models.resnet18(pretrained=False)\n",
    "#         model_state = torch.load(MODEL_PATH)\n",
    "#         model.load_state_dict(model_state, strict=True)\n",
    "        model.avgpool = nn.AdaptiveMaxPool2d(output_size=(1, 1))\n",
    "        model = nn.Sequential(*list(model.children())[:-1])\n",
    "        model.eval()\n",
    "        self.model = model\n",
    "        \n",
    "    def forward(self, img):        \n",
    "        out = self.model(img)\n",
    "        return out"
   ]
  },
  {
   "cell_type": "code",
   "execution_count": 11,
   "id": "3546930b",
   "metadata": {
    "execution": {
     "iopub.execute_input": "2022-10-22T06:53:37.422308Z",
     "iopub.status.busy": "2022-10-22T06:53:37.421532Z",
     "iopub.status.idle": "2022-10-22T07:05:27.695207Z",
     "shell.execute_reply": "2022-10-22T07:05:27.693943Z"
    },
    "papermill": {
     "duration": 710.282698,
     "end_time": "2022-10-22T07:05:27.697525",
     "exception": false,
     "start_time": "2022-10-22T06:53:37.414827",
     "status": "completed"
    },
    "tags": []
   },
   "outputs": [
    {
     "name": "stderr",
     "output_type": "stream",
     "text": [
      "Downloading: \"https://download.pytorch.org/models/resnet18-f37072fd.pth\" to /root/.cache/torch/hub/checkpoints/resnet18-f37072fd.pth\n"
     ]
    },
    {
     "data": {
      "application/vnd.jupyter.widget-view+json": {
       "model_id": "22a6a31d16d24daf8d516d93196b85d9",
       "version_major": 2,
       "version_minor": 0
      },
      "text/plain": [
       "  0%|          | 0.00/44.7M [00:00<?, ?B/s]"
      ]
     },
     "metadata": {},
     "output_type": "display_data"
    },
    {
     "data": {
      "application/vnd.jupyter.widget-view+json": {
       "model_id": "4c50d00e9f7245c0a1e6118040704296",
       "version_major": 2,
       "version_minor": 0
      },
      "text/plain": [
       "  0%|          | 0/3425 [00:00<?, ?it/s]"
      ]
     },
     "metadata": {},
     "output_type": "display_data"
    }
   ],
   "source": [
    "device = 'cuda'\n",
    "img_model = ShopeeImageEmbeddingNet().to(device)\n",
    "\n",
    "image_feat = []\n",
    "with torch.no_grad():\n",
    "    for data in tqdm(image_loader):\n",
    "        data = data.to(device)\n",
    "        feat = img_model(data)\n",
    "        feat = feat.reshape(feat.shape[0], feat.shape[1])\n",
    "        feat = feat.data.cpu().numpy()\n",
    "        \n",
    "        image_feat.append(feat)"
   ]
  },
  {
   "cell_type": "code",
   "execution_count": 12,
   "id": "318ca4ea",
   "metadata": {
    "execution": {
     "iopub.execute_input": "2022-10-22T07:05:27.712433Z",
     "iopub.status.busy": "2022-10-22T07:05:27.712094Z",
     "iopub.status.idle": "2022-10-22T07:05:27.804845Z",
     "shell.execute_reply": "2022-10-22T07:05:27.803547Z"
    },
    "papermill": {
     "duration": 0.10325,
     "end_time": "2022-10-22T07:05:27.807673",
     "exception": false,
     "start_time": "2022-10-22T07:05:27.704423",
     "status": "completed"
    },
    "tags": []
   },
   "outputs": [],
   "source": [
    "# L2 normalize to 0-1\n",
    "image_feat = normalize(np.vstack(image_feat))"
   ]
  },
  {
   "cell_type": "code",
   "execution_count": 13,
   "id": "adf561ac",
   "metadata": {
    "execution": {
     "iopub.execute_input": "2022-10-22T07:05:27.822047Z",
     "iopub.status.busy": "2022-10-22T07:05:27.821731Z",
     "iopub.status.idle": "2022-10-22T07:05:52.803759Z",
     "shell.execute_reply": "2022-10-22T07:05:52.802815Z"
    },
    "papermill": {
     "duration": 24.992043,
     "end_time": "2022-10-22T07:05:52.806235",
     "exception": false,
     "start_time": "2022-10-22T07:05:27.814192",
     "status": "completed"
    },
    "tags": []
   },
   "outputs": [
    {
     "name": "stdout",
     "output_type": "stream",
     "text": [
      "Finding similar images...\n",
      "chunk 0 to 4096\n",
      "chunk 4096 to 8192\n",
      "chunk 8192 to 12288\n",
      "chunk 12288 to 16384\n",
      "chunk 16384 to 20480\n",
      "chunk 20480 to 24576\n",
      "chunk 24576 to 28672\n",
      "chunk 28672 to 32768\n",
      "chunk 32768 to 34250\n"
     ]
    }
   ],
   "source": [
    "preds = []\n",
    "CHUNK = 1024 * 4\n",
    "\n",
    "image_feat = cupy.array(image_feat)\n",
    "\n",
    "print('Finding similar images...')\n",
    "\n",
    "CTS = len(image_feat) // CHUNK\n",
    "if len(image_feat) % CHUNK != 0:\n",
    "    CTS += 1\n",
    "    \n",
    "for j in range(CTS):\n",
    "    a = j * CHUNK\n",
    "    b = (j + 1) * CHUNK\n",
    "    b = min(b, len(image_feat))\n",
    "    print('chunk', a, 'to', b)\n",
    "    \n",
    "    distances = cupy.matmul(image_feat, image_feat[a:b].T).T\n",
    "    \n",
    "    for k in range(b - a):\n",
    "        idx = cupy.where(distances[k,] > 0.95)[0]\n",
    "        o = train.iloc[cupy.asnumpy(idx)].posting_id.values\n",
    "        preds.append(o)\n",
    "\n",
    "del image_feat, img_model"
   ]
  },
  {
   "cell_type": "code",
   "execution_count": 14,
   "id": "6385743a",
   "metadata": {
    "execution": {
     "iopub.execute_input": "2022-10-22T07:05:52.821137Z",
     "iopub.status.busy": "2022-10-22T07:05:52.820831Z",
     "iopub.status.idle": "2022-10-22T07:05:54.792930Z",
     "shell.execute_reply": "2022-10-22T07:05:54.790159Z"
    },
    "papermill": {
     "duration": 1.982566,
     "end_time": "2022-10-22T07:05:54.795753",
     "exception": false,
     "start_time": "2022-10-22T07:05:52.813187",
     "status": "completed"
    },
    "tags": []
   },
   "outputs": [
    {
     "name": "stdout",
     "output_type": "stream",
     "text": [
      "CV score for baseline = 0.6527899883423682\n"
     ]
    }
   ],
   "source": [
    "train['oof_cnn'] = preds\n",
    "\n",
    "if COMPUTE_CV:\n",
    "    train['f1'] = train.apply(getMetric('oof_cnn'), axis=1)\n",
    "    print('CV score for baseline =', train.f1.mean())"
   ]
  },
  {
   "cell_type": "markdown",
   "id": "717f3431",
   "metadata": {
    "papermill": {
     "duration": 0.006599,
     "end_time": "2022-10-22T07:05:54.809991",
     "exception": false,
     "start_time": "2022-10-22T07:05:54.803392",
     "status": "completed"
    },
    "tags": []
   },
   "source": [
    "## TF-IDF"
   ]
  },
  {
   "cell_type": "code",
   "execution_count": 15,
   "id": "3ab6d014",
   "metadata": {
    "execution": {
     "iopub.execute_input": "2022-10-22T07:05:54.824734Z",
     "iopub.status.busy": "2022-10-22T07:05:54.824427Z",
     "iopub.status.idle": "2022-10-22T07:05:54.836651Z",
     "shell.execute_reply": "2022-10-22T07:05:54.835559Z"
    },
    "papermill": {
     "duration": 0.021877,
     "end_time": "2022-10-22T07:05:54.838516",
     "exception": false,
     "start_time": "2022-10-22T07:05:54.816639",
     "status": "completed"
    },
    "tags": []
   },
   "outputs": [],
   "source": [
    "from cuml.feature_extraction.text import TfidfVectorizer"
   ]
  },
  {
   "cell_type": "code",
   "execution_count": 16,
   "id": "aa1e8c7e",
   "metadata": {
    "execution": {
     "iopub.execute_input": "2022-10-22T07:05:54.853303Z",
     "iopub.status.busy": "2022-10-22T07:05:54.852545Z",
     "iopub.status.idle": "2022-10-22T07:06:04.854681Z",
     "shell.execute_reply": "2022-10-22T07:06:04.851151Z"
    },
    "papermill": {
     "duration": 10.012764,
     "end_time": "2022-10-22T07:06:04.857886",
     "exception": false,
     "start_time": "2022-10-22T07:05:54.845122",
     "status": "completed"
    },
    "tags": []
   },
   "outputs": [
    {
     "name": "stdout",
     "output_type": "stream",
     "text": [
      "text embeddings shape (34250, 25000)\n"
     ]
    }
   ],
   "source": [
    "model = TfidfVectorizer(stop_words=None, binary=True, max_features=25000)\n",
    "text_embeddings = model.fit_transform(train_gf.title).toarray()\n",
    "print('text embeddings shape', text_embeddings.shape)"
   ]
  },
  {
   "cell_type": "code",
   "execution_count": 17,
   "id": "80cf577a",
   "metadata": {
    "execution": {
     "iopub.execute_input": "2022-10-22T07:06:04.885963Z",
     "iopub.status.busy": "2022-10-22T07:06:04.885272Z",
     "iopub.status.idle": "2022-10-22T07:06:35.070367Z",
     "shell.execute_reply": "2022-10-22T07:06:35.069337Z"
    },
    "papermill": {
     "duration": 30.206029,
     "end_time": "2022-10-22T07:06:35.072905",
     "exception": false,
     "start_time": "2022-10-22T07:06:04.866876",
     "status": "completed"
    },
    "tags": []
   },
   "outputs": [
    {
     "name": "stdout",
     "output_type": "stream",
     "text": [
      "Finding similar titles...\n",
      "chunk 0 to 4096\n",
      "chunk 4096 to 8192\n",
      "chunk 8192 to 12288\n",
      "chunk 12288 to 16384\n",
      "chunk 16384 to 20480\n",
      "chunk 20480 to 24576\n",
      "chunk 24576 to 28672\n",
      "chunk 28672 to 32768\n",
      "chunk 32768 to 34250\n"
     ]
    }
   ],
   "source": [
    "preds = []\n",
    "CHUNK = 1024 * 4\n",
    "\n",
    "print('Finding similar titles...')\n",
    "\n",
    "CTS = len(train) // CHUNK\n",
    "if len(train) % CHUNK != 0:\n",
    "    CTS += 1\n",
    "    \n",
    "for j in range(CTS):\n",
    "    a = j * CHUNK\n",
    "    b = (j + 1) * CHUNK\n",
    "    b = min(b, len(train))\n",
    "    print('chunk', a, 'to', b)\n",
    "    \n",
    "    cts = cupy.matmul(text_embeddings, text_embeddings[a:b].T).T\n",
    "    \n",
    "    for k in range(b - a):\n",
    "        idx = cupy.where(cts[k,] > 0.7)[0]\n",
    "        o = train.iloc[cupy.asnumpy(idx)].posting_id.values\n",
    "        preds.append(o)\n",
    "        \n",
    "del model, text_embeddings"
   ]
  },
  {
   "cell_type": "code",
   "execution_count": 18,
   "id": "4a5a2594",
   "metadata": {
    "execution": {
     "iopub.execute_input": "2022-10-22T07:06:35.090236Z",
     "iopub.status.busy": "2022-10-22T07:06:35.089856Z",
     "iopub.status.idle": "2022-10-22T07:06:37.481590Z",
     "shell.execute_reply": "2022-10-22T07:06:37.480089Z"
    },
    "papermill": {
     "duration": 2.402617,
     "end_time": "2022-10-22T07:06:37.483799",
     "exception": false,
     "start_time": "2022-10-22T07:06:35.081182",
     "status": "completed"
    },
    "tags": []
   },
   "outputs": [
    {
     "name": "stdout",
     "output_type": "stream",
     "text": [
      "CV score for baseline = 0.6137154152579002\n"
     ]
    }
   ],
   "source": [
    "train['oof_tfidf'] = preds\n",
    "\n",
    "if COMPUTE_CV:\n",
    "    train['f1'] = train.apply(getMetric('oof_tfidf'), axis=1)\n",
    "    print('CV score for baseline =', train.f1.mean())"
   ]
  },
  {
   "cell_type": "markdown",
   "id": "3434e4f8",
   "metadata": {
    "papermill": {
     "duration": 0.007473,
     "end_time": "2022-10-22T07:06:37.499166",
     "exception": false,
     "start_time": "2022-10-22T07:06:37.491693",
     "status": "completed"
    },
    "tags": []
   },
   "source": [
    "## Combination"
   ]
  },
  {
   "cell_type": "code",
   "execution_count": 19,
   "id": "b4845f09",
   "metadata": {
    "execution": {
     "iopub.execute_input": "2022-10-22T07:06:37.515283Z",
     "iopub.status.busy": "2022-10-22T07:06:37.514439Z",
     "iopub.status.idle": "2022-10-22T07:06:37.520273Z",
     "shell.execute_reply": "2022-10-22T07:06:37.519322Z"
    },
    "papermill": {
     "duration": 0.015923,
     "end_time": "2022-10-22T07:06:37.522366",
     "exception": false,
     "start_time": "2022-10-22T07:06:37.506443",
     "status": "completed"
    },
    "tags": []
   },
   "outputs": [],
   "source": [
    "def combine_for_cv(row):\n",
    "    x = np.concatenate([row.oof_tfidf, row.oof_cnn, row.oof_hash])\n",
    "    return np.unique(x)\n",
    "\n",
    "def combine_for_sub(row):\n",
    "    x = np.concatenate([row.oof_tfidf, row.oof_cnn, row.oof_hash])\n",
    "    return ' '.join(np.unique(x))"
   ]
  },
  {
   "cell_type": "code",
   "execution_count": 20,
   "id": "685ef2b2",
   "metadata": {
    "execution": {
     "iopub.execute_input": "2022-10-22T07:06:37.539143Z",
     "iopub.status.busy": "2022-10-22T07:06:37.538851Z",
     "iopub.status.idle": "2022-10-22T07:06:41.572713Z",
     "shell.execute_reply": "2022-10-22T07:06:41.570471Z"
    },
    "papermill": {
     "duration": 4.043991,
     "end_time": "2022-10-22T07:06:41.575040",
     "exception": false,
     "start_time": "2022-10-22T07:06:37.531049",
     "status": "completed"
    },
    "tags": []
   },
   "outputs": [
    {
     "name": "stdout",
     "output_type": "stream",
     "text": [
      "CV Score = 0.7342468156992659\n"
     ]
    }
   ],
   "source": [
    "if COMPUTE_CV:\n",
    "    target_mapping = train.groupby('label_group').posting_id.agg('unique').to_dict()\n",
    "    train['target'] = train.label_group.map(target_mapping)\n",
    "    train['oof'] = train.apply(combine_for_cv, axis=1)\n",
    "    train['f1'] = train.apply(getMetric('oof'), axis=1)\n",
    "    print('CV Score =', train.f1.mean() )"
   ]
  },
  {
   "cell_type": "code",
   "execution_count": 21,
   "id": "648fd11d",
   "metadata": {
    "execution": {
     "iopub.execute_input": "2022-10-22T07:06:41.593842Z",
     "iopub.status.busy": "2022-10-22T07:06:41.592859Z",
     "iopub.status.idle": "2022-10-22T07:06:41.618677Z",
     "shell.execute_reply": "2022-10-22T07:06:41.617488Z"
    },
    "papermill": {
     "duration": 0.037479,
     "end_time": "2022-10-22T07:06:41.621001",
     "exception": false,
     "start_time": "2022-10-22T07:06:41.583522",
     "status": "completed"
    },
    "tags": []
   },
   "outputs": [
    {
     "data": {
      "text/html": [
       "<div>\n",
       "<style scoped>\n",
       "    .dataframe tbody tr th:only-of-type {\n",
       "        vertical-align: middle;\n",
       "    }\n",
       "\n",
       "    .dataframe tbody tr th {\n",
       "        vertical-align: top;\n",
       "    }\n",
       "\n",
       "    .dataframe thead th {\n",
       "        text-align: right;\n",
       "    }\n",
       "</style>\n",
       "<table border=\"1\" class=\"dataframe\">\n",
       "  <thead>\n",
       "    <tr style=\"text-align: right;\">\n",
       "      <th></th>\n",
       "      <th>posting_id</th>\n",
       "      <th>image</th>\n",
       "      <th>image_phash</th>\n",
       "      <th>title</th>\n",
       "      <th>label_group</th>\n",
       "      <th>target</th>\n",
       "      <th>oof_hash</th>\n",
       "      <th>f1</th>\n",
       "      <th>oof_cnn</th>\n",
       "      <th>oof_tfidf</th>\n",
       "      <th>oof</th>\n",
       "    </tr>\n",
       "  </thead>\n",
       "  <tbody>\n",
       "    <tr>\n",
       "      <th>0</th>\n",
       "      <td>train_129225211</td>\n",
       "      <td>../input/shopee-product-matching/train_images/...</td>\n",
       "      <td>94974f937d4c2433</td>\n",
       "      <td>Paper Bag Victoria Secret</td>\n",
       "      <td>249114794</td>\n",
       "      <td>[train_129225211, train_2278313361]</td>\n",
       "      <td>[train_129225211]</td>\n",
       "      <td>1.000000</td>\n",
       "      <td>[train_129225211]</td>\n",
       "      <td>[train_129225211, train_2278313361]</td>\n",
       "      <td>[train_129225211, train_2278313361]</td>\n",
       "    </tr>\n",
       "    <tr>\n",
       "      <th>1</th>\n",
       "      <td>train_3386243561</td>\n",
       "      <td>../input/shopee-product-matching/train_images/...</td>\n",
       "      <td>af3f9460c2838f0f</td>\n",
       "      <td>Double Tape 3M VHB 12 mm x 4,5 m ORIGINAL / DO...</td>\n",
       "      <td>2937985045</td>\n",
       "      <td>[train_3386243561, train_3423213080]</td>\n",
       "      <td>[train_3386243561]</td>\n",
       "      <td>0.666667</td>\n",
       "      <td>[train_3386243561]</td>\n",
       "      <td>[train_3386243561]</td>\n",
       "      <td>[train_3386243561]</td>\n",
       "    </tr>\n",
       "    <tr>\n",
       "      <th>2</th>\n",
       "      <td>train_2288590299</td>\n",
       "      <td>../input/shopee-product-matching/train_images/...</td>\n",
       "      <td>b94cb00ed3e50f78</td>\n",
       "      <td>Maling TTS Canned Pork Luncheon Meat 397 gr</td>\n",
       "      <td>2395904891</td>\n",
       "      <td>[train_2288590299, train_3803689425]</td>\n",
       "      <td>[train_2288590299]</td>\n",
       "      <td>0.666667</td>\n",
       "      <td>[train_2288590299]</td>\n",
       "      <td>[train_2288590299]</td>\n",
       "      <td>[train_2288590299]</td>\n",
       "    </tr>\n",
       "    <tr>\n",
       "      <th>3</th>\n",
       "      <td>train_2406599165</td>\n",
       "      <td>../input/shopee-product-matching/train_images/...</td>\n",
       "      <td>8514fc58eafea283</td>\n",
       "      <td>Daster Batik Lengan pendek - Motif Acak / Camp...</td>\n",
       "      <td>4093212188</td>\n",
       "      <td>[train_2406599165, train_3342059966]</td>\n",
       "      <td>[train_2406599165]</td>\n",
       "      <td>0.285714</td>\n",
       "      <td>[train_2406599165]</td>\n",
       "      <td>[train_2406599165, train_3576714541, train_150...</td>\n",
       "      <td>[train_1508100548, train_1744956981, train_240...</td>\n",
       "    </tr>\n",
       "    <tr>\n",
       "      <th>4</th>\n",
       "      <td>train_3369186413</td>\n",
       "      <td>../input/shopee-product-matching/train_images/...</td>\n",
       "      <td>a6f319f924ad708c</td>\n",
       "      <td>Nescafe \\xc3\\x89clair Latte 220ml</td>\n",
       "      <td>3648931069</td>\n",
       "      <td>[train_3369186413, train_921438619]</td>\n",
       "      <td>[train_3369186413]</td>\n",
       "      <td>0.666667</td>\n",
       "      <td>[train_3369186413]</td>\n",
       "      <td>[train_3369186413]</td>\n",
       "      <td>[train_3369186413]</td>\n",
       "    </tr>\n",
       "  </tbody>\n",
       "</table>\n",
       "</div>"
      ],
      "text/plain": [
       "         posting_id                                              image  \\\n",
       "0   train_129225211  ../input/shopee-product-matching/train_images/...   \n",
       "1  train_3386243561  ../input/shopee-product-matching/train_images/...   \n",
       "2  train_2288590299  ../input/shopee-product-matching/train_images/...   \n",
       "3  train_2406599165  ../input/shopee-product-matching/train_images/...   \n",
       "4  train_3369186413  ../input/shopee-product-matching/train_images/...   \n",
       "\n",
       "        image_phash                                              title  \\\n",
       "0  94974f937d4c2433                          Paper Bag Victoria Secret   \n",
       "1  af3f9460c2838f0f  Double Tape 3M VHB 12 mm x 4,5 m ORIGINAL / DO...   \n",
       "2  b94cb00ed3e50f78        Maling TTS Canned Pork Luncheon Meat 397 gr   \n",
       "3  8514fc58eafea283  Daster Batik Lengan pendek - Motif Acak / Camp...   \n",
       "4  a6f319f924ad708c                  Nescafe \\xc3\\x89clair Latte 220ml   \n",
       "\n",
       "   label_group                                target            oof_hash  \\\n",
       "0    249114794   [train_129225211, train_2278313361]   [train_129225211]   \n",
       "1   2937985045  [train_3386243561, train_3423213080]  [train_3386243561]   \n",
       "2   2395904891  [train_2288590299, train_3803689425]  [train_2288590299]   \n",
       "3   4093212188  [train_2406599165, train_3342059966]  [train_2406599165]   \n",
       "4   3648931069   [train_3369186413, train_921438619]  [train_3369186413]   \n",
       "\n",
       "         f1             oof_cnn  \\\n",
       "0  1.000000   [train_129225211]   \n",
       "1  0.666667  [train_3386243561]   \n",
       "2  0.666667  [train_2288590299]   \n",
       "3  0.285714  [train_2406599165]   \n",
       "4  0.666667  [train_3369186413]   \n",
       "\n",
       "                                           oof_tfidf  \\\n",
       "0                [train_129225211, train_2278313361]   \n",
       "1                                 [train_3386243561]   \n",
       "2                                 [train_2288590299]   \n",
       "3  [train_2406599165, train_3576714541, train_150...   \n",
       "4                                 [train_3369186413]   \n",
       "\n",
       "                                                 oof  \n",
       "0                [train_129225211, train_2278313361]  \n",
       "1                                 [train_3386243561]  \n",
       "2                                 [train_2288590299]  \n",
       "3  [train_1508100548, train_1744956981, train_240...  \n",
       "4                                 [train_3369186413]  "
      ]
     },
     "execution_count": 21,
     "metadata": {},
     "output_type": "execute_result"
    }
   ],
   "source": [
    "train.head()"
   ]
  },
  {
   "cell_type": "markdown",
   "id": "e3278137",
   "metadata": {
    "papermill": {
     "duration": 0.008312,
     "end_time": "2022-10-22T07:06:41.638169",
     "exception": false,
     "start_time": "2022-10-22T07:06:41.629857",
     "status": "completed"
    },
    "tags": []
   },
   "source": [
    "## Submission"
   ]
  },
  {
   "cell_type": "code",
   "execution_count": 22,
   "id": "ee14da94",
   "metadata": {
    "execution": {
     "iopub.execute_input": "2022-10-22T07:06:41.655925Z",
     "iopub.status.busy": "2022-10-22T07:06:41.655601Z",
     "iopub.status.idle": "2022-10-22T07:06:43.426093Z",
     "shell.execute_reply": "2022-10-22T07:06:43.425111Z"
    },
    "papermill": {
     "duration": 1.781617,
     "end_time": "2022-10-22T07:06:43.428266",
     "exception": false,
     "start_time": "2022-10-22T07:06:41.646649",
     "status": "completed"
    },
    "tags": []
   },
   "outputs": [
    {
     "data": {
      "text/html": [
       "<div>\n",
       "<style scoped>\n",
       "    .dataframe tbody tr th:only-of-type {\n",
       "        vertical-align: middle;\n",
       "    }\n",
       "\n",
       "    .dataframe tbody tr th {\n",
       "        vertical-align: top;\n",
       "    }\n",
       "\n",
       "    .dataframe thead th {\n",
       "        text-align: right;\n",
       "    }\n",
       "</style>\n",
       "<table border=\"1\" class=\"dataframe\">\n",
       "  <thead>\n",
       "    <tr style=\"text-align: right;\">\n",
       "      <th></th>\n",
       "      <th>posting_id</th>\n",
       "      <th>matches</th>\n",
       "    </tr>\n",
       "  </thead>\n",
       "  <tbody>\n",
       "    <tr>\n",
       "      <th>0</th>\n",
       "      <td>train_129225211</td>\n",
       "      <td>train_129225211 train_2278313361</td>\n",
       "    </tr>\n",
       "    <tr>\n",
       "      <th>1</th>\n",
       "      <td>train_3386243561</td>\n",
       "      <td>train_3386243561</td>\n",
       "    </tr>\n",
       "    <tr>\n",
       "      <th>2</th>\n",
       "      <td>train_2288590299</td>\n",
       "      <td>train_2288590299</td>\n",
       "    </tr>\n",
       "    <tr>\n",
       "      <th>3</th>\n",
       "      <td>train_2406599165</td>\n",
       "      <td>train_1508100548 train_1744956981 train_240659...</td>\n",
       "    </tr>\n",
       "    <tr>\n",
       "      <th>4</th>\n",
       "      <td>train_3369186413</td>\n",
       "      <td>train_3369186413</td>\n",
       "    </tr>\n",
       "  </tbody>\n",
       "</table>\n",
       "</div>"
      ],
      "text/plain": [
       "         posting_id                                            matches\n",
       "0   train_129225211                   train_129225211 train_2278313361\n",
       "1  train_3386243561                                   train_3386243561\n",
       "2  train_2288590299                                   train_2288590299\n",
       "3  train_2406599165  train_1508100548 train_1744956981 train_240659...\n",
       "4  train_3369186413                                   train_3369186413"
      ]
     },
     "execution_count": 22,
     "metadata": {},
     "output_type": "execute_result"
    }
   ],
   "source": [
    "train['matches'] = train.apply(combine_for_sub, axis=1)\n",
    "\n",
    "train[['posting_id','matches']].to_csv('submission.csv', index=False)\n",
    "sub = pd.read_csv('submission.csv')\n",
    "sub.head()"
   ]
  }
 ],
 "metadata": {
  "kernelspec": {
   "display_name": "Python 3",
   "language": "python",
   "name": "python3"
  },
  "language_info": {
   "codemirror_mode": {
    "name": "ipython",
    "version": 3
   },
   "file_extension": ".py",
   "mimetype": "text/x-python",
   "name": "python",
   "nbconvert_exporter": "python",
   "pygments_lexer": "ipython3",
   "version": "3.7.12"
  },
  "papermill": {
   "default_parameters": {},
   "duration": 809.781893,
   "end_time": "2022-10-22T07:06:46.352678",
   "environment_variables": {},
   "exception": null,
   "input_path": "__notebook__.ipynb",
   "output_path": "__notebook__.ipynb",
   "parameters": {},
   "start_time": "2022-10-22T06:53:16.570785",
   "version": "2.3.4"
  },
  "widgets": {
   "application/vnd.jupyter.widget-state+json": {
    "state": {
     "22a6a31d16d24daf8d516d93196b85d9": {
      "model_module": "@jupyter-widgets/controls",
      "model_module_version": "1.5.0",
      "model_name": "HBoxModel",
      "state": {
       "_dom_classes": [],
       "_model_module": "@jupyter-widgets/controls",
       "_model_module_version": "1.5.0",
       "_model_name": "HBoxModel",
       "_view_count": null,
       "_view_module": "@jupyter-widgets/controls",
       "_view_module_version": "1.5.0",
       "_view_name": "HBoxView",
       "box_style": "",
       "children": [
        "IPY_MODEL_8cf16248f3994dd6b297611062d30df0",
        "IPY_MODEL_c765e90e70524e3dade3bfea32aa0856",
        "IPY_MODEL_dcebd02a046043d19383830373070d35"
       ],
       "layout": "IPY_MODEL_b5d482b71e034eb688152d42e33145a5"
      }
     },
     "3005b634b7784349bb3bbf5fce2a57dc": {
      "model_module": "@jupyter-widgets/base",
      "model_module_version": "1.2.0",
      "model_name": "LayoutModel",
      "state": {
       "_model_module": "@jupyter-widgets/base",
       "_model_module_version": "1.2.0",
       "_model_name": "LayoutModel",
       "_view_count": null,
       "_view_module": "@jupyter-widgets/base",
       "_view_module_version": "1.2.0",
       "_view_name": "LayoutView",
       "align_content": null,
       "align_items": null,
       "align_self": null,
       "border": null,
       "bottom": null,
       "display": null,
       "flex": null,
       "flex_flow": null,
       "grid_area": null,
       "grid_auto_columns": null,
       "grid_auto_flow": null,
       "grid_auto_rows": null,
       "grid_column": null,
       "grid_gap": null,
       "grid_row": null,
       "grid_template_areas": null,
       "grid_template_columns": null,
       "grid_template_rows": null,
       "height": null,
       "justify_content": null,
       "justify_items": null,
       "left": null,
       "margin": null,
       "max_height": null,
       "max_width": null,
       "min_height": null,
       "min_width": null,
       "object_fit": null,
       "object_position": null,
       "order": null,
       "overflow": null,
       "overflow_x": null,
       "overflow_y": null,
       "padding": null,
       "right": null,
       "top": null,
       "visibility": null,
       "width": null
      }
     },
     "410db790c7d8487fa4ef9a035aca37e0": {
      "model_module": "@jupyter-widgets/controls",
      "model_module_version": "1.5.0",
      "model_name": "FloatProgressModel",
      "state": {
       "_dom_classes": [],
       "_model_module": "@jupyter-widgets/controls",
       "_model_module_version": "1.5.0",
       "_model_name": "FloatProgressModel",
       "_view_count": null,
       "_view_module": "@jupyter-widgets/controls",
       "_view_module_version": "1.5.0",
       "_view_name": "ProgressView",
       "bar_style": "success",
       "description": "",
       "description_tooltip": null,
       "layout": "IPY_MODEL_3005b634b7784349bb3bbf5fce2a57dc",
       "max": 3425.0,
       "min": 0.0,
       "orientation": "horizontal",
       "style": "IPY_MODEL_8375d14f90a1479782e8fbde3f940872",
       "value": 3425.0
      }
     },
     "42ca93ed58944378b79a07b60d6ab9fa": {
      "model_module": "@jupyter-widgets/base",
      "model_module_version": "1.2.0",
      "model_name": "LayoutModel",
      "state": {
       "_model_module": "@jupyter-widgets/base",
       "_model_module_version": "1.2.0",
       "_model_name": "LayoutModel",
       "_view_count": null,
       "_view_module": "@jupyter-widgets/base",
       "_view_module_version": "1.2.0",
       "_view_name": "LayoutView",
       "align_content": null,
       "align_items": null,
       "align_self": null,
       "border": null,
       "bottom": null,
       "display": null,
       "flex": null,
       "flex_flow": null,
       "grid_area": null,
       "grid_auto_columns": null,
       "grid_auto_flow": null,
       "grid_auto_rows": null,
       "grid_column": null,
       "grid_gap": null,
       "grid_row": null,
       "grid_template_areas": null,
       "grid_template_columns": null,
       "grid_template_rows": null,
       "height": null,
       "justify_content": null,
       "justify_items": null,
       "left": null,
       "margin": null,
       "max_height": null,
       "max_width": null,
       "min_height": null,
       "min_width": null,
       "object_fit": null,
       "object_position": null,
       "order": null,
       "overflow": null,
       "overflow_x": null,
       "overflow_y": null,
       "padding": null,
       "right": null,
       "top": null,
       "visibility": null,
       "width": null
      }
     },
     "4c50d00e9f7245c0a1e6118040704296": {
      "model_module": "@jupyter-widgets/controls",
      "model_module_version": "1.5.0",
      "model_name": "HBoxModel",
      "state": {
       "_dom_classes": [],
       "_model_module": "@jupyter-widgets/controls",
       "_model_module_version": "1.5.0",
       "_model_name": "HBoxModel",
       "_view_count": null,
       "_view_module": "@jupyter-widgets/controls",
       "_view_module_version": "1.5.0",
       "_view_name": "HBoxView",
       "box_style": "",
       "children": [
        "IPY_MODEL_c7b327b441764e399c43a9e22611b365",
        "IPY_MODEL_410db790c7d8487fa4ef9a035aca37e0",
        "IPY_MODEL_94374df84bf2424f9bad3bc61ab0c386"
       ],
       "layout": "IPY_MODEL_5341fd9e8d6c46cbb4f4d4c8c4f64944"
      }
     },
     "5341fd9e8d6c46cbb4f4d4c8c4f64944": {
      "model_module": "@jupyter-widgets/base",
      "model_module_version": "1.2.0",
      "model_name": "LayoutModel",
      "state": {
       "_model_module": "@jupyter-widgets/base",
       "_model_module_version": "1.2.0",
       "_model_name": "LayoutModel",
       "_view_count": null,
       "_view_module": "@jupyter-widgets/base",
       "_view_module_version": "1.2.0",
       "_view_name": "LayoutView",
       "align_content": null,
       "align_items": null,
       "align_self": null,
       "border": null,
       "bottom": null,
       "display": null,
       "flex": null,
       "flex_flow": null,
       "grid_area": null,
       "grid_auto_columns": null,
       "grid_auto_flow": null,
       "grid_auto_rows": null,
       "grid_column": null,
       "grid_gap": null,
       "grid_row": null,
       "grid_template_areas": null,
       "grid_template_columns": null,
       "grid_template_rows": null,
       "height": null,
       "justify_content": null,
       "justify_items": null,
       "left": null,
       "margin": null,
       "max_height": null,
       "max_width": null,
       "min_height": null,
       "min_width": null,
       "object_fit": null,
       "object_position": null,
       "order": null,
       "overflow": null,
       "overflow_x": null,
       "overflow_y": null,
       "padding": null,
       "right": null,
       "top": null,
       "visibility": null,
       "width": null
      }
     },
     "58c0db34003846478acf84543e83b5fd": {
      "model_module": "@jupyter-widgets/controls",
      "model_module_version": "1.5.0",
      "model_name": "DescriptionStyleModel",
      "state": {
       "_model_module": "@jupyter-widgets/controls",
       "_model_module_version": "1.5.0",
       "_model_name": "DescriptionStyleModel",
       "_view_count": null,
       "_view_module": "@jupyter-widgets/base",
       "_view_module_version": "1.2.0",
       "_view_name": "StyleView",
       "description_width": ""
      }
     },
     "765857ac7458405b8b9abf9d95761587": {
      "model_module": "@jupyter-widgets/controls",
      "model_module_version": "1.5.0",
      "model_name": "DescriptionStyleModel",
      "state": {
       "_model_module": "@jupyter-widgets/controls",
       "_model_module_version": "1.5.0",
       "_model_name": "DescriptionStyleModel",
       "_view_count": null,
       "_view_module": "@jupyter-widgets/base",
       "_view_module_version": "1.2.0",
       "_view_name": "StyleView",
       "description_width": ""
      }
     },
     "8375d14f90a1479782e8fbde3f940872": {
      "model_module": "@jupyter-widgets/controls",
      "model_module_version": "1.5.0",
      "model_name": "ProgressStyleModel",
      "state": {
       "_model_module": "@jupyter-widgets/controls",
       "_model_module_version": "1.5.0",
       "_model_name": "ProgressStyleModel",
       "_view_count": null,
       "_view_module": "@jupyter-widgets/base",
       "_view_module_version": "1.2.0",
       "_view_name": "StyleView",
       "bar_color": null,
       "description_width": ""
      }
     },
     "8cf16248f3994dd6b297611062d30df0": {
      "model_module": "@jupyter-widgets/controls",
      "model_module_version": "1.5.0",
      "model_name": "HTMLModel",
      "state": {
       "_dom_classes": [],
       "_model_module": "@jupyter-widgets/controls",
       "_model_module_version": "1.5.0",
       "_model_name": "HTMLModel",
       "_view_count": null,
       "_view_module": "@jupyter-widgets/controls",
       "_view_module_version": "1.5.0",
       "_view_name": "HTMLView",
       "description": "",
       "description_tooltip": null,
       "layout": "IPY_MODEL_42ca93ed58944378b79a07b60d6ab9fa",
       "placeholder": "​",
       "style": "IPY_MODEL_fb49caaa76444e47a1d49faf6f37182f",
       "value": "100%"
      }
     },
     "92d1b26eddcb46aca8875786c4c8a67a": {
      "model_module": "@jupyter-widgets/controls",
      "model_module_version": "1.5.0",
      "model_name": "DescriptionStyleModel",
      "state": {
       "_model_module": "@jupyter-widgets/controls",
       "_model_module_version": "1.5.0",
       "_model_name": "DescriptionStyleModel",
       "_view_count": null,
       "_view_module": "@jupyter-widgets/base",
       "_view_module_version": "1.2.0",
       "_view_name": "StyleView",
       "description_width": ""
      }
     },
     "94374df84bf2424f9bad3bc61ab0c386": {
      "model_module": "@jupyter-widgets/controls",
      "model_module_version": "1.5.0",
      "model_name": "HTMLModel",
      "state": {
       "_dom_classes": [],
       "_model_module": "@jupyter-widgets/controls",
       "_model_module_version": "1.5.0",
       "_model_name": "HTMLModel",
       "_view_count": null,
       "_view_module": "@jupyter-widgets/controls",
       "_view_module_version": "1.5.0",
       "_view_name": "HTMLView",
       "description": "",
       "description_tooltip": null,
       "layout": "IPY_MODEL_9dc8eb794b9649f28096366e619c88e2",
       "placeholder": "​",
       "style": "IPY_MODEL_765857ac7458405b8b9abf9d95761587",
       "value": " 3425/3425 [11:40&lt;00:00,  4.99it/s]"
      }
     },
     "9dc8eb794b9649f28096366e619c88e2": {
      "model_module": "@jupyter-widgets/base",
      "model_module_version": "1.2.0",
      "model_name": "LayoutModel",
      "state": {
       "_model_module": "@jupyter-widgets/base",
       "_model_module_version": "1.2.0",
       "_model_name": "LayoutModel",
       "_view_count": null,
       "_view_module": "@jupyter-widgets/base",
       "_view_module_version": "1.2.0",
       "_view_name": "LayoutView",
       "align_content": null,
       "align_items": null,
       "align_self": null,
       "border": null,
       "bottom": null,
       "display": null,
       "flex": null,
       "flex_flow": null,
       "grid_area": null,
       "grid_auto_columns": null,
       "grid_auto_flow": null,
       "grid_auto_rows": null,
       "grid_column": null,
       "grid_gap": null,
       "grid_row": null,
       "grid_template_areas": null,
       "grid_template_columns": null,
       "grid_template_rows": null,
       "height": null,
       "justify_content": null,
       "justify_items": null,
       "left": null,
       "margin": null,
       "max_height": null,
       "max_width": null,
       "min_height": null,
       "min_width": null,
       "object_fit": null,
       "object_position": null,
       "order": null,
       "overflow": null,
       "overflow_x": null,
       "overflow_y": null,
       "padding": null,
       "right": null,
       "top": null,
       "visibility": null,
       "width": null
      }
     },
     "ae840583bf694e8aa2500e0fc00139f6": {
      "model_module": "@jupyter-widgets/controls",
      "model_module_version": "1.5.0",
      "model_name": "ProgressStyleModel",
      "state": {
       "_model_module": "@jupyter-widgets/controls",
       "_model_module_version": "1.5.0",
       "_model_name": "ProgressStyleModel",
       "_view_count": null,
       "_view_module": "@jupyter-widgets/base",
       "_view_module_version": "1.2.0",
       "_view_name": "StyleView",
       "bar_color": null,
       "description_width": ""
      }
     },
     "b5bbee3d88494d95b6988b4316086fd6": {
      "model_module": "@jupyter-widgets/base",
      "model_module_version": "1.2.0",
      "model_name": "LayoutModel",
      "state": {
       "_model_module": "@jupyter-widgets/base",
       "_model_module_version": "1.2.0",
       "_model_name": "LayoutModel",
       "_view_count": null,
       "_view_module": "@jupyter-widgets/base",
       "_view_module_version": "1.2.0",
       "_view_name": "LayoutView",
       "align_content": null,
       "align_items": null,
       "align_self": null,
       "border": null,
       "bottom": null,
       "display": null,
       "flex": null,
       "flex_flow": null,
       "grid_area": null,
       "grid_auto_columns": null,
       "grid_auto_flow": null,
       "grid_auto_rows": null,
       "grid_column": null,
       "grid_gap": null,
       "grid_row": null,
       "grid_template_areas": null,
       "grid_template_columns": null,
       "grid_template_rows": null,
       "height": null,
       "justify_content": null,
       "justify_items": null,
       "left": null,
       "margin": null,
       "max_height": null,
       "max_width": null,
       "min_height": null,
       "min_width": null,
       "object_fit": null,
       "object_position": null,
       "order": null,
       "overflow": null,
       "overflow_x": null,
       "overflow_y": null,
       "padding": null,
       "right": null,
       "top": null,
       "visibility": null,
       "width": null
      }
     },
     "b5d482b71e034eb688152d42e33145a5": {
      "model_module": "@jupyter-widgets/base",
      "model_module_version": "1.2.0",
      "model_name": "LayoutModel",
      "state": {
       "_model_module": "@jupyter-widgets/base",
       "_model_module_version": "1.2.0",
       "_model_name": "LayoutModel",
       "_view_count": null,
       "_view_module": "@jupyter-widgets/base",
       "_view_module_version": "1.2.0",
       "_view_name": "LayoutView",
       "align_content": null,
       "align_items": null,
       "align_self": null,
       "border": null,
       "bottom": null,
       "display": null,
       "flex": null,
       "flex_flow": null,
       "grid_area": null,
       "grid_auto_columns": null,
       "grid_auto_flow": null,
       "grid_auto_rows": null,
       "grid_column": null,
       "grid_gap": null,
       "grid_row": null,
       "grid_template_areas": null,
       "grid_template_columns": null,
       "grid_template_rows": null,
       "height": null,
       "justify_content": null,
       "justify_items": null,
       "left": null,
       "margin": null,
       "max_height": null,
       "max_width": null,
       "min_height": null,
       "min_width": null,
       "object_fit": null,
       "object_position": null,
       "order": null,
       "overflow": null,
       "overflow_x": null,
       "overflow_y": null,
       "padding": null,
       "right": null,
       "top": null,
       "visibility": null,
       "width": null
      }
     },
     "c765e90e70524e3dade3bfea32aa0856": {
      "model_module": "@jupyter-widgets/controls",
      "model_module_version": "1.5.0",
      "model_name": "FloatProgressModel",
      "state": {
       "_dom_classes": [],
       "_model_module": "@jupyter-widgets/controls",
       "_model_module_version": "1.5.0",
       "_model_name": "FloatProgressModel",
       "_view_count": null,
       "_view_module": "@jupyter-widgets/controls",
       "_view_module_version": "1.5.0",
       "_view_name": "ProgressView",
       "bar_style": "success",
       "description": "",
       "description_tooltip": null,
       "layout": "IPY_MODEL_b5bbee3d88494d95b6988b4316086fd6",
       "max": 46830571.0,
       "min": 0.0,
       "orientation": "horizontal",
       "style": "IPY_MODEL_ae840583bf694e8aa2500e0fc00139f6",
       "value": 46830571.0
      }
     },
     "c7b327b441764e399c43a9e22611b365": {
      "model_module": "@jupyter-widgets/controls",
      "model_module_version": "1.5.0",
      "model_name": "HTMLModel",
      "state": {
       "_dom_classes": [],
       "_model_module": "@jupyter-widgets/controls",
       "_model_module_version": "1.5.0",
       "_model_name": "HTMLModel",
       "_view_count": null,
       "_view_module": "@jupyter-widgets/controls",
       "_view_module_version": "1.5.0",
       "_view_name": "HTMLView",
       "description": "",
       "description_tooltip": null,
       "layout": "IPY_MODEL_e425fead25c1457e83e093faa84c2213",
       "placeholder": "​",
       "style": "IPY_MODEL_92d1b26eddcb46aca8875786c4c8a67a",
       "value": "100%"
      }
     },
     "dcebd02a046043d19383830373070d35": {
      "model_module": "@jupyter-widgets/controls",
      "model_module_version": "1.5.0",
      "model_name": "HTMLModel",
      "state": {
       "_dom_classes": [],
       "_model_module": "@jupyter-widgets/controls",
       "_model_module_version": "1.5.0",
       "_model_name": "HTMLModel",
       "_view_count": null,
       "_view_module": "@jupyter-widgets/controls",
       "_view_module_version": "1.5.0",
       "_view_name": "HTMLView",
       "description": "",
       "description_tooltip": null,
       "layout": "IPY_MODEL_e5b6f99a154e481484de415b6c486faf",
       "placeholder": "​",
       "style": "IPY_MODEL_58c0db34003846478acf84543e83b5fd",
       "value": " 44.7M/44.7M [00:05&lt;00:00, 11.7MB/s]"
      }
     },
     "e425fead25c1457e83e093faa84c2213": {
      "model_module": "@jupyter-widgets/base",
      "model_module_version": "1.2.0",
      "model_name": "LayoutModel",
      "state": {
       "_model_module": "@jupyter-widgets/base",
       "_model_module_version": "1.2.0",
       "_model_name": "LayoutModel",
       "_view_count": null,
       "_view_module": "@jupyter-widgets/base",
       "_view_module_version": "1.2.0",
       "_view_name": "LayoutView",
       "align_content": null,
       "align_items": null,
       "align_self": null,
       "border": null,
       "bottom": null,
       "display": null,
       "flex": null,
       "flex_flow": null,
       "grid_area": null,
       "grid_auto_columns": null,
       "grid_auto_flow": null,
       "grid_auto_rows": null,
       "grid_column": null,
       "grid_gap": null,
       "grid_row": null,
       "grid_template_areas": null,
       "grid_template_columns": null,
       "grid_template_rows": null,
       "height": null,
       "justify_content": null,
       "justify_items": null,
       "left": null,
       "margin": null,
       "max_height": null,
       "max_width": null,
       "min_height": null,
       "min_width": null,
       "object_fit": null,
       "object_position": null,
       "order": null,
       "overflow": null,
       "overflow_x": null,
       "overflow_y": null,
       "padding": null,
       "right": null,
       "top": null,
       "visibility": null,
       "width": null
      }
     },
     "e5b6f99a154e481484de415b6c486faf": {
      "model_module": "@jupyter-widgets/base",
      "model_module_version": "1.2.0",
      "model_name": "LayoutModel",
      "state": {
       "_model_module": "@jupyter-widgets/base",
       "_model_module_version": "1.2.0",
       "_model_name": "LayoutModel",
       "_view_count": null,
       "_view_module": "@jupyter-widgets/base",
       "_view_module_version": "1.2.0",
       "_view_name": "LayoutView",
       "align_content": null,
       "align_items": null,
       "align_self": null,
       "border": null,
       "bottom": null,
       "display": null,
       "flex": null,
       "flex_flow": null,
       "grid_area": null,
       "grid_auto_columns": null,
       "grid_auto_flow": null,
       "grid_auto_rows": null,
       "grid_column": null,
       "grid_gap": null,
       "grid_row": null,
       "grid_template_areas": null,
       "grid_template_columns": null,
       "grid_template_rows": null,
       "height": null,
       "justify_content": null,
       "justify_items": null,
       "left": null,
       "margin": null,
       "max_height": null,
       "max_width": null,
       "min_height": null,
       "min_width": null,
       "object_fit": null,
       "object_position": null,
       "order": null,
       "overflow": null,
       "overflow_x": null,
       "overflow_y": null,
       "padding": null,
       "right": null,
       "top": null,
       "visibility": null,
       "width": null
      }
     },
     "fb49caaa76444e47a1d49faf6f37182f": {
      "model_module": "@jupyter-widgets/controls",
      "model_module_version": "1.5.0",
      "model_name": "DescriptionStyleModel",
      "state": {
       "_model_module": "@jupyter-widgets/controls",
       "_model_module_version": "1.5.0",
       "_model_name": "DescriptionStyleModel",
       "_view_count": null,
       "_view_module": "@jupyter-widgets/base",
       "_view_module_version": "1.2.0",
       "_view_name": "StyleView",
       "description_width": ""
      }
     }
    },
    "version_major": 2,
    "version_minor": 0
   }
  }
 },
 "nbformat": 4,
 "nbformat_minor": 5
}
