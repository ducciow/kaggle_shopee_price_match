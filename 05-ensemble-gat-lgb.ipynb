{
 "cells": [
  {
   "cell_type": "markdown",
   "metadata": {
    "papermill": {
     "duration": 0.031606,
     "end_time": "2022-10-23T11:36:24.792677",
     "exception": false,
     "start_time": "2022-10-23T11:36:24.761071",
     "status": "completed"
    },
    "tags": []
   },
   "source": [
    "References: \n",
    "* https://www.kaggle.com/competitions/shopee-product-matching/discussion/238022\n",
    "* https://www.kaggle.com/code/lyakaap/2nd-place-solution"
   ]
  },
  {
   "cell_type": "code",
   "execution_count": 1,
   "metadata": {
    "_cell_guid": "b1076dfc-b9ad-4769-8c92-a6c4dae69d19",
    "_uuid": "8f2839f25d086af736a60e9eeb907d3b93b6e0e5",
    "execution": {
     "iopub.execute_input": "2022-10-23T11:36:24.865327Z",
     "iopub.status.busy": "2022-10-23T11:36:24.855646Z",
     "iopub.status.idle": "2022-10-23T11:37:19.633855Z",
     "shell.execute_reply": "2022-10-23T11:37:19.633052Z",
     "shell.execute_reply.started": "2022-10-22T13:27:58.251424Z"
    },
    "papermill": {
     "duration": 54.813312,
     "end_time": "2022-10-23T11:37:19.634065",
     "exception": false,
     "start_time": "2022-10-23T11:36:24.820753",
     "status": "completed"
    },
    "tags": []
   },
   "outputs": [],
   "source": [
    "%%capture\n",
    "!pip install ../input/faiss-163/faiss_gpu-1.6.3-cp37-cp37m-manylinux2010_x86_64.whl\n",
    "!pip install ../input/shopee-libs/editdistance-0.5.3-cp37-cp37m-manylinux1_x86_64.whl"
   ]
  },
  {
   "cell_type": "code",
   "execution_count": 2,
   "metadata": {
    "execution": {
     "iopub.execute_input": "2022-10-23T11:37:19.700202Z",
     "iopub.status.busy": "2022-10-23T11:37:19.699366Z",
     "iopub.status.idle": "2022-10-23T11:37:25.114349Z",
     "shell.execute_reply": "2022-10-23T11:37:25.113640Z",
     "shell.execute_reply.started": "2022-10-22T13:28:53.055687Z"
    },
    "papermill": {
     "duration": 5.450919,
     "end_time": "2022-10-23T11:37:25.114494",
     "exception": false,
     "start_time": "2022-10-23T11:37:19.663575",
     "status": "completed"
    },
    "tags": []
   },
   "outputs": [
    {
     "data": {
      "text/html": [
       "<style type='text/css'>\n",
       ".datatable table.frame { margin-bottom: 0; }\n",
       ".datatable table.frame thead { border-bottom: none; }\n",
       ".datatable table.frame tr.coltypes td {  color: #FFFFFF;  line-height: 6px;  padding: 0 0.5em;}\n",
       ".datatable .bool    { background: #DDDD99; }\n",
       ".datatable .object  { background: #565656; }\n",
       ".datatable .int     { background: #5D9E5D; }\n",
       ".datatable .float   { background: #4040CC; }\n",
       ".datatable .str     { background: #CC4040; }\n",
       ".datatable .row_index {  background: var(--jp-border-color3);  border-right: 1px solid var(--jp-border-color0);  color: var(--jp-ui-font-color3);  font-size: 9px;}\n",
       ".datatable .frame tr.coltypes .row_index {  background: var(--jp-border-color0);}\n",
       ".datatable th:nth-child(2) { padding-left: 12px; }\n",
       ".datatable .hellipsis {  color: var(--jp-cell-editor-border-color);}\n",
       ".datatable .vellipsis {  background: var(--jp-layout-color0);  color: var(--jp-cell-editor-border-color);}\n",
       ".datatable .na {  color: var(--jp-cell-editor-border-color);  font-size: 80%;}\n",
       ".datatable .footer { font-size: 9px; }\n",
       ".datatable .frame_dimensions {  background: var(--jp-border-color3);  border-top: 1px solid var(--jp-border-color0);  color: var(--jp-ui-font-color3);  display: inline-block;  opacity: 0.6;  padding: 1px 10px 1px 5px;}\n",
       "</style>\n"
      ],
      "text/plain": [
       "<IPython.core.display.HTML object>"
      ]
     },
     "metadata": {},
     "output_type": "display_data"
    }
   ],
   "source": [
    "import sys\n",
    "sys.path.append('../input/timm045/')\n",
    "\n",
    "from itertools import zip_longest\n",
    "import json\n",
    "import math\n",
    "import gc\n",
    "import os\n",
    "from pathlib import Path\n",
    "import joblib\n",
    "from tqdm import tqdm\n",
    "\n",
    "import numpy as np\n",
    "import pandas as pd\n",
    "import torch\n",
    "import torch.nn as nn\n",
    "import torch.nn.functional as F\n",
    "import torch.optim as optim\n",
    "from torch.utils.data import DataLoader, Dataset\n",
    "from torchvision.io import read_image\n",
    "from torchvision.transforms import Resize, RandomHorizontalFlip, ColorJitter, Normalize, Compose, RandomResizedCrop, CenterCrop, ToTensor\n",
    "\n",
    "from PIL import Image\n",
    "import timm\n",
    "import faiss\n",
    "from transformers import BertConfig, BertModel, BertTokenizerFast\n",
    "from transformers import AutoTokenizer, AutoModel, AutoConfig\n",
    "\n",
    "import string\n",
    "import cupy as cp\n",
    "import lightgbm as lgb\n",
    "import nltk\n",
    "from nltk.tokenize.treebank import TreebankWordTokenizer\n",
    "from nltk.tokenize import TweetTokenizer\n",
    "from sklearn.feature_extraction.text import TfidfVectorizer\n",
    "import editdistance\n",
    "import networkx as nx"
   ]
  },
  {
   "cell_type": "code",
   "execution_count": 3,
   "metadata": {
    "execution": {
     "iopub.execute_input": "2022-10-23T11:37:25.176544Z",
     "iopub.status.busy": "2022-10-23T11:37:25.175787Z",
     "iopub.status.idle": "2022-10-23T11:37:25.197315Z",
     "shell.execute_reply": "2022-10-23T11:37:25.196524Z",
     "shell.execute_reply.started": "2022-10-22T13:28:59.418632Z"
    },
    "papermill": {
     "duration": 0.053277,
     "end_time": "2022-10-23T11:37:25.197441",
     "exception": false,
     "start_time": "2022-10-23T11:37:25.144164",
     "status": "completed"
    },
    "tags": []
   },
   "outputs": [],
   "source": [
    "DEBUG = len(pd.read_csv('../input/shopee-product-matching/test.csv')) == 3\n",
    "NUM_CLASSES = 11014\n",
    "NUM_WORKERS = 2\n",
    "SEED = 0\n",
    "k = 50\n",
    "conf_th = 0.7\n",
    "\n",
    "\n",
    "def load_data():\n",
    "    if DEBUG:\n",
    "        nrows = 1000\n",
    "        df = pd.read_csv('../input/shopee-product-matching/train.csv', nrows=nrows, usecols=['posting_id', 'image', 'title'])\n",
    "        img_dir = Path('../input/shopee-product-matching/train_images/')\n",
    "    else:\n",
    "        nrows = None\n",
    "        df = pd.read_csv('../input/shopee-product-matching/test.csv', usecols=['posting_id', 'image', 'title'])\n",
    "        img_dir = Path('../input/shopee-product-matching/test_images/')\n",
    "    return df, img_dir\n",
    "\n",
    "def gem(x, p=3, eps=1e-6):\n",
    "    return F.avg_pool2d(x.clamp(min=eps).pow(p), (x.size(-2), x.size(-1))).pow(1./p)\n",
    "\n",
    "def query_expansion(feats, sims, topk_idx, alpha=0.5, k=2):\n",
    "    weights = np.expand_dims(sims[:, :k] ** alpha, axis=-1).astype(np.float32)\n",
    "    feats = (feats[topk_idx[:, :k]] * weights).sum(axis=1)\n",
    "    return feats"
   ]
  },
  {
   "cell_type": "markdown",
   "metadata": {
    "papermill": {
     "duration": 0.028716,
     "end_time": "2022-10-23T11:37:25.255690",
     "exception": false,
     "start_time": "2022-10-23T11:37:25.226974",
     "status": "completed"
    },
    "tags": []
   },
   "source": [
    "# Image similarity, Multi-modal similarity"
   ]
  },
  {
   "cell_type": "code",
   "execution_count": 4,
   "metadata": {
    "execution": {
     "iopub.execute_input": "2022-10-23T11:37:25.326264Z",
     "iopub.status.busy": "2022-10-23T11:37:25.321525Z",
     "iopub.status.idle": "2022-10-23T11:37:25.334558Z",
     "shell.execute_reply": "2022-10-23T11:37:25.334071Z",
     "shell.execute_reply.started": "2022-10-22T13:28:59.447029Z"
    },
    "papermill": {
     "duration": 0.05036,
     "end_time": "2022-10-23T11:37:25.334716",
     "exception": false,
     "start_time": "2022-10-23T11:37:25.284356",
     "status": "completed"
    },
    "tags": []
   },
   "outputs": [],
   "source": [
    "class ShopeeNet(nn.Module):\n",
    "    def __init__(self,\n",
    "                 backbone,\n",
    "                 num_classes,\n",
    "                 fc_dim=512,\n",
    "                 s=30, margin=0.5, p=3):\n",
    "        super(ShopeeNet, self).__init__()\n",
    "\n",
    "        self.backbone = backbone\n",
    "        self.backbone.reset_classifier(num_classes=0)  # remove classifier\n",
    "\n",
    "        self.fc = nn.Linear(self.backbone.num_features, fc_dim)\n",
    "        self.bn = nn.BatchNorm1d(fc_dim)\n",
    "        self._init_params()\n",
    "        self.p = p\n",
    "\n",
    "    def _init_params(self):\n",
    "        nn.init.xavier_normal_(self.fc.weight)\n",
    "        nn.init.constant_(self.fc.bias, 0)\n",
    "        nn.init.constant_(self.bn.weight, 1)\n",
    "        nn.init.constant_(self.bn.bias, 0)\n",
    "\n",
    "    def extract_feat(self, x):\n",
    "        batch_size = x.shape[0]\n",
    "        x = self.backbone.forward_features(x)\n",
    "        if isinstance(x, tuple):\n",
    "            x = (x[0] + x[1]) / 2\n",
    "            x = self.bn(x)\n",
    "        else:\n",
    "            x = gem(x, p=self.p).view(batch_size, -1)\n",
    "            x = self.fc(x)\n",
    "            x = self.bn(x)\n",
    "        return x\n",
    "\n",
    "    def forward(self, x, label):\n",
    "        feat = self.extract_feat(x)\n",
    "        x = self.loss_module(feat, label)\n",
    "        return x, feat\n",
    "\n",
    "\n",
    "class ShopeeDataset(Dataset):\n",
    "    def __init__(self, df, img_dir, transform=None):\n",
    "        self.df = df\n",
    "        self.img_dir = img_dir\n",
    "        self.transform = transform\n",
    "\n",
    "    def __getitem__(self, index):\n",
    "        row = self.df.iloc[index]\n",
    "        img = read_image(str(self.img_dir / row['image']))\n",
    "        _, h, w = img.shape\n",
    "        st_size = (self.img_dir / row['image']).stat().st_size\n",
    "        if self.transform is not None:\n",
    "            img = self.transform(img)\n",
    "\n",
    "        return img, row['title'], h, w, st_size\n",
    "\n",
    "    def __len__(self):\n",
    "        return len(self.df)\n",
    "\n",
    "\n",
    "class MultiModalNet(nn.Module):\n",
    "    def __init__(self,\n",
    "                 backbone,\n",
    "                 bert_model,\n",
    "                 num_classes,\n",
    "                 tokenizer,\n",
    "                 max_len=32,\n",
    "                 fc_dim=512,\n",
    "                 s=30, margin=0.5, p=3, loss='ArcMarginProduct'):\n",
    "        super().__init__()\n",
    "\n",
    "        self.backbone = backbone\n",
    "        self.backbone.reset_classifier(num_classes=0)  # remove classifier\n",
    "\n",
    "        self.bert_model = bert_model\n",
    "        self.tokenizer = tokenizer\n",
    "        self.max_len = max_len\n",
    "        self.fc = nn.Linear(self.bert_model.config.hidden_size + self.backbone.num_features, fc_dim)\n",
    "        self.bn = nn.BatchNorm1d(fc_dim)\n",
    "        self._init_params()\n",
    "        self.p = p\n",
    "\n",
    "    def _init_params(self):\n",
    "        nn.init.xavier_normal_(self.fc.weight)\n",
    "        nn.init.constant_(self.fc.bias, 0)\n",
    "        nn.init.constant_(self.bn.weight, 1)\n",
    "        nn.init.constant_(self.bn.bias, 0)\n",
    "\n",
    "    def extract_feat(self, img, title):\n",
    "        batch_size = img.shape[0]\n",
    "        img = self.backbone.forward_features(img)\n",
    "        img = gem(img, p=self.p).view(batch_size, -1)\n",
    "\n",
    "        tokenizer_output = self.tokenizer(title, truncation=True, padding=True, max_length=self.max_len)\n",
    "        input_ids = torch.LongTensor(tokenizer_output['input_ids']).to('cuda')\n",
    "        token_type_ids = torch.LongTensor(tokenizer_output['token_type_ids']).to('cuda')\n",
    "        attention_mask = torch.LongTensor(tokenizer_output['attention_mask']).to('cuda')\n",
    "        title = self.bert_model(input_ids=input_ids, token_type_ids=token_type_ids, attention_mask=attention_mask)\n",
    "        # x = x.last_hidden_state.sum(dim=1) / attention_mask.sum(dim=1, keepdims=True)\n",
    "        title = title.last_hidden_state.mean(dim=1)\n",
    "\n",
    "        x = torch.cat([img, title], dim=1)\n",
    "        x = self.fc(x)\n",
    "        x = self.bn(x)\n",
    "        return x"
   ]
  },
  {
   "cell_type": "code",
   "execution_count": 5,
   "metadata": {
    "execution": {
     "iopub.execute_input": "2022-10-23T11:37:25.398104Z",
     "iopub.status.busy": "2022-10-23T11:37:25.397521Z",
     "iopub.status.idle": "2022-10-23T11:37:25.415982Z",
     "shell.execute_reply": "2022-10-23T11:37:25.415527Z",
     "shell.execute_reply.started": "2022-10-22T13:28:59.482720Z"
    },
    "papermill": {
     "duration": 0.05213,
     "end_time": "2022-10-23T11:37:25.416113",
     "exception": false,
     "start_time": "2022-10-23T11:37:25.363983",
     "status": "completed"
    },
    "tags": []
   },
   "outputs": [],
   "source": [
    "df, img_dir = load_data()"
   ]
  },
  {
   "cell_type": "code",
   "execution_count": 6,
   "metadata": {
    "execution": {
     "iopub.execute_input": "2022-10-23T11:37:25.477477Z",
     "iopub.status.busy": "2022-10-23T11:37:25.476962Z",
     "iopub.status.idle": "2022-10-23T11:37:42.641817Z",
     "shell.execute_reply": "2022-10-23T11:37:42.641306Z",
     "shell.execute_reply.started": "2022-10-22T13:28:59.511090Z"
    },
    "papermill": {
     "duration": 17.197025,
     "end_time": "2022-10-23T11:37:42.641993",
     "exception": false,
     "start_time": "2022-10-23T11:37:25.444968",
     "status": "completed"
    },
    "tags": []
   },
   "outputs": [],
   "source": [
    "checkpoint1 = torch.load('../input/shopee/v45.pth')\n",
    "checkpoint2 = torch.load('../input/shopee/v34.pth')\n",
    "checkpoint3 = torch.load('../input/shopee/v79.pth')\n",
    "params1 = checkpoint1['params']\n",
    "params2 = checkpoint2['params']\n",
    "params3 = checkpoint3['params']"
   ]
  },
  {
   "cell_type": "code",
   "execution_count": 7,
   "metadata": {
    "execution": {
     "iopub.execute_input": "2022-10-23T11:37:42.703724Z",
     "iopub.status.busy": "2022-10-23T11:37:42.703157Z",
     "iopub.status.idle": "2022-10-23T11:37:42.708242Z",
     "shell.execute_reply": "2022-10-23T11:37:42.707826Z",
     "shell.execute_reply.started": "2022-10-22T13:29:22.043207Z"
    },
    "papermill": {
     "duration": 0.037664,
     "end_time": "2022-10-23T11:37:42.708362",
     "exception": false,
     "start_time": "2022-10-23T11:37:42.670698",
     "status": "completed"
    },
    "tags": []
   },
   "outputs": [
    {
     "data": {
      "text/plain": [
       "{'ver': 'v45',\n",
       " 'size': 384,\n",
       " 'test_size': 384,\n",
       " 'lr': 0.001,\n",
       " 'batch_size': 32,\n",
       " 'optimizer': 'sam',\n",
       " 'epochs': 18,\n",
       " 'wd': 0.0,\n",
       " 'backbone': 'vit_deit_base_distilled_patch16_384',\n",
       " 'margin': 0.3,\n",
       " 's': 50,\n",
       " 'fc_dim': 768,\n",
       " 'brightness': 0.2,\n",
       " 'contrast': 0.2,\n",
       " 'scale_lower': 0.2,\n",
       " 'scale_upper': 1.0,\n",
       " 'filter_wd': True,\n",
       " 'p': 3.0,\n",
       " 'p_eval': 6.0,\n",
       " 'loss': 'CurricularFace'}"
      ]
     },
     "execution_count": 7,
     "metadata": {},
     "output_type": "execute_result"
    }
   ],
   "source": [
    "params1"
   ]
  },
  {
   "cell_type": "code",
   "execution_count": 8,
   "metadata": {
    "execution": {
     "iopub.execute_input": "2022-10-23T11:37:42.770094Z",
     "iopub.status.busy": "2022-10-23T11:37:42.769535Z",
     "iopub.status.idle": "2022-10-23T11:37:42.775319Z",
     "shell.execute_reply": "2022-10-23T11:37:42.774790Z",
     "shell.execute_reply.started": "2022-10-22T13:29:22.052658Z"
    },
    "papermill": {
     "duration": 0.03806,
     "end_time": "2022-10-23T11:37:42.775450",
     "exception": false,
     "start_time": "2022-10-23T11:37:42.737390",
     "status": "completed"
    },
    "tags": []
   },
   "outputs": [
    {
     "data": {
      "text/plain": [
       "{'ver': 'v34',\n",
       " 'size': 256,\n",
       " 'test_size': 320,\n",
       " 'lr': 0.001,\n",
       " 'batch_size': 32,\n",
       " 'optimizer': 'sam',\n",
       " 'epochs': 11,\n",
       " 'wd': 0.0,\n",
       " 'backbone': 'dm_nfnet_f0',\n",
       " 'margin': 0.3,\n",
       " 's': 50,\n",
       " 'fc_dim': 256,\n",
       " 'brightness': 0.2,\n",
       " 'contrast': 0.2,\n",
       " 'scale_lower': 0.2,\n",
       " 'scale_upper': 1.0,\n",
       " 'filter_wd': True,\n",
       " 'p': 3.0,\n",
       " 'p_eval': 6.0,\n",
       " 'loss': 'CurricularFace'}"
      ]
     },
     "execution_count": 8,
     "metadata": {},
     "output_type": "execute_result"
    }
   ],
   "source": [
    "params2"
   ]
  },
  {
   "cell_type": "code",
   "execution_count": 9,
   "metadata": {
    "execution": {
     "iopub.execute_input": "2022-10-23T11:37:42.838849Z",
     "iopub.status.busy": "2022-10-23T11:37:42.837716Z",
     "iopub.status.idle": "2022-10-23T11:37:42.841457Z",
     "shell.execute_reply": "2022-10-23T11:37:42.841038Z",
     "shell.execute_reply.started": "2022-10-22T13:29:22.066071Z"
    },
    "papermill": {
     "duration": 0.037266,
     "end_time": "2022-10-23T11:37:42.841566",
     "exception": false,
     "start_time": "2022-10-23T11:37:42.804300",
     "status": "completed"
    },
    "tags": []
   },
   "outputs": [
    {
     "data": {
      "text/plain": [
       "{'ver': 'v79',\n",
       " 'lr': 0.001,\n",
       " 'batch_size': 16,\n",
       " 'size': 256,\n",
       " 'test_size': 320,\n",
       " 'optimizer': 'sam',\n",
       " 'epochs': 8,\n",
       " 'loss': 'CurricularFace',\n",
       " 'wd': 1e-05,\n",
       " 'filter_wd': True,\n",
       " 'margin': 0.3,\n",
       " 's': 50,\n",
       " 'fc_dim': 1024,\n",
       " 'cycle': 1,\n",
       " 'backbone': 'dm_nfnet_f0',\n",
       " 'model_name': 'cahya/bert-base-indonesian-522M',\n",
       " 'max_len': 64,\n",
       " 'brightness': 0.2,\n",
       " 'contrast': 0.2,\n",
       " 'scale_lower': 0.2,\n",
       " 'scale_upper': 1.0,\n",
       " 'p': 3.0,\n",
       " 'p_eval': 6.0}"
      ]
     },
     "execution_count": 9,
     "metadata": {},
     "output_type": "execute_result"
    }
   ],
   "source": [
    "params3"
   ]
  },
  {
   "cell_type": "code",
   "execution_count": 10,
   "metadata": {
    "execution": {
     "iopub.execute_input": "2022-10-23T11:37:42.906267Z",
     "iopub.status.busy": "2022-10-23T11:37:42.905571Z",
     "iopub.status.idle": "2022-10-23T11:37:42.908346Z",
     "shell.execute_reply": "2022-10-23T11:37:42.907932Z",
     "shell.execute_reply.started": "2022-10-22T13:29:22.076632Z"
    },
    "papermill": {
     "duration": 0.037739,
     "end_time": "2022-10-23T11:37:42.908462",
     "exception": false,
     "start_time": "2022-10-23T11:37:42.870723",
     "status": "completed"
    },
    "tags": []
   },
   "outputs": [],
   "source": [
    "# this transform is not directly applied to dataset\n",
    "# instead, it applies to a batch generated by data loader later\n",
    "transform = Compose([\n",
    "    Resize(size=params1['test_size'] + 32, interpolation=Image.BICUBIC),\n",
    "    CenterCrop((params1['test_size'], params1['test_size'])),\n",
    "    Normalize(mean=[0.485, 0.456, 0.406], std=[0.229, 0.224, 0.225]),\n",
    "])\n",
    "\n",
    "dataset = ShopeeDataset(df=df, img_dir=img_dir, transform=None)\n",
    "data_loader = DataLoader(dataset, batch_size=8, shuffle=False,\n",
    "                         drop_last=False, pin_memory=True, num_workers=NUM_WORKERS, collate_fn=lambda x: x)"
   ]
  },
  {
   "cell_type": "code",
   "execution_count": 11,
   "metadata": {
    "execution": {
     "iopub.execute_input": "2022-10-23T11:37:42.981801Z",
     "iopub.status.busy": "2022-10-23T11:37:42.974924Z",
     "iopub.status.idle": "2022-10-23T11:37:49.507642Z",
     "shell.execute_reply": "2022-10-23T11:37:49.507159Z",
     "shell.execute_reply.started": "2022-10-22T13:29:22.087780Z"
    },
    "papermill": {
     "duration": 6.569662,
     "end_time": "2022-10-23T11:37:49.507825",
     "exception": false,
     "start_time": "2022-10-23T11:37:42.938163",
     "status": "completed"
    },
    "tags": []
   },
   "outputs": [],
   "source": [
    "# ShopeeNet\n",
    "backbone = timm.create_model(model_name=params1['backbone'], pretrained=False)\n",
    "model1 = ShopeeNet(backbone, num_classes=0, fc_dim=params1['fc_dim'])\n",
    "model1 = model1.to('cuda')\n",
    "model1.load_state_dict(checkpoint1['model'], strict=False)\n",
    "model1.train(False)\n",
    "model1.p = params1['p_eval']\n",
    "\n",
    "# ShopeeNet\n",
    "backbone = timm.create_model(model_name=params2['backbone'], pretrained=False)\n",
    "model2 = ShopeeNet(backbone, num_classes=0, fc_dim=params2['fc_dim'])\n",
    "model2 = model2.to('cuda')\n",
    "model2.load_state_dict(checkpoint2['model'], strict=False)\n",
    "model2.train(False)\n",
    "model2.p = params2['p_eval']\n",
    "\n",
    "# MultiModalNet\n",
    "backbone = timm.create_model(model_name=params3['backbone'], pretrained=False)\n",
    "tokenizer = BertTokenizerFast(vocab_file='../input/bert-indo/vocab.txt')\n",
    "bert_config = BertConfig.from_json_file('../input/bert-indo/config.json')\n",
    "bert_model = BertModel(bert_config)\n",
    "model3 = MultiModalNet(backbone, bert_model, num_classes=0, tokenizer=tokenizer, max_len=params3['max_len'],\n",
    "                       fc_dim=params3['fc_dim'], s=params3['s'], margin=params3['margin'], loss=params3['loss'])\n",
    "model3 = model3.to('cuda')\n",
    "model3.load_state_dict(checkpoint3['model'], strict=False)\n",
    "model3.train(False)\n",
    "model3.p = params3['p_eval']"
   ]
  },
  {
   "cell_type": "code",
   "execution_count": 12,
   "metadata": {
    "execution": {
     "iopub.execute_input": "2022-10-23T11:37:49.579840Z",
     "iopub.status.busy": "2022-10-23T11:37:49.579239Z",
     "iopub.status.idle": "2022-10-23T11:38:37.803092Z",
     "shell.execute_reply": "2022-10-23T11:38:37.803559Z",
     "shell.execute_reply.started": "2022-10-22T13:29:28.667973Z"
    },
    "papermill": {
     "duration": 48.264954,
     "end_time": "2022-10-23T11:38:37.803773",
     "exception": false,
     "start_time": "2022-10-23T11:37:49.538819",
     "status": "completed"
    },
    "tags": []
   },
   "outputs": [
    {
     "name": "stderr",
     "output_type": "stream",
     "text": [
      "100%|████████████████| 125/125 [00:48<00:00,  2.59it/s]\n"
     ]
    }
   ],
   "source": [
    "img_feats1 = []\n",
    "img_feats2 = []\n",
    "mm_feats = []\n",
    "img_hs = []\n",
    "img_ws = []\n",
    "st_sizes = []\n",
    "for batch in tqdm(data_loader, total=len(data_loader), miniters=None, ncols=55):\n",
    "    img, title, h, w, st_size = list(zip(*batch))\n",
    "    img = torch.cat([transform(x.to('cuda').float() / 255)[None] for x in img], axis=0)\n",
    "    title = list(title)\n",
    "    with torch.no_grad():\n",
    "        feats_minibatch1 = model1.extract_feat(img)\n",
    "        img_feats1.append(feats_minibatch1.cpu().numpy())\n",
    "        feats_minibatch2 = model2.extract_feat(img)\n",
    "        img_feats2.append(feats_minibatch2.cpu().numpy())\n",
    "        feats_minibatch3 = model3.extract_feat(img, title)\n",
    "        mm_feats.append(feats_minibatch3.cpu().numpy())\n",
    "    img_hs.extend(list(h))\n",
    "    img_ws.extend(list(w))\n",
    "    st_sizes.extend(list(st_size))\n",
    "\n",
    "img_feats1 = np.concatenate(img_feats1)\n",
    "img_feats1 /= np.linalg.norm(img_feats1, 2, axis=1, keepdims=True)\n",
    "img_feats2 = np.concatenate(img_feats2)\n",
    "img_feats2 /= np.linalg.norm(img_feats2, 2, axis=1, keepdims=True)\n",
    "mm_feats = np.concatenate(mm_feats)\n",
    "mm_feats /= np.linalg.norm(mm_feats, 2, axis=1, keepdims=True)\n",
    "\n",
    "np.save('/tmp/img_feats1', img_feats1)\n",
    "np.save('/tmp/img_feats2', img_feats2)\n",
    "\n",
    "img_feats = np.concatenate([\n",
    "    img_feats1 * 1.0,\n",
    "    img_feats2 * 1.0,\n",
    "], axis=1)\n",
    "\n",
    "img_feats /= np.linalg.norm(img_feats, 2, axis=1, keepdims=True)\n",
    "\n",
    "np.save('/tmp/img_feats', img_feats)"
   ]
  },
  {
   "cell_type": "code",
   "execution_count": 13,
   "metadata": {
    "execution": {
     "iopub.execute_input": "2022-10-23T11:38:37.939496Z",
     "iopub.status.busy": "2022-10-23T11:38:37.938637Z",
     "iopub.status.idle": "2022-10-23T11:39:20.990720Z",
     "shell.execute_reply": "2022-10-23T11:39:20.990200Z",
     "shell.execute_reply.started": "2022-10-22T13:30:16.880944Z"
    },
    "papermill": {
     "duration": 43.12181,
     "end_time": "2022-10-23T11:39:20.990881",
     "exception": false,
     "start_time": "2022-10-23T11:38:37.869071",
     "status": "completed"
    },
    "tags": []
   },
   "outputs": [],
   "source": [
    "# img similarities\n",
    "res = faiss.StandardGpuResources()\n",
    "index_img = faiss.IndexFlatIP(params1['fc_dim'] + params2['fc_dim'])\n",
    "index_img = faiss.index_cpu_to_gpu(res, 0, index_img)\n",
    "index_img.add(img_feats)\n",
    "similarities_img, indexes_img = index_img.search(img_feats, k)\n",
    "\n",
    "joblib.dump([similarities_img, indexes_img], '/tmp/lyk_img_data.pkl')\n",
    "joblib.dump([st_sizes, img_hs, img_ws], '/tmp/lyk_img_meta_data.pkl')\n",
    "\n",
    "# multi-modal similarities\n",
    "res = faiss.StandardGpuResources()\n",
    "index_mm = faiss.IndexFlatIP(params3['fc_dim'])\n",
    "index_mm = faiss.index_cpu_to_gpu(res, 0, index_mm)\n",
    "index_mm.add(mm_feats)\n",
    "similarities_mm, indexes_mm = index_mm.search(mm_feats, k)\n",
    "\n",
    "joblib.dump([similarities_mm, indexes_mm], '/tmp/lyk_mm_data.pkl')\n",
    "\n",
    "np.save('/tmp/mm_feats', mm_feats)"
   ]
  },
  {
   "cell_type": "markdown",
   "metadata": {
    "papermill": {
     "duration": 0.061979,
     "end_time": "2022-10-23T11:39:21.112557",
     "exception": false,
     "start_time": "2022-10-23T11:39:21.050578",
     "status": "completed"
    },
    "tags": []
   },
   "source": [
    "### image QE"
   ]
  },
  {
   "cell_type": "code",
   "execution_count": 14,
   "metadata": {
    "execution": {
     "iopub.execute_input": "2022-10-23T11:39:21.241481Z",
     "iopub.status.busy": "2022-10-23T11:39:21.240566Z",
     "iopub.status.idle": "2022-10-23T11:39:21.576357Z",
     "shell.execute_reply": "2022-10-23T11:39:21.575850Z",
     "shell.execute_reply.started": "2022-10-22T13:31:00.175426Z"
    },
    "papermill": {
     "duration": 0.404039,
     "end_time": "2022-10-23T11:39:21.576529",
     "exception": false,
     "start_time": "2022-10-23T11:39:21.172490",
     "status": "completed"
    },
    "tags": []
   },
   "outputs": [],
   "source": [
    "img_feats = np.load('/tmp/img_feats.npy')\n",
    "\n",
    "res = faiss.StandardGpuResources()\n",
    "index_img = faiss.IndexFlatIP(img_feats.shape[1])\n",
    "index_img = faiss.index_cpu_to_gpu(res, 0, index_img)\n",
    "index_img.add(img_feats)\n",
    "img_D, img_I = index_img.search(img_feats, 60)\n",
    "\n",
    "np.save('/tmp/img_D', img_D)\n",
    "np.save('/tmp/img_I', img_I)\n",
    "\n",
    "img_feats_qe = query_expansion(img_feats, img_D, img_I)\n",
    "img_feats_qe /= np.linalg.norm(img_feats_qe, 2, axis=1, keepdims=True)\n",
    "\n",
    "img_feats = np.hstack([img_feats, img_feats_qe])\n",
    "img_feats /= np.linalg.norm(img_feats, axis=1).reshape((-1, 1))\n",
    "\n",
    "res = faiss.StandardGpuResources()\n",
    "index = faiss.IndexFlatIP(img_feats.shape[1])\n",
    "index = faiss.index_cpu_to_gpu(res, 0, index)\n",
    "index.add(img_feats)\n",
    "img_D, img_I = index.search(img_feats, 60)\n",
    "\n",
    "np.save('/tmp/img_D_qe', img_D)\n",
    "np.save('/tmp/img_I_qe', img_I)"
   ]
  },
  {
   "cell_type": "markdown",
   "metadata": {
    "papermill": {
     "duration": 0.058738,
     "end_time": "2022-10-23T11:39:21.699059",
     "exception": false,
     "start_time": "2022-10-23T11:39:21.640321",
     "status": "completed"
    },
    "tags": []
   },
   "source": [
    "### Multi-modal QE"
   ]
  },
  {
   "cell_type": "code",
   "execution_count": 15,
   "metadata": {
    "execution": {
     "iopub.execute_input": "2022-10-23T11:39:21.825299Z",
     "iopub.status.busy": "2022-10-23T11:39:21.824384Z",
     "iopub.status.idle": "2022-10-23T11:39:22.214633Z",
     "shell.execute_reply": "2022-10-23T11:39:22.214128Z",
     "shell.execute_reply.started": "2022-10-22T13:31:00.515903Z"
    },
    "papermill": {
     "duration": 0.457398,
     "end_time": "2022-10-23T11:39:22.214828",
     "exception": false,
     "start_time": "2022-10-23T11:39:21.757430",
     "status": "completed"
    },
    "tags": []
   },
   "outputs": [],
   "source": [
    "mm_feats = np.load('/tmp/mm_feats.npy')\n",
    "\n",
    "res = faiss.StandardGpuResources()\n",
    "index_mm = faiss.IndexFlatIP(mm_feats.shape[1])\n",
    "index_mm = faiss.index_cpu_to_gpu(res, 0, index_mm)\n",
    "index_mm.add(mm_feats)\n",
    "mm_D, mm_I = index_mm.search(mm_feats, 60)\n",
    "\n",
    "np.save('/tmp/mut_D', mm_D)\n",
    "np.save('/tmp/mut_I', mm_I)\n",
    "\n",
    "mm_feats_qe = query_expansion(mm_feats, mm_D, mm_I)\n",
    "mm_feats_qe /= np.linalg.norm(mm_feats_qe, 2, axis=1, keepdims=True)\n",
    "\n",
    "mm_feats = np.hstack([mm_feats, mm_feats_qe])\n",
    "mm_feats /= np.linalg.norm(mm_feats, axis=1).reshape((-1, 1))\n",
    "\n",
    "res = faiss.StandardGpuResources()\n",
    "index = faiss.IndexFlatIP(mm_feats.shape[1])\n",
    "index = faiss.index_cpu_to_gpu(res, 0, index)\n",
    "index.add(mm_feats)\n",
    "mm_D, mm_I = index.search(mm_feats, 60)\n",
    "\n",
    "np.save('/tmp/mut_D_qe', mm_D)\n",
    "np.save('/tmp/mut_I_qe', mm_I)"
   ]
  },
  {
   "cell_type": "markdown",
   "metadata": {
    "papermill": {
     "duration": 0.058811,
     "end_time": "2022-10-23T11:39:22.342774",
     "exception": false,
     "start_time": "2022-10-23T11:39:22.283963",
     "status": "completed"
    },
    "tags": []
   },
   "source": [
    "# BERT similarity"
   ]
  },
  {
   "cell_type": "code",
   "execution_count": 16,
   "metadata": {
    "execution": {
     "iopub.execute_input": "2022-10-23T11:39:22.476252Z",
     "iopub.status.busy": "2022-10-23T11:39:22.474563Z",
     "iopub.status.idle": "2022-10-23T11:39:22.477088Z",
     "shell.execute_reply": "2022-10-23T11:39:22.477490Z",
     "shell.execute_reply.started": "2022-10-22T13:31:00.903788Z"
    },
    "papermill": {
     "duration": 0.074822,
     "end_time": "2022-10-23T11:39:22.477639",
     "exception": false,
     "start_time": "2022-10-23T11:39:22.402817",
     "status": "completed"
    },
    "tags": []
   },
   "outputs": [],
   "source": [
    "class BertNet(nn.Module):\n",
    "    def __init__(self,\n",
    "                 bert_model,\n",
    "                 num_classes,\n",
    "                 tokenizer,\n",
    "                 max_len=32,\n",
    "                 fc_dim=512,\n",
    "                 simple_mean=True,\n",
    "                 s=30, margin=0.5, p=3, loss='ArcMarginProduct'):\n",
    "        super().__init__()\n",
    "\n",
    "        self.bert_model = bert_model\n",
    "        self.tokenizer = tokenizer\n",
    "        self.max_len = max_len\n",
    "        self.fc = nn.Linear(self.bert_model.config.hidden_size, fc_dim)\n",
    "        self.bn = nn.BatchNorm1d(fc_dim)\n",
    "        self._init_params()\n",
    "        self.p = p\n",
    "        self.simple_mean = simple_mean\n",
    "\n",
    "    def _init_params(self):\n",
    "        nn.init.xavier_normal_(self.fc.weight)\n",
    "        nn.init.constant_(self.fc.bias, 0)\n",
    "        nn.init.constant_(self.bn.weight, 1)\n",
    "        nn.init.constant_(self.bn.bias, 0)\n",
    "\n",
    "    def extract_feat(self, x):\n",
    "        tokenizer_output = self.tokenizer(x, truncation=True, padding=True, max_length=self.max_len)\n",
    "        if 'token_type_ids' in tokenizer_output:\n",
    "            input_ids = torch.LongTensor(tokenizer_output['input_ids']).to('cuda')\n",
    "            token_type_ids = torch.LongTensor(tokenizer_output['token_type_ids']).to('cuda')\n",
    "            attention_mask = torch.LongTensor(tokenizer_output['attention_mask']).to('cuda')\n",
    "            x = self.bert_model(input_ids=input_ids, token_type_ids=token_type_ids, attention_mask=attention_mask)\n",
    "        else:\n",
    "            input_ids = torch.LongTensor(tokenizer_output['input_ids']).to('cuda')\n",
    "            attention_mask = torch.LongTensor(tokenizer_output['attention_mask']).to('cuda')\n",
    "            x = self.bert_model(input_ids=input_ids, attention_mask=attention_mask)\n",
    "        if self.simple_mean:\n",
    "            x = x.last_hidden_state.mean(dim=1)\n",
    "        else:\n",
    "            x = torch.sum(x.last_hidden_state * attention_mask.unsqueeze(-1), dim=1) / attention_mask.sum(dim=1, keepdims=True)\n",
    "        x = self.fc(x)\n",
    "        x = self.bn(x)\n",
    "        return x\n",
    "\n",
    "\n",
    "class BertDataset(Dataset):\n",
    "    def __init__(self, df):\n",
    "        self.df = df\n",
    "\n",
    "    def __getitem__(self, index):\n",
    "        row = self.df.iloc[index]\n",
    "\n",
    "        if 'y' in row.keys():\n",
    "            target = torch.tensor(row['y'], dtype=torch.long)\n",
    "            return row['title'], target\n",
    "        else:\n",
    "            return row['title']\n",
    "\n",
    "    def __len__(self):\n",
    "        return len(self.df)"
   ]
  },
  {
   "cell_type": "code",
   "execution_count": 17,
   "metadata": {
    "execution": {
     "iopub.execute_input": "2022-10-23T11:39:22.603300Z",
     "iopub.status.busy": "2022-10-23T11:39:22.602584Z",
     "iopub.status.idle": "2022-10-23T11:39:22.610517Z",
     "shell.execute_reply": "2022-10-23T11:39:22.610052Z",
     "shell.execute_reply.started": "2022-10-22T13:31:00.920074Z"
    },
    "papermill": {
     "duration": 0.07304,
     "end_time": "2022-10-23T11:39:22.610630",
     "exception": false,
     "start_time": "2022-10-23T11:39:22.537590",
     "status": "completed"
    },
    "tags": []
   },
   "outputs": [],
   "source": [
    "df, img_dir = load_data()"
   ]
  },
  {
   "cell_type": "code",
   "execution_count": 18,
   "metadata": {
    "execution": {
     "iopub.execute_input": "2022-10-23T11:39:22.734812Z",
     "iopub.status.busy": "2022-10-23T11:39:22.734244Z",
     "iopub.status.idle": "2022-10-23T11:39:43.053230Z",
     "shell.execute_reply": "2022-10-23T11:39:43.052591Z",
     "shell.execute_reply.started": "2022-10-22T13:31:00.940816Z"
    },
    "papermill": {
     "duration": 20.383178,
     "end_time": "2022-10-23T11:39:43.053366",
     "exception": false,
     "start_time": "2022-10-23T11:39:22.670188",
     "status": "completed"
    },
    "tags": []
   },
   "outputs": [],
   "source": [
    "checkpoint = torch.load('../input/shopee/v75.pth')\n",
    "checkpoint2 = torch.load('../input/shopee/v102.pth')\n",
    "checkpoint3 = torch.load('../input/shopee/v103.pth')\n",
    "\n",
    "params_bert = checkpoint['params']\n",
    "params_bert2 = checkpoint2['params']\n",
    "params_bert3 = checkpoint3['params']"
   ]
  },
  {
   "cell_type": "code",
   "execution_count": 19,
   "metadata": {
    "execution": {
     "iopub.execute_input": "2022-10-23T11:39:43.179064Z",
     "iopub.status.busy": "2022-10-23T11:39:43.178452Z",
     "iopub.status.idle": "2022-10-23T11:39:43.182477Z",
     "shell.execute_reply": "2022-10-23T11:39:43.182034Z",
     "shell.execute_reply.started": "2022-10-22T13:31:29.940463Z"
    },
    "papermill": {
     "duration": 0.068682,
     "end_time": "2022-10-23T11:39:43.182606",
     "exception": false,
     "start_time": "2022-10-23T11:39:43.113924",
     "status": "completed"
    },
    "tags": []
   },
   "outputs": [],
   "source": [
    "datasets = {\n",
    "    'valid': BertDataset(df=df)\n",
    "}\n",
    "data_loaders = {\n",
    "    'valid': DataLoader(datasets['valid'], \n",
    "                        batch_size=params_bert['batch_size'] * 2, \n",
    "                        shuffle=False, drop_last=False, \n",
    "                        pin_memory=True, \n",
    "                        num_workers=NUM_WORKERS)\n",
    "}"
   ]
  },
  {
   "cell_type": "code",
   "execution_count": 20,
   "metadata": {
    "execution": {
     "iopub.execute_input": "2022-10-23T11:39:43.311495Z",
     "iopub.status.busy": "2022-10-23T11:39:43.310754Z",
     "iopub.status.idle": "2022-10-23T11:39:56.727351Z",
     "shell.execute_reply": "2022-10-23T11:39:56.726698Z",
     "shell.execute_reply.started": "2022-10-22T13:31:29.950649Z"
    },
    "papermill": {
     "duration": 13.484279,
     "end_time": "2022-10-23T11:39:56.727501",
     "exception": false,
     "start_time": "2022-10-23T11:39:43.243222",
     "status": "completed"
    },
    "tags": []
   },
   "outputs": [
    {
     "data": {
      "text/plain": [
       "BertNet(\n",
       "  (bert_model): XLMRobertaModel(\n",
       "    (embeddings): RobertaEmbeddings(\n",
       "      (word_embeddings): Embedding(250002, 768, padding_idx=1)\n",
       "      (position_embeddings): Embedding(514, 768, padding_idx=1)\n",
       "      (token_type_embeddings): Embedding(1, 768)\n",
       "      (LayerNorm): LayerNorm((768,), eps=1e-05, elementwise_affine=True)\n",
       "      (dropout): Dropout(p=0.1, inplace=False)\n",
       "    )\n",
       "    (encoder): RobertaEncoder(\n",
       "      (layer): ModuleList(\n",
       "        (0): RobertaLayer(\n",
       "          (attention): RobertaAttention(\n",
       "            (self): RobertaSelfAttention(\n",
       "              (query): Linear(in_features=768, out_features=768, bias=True)\n",
       "              (key): Linear(in_features=768, out_features=768, bias=True)\n",
       "              (value): Linear(in_features=768, out_features=768, bias=True)\n",
       "              (dropout): Dropout(p=0.1, inplace=False)\n",
       "            )\n",
       "            (output): RobertaSelfOutput(\n",
       "              (dense): Linear(in_features=768, out_features=768, bias=True)\n",
       "              (LayerNorm): LayerNorm((768,), eps=1e-05, elementwise_affine=True)\n",
       "              (dropout): Dropout(p=0.1, inplace=False)\n",
       "            )\n",
       "          )\n",
       "          (intermediate): RobertaIntermediate(\n",
       "            (dense): Linear(in_features=768, out_features=3072, bias=True)\n",
       "          )\n",
       "          (output): RobertaOutput(\n",
       "            (dense): Linear(in_features=3072, out_features=768, bias=True)\n",
       "            (LayerNorm): LayerNorm((768,), eps=1e-05, elementwise_affine=True)\n",
       "            (dropout): Dropout(p=0.1, inplace=False)\n",
       "          )\n",
       "        )\n",
       "        (1): RobertaLayer(\n",
       "          (attention): RobertaAttention(\n",
       "            (self): RobertaSelfAttention(\n",
       "              (query): Linear(in_features=768, out_features=768, bias=True)\n",
       "              (key): Linear(in_features=768, out_features=768, bias=True)\n",
       "              (value): Linear(in_features=768, out_features=768, bias=True)\n",
       "              (dropout): Dropout(p=0.1, inplace=False)\n",
       "            )\n",
       "            (output): RobertaSelfOutput(\n",
       "              (dense): Linear(in_features=768, out_features=768, bias=True)\n",
       "              (LayerNorm): LayerNorm((768,), eps=1e-05, elementwise_affine=True)\n",
       "              (dropout): Dropout(p=0.1, inplace=False)\n",
       "            )\n",
       "          )\n",
       "          (intermediate): RobertaIntermediate(\n",
       "            (dense): Linear(in_features=768, out_features=3072, bias=True)\n",
       "          )\n",
       "          (output): RobertaOutput(\n",
       "            (dense): Linear(in_features=3072, out_features=768, bias=True)\n",
       "            (LayerNorm): LayerNorm((768,), eps=1e-05, elementwise_affine=True)\n",
       "            (dropout): Dropout(p=0.1, inplace=False)\n",
       "          )\n",
       "        )\n",
       "        (2): RobertaLayer(\n",
       "          (attention): RobertaAttention(\n",
       "            (self): RobertaSelfAttention(\n",
       "              (query): Linear(in_features=768, out_features=768, bias=True)\n",
       "              (key): Linear(in_features=768, out_features=768, bias=True)\n",
       "              (value): Linear(in_features=768, out_features=768, bias=True)\n",
       "              (dropout): Dropout(p=0.1, inplace=False)\n",
       "            )\n",
       "            (output): RobertaSelfOutput(\n",
       "              (dense): Linear(in_features=768, out_features=768, bias=True)\n",
       "              (LayerNorm): LayerNorm((768,), eps=1e-05, elementwise_affine=True)\n",
       "              (dropout): Dropout(p=0.1, inplace=False)\n",
       "            )\n",
       "          )\n",
       "          (intermediate): RobertaIntermediate(\n",
       "            (dense): Linear(in_features=768, out_features=3072, bias=True)\n",
       "          )\n",
       "          (output): RobertaOutput(\n",
       "            (dense): Linear(in_features=3072, out_features=768, bias=True)\n",
       "            (LayerNorm): LayerNorm((768,), eps=1e-05, elementwise_affine=True)\n",
       "            (dropout): Dropout(p=0.1, inplace=False)\n",
       "          )\n",
       "        )\n",
       "        (3): RobertaLayer(\n",
       "          (attention): RobertaAttention(\n",
       "            (self): RobertaSelfAttention(\n",
       "              (query): Linear(in_features=768, out_features=768, bias=True)\n",
       "              (key): Linear(in_features=768, out_features=768, bias=True)\n",
       "              (value): Linear(in_features=768, out_features=768, bias=True)\n",
       "              (dropout): Dropout(p=0.1, inplace=False)\n",
       "            )\n",
       "            (output): RobertaSelfOutput(\n",
       "              (dense): Linear(in_features=768, out_features=768, bias=True)\n",
       "              (LayerNorm): LayerNorm((768,), eps=1e-05, elementwise_affine=True)\n",
       "              (dropout): Dropout(p=0.1, inplace=False)\n",
       "            )\n",
       "          )\n",
       "          (intermediate): RobertaIntermediate(\n",
       "            (dense): Linear(in_features=768, out_features=3072, bias=True)\n",
       "          )\n",
       "          (output): RobertaOutput(\n",
       "            (dense): Linear(in_features=3072, out_features=768, bias=True)\n",
       "            (LayerNorm): LayerNorm((768,), eps=1e-05, elementwise_affine=True)\n",
       "            (dropout): Dropout(p=0.1, inplace=False)\n",
       "          )\n",
       "        )\n",
       "        (4): RobertaLayer(\n",
       "          (attention): RobertaAttention(\n",
       "            (self): RobertaSelfAttention(\n",
       "              (query): Linear(in_features=768, out_features=768, bias=True)\n",
       "              (key): Linear(in_features=768, out_features=768, bias=True)\n",
       "              (value): Linear(in_features=768, out_features=768, bias=True)\n",
       "              (dropout): Dropout(p=0.1, inplace=False)\n",
       "            )\n",
       "            (output): RobertaSelfOutput(\n",
       "              (dense): Linear(in_features=768, out_features=768, bias=True)\n",
       "              (LayerNorm): LayerNorm((768,), eps=1e-05, elementwise_affine=True)\n",
       "              (dropout): Dropout(p=0.1, inplace=False)\n",
       "            )\n",
       "          )\n",
       "          (intermediate): RobertaIntermediate(\n",
       "            (dense): Linear(in_features=768, out_features=3072, bias=True)\n",
       "          )\n",
       "          (output): RobertaOutput(\n",
       "            (dense): Linear(in_features=3072, out_features=768, bias=True)\n",
       "            (LayerNorm): LayerNorm((768,), eps=1e-05, elementwise_affine=True)\n",
       "            (dropout): Dropout(p=0.1, inplace=False)\n",
       "          )\n",
       "        )\n",
       "        (5): RobertaLayer(\n",
       "          (attention): RobertaAttention(\n",
       "            (self): RobertaSelfAttention(\n",
       "              (query): Linear(in_features=768, out_features=768, bias=True)\n",
       "              (key): Linear(in_features=768, out_features=768, bias=True)\n",
       "              (value): Linear(in_features=768, out_features=768, bias=True)\n",
       "              (dropout): Dropout(p=0.1, inplace=False)\n",
       "            )\n",
       "            (output): RobertaSelfOutput(\n",
       "              (dense): Linear(in_features=768, out_features=768, bias=True)\n",
       "              (LayerNorm): LayerNorm((768,), eps=1e-05, elementwise_affine=True)\n",
       "              (dropout): Dropout(p=0.1, inplace=False)\n",
       "            )\n",
       "          )\n",
       "          (intermediate): RobertaIntermediate(\n",
       "            (dense): Linear(in_features=768, out_features=3072, bias=True)\n",
       "          )\n",
       "          (output): RobertaOutput(\n",
       "            (dense): Linear(in_features=3072, out_features=768, bias=True)\n",
       "            (LayerNorm): LayerNorm((768,), eps=1e-05, elementwise_affine=True)\n",
       "            (dropout): Dropout(p=0.1, inplace=False)\n",
       "          )\n",
       "        )\n",
       "        (6): RobertaLayer(\n",
       "          (attention): RobertaAttention(\n",
       "            (self): RobertaSelfAttention(\n",
       "              (query): Linear(in_features=768, out_features=768, bias=True)\n",
       "              (key): Linear(in_features=768, out_features=768, bias=True)\n",
       "              (value): Linear(in_features=768, out_features=768, bias=True)\n",
       "              (dropout): Dropout(p=0.1, inplace=False)\n",
       "            )\n",
       "            (output): RobertaSelfOutput(\n",
       "              (dense): Linear(in_features=768, out_features=768, bias=True)\n",
       "              (LayerNorm): LayerNorm((768,), eps=1e-05, elementwise_affine=True)\n",
       "              (dropout): Dropout(p=0.1, inplace=False)\n",
       "            )\n",
       "          )\n",
       "          (intermediate): RobertaIntermediate(\n",
       "            (dense): Linear(in_features=768, out_features=3072, bias=True)\n",
       "          )\n",
       "          (output): RobertaOutput(\n",
       "            (dense): Linear(in_features=3072, out_features=768, bias=True)\n",
       "            (LayerNorm): LayerNorm((768,), eps=1e-05, elementwise_affine=True)\n",
       "            (dropout): Dropout(p=0.1, inplace=False)\n",
       "          )\n",
       "        )\n",
       "        (7): RobertaLayer(\n",
       "          (attention): RobertaAttention(\n",
       "            (self): RobertaSelfAttention(\n",
       "              (query): Linear(in_features=768, out_features=768, bias=True)\n",
       "              (key): Linear(in_features=768, out_features=768, bias=True)\n",
       "              (value): Linear(in_features=768, out_features=768, bias=True)\n",
       "              (dropout): Dropout(p=0.1, inplace=False)\n",
       "            )\n",
       "            (output): RobertaSelfOutput(\n",
       "              (dense): Linear(in_features=768, out_features=768, bias=True)\n",
       "              (LayerNorm): LayerNorm((768,), eps=1e-05, elementwise_affine=True)\n",
       "              (dropout): Dropout(p=0.1, inplace=False)\n",
       "            )\n",
       "          )\n",
       "          (intermediate): RobertaIntermediate(\n",
       "            (dense): Linear(in_features=768, out_features=3072, bias=True)\n",
       "          )\n",
       "          (output): RobertaOutput(\n",
       "            (dense): Linear(in_features=3072, out_features=768, bias=True)\n",
       "            (LayerNorm): LayerNorm((768,), eps=1e-05, elementwise_affine=True)\n",
       "            (dropout): Dropout(p=0.1, inplace=False)\n",
       "          )\n",
       "        )\n",
       "        (8): RobertaLayer(\n",
       "          (attention): RobertaAttention(\n",
       "            (self): RobertaSelfAttention(\n",
       "              (query): Linear(in_features=768, out_features=768, bias=True)\n",
       "              (key): Linear(in_features=768, out_features=768, bias=True)\n",
       "              (value): Linear(in_features=768, out_features=768, bias=True)\n",
       "              (dropout): Dropout(p=0.1, inplace=False)\n",
       "            )\n",
       "            (output): RobertaSelfOutput(\n",
       "              (dense): Linear(in_features=768, out_features=768, bias=True)\n",
       "              (LayerNorm): LayerNorm((768,), eps=1e-05, elementwise_affine=True)\n",
       "              (dropout): Dropout(p=0.1, inplace=False)\n",
       "            )\n",
       "          )\n",
       "          (intermediate): RobertaIntermediate(\n",
       "            (dense): Linear(in_features=768, out_features=3072, bias=True)\n",
       "          )\n",
       "          (output): RobertaOutput(\n",
       "            (dense): Linear(in_features=3072, out_features=768, bias=True)\n",
       "            (LayerNorm): LayerNorm((768,), eps=1e-05, elementwise_affine=True)\n",
       "            (dropout): Dropout(p=0.1, inplace=False)\n",
       "          )\n",
       "        )\n",
       "        (9): RobertaLayer(\n",
       "          (attention): RobertaAttention(\n",
       "            (self): RobertaSelfAttention(\n",
       "              (query): Linear(in_features=768, out_features=768, bias=True)\n",
       "              (key): Linear(in_features=768, out_features=768, bias=True)\n",
       "              (value): Linear(in_features=768, out_features=768, bias=True)\n",
       "              (dropout): Dropout(p=0.1, inplace=False)\n",
       "            )\n",
       "            (output): RobertaSelfOutput(\n",
       "              (dense): Linear(in_features=768, out_features=768, bias=True)\n",
       "              (LayerNorm): LayerNorm((768,), eps=1e-05, elementwise_affine=True)\n",
       "              (dropout): Dropout(p=0.1, inplace=False)\n",
       "            )\n",
       "          )\n",
       "          (intermediate): RobertaIntermediate(\n",
       "            (dense): Linear(in_features=768, out_features=3072, bias=True)\n",
       "          )\n",
       "          (output): RobertaOutput(\n",
       "            (dense): Linear(in_features=3072, out_features=768, bias=True)\n",
       "            (LayerNorm): LayerNorm((768,), eps=1e-05, elementwise_affine=True)\n",
       "            (dropout): Dropout(p=0.1, inplace=False)\n",
       "          )\n",
       "        )\n",
       "        (10): RobertaLayer(\n",
       "          (attention): RobertaAttention(\n",
       "            (self): RobertaSelfAttention(\n",
       "              (query): Linear(in_features=768, out_features=768, bias=True)\n",
       "              (key): Linear(in_features=768, out_features=768, bias=True)\n",
       "              (value): Linear(in_features=768, out_features=768, bias=True)\n",
       "              (dropout): Dropout(p=0.1, inplace=False)\n",
       "            )\n",
       "            (output): RobertaSelfOutput(\n",
       "              (dense): Linear(in_features=768, out_features=768, bias=True)\n",
       "              (LayerNorm): LayerNorm((768,), eps=1e-05, elementwise_affine=True)\n",
       "              (dropout): Dropout(p=0.1, inplace=False)\n",
       "            )\n",
       "          )\n",
       "          (intermediate): RobertaIntermediate(\n",
       "            (dense): Linear(in_features=768, out_features=3072, bias=True)\n",
       "          )\n",
       "          (output): RobertaOutput(\n",
       "            (dense): Linear(in_features=3072, out_features=768, bias=True)\n",
       "            (LayerNorm): LayerNorm((768,), eps=1e-05, elementwise_affine=True)\n",
       "            (dropout): Dropout(p=0.1, inplace=False)\n",
       "          )\n",
       "        )\n",
       "        (11): RobertaLayer(\n",
       "          (attention): RobertaAttention(\n",
       "            (self): RobertaSelfAttention(\n",
       "              (query): Linear(in_features=768, out_features=768, bias=True)\n",
       "              (key): Linear(in_features=768, out_features=768, bias=True)\n",
       "              (value): Linear(in_features=768, out_features=768, bias=True)\n",
       "              (dropout): Dropout(p=0.1, inplace=False)\n",
       "            )\n",
       "            (output): RobertaSelfOutput(\n",
       "              (dense): Linear(in_features=768, out_features=768, bias=True)\n",
       "              (LayerNorm): LayerNorm((768,), eps=1e-05, elementwise_affine=True)\n",
       "              (dropout): Dropout(p=0.1, inplace=False)\n",
       "            )\n",
       "          )\n",
       "          (intermediate): RobertaIntermediate(\n",
       "            (dense): Linear(in_features=768, out_features=3072, bias=True)\n",
       "          )\n",
       "          (output): RobertaOutput(\n",
       "            (dense): Linear(in_features=3072, out_features=768, bias=True)\n",
       "            (LayerNorm): LayerNorm((768,), eps=1e-05, elementwise_affine=True)\n",
       "            (dropout): Dropout(p=0.1, inplace=False)\n",
       "          )\n",
       "        )\n",
       "      )\n",
       "    )\n",
       "    (pooler): RobertaPooler(\n",
       "      (dense): Linear(in_features=768, out_features=768, bias=True)\n",
       "      (activation): Tanh()\n",
       "    )\n",
       "  )\n",
       "  (fc): Linear(in_features=768, out_features=256, bias=True)\n",
       "  (bn): BatchNorm1d(256, eps=1e-05, momentum=0.1, affine=True, track_running_stats=True)\n",
       ")"
      ]
     },
     "execution_count": 20,
     "metadata": {},
     "output_type": "execute_result"
    }
   ],
   "source": [
    "# bert Indonesian\n",
    "tokenizer = BertTokenizerFast(vocab_file='../input/bert-indo/vocab.txt')\n",
    "bert_config = BertConfig.from_json_file('../input/bert-indo/config.json')\n",
    "bert_model = BertModel(bert_config)\n",
    "model = BertNet(bert_model, num_classes=0, tokenizer=tokenizer, max_len=params_bert['max_len'], simple_mean=True,\n",
    "                fc_dim=params_bert['fc_dim'], s=params_bert['s'], margin=params_bert['margin'], loss=params_bert['loss'])\n",
    "model = model.to('cuda')\n",
    "model.load_state_dict(checkpoint['model'], strict=False)\n",
    "model.train(False)\n",
    "\n",
    "# bert multilingual\n",
    "tokenizer = AutoTokenizer.from_pretrained('../input/bertmultilingual/')\n",
    "bert_config = AutoConfig.from_pretrained('../input/bertmultilingual/')\n",
    "bert_model = AutoModel.from_config(bert_config)\n",
    "model2 = BertNet(bert_model, num_classes=0, tokenizer=tokenizer, max_len=params_bert['max_len'], simple_mean=False,\n",
    "                 fc_dim=params_bert['fc_dim'], s=params_bert['s'], margin=params_bert['margin'], loss=params_bert['loss'])\n",
    "model2 = model2.to('cuda')\n",
    "model2.load_state_dict(checkpoint2['model'], strict=False)\n",
    "model2.train(False)\n",
    "\n",
    "# bert xlm\n",
    "tokenizer = AutoTokenizer.from_pretrained('../input/bertxlm/')\n",
    "bert_config = AutoConfig.from_pretrained('../input/bertxlm/')\n",
    "bert_model = AutoModel.from_config(bert_config)\n",
    "model3 = BertNet(bert_model, num_classes=0, tokenizer=tokenizer, max_len=params_bert3['max_len'], simple_mean=False,\n",
    "                 fc_dim=params_bert3['fc_dim'], s=params_bert3['s'], margin=params_bert3['margin'], loss=params_bert3['loss'])\n",
    "model3 = model3.to('cuda')\n",
    "model3.load_state_dict(checkpoint3['model'], strict=False)\n",
    "model3.train(False)"
   ]
  },
  {
   "cell_type": "code",
   "execution_count": 21,
   "metadata": {
    "execution": {
     "iopub.execute_input": "2022-10-23T11:39:56.855629Z",
     "iopub.status.busy": "2022-10-23T11:39:56.854764Z",
     "iopub.status.idle": "2022-10-23T11:40:02.115183Z",
     "shell.execute_reply": "2022-10-23T11:40:02.115774Z",
     "shell.execute_reply.started": "2022-10-22T13:31:43.510077Z"
    },
    "papermill": {
     "duration": 5.327428,
     "end_time": "2022-10-23T11:40:02.115980",
     "exception": false,
     "start_time": "2022-10-23T11:39:56.788552",
     "status": "completed"
    },
    "tags": []
   },
   "outputs": [
    {
     "name": "stderr",
     "output_type": "stream",
     "text": [
      "100%|████████████████████| 4/4 [00:05<00:00,  1.29s/it]\n"
     ]
    }
   ],
   "source": [
    "bert_feats1 = []\n",
    "bert_feats2 = []\n",
    "bert_feats3 = []\n",
    "for i, title in tqdm(enumerate(data_loaders['valid']),\n",
    "                     total=len(data_loaders['valid']), miniters=None, ncols=55):\n",
    "    with torch.no_grad():\n",
    "        bert_feats_minibatch = model.extract_feat(title)\n",
    "        bert_feats1.append(bert_feats_minibatch.cpu().numpy())\n",
    "        bert_feats_minibatch = model2.extract_feat(title)\n",
    "        bert_feats2.append(bert_feats_minibatch.cpu().numpy())\n",
    "        bert_feats_minibatch = model3.extract_feat(title)\n",
    "        bert_feats3.append(bert_feats_minibatch.cpu().numpy())\n",
    "\n",
    "bert_feats1 = np.concatenate(bert_feats1)\n",
    "bert_feats1 /= np.linalg.norm(bert_feats1, 2, axis=1, keepdims=True)\n",
    "bert_feats2 = np.concatenate(bert_feats2)\n",
    "bert_feats2 /= np.linalg.norm(bert_feats2, 2, axis=1, keepdims=True)\n",
    "bert_feats3 = np.concatenate(bert_feats3)\n",
    "bert_feats3 /= np.linalg.norm(bert_feats3, 2, axis=1, keepdims=True)\n",
    "\n",
    "np.save('/tmp/bert_feats1', bert_feats1)\n",
    "np.save('/tmp/bert_feats2', bert_feats2)\n",
    "np.save('/tmp/bert_feats3', bert_feats3)"
   ]
  },
  {
   "cell_type": "code",
   "execution_count": 22,
   "metadata": {
    "execution": {
     "iopub.execute_input": "2022-10-23T11:40:02.274904Z",
     "iopub.status.busy": "2022-10-23T11:40:02.273737Z",
     "iopub.status.idle": "2022-10-23T11:40:02.437749Z",
     "shell.execute_reply": "2022-10-23T11:40:02.437140Z",
     "shell.execute_reply.started": "2022-10-22T13:31:48.741280Z"
    },
    "papermill": {
     "duration": 0.239121,
     "end_time": "2022-10-23T11:40:02.437928",
     "exception": false,
     "start_time": "2022-10-23T11:40:02.198807",
     "status": "completed"
    },
    "tags": []
   },
   "outputs": [
    {
     "data": {
      "text/plain": [
       "['/tmp/lyk_bert_data.pkl']"
      ]
     },
     "execution_count": 22,
     "metadata": {},
     "output_type": "execute_result"
    }
   ],
   "source": [
    "# cancat feats1 and feats2\n",
    "bert_feats = np.concatenate([bert_feats1, bert_feats2], axis=1)\n",
    "bert_feats /= np.linalg.norm(bert_feats, 2, axis=1, keepdims=True)\n",
    "\n",
    "# similarity search\n",
    "res = faiss.StandardGpuResources()\n",
    "index_bert = faiss.IndexFlatIP(params_bert['fc_dim'])\n",
    "index_bert = faiss.index_cpu_to_gpu(res, 0, index_bert)\n",
    "index_bert.add(bert_feats1)\n",
    "similarities_bert, indexes_bert = index_bert.search(bert_feats1, k)\n",
    "\n",
    "# concate feats1, 2, 3\n",
    "bert_feats = np.concatenate([bert_feats1, bert_feats2, bert_feats3], axis=1)\n",
    "bert_feats /= np.linalg.norm(bert_feats, 2, axis=1, keepdims=True)\n",
    "\n",
    "np.save('/tmp/bert_feats', bert_feats)\n",
    "\n",
    "joblib.dump([similarities_bert, indexes_bert], '/tmp/lyk_bert_data.pkl')"
   ]
  },
  {
   "cell_type": "markdown",
   "metadata": {
    "papermill": {
     "duration": 0.071987,
     "end_time": "2022-10-23T11:40:02.589933",
     "exception": false,
     "start_time": "2022-10-23T11:40:02.517946",
     "status": "completed"
    },
    "tags": []
   },
   "source": [
    "### Bert QE"
   ]
  },
  {
   "cell_type": "code",
   "execution_count": 23,
   "metadata": {
    "execution": {
     "iopub.execute_input": "2022-10-23T11:40:02.742896Z",
     "iopub.status.busy": "2022-10-23T11:40:02.741619Z",
     "iopub.status.idle": "2022-10-23T11:40:03.330971Z",
     "shell.execute_reply": "2022-10-23T11:40:03.330396Z",
     "shell.execute_reply.started": "2022-10-22T13:31:48.893561Z"
    },
    "papermill": {
     "duration": 0.668751,
     "end_time": "2022-10-23T11:40:03.331118",
     "exception": false,
     "start_time": "2022-10-23T11:40:02.662367",
     "status": "completed"
    },
    "tags": []
   },
   "outputs": [],
   "source": [
    "brt_feats = np.load('/tmp/bert_feats.npy')\n",
    "\n",
    "res = faiss.StandardGpuResources()\n",
    "index_brt = faiss.IndexFlatIP(brt_feats.shape[1])\n",
    "index_brt = faiss.index_cpu_to_gpu(res, 0, index_brt)\n",
    "index_brt.add(brt_feats)\n",
    "brt_D, brt_I = index_brt.search(brt_feats, 60)\n",
    "\n",
    "np.save('/tmp/brt_D', brt_D)\n",
    "np.save('/tmp/brt_I', brt_I)\n",
    "\n",
    "del index_brt\n",
    "gc.collect()\n",
    "\n",
    "brt_feats_qe = query_expansion(brt_feats, brt_D, brt_I)\n",
    "brt_feats_qe /= np.linalg.norm(brt_feats_qe, 2, axis=1, keepdims=True)\n",
    "\n",
    "brt_feats = np.hstack([brt_feats, brt_feats_qe])\n",
    "brt_feats /= np.linalg.norm(brt_feats, axis=1).reshape((-1, 1))\n",
    "\n",
    "res = faiss.StandardGpuResources()\n",
    "index = faiss.IndexFlatIP(brt_feats.shape[1])\n",
    "index = faiss.index_cpu_to_gpu(res, 0, index)\n",
    "index.add(brt_feats)\n",
    "brt_D, brt_I = index.search(brt_feats, 60)\n",
    "\n",
    "np.save('/tmp/brt_D_qe', brt_D)\n",
    "np.save('/tmp/brt_I_qe', brt_I)"
   ]
  },
  {
   "cell_type": "markdown",
   "metadata": {
    "papermill": {
     "duration": 0.061484,
     "end_time": "2022-10-23T11:40:03.454946",
     "exception": false,
     "start_time": "2022-10-23T11:40:03.393462",
     "status": "completed"
    },
    "tags": []
   },
   "source": [
    "# Image & BERT similarity"
   ]
  },
  {
   "cell_type": "code",
   "execution_count": 24,
   "metadata": {
    "execution": {
     "iopub.execute_input": "2022-10-23T11:40:03.589669Z",
     "iopub.status.busy": "2022-10-23T11:40:03.588379Z",
     "iopub.status.idle": "2022-10-23T11:40:04.143524Z",
     "shell.execute_reply": "2022-10-23T11:40:04.143045Z",
     "shell.execute_reply.started": "2022-10-22T13:31:49.481415Z"
    },
    "papermill": {
     "duration": 0.626963,
     "end_time": "2022-10-23T11:40:04.143703",
     "exception": false,
     "start_time": "2022-10-23T11:40:03.516740",
     "status": "completed"
    },
    "tags": []
   },
   "outputs": [
    {
     "name": "stdout",
     "output_type": "stream",
     "text": [
      "(1000, 2304)\n"
     ]
    }
   ],
   "source": [
    "feats_bert = np.load('/tmp/bert_feats.npy')\n",
    "feats_img = np.load('/tmp/img_feats.npy')\n",
    "\n",
    "bth_feats = np.hstack([feats_bert, feats_img])\n",
    "bth_feats /= np.linalg.norm(bth_feats, 2, axis=1, keepdims=True)\n",
    "print(bth_feats.shape)\n",
    "\n",
    "res = faiss.StandardGpuResources()\n",
    "index = faiss.IndexFlatIP(bth_feats.shape[1])\n",
    "index = faiss.index_cpu_to_gpu(res, 0, index)\n",
    "index.add(bth_feats)\n",
    "bth_D, bth_I = index.search(bth_feats, 60)\n",
    "\n",
    "np.save('/tmp/bth_D', bth_D)\n",
    "np.save('/tmp/bth_I', bth_I)\n",
    "\n",
    "del index\n",
    "gc.collect()\n",
    "\n",
    "bth_feats_qe = query_expansion(bth_feats, bth_D, bth_I)\n",
    "bth_feats_qe /= np.linalg.norm(bth_feats_qe, 2, axis=1, keepdims=True)\n",
    "\n",
    "bth_feats = np.hstack([bth_feats, bth_feats_qe])\n",
    "bth_feats /= np.linalg.norm(bth_feats, axis=1).reshape((-1, 1))\n",
    "\n",
    "res = faiss.StandardGpuResources()\n",
    "index = faiss.IndexFlatIP(bth_feats.shape[1])\n",
    "index = faiss.index_cpu_to_gpu(res, 0, index)\n",
    "index.add(bth_feats)\n",
    "bth_D, bth_I = index.search(bth_feats, 60)\n",
    "\n",
    "np.save('/tmp/bth_D_qe', bth_D)\n",
    "np.save('/tmp/bth_I_qe', bth_I)"
   ]
  },
  {
   "cell_type": "markdown",
   "metadata": {
    "papermill": {
     "duration": 0.061738,
     "end_time": "2022-10-23T11:40:04.270345",
     "exception": false,
     "start_time": "2022-10-23T11:40:04.208607",
     "status": "completed"
    },
    "tags": []
   },
   "source": [
    "# GAT"
   ]
  },
  {
   "cell_type": "code",
   "execution_count": 25,
   "metadata": {
    "execution": {
     "iopub.execute_input": "2022-10-23T11:40:04.418803Z",
     "iopub.status.busy": "2022-10-23T11:40:04.416933Z",
     "iopub.status.idle": "2022-10-23T11:40:04.419421Z",
     "shell.execute_reply": "2022-10-23T11:40:04.419856Z",
     "shell.execute_reply.started": "2022-10-22T13:31:50.062495Z"
    },
    "papermill": {
     "duration": 0.087698,
     "end_time": "2022-10-23T11:40:04.420014",
     "exception": false,
     "start_time": "2022-10-23T11:40:04.332316",
     "status": "completed"
    },
    "tags": []
   },
   "outputs": [],
   "source": [
    "class GraphDataset(Dataset):\n",
    "    def __init__(self, feats=None, labels=None, weights=None, pair_tuples=None, k=50, top_neighbors=None):\n",
    "        self.feats = feats\n",
    "        self.labels = labels\n",
    "        self.weights = weights\n",
    "        self.pair_tuples = pair_tuples\n",
    "        self.k = k\n",
    "        self.top_neighbors = top_neighbors\n",
    "\n",
    "    def __getitem__(self, index):\n",
    "        i, j = self.pair_tuples[index]\n",
    "        feat = torch.FloatTensor(self.feats[i][j])\n",
    "\n",
    "        padding_i = [[0] * feat.shape[0]] * (self.k - len(self.top_neighbors[i]))\n",
    "        neighbor_feats_i = torch.FloatTensor([self.feats[i][neighbor] for neighbor in self.top_neighbors[i]] + padding_i)\n",
    "        padding_j = [[0] * feat.shape[0]] * (self.k - len(self.top_neighbors[j]))\n",
    "        neighbor_feats_j = torch.FloatTensor([self.feats[j][neighbor] for neighbor in self.top_neighbors[j]] + padding_j)\n",
    "        \n",
    "        neighbor_feats = torch.cat([feat.unsqueeze(0), neighbor_feats_i, neighbor_feats_j], dim=0)\n",
    "\n",
    "        outputs = (feat, neighbor_feats)\n",
    "        \n",
    "        if self.labels is not None:\n",
    "            outputs += (self.labels[i] == self.labels[j],)\n",
    "        if self.weights is not None:\n",
    "            outputs += (self.weights[i],)\n",
    "\n",
    "        return outputs\n",
    "\n",
    "    def __len__(self):\n",
    "        return len(self.pair_tuples)\n",
    "\n",
    "\n",
    "class GraphAttentionLayer(nn.Module):\n",
    "    def __init__(self, in_features, out_features, dropout=0.6, alpha=0.2, concat=True):\n",
    "        super().__init__()\n",
    "        self.dropout = dropout\n",
    "        self.in_features = in_features\n",
    "        self.out_features = out_features\n",
    "        self.alpha = alpha\n",
    "        self.concat = concat\n",
    "\n",
    "        self.W = nn.Parameter(torch.empty(size=(in_features, out_features)))\n",
    "        nn.init.xavier_uniform_(self.W.data, gain=1.414)\n",
    "        self.a = nn.Parameter(torch.empty(size=(2 * out_features, 1)))\n",
    "        nn.init.xavier_uniform_(self.a.data, gain=1.414)\n",
    "\n",
    "        self.leakyrelu = nn.LeakyReLU(self.alpha)\n",
    "\n",
    "    def forward(self, h):\n",
    "        Wh = h @ self.W  # h.shape: (B, N, in_features), Wh.shape: (B, N, out_features)\n",
    "        a_input = self._prepare_attentional_mechanism_input(Wh)\n",
    "        e = self.leakyrelu(torch.matmul(a_input, self.a).squeeze(3))\n",
    "\n",
    "        attention = F.softmax(e, dim=1)\n",
    "        attention = F.dropout(attention, self.dropout, training=self.training)\n",
    "        h_prime = torch.bmm(attention, Wh)\n",
    "\n",
    "        if self.concat:\n",
    "            return F.elu(h_prime)\n",
    "        else:\n",
    "            return h_prime\n",
    "\n",
    "    def _prepare_attentional_mechanism_input(self, Wh):\n",
    "        B, N, D = Wh.shape\n",
    "\n",
    "        Wh_repeated_in_chunks = Wh.repeat_interleave(N, dim=1)\n",
    "        Wh_repeated_alternating = Wh.repeat(1, N, 1)\n",
    "\n",
    "        all_combinations_matrix = torch.cat([Wh_repeated_in_chunks, Wh_repeated_alternating], dim=2)\n",
    "        return all_combinations_matrix.view(-1, N, N, 2 * D)\n",
    "\n",
    "    def __repr__(self):\n",
    "        return self.__class__.__name__ + ' (' + str(self.in_features) + ' -> ' + str(self.out_features) + ')'\n",
    "\n",
    "\n",
    "class GATPairClassifier(nn.Module):\n",
    "    def __init__(self, nfeat, nhid=8, nclass=1, dropout=0.6, alpha=0.2, nheads=8, pooling='first'):\n",
    "        super().__init__()\n",
    "        self.dropout = dropout\n",
    "        self.pooling = pooling\n",
    "\n",
    "        self.attentions = [GraphAttentionLayer(nfeat, nhid, dropout=dropout, alpha=alpha, concat=True) for _ in range(nheads)]\n",
    "        for i, attention in enumerate(self.attentions):\n",
    "            self.add_module('attention_{}'.format(i), attention)\n",
    "\n",
    "        self.out_att = GraphAttentionLayer(nhid * nheads, nhid, dropout=dropout, alpha=alpha, concat=False)\n",
    "\n",
    "        self.classifier = nn.Sequential(\n",
    "            nn.Linear(nfeat + nhid, nhid),\n",
    "            nn.PReLU(),\n",
    "            nn.BatchNorm1d(nhid),\n",
    "            nn.Linear(nhid, nclass),\n",
    "        )\n",
    "\n",
    "    def forward_gat(self, x):\n",
    "        x = F.dropout(x, self.dropout, training=self.training)\n",
    "        x = torch.cat([att(x) for att in self.attentions], dim=2)\n",
    "        x = F.dropout(x, self.dropout, training=self.training)\n",
    "        x = F.elu(self.out_att(x))\n",
    "        if self.pooling == 'first':\n",
    "            return x[:, 0]\n",
    "        elif self.pooling == 'mean':\n",
    "            return x.mean(dim=1)\n",
    "\n",
    "    def forward(self, feats, neighbor_feats):\n",
    "        gat_feats = self.forward_gat(neighbor_feats)\n",
    "        cat_feats = torch.cat([feats, gat_feats], dim=1)\n",
    "        return self.classifier(cat_feats).squeeze(1)"
   ]
  },
  {
   "cell_type": "code",
   "execution_count": 26,
   "metadata": {
    "execution": {
     "iopub.execute_input": "2022-10-23T11:40:04.554485Z",
     "iopub.status.busy": "2022-10-23T11:40:04.553729Z",
     "iopub.status.idle": "2022-10-23T11:40:04.556569Z",
     "shell.execute_reply": "2022-10-23T11:40:04.556138Z",
     "shell.execute_reply.started": "2022-10-22T13:31:50.103210Z"
    },
    "papermill": {
     "duration": 0.072251,
     "end_time": "2022-10-23T11:40:04.556730",
     "exception": false,
     "start_time": "2022-10-23T11:40:04.484479",
     "status": "completed"
    },
    "tags": []
   },
   "outputs": [],
   "source": [
    "import time\n",
    "from contextlib import contextmanager\n",
    "from collections import defaultdict\n",
    "\n",
    "map_used_time = defaultdict(float)\n",
    "\n",
    "@contextmanager\n",
    "def timer(title):\n",
    "    t0 = time.time()\n",
    "    yield\n",
    "    tt = time.time() - t0\n",
    "    map_used_time[title] += tt\n",
    "    print(\"  {} - done in {:.5f}s\".format(title, tt))"
   ]
  },
  {
   "cell_type": "code",
   "execution_count": 27,
   "metadata": {
    "execution": {
     "iopub.execute_input": "2022-10-23T11:40:04.689473Z",
     "iopub.status.busy": "2022-10-23T11:40:04.688305Z",
     "iopub.status.idle": "2022-10-23T11:40:04.697054Z",
     "shell.execute_reply": "2022-10-23T11:40:04.696585Z",
     "shell.execute_reply.started": "2022-10-22T13:31:50.120417Z"
    },
    "papermill": {
     "duration": 0.077782,
     "end_time": "2022-10-23T11:40:04.697182",
     "exception": false,
     "start_time": "2022-10-23T11:40:04.619400",
     "status": "completed"
    },
    "tags": []
   },
   "outputs": [],
   "source": [
    "df, img_dir = load_data()"
   ]
  },
  {
   "cell_type": "code",
   "execution_count": 28,
   "metadata": {
    "execution": {
     "iopub.execute_input": "2022-10-23T11:40:04.848529Z",
     "iopub.status.busy": "2022-10-23T11:40:04.841117Z",
     "iopub.status.idle": "2022-10-23T11:40:04.884444Z",
     "shell.execute_reply": "2022-10-23T11:40:04.883965Z",
     "shell.execute_reply.started": "2022-10-22T13:31:50.141904Z"
    },
    "papermill": {
     "duration": 0.124862,
     "end_time": "2022-10-23T11:40:04.884569",
     "exception": false,
     "start_time": "2022-10-23T11:40:04.759707",
     "status": "completed"
    },
    "tags": []
   },
   "outputs": [],
   "source": [
    "stop_words = set([\n",
    "    'promo','diskon','baik','terbaik', 'murah',\n",
    "    'termurah', 'harga', 'price', 'best', 'seller',\n",
    "    'bestseller', 'ready', 'stock', 'stok', 'limited',\n",
    "    'bagus', 'kualitas', 'berkualitas', 'hari', 'ini',\n",
    "    'jadi', 'gratis',\n",
    "])\n",
    "\n",
    "\n",
    "titles = [\n",
    "    title.translate(str.maketrans({_: ' ' for _ in string.punctuation}))\n",
    "    for title in df['title'].str.lower().values\n",
    "]\n",
    "\n",
    "tokenizer = TweetTokenizer()\n",
    "tfidf_vectorizer = TfidfVectorizer(stop_words=stop_words, \n",
    "                                   binary=True, \n",
    "                                   min_df=2, \n",
    "                                   token_pattern='(?u)\\\\b\\\\w+\\\\b', \n",
    "                                   tokenizer=tokenizer.tokenize,\n",
    "                                   dtype=np.float32,\n",
    "                                   norm='l2')\n",
    "\n",
    "tfidf_feats = tfidf_vectorizer.fit_transform(titles)\n",
    "\n",
    "simmat_tfidf = tfidf_feats @ tfidf_feats.T"
   ]
  },
  {
   "cell_type": "code",
   "execution_count": 29,
   "metadata": {
    "execution": {
     "iopub.execute_input": "2022-10-23T11:40:05.024042Z",
     "iopub.status.busy": "2022-10-23T11:40:05.019436Z",
     "iopub.status.idle": "2022-10-23T11:40:05.231938Z",
     "shell.execute_reply": "2022-10-23T11:40:05.231459Z",
     "shell.execute_reply.started": "2022-10-22T13:31:50.240633Z"
    },
    "papermill": {
     "duration": 0.28377,
     "end_time": "2022-10-23T11:40:05.232074",
     "exception": false,
     "start_time": "2022-10-23T11:40:04.948304",
     "status": "completed"
    },
    "tags": []
   },
   "outputs": [
    {
     "name": "stdout",
     "output_type": "stream",
     "text": [
      "  load - done in 0.07559s\n"
     ]
    },
    {
     "data": {
      "text/plain": [
       "0"
      ]
     },
     "execution_count": 29,
     "metadata": {},
     "output_type": "execute_result"
    }
   ],
   "source": [
    "with timer('load'):\n",
    "    st_sizes, img_hs, img_ws = joblib.load('/tmp/lyk_img_meta_data.pkl')\n",
    "    similarities_img = np.load('/tmp/img_D_qe.npy')[:, :k]\n",
    "    indexes_img = np.load('/tmp/img_I_qe.npy')[:, :k]\n",
    "\n",
    "    similarities_bert = np.load('/tmp/brt_D_qe.npy')[:, :k]\n",
    "    indexes_bert = np.load('/tmp/brt_I_qe.npy')[:, :k]\n",
    "\n",
    "    similarities_mm = np.load('/tmp/mut_D_qe.npy')[:, :k]\n",
    "    indexes_mm = np.load('/tmp/mut_I_qe.npy')[:, :k]\n",
    "    \n",
    "    row = indexes_img.ravel()\n",
    "    col = np.arange(len(indexes_img)).repeat(k)\n",
    "    data = similarities_img.ravel()\n",
    "    simmat_img = {(i, j): d for i, j, d in zip(col, row, data)}\n",
    "    \n",
    "    row = indexes_bert.ravel()\n",
    "    col = np.arange(len(indexes_bert)).repeat(k)\n",
    "    data = similarities_bert.ravel()\n",
    "    simmat_bert = {(i, j): d for i, j, d in zip(col, row, data)}\n",
    "\n",
    "    row = indexes_mm.ravel()\n",
    "    col = np.arange(len(indexes_mm)).repeat(k)\n",
    "    data = similarities_mm.ravel()\n",
    "    simmat_mm = {(i, j): d for i, j, d in zip(col, row, data)}\n",
    "\n",
    "del row, col, data\n",
    "gc.collect()"
   ]
  },
  {
   "cell_type": "code",
   "execution_count": 30,
   "metadata": {
    "execution": {
     "iopub.execute_input": "2022-10-23T11:40:05.362715Z",
     "iopub.status.busy": "2022-10-23T11:40:05.362153Z",
     "iopub.status.idle": "2022-10-23T11:40:05.382073Z",
     "shell.execute_reply": "2022-10-23T11:40:05.381555Z",
     "shell.execute_reply.started": "2022-10-22T13:31:50.559939Z"
    },
    "papermill": {
     "duration": 0.086665,
     "end_time": "2022-10-23T11:40:05.382198",
     "exception": false,
     "start_time": "2022-10-23T11:40:05.295533",
     "status": "completed"
    },
    "tags": []
   },
   "outputs": [],
   "source": [
    "ckpt = torch.load('../input/shopee-meta-models/v135.pth')\n",
    "params = ckpt['params']"
   ]
  },
  {
   "cell_type": "code",
   "execution_count": 31,
   "metadata": {
    "execution": {
     "iopub.execute_input": "2022-10-23T11:40:05.516100Z",
     "iopub.status.busy": "2022-10-23T11:40:05.515494Z",
     "iopub.status.idle": "2022-10-23T11:40:05.521124Z",
     "shell.execute_reply": "2022-10-23T11:40:05.520640Z",
     "shell.execute_reply.started": "2022-10-22T13:31:50.582079Z"
    },
    "papermill": {
     "duration": 0.073679,
     "end_time": "2022-10-23T11:40:05.521249",
     "exception": false,
     "start_time": "2022-10-23T11:40:05.447570",
     "status": "completed"
    },
    "tags": []
   },
   "outputs": [
    {
     "data": {
      "text/plain": [
       "{'ver': 'v135',\n",
       " 'lr': 0.003,\n",
       " 'batch_size': 1024,\n",
       " 'optimizer': 'adamw',\n",
       " 'epochs': 12,\n",
       " 'wd': 0.01,\n",
       " 'filter_wd': True,\n",
       " 'nhid': 16,\n",
       " 'nheads': 16,\n",
       " 'pooling': 'first',\n",
       " 'dropout': 0.0,\n",
       " 'k': 10}"
      ]
     },
     "execution_count": 31,
     "metadata": {},
     "output_type": "execute_result"
    }
   ],
   "source": [
    "params"
   ]
  },
  {
   "cell_type": "code",
   "execution_count": 32,
   "metadata": {
    "execution": {
     "iopub.execute_input": "2022-10-23T11:40:05.658696Z",
     "iopub.status.busy": "2022-10-23T11:40:05.657829Z",
     "iopub.status.idle": "2022-10-23T11:40:10.087917Z",
     "shell.execute_reply": "2022-10-23T11:40:10.088535Z",
     "shell.execute_reply.started": "2022-10-22T13:31:50.593640Z"
    },
    "papermill": {
     "duration": 4.502479,
     "end_time": "2022-10-23T11:40:10.088788",
     "exception": false,
     "start_time": "2022-10-23T11:40:05.586309",
     "status": "completed"
    },
    "tags": []
   },
   "outputs": [
    {
     "name": "stderr",
     "output_type": "stream",
     "text": [
      "100%|██████████| 1000/1000 [00:04<00:00, 226.06it/s]\n"
     ]
    }
   ],
   "source": [
    "# a dict storing top similars for each item\n",
    "top_neighbors = defaultdict(list)\n",
    "# a dict of dict, acting like a matrix, storing target edge/pair_tuple features\n",
    "feats = defaultdict(lambda: defaultdict())\n",
    "\n",
    "pair_tuples = []\n",
    "for i in tqdm(range(len(df))):\n",
    "    # obtain the top k img_similar and top k bert_similar indices\n",
    "    right_indexes = set(indexes_img[i, :k].tolist() + indexes_bert[i, :k].tolist())\n",
    "    # remove self\n",
    "    right_indexes.remove(i)\n",
    "    right_indexes = list(right_indexes)\n",
    "    \n",
    "    scores = {}\n",
    "    for j in right_indexes:\n",
    "        pair_tuples.append((i, j))\n",
    "\n",
    "        sim_img = simmat_img.get((i, j), 0)\n",
    "        sim_bert = simmat_bert.get((i, j), 0)\n",
    "        sim_mm = simmat_mm.get((i, j), 0)\n",
    "        sim_tfidf = simmat_tfidf[i, j]\n",
    "        if sim_img == 0 and sim_bert == 0:\n",
    "            continue\n",
    "\n",
    "        feats[i][j] = [\n",
    "            sim_img,\n",
    "            sim_tfidf,\n",
    "            sim_bert,\n",
    "            sim_mm,\n",
    "        ]\n",
    "        scores[j] = sim_img + sim_bert + sim_mm + sim_tfidf\n",
    "\n",
    "    top_neighbors[i] = sorted(right_indexes, key=lambda x: scores[x], reverse=True)[:params['k']]"
   ]
  },
  {
   "cell_type": "code",
   "execution_count": 33,
   "metadata": {
    "execution": {
     "iopub.execute_input": "2022-10-23T11:40:10.241102Z",
     "iopub.status.busy": "2022-10-23T11:40:10.240247Z",
     "iopub.status.idle": "2022-10-23T11:40:10.402627Z",
     "shell.execute_reply": "2022-10-23T11:40:10.402135Z",
     "shell.execute_reply.started": "2022-10-22T13:31:55.464854Z"
    },
    "papermill": {
     "duration": 0.240539,
     "end_time": "2022-10-23T11:40:10.402826",
     "exception": false,
     "start_time": "2022-10-23T11:40:10.162287",
     "status": "completed"
    },
    "tags": []
   },
   "outputs": [
    {
     "data": {
      "text/plain": [
       "26"
      ]
     },
     "execution_count": 33,
     "metadata": {},
     "output_type": "execute_result"
    }
   ],
   "source": [
    "dataset = GraphDataset(\n",
    "    feats=feats,\n",
    "    pair_tuples=pair_tuples,\n",
    "    k=params['k'],\n",
    "    top_neighbors=top_neighbors,\n",
    ")\n",
    "\n",
    "loader = DataLoader(dataset, batch_size=2 ** 12, shuffle=False, drop_last=False, num_workers=2, pin_memory=True)\n",
    "\n",
    "gat = GATPairClassifier(nfeat=len(feats[i][j]), nhid=params['nhid'],\n",
    "                        dropout=params['dropout'], nheads=params['nheads'], pooling=params['pooling'])\n",
    "gat.to('cuda').eval()\n",
    "gat.load_state_dict(ckpt['model'])\n",
    "\n",
    "del tfidf_feats\n",
    "gc.collect()"
   ]
  },
  {
   "cell_type": "code",
   "execution_count": 34,
   "metadata": {
    "execution": {
     "iopub.execute_input": "2022-10-23T11:40:10.556852Z",
     "iopub.status.busy": "2022-10-23T11:40:10.555891Z",
     "iopub.status.idle": "2022-10-23T11:40:15.583393Z",
     "shell.execute_reply": "2022-10-23T11:40:15.583859Z",
     "shell.execute_reply.started": "2022-10-22T13:31:55.634446Z"
    },
    "papermill": {
     "duration": 5.108088,
     "end_time": "2022-10-23T11:40:15.584033",
     "exception": false,
     "start_time": "2022-10-23T11:40:10.475945",
     "status": "completed"
    },
    "tags": []
   },
   "outputs": [
    {
     "name": "stderr",
     "output_type": "stream",
     "text": [
      "                                                        \r"
     ]
    },
    {
     "data": {
      "text/html": [
       "<div>\n",
       "<style scoped>\n",
       "    .dataframe tbody tr th:only-of-type {\n",
       "        vertical-align: middle;\n",
       "    }\n",
       "\n",
       "    .dataframe tbody tr th {\n",
       "        vertical-align: top;\n",
       "    }\n",
       "\n",
       "    .dataframe thead th {\n",
       "        text-align: right;\n",
       "    }\n",
       "</style>\n",
       "<table border=\"1\" class=\"dataframe\">\n",
       "  <thead>\n",
       "    <tr style=\"text-align: right;\">\n",
       "      <th></th>\n",
       "      <th>posting_id</th>\n",
       "      <th>posting_id_target</th>\n",
       "      <th>pred</th>\n",
       "    </tr>\n",
       "  </thead>\n",
       "  <tbody>\n",
       "    <tr>\n",
       "      <th>0</th>\n",
       "      <td>train_129225211</td>\n",
       "      <td>train_496484454</td>\n",
       "      <td>-0.289052</td>\n",
       "    </tr>\n",
       "    <tr>\n",
       "      <th>1</th>\n",
       "      <td>train_129225211</td>\n",
       "      <td>train_3009013664</td>\n",
       "      <td>-0.296500</td>\n",
       "    </tr>\n",
       "    <tr>\n",
       "      <th>2</th>\n",
       "      <td>train_129225211</td>\n",
       "      <td>train_1180155871</td>\n",
       "      <td>-0.289716</td>\n",
       "    </tr>\n",
       "    <tr>\n",
       "      <th>3</th>\n",
       "      <td>train_129225211</td>\n",
       "      <td>train_4204187863</td>\n",
       "      <td>-0.205241</td>\n",
       "    </tr>\n",
       "    <tr>\n",
       "      <th>4</th>\n",
       "      <td>train_129225211</td>\n",
       "      <td>train_916038872</td>\n",
       "      <td>-0.297061</td>\n",
       "    </tr>\n",
       "    <tr>\n",
       "      <th>...</th>\n",
       "      <td>...</td>\n",
       "      <td>...</td>\n",
       "      <td>...</td>\n",
       "    </tr>\n",
       "    <tr>\n",
       "      <th>93227</th>\n",
       "      <td>train_4148177698</td>\n",
       "      <td>train_3978236021</td>\n",
       "      <td>-0.299419</td>\n",
       "    </tr>\n",
       "    <tr>\n",
       "      <th>93228</th>\n",
       "      <td>train_4148177698</td>\n",
       "      <td>train_3755240481</td>\n",
       "      <td>-0.299024</td>\n",
       "    </tr>\n",
       "    <tr>\n",
       "      <th>93229</th>\n",
       "      <td>train_4148177698</td>\n",
       "      <td>train_2592728479</td>\n",
       "      <td>-0.299977</td>\n",
       "    </tr>\n",
       "    <tr>\n",
       "      <th>93230</th>\n",
       "      <td>train_4148177698</td>\n",
       "      <td>train_1045170109</td>\n",
       "      <td>-0.298511</td>\n",
       "    </tr>\n",
       "    <tr>\n",
       "      <th>93231</th>\n",
       "      <td>train_4148177698</td>\n",
       "      <td>train_3384807455</td>\n",
       "      <td>-0.299985</td>\n",
       "    </tr>\n",
       "  </tbody>\n",
       "</table>\n",
       "<p>93232 rows × 3 columns</p>\n",
       "</div>"
      ],
      "text/plain": [
       "             posting_id posting_id_target      pred\n",
       "0       train_129225211   train_496484454 -0.289052\n",
       "1       train_129225211  train_3009013664 -0.296500\n",
       "2       train_129225211  train_1180155871 -0.289716\n",
       "3       train_129225211  train_4204187863 -0.205241\n",
       "4       train_129225211   train_916038872 -0.297061\n",
       "...                 ...               ...       ...\n",
       "93227  train_4148177698  train_3978236021 -0.299419\n",
       "93228  train_4148177698  train_3755240481 -0.299024\n",
       "93229  train_4148177698  train_2592728479 -0.299977\n",
       "93230  train_4148177698  train_1045170109 -0.298511\n",
       "93231  train_4148177698  train_3384807455 -0.299985\n",
       "\n",
       "[93232 rows x 3 columns]"
      ]
     },
     "execution_count": 34,
     "metadata": {},
     "output_type": "execute_result"
    }
   ],
   "source": [
    "preds = []\n",
    "for feats, neighbor_feats in tqdm(loader, desc='predict', leave=False):\n",
    "    feats = feats.to('cuda', non_blocking=True)\n",
    "    neighbor_feats = neighbor_feats.to('cuda', non_blocking=True)\n",
    "    with torch.no_grad():\n",
    "        pred = gat(feats, neighbor_feats).sigmoid().detach().cpu().numpy().tolist()\n",
    "        preds.extend(pred)\n",
    "\n",
    "conf_th_gcn = 0.3\n",
    "df_pair = pd.DataFrame()\n",
    "col, row = list(zip(*pair_tuples))\n",
    "df_pair['i'] = col\n",
    "df_pair['j'] = row\n",
    "\n",
    "df_pair['posting_id'] = df['posting_id'].values[df_pair['i'].values]\n",
    "df_pair['posting_id_target'] = df['posting_id'].values[df_pair['j'].values]\n",
    "\n",
    "df_pair = df_pair[['posting_id', 'posting_id_target']]\n",
    "df_pair['pred'] = preds\n",
    "df_pair['pred'] -= conf_th_gcn\n",
    "\n",
    "df_pair.to_pickle('submission_gcn.pkl')\n",
    "df_pair"
   ]
  },
  {
   "cell_type": "markdown",
   "metadata": {
    "papermill": {
     "duration": 0.079678,
     "end_time": "2022-10-23T11:40:15.747580",
     "exception": false,
     "start_time": "2022-10-23T11:40:15.667902",
     "status": "completed"
    },
    "tags": []
   },
   "source": [
    "# LGB"
   ]
  },
  {
   "cell_type": "code",
   "execution_count": 35,
   "metadata": {
    "execution": {
     "iopub.execute_input": "2022-10-23T11:40:15.910444Z",
     "iopub.status.busy": "2022-10-23T11:40:15.909784Z",
     "iopub.status.idle": "2022-10-23T11:40:15.913336Z",
     "shell.execute_reply": "2022-10-23T11:40:15.912924Z"
    },
    "papermill": {
     "duration": 0.088315,
     "end_time": "2022-10-23T11:40:15.913457",
     "exception": false,
     "start_time": "2022-10-23T11:40:15.825142",
     "status": "completed"
    },
    "tags": []
   },
   "outputs": [],
   "source": [
    "map_used_time = defaultdict(float)\n",
    "\n",
    "@contextmanager\n",
    "def timer(title):\n",
    "    t0 = time.time()\n",
    "    yield\n",
    "    tt = time.time() - t0\n",
    "    map_used_time[title] += tt\n",
    "    print(\"  {} - done in {:.5f}s\".format(title, tt))"
   ]
  },
  {
   "cell_type": "code",
   "execution_count": 36,
   "metadata": {
    "execution": {
     "iopub.execute_input": "2022-10-23T11:40:16.081639Z",
     "iopub.status.busy": "2022-10-23T11:40:16.080640Z",
     "iopub.status.idle": "2022-10-23T11:40:16.096994Z",
     "shell.execute_reply": "2022-10-23T11:40:16.096521Z"
    },
    "papermill": {
     "duration": 0.104997,
     "end_time": "2022-10-23T11:40:16.097148",
     "exception": false,
     "start_time": "2022-10-23T11:40:15.992151",
     "status": "completed"
    },
    "tags": []
   },
   "outputs": [],
   "source": [
    "df, img_dir = load_data()\n",
    "\n",
    "stop_words = set([\n",
    "    'promo','diskon','baik','terbaik', 'murah',\n",
    "    'termurah', 'harga', 'price', 'best', 'seller',\n",
    "    'bestseller', 'ready', 'stock', 'stok', 'limited',\n",
    "    'bagus', 'kualitas', 'berkualitas', 'hari', 'ini',\n",
    "    'jadi', 'gratis',\n",
    "])\n",
    "\n",
    "titles = [\n",
    "    title.translate(str.maketrans({_: ' ' for _ in string.punctuation}))\n",
    "    for title in df['title'].str.lower().values\n",
    "]"
   ]
  },
  {
   "cell_type": "code",
   "execution_count": 37,
   "metadata": {
    "execution": {
     "iopub.execute_input": "2022-10-23T11:40:16.289690Z",
     "iopub.status.busy": "2022-10-23T11:40:16.279544Z",
     "iopub.status.idle": "2022-10-23T11:40:16.780215Z",
     "shell.execute_reply": "2022-10-23T11:40:16.779236Z",
     "shell.execute_reply.started": "2022-10-22T13:32:00.404135Z"
    },
    "papermill": {
     "duration": 0.603999,
     "end_time": "2022-10-23T11:40:16.780386",
     "exception": false,
     "start_time": "2022-10-23T11:40:16.176387",
     "status": "completed"
    },
    "tags": []
   },
   "outputs": [
    {
     "name": "stdout",
     "output_type": "stream",
     "text": [
      "  load - done in 0.29678s\n"
     ]
    },
    {
     "data": {
      "text/plain": [
       "0"
      ]
     },
     "execution_count": 37,
     "metadata": {},
     "output_type": "execute_result"
    }
   ],
   "source": [
    "tokenizer = TweetTokenizer()\n",
    "tfidf_vectorizer = TfidfVectorizer(stop_words=stop_words, \n",
    "                                   binary=True, \n",
    "                                   min_df=2, \n",
    "                                   token_pattern='(?u)\\\\b\\\\w+\\\\b', \n",
    "                                   tokenizer=tokenizer.tokenize,\n",
    "                                   dtype=np.float32,\n",
    "                                   norm='l2')\n",
    "tfidf_feats = tfidf_vectorizer.fit_transform(titles)\n",
    "\n",
    "with timer('load'):\n",
    "    similarities_bert, indexes_bert = joblib.load('/tmp/lyk_bert_data.pkl')\n",
    "    similarities_img, indexes_img = joblib.load('/tmp/lyk_img_data.pkl')\n",
    "    st_sizes, img_hs, img_ws = joblib.load('/tmp/lyk_img_meta_data.pkl')\n",
    "    similarities_mm, indexes_mm = joblib.load('/tmp/lyk_mm_data.pkl')\n",
    "    \n",
    "    row = indexes_bert.ravel()\n",
    "    col = np.arange(len(indexes_bert)).repeat(k)\n",
    "    data = similarities_bert.ravel()\n",
    "    simmat_bert = {(i, j): d for i, j, d in zip(col, row, data)}\n",
    "\n",
    "    row = indexes_img.ravel()\n",
    "    col = np.arange(len(indexes_img)).repeat(k)\n",
    "    data = similarities_img.ravel()\n",
    "    simmat_img = {(i, j): d for i, j, d in zip(col, row, data)}\n",
    "\n",
    "    row = indexes_mm.ravel()\n",
    "    col = np.arange(len(indexes_mm)).repeat(k)\n",
    "    data = similarities_mm.ravel()\n",
    "    simmat_mm = {(i, j): d for i, j, d in zip(col, row, data)}\n",
    "\n",
    "del row, col, data\n",
    "gc.collect()"
   ]
  },
  {
   "cell_type": "code",
   "execution_count": 38,
   "metadata": {
    "execution": {
     "iopub.execute_input": "2022-10-23T11:40:16.984757Z",
     "iopub.status.busy": "2022-10-23T11:40:16.983884Z",
     "iopub.status.idle": "2022-10-23T11:40:16.989933Z",
     "shell.execute_reply": "2022-10-23T11:40:16.990383Z",
     "shell.execute_reply.started": "2022-10-22T13:32:00.755508Z"
    },
    "papermill": {
     "duration": 0.095386,
     "end_time": "2022-10-23T11:40:16.990526",
     "exception": false,
     "start_time": "2022-10-23T11:40:16.895140",
     "status": "completed"
    },
    "tags": []
   },
   "outputs": [],
   "source": [
    "mean_sim_img_top5 = similarities_img[:, :5].mean(1)\n",
    "mean_sim_bert_top5 = similarities_bert[:, :5].mean(1)\n",
    "mean_sim_img_top5 = (mean_sim_img_top5 - mean_sim_img_top5.mean()) / mean_sim_img_top5.std()\n",
    "mean_sim_bert_top5 = (mean_sim_bert_top5 - mean_sim_bert_top5.mean()) / mean_sim_bert_top5.std()\n",
    "\n",
    "mean_mean_sim_img_top5 = mean_sim_img_top5[indexes_img[:, :5]].mean(1)\n",
    "mean_mean_sim_bert_top5 = mean_sim_bert_top5[indexes_bert[:, :5]].mean(1)\n",
    "mean_mean_sim_img_top5 = (mean_mean_sim_img_top5 - mean_mean_sim_img_top5.mean()) / mean_mean_sim_img_top5.std()\n",
    "mean_mean_sim_bert_top5 = (mean_mean_sim_bert_top5 - mean_mean_sim_bert_top5.mean()) / mean_mean_sim_bert_top5.std()\n",
    "\n",
    "mean_sim_img_top15 = similarities_img[:, :15].mean(1)\n",
    "mean_sim_bert_top15 = similarities_bert[:, :15].mean(1)\n",
    "mean_sim_img_top15 = (mean_sim_img_top15 - mean_sim_img_top15.mean()) / mean_sim_img_top15.std()\n",
    "mean_sim_bert_top15 = (mean_sim_bert_top15 - mean_sim_bert_top15.mean()) / mean_sim_bert_top15.std()\n",
    "\n",
    "mean_sim_img_top30 = similarities_img[:, :30].mean(1)\n",
    "mean_sim_bert_top30 = similarities_bert[:, :30].mean(1)\n",
    "mean_sim_img_top30 = (mean_sim_img_top30 - mean_sim_img_top30.mean()) / mean_sim_img_top30.std()\n",
    "mean_sim_bert_top30 = (mean_sim_bert_top30 - mean_sim_bert_top30.mean()) / mean_sim_bert_top30.std()\n",
    "\n",
    "mean_sim_mm_top5 = similarities_mm[:, :5].mean(1)\n",
    "mean_sim_mm_top5 = (mean_sim_mm_top5 - mean_sim_mm_top5.mean()) / mean_sim_mm_top5.std()\n",
    "\n",
    "mean_mean_sim_mm_top5 = mean_sim_mm_top5[indexes_mm[:, :5]].mean(1)\n",
    "mean_mean_sim_mm_top5 = (mean_mean_sim_mm_top5 - mean_mean_sim_mm_top5.mean()) / mean_mean_sim_mm_top5.std()\n",
    "\n",
    "mean_sim_mm_top15 = similarities_mm[:, :15].mean(1)\n",
    "mean_sim_mm_top15 = (mean_sim_mm_top15 - mean_sim_mm_top15.mean()) / mean_sim_mm_top15.std()\n",
    "\n",
    "mean_sim_mm_top30 = similarities_mm[:, :30].mean(1)\n",
    "mean_sim_mm_top30 = (mean_sim_mm_top30 - mean_sim_mm_top30.mean()) / mean_sim_mm_top30.std()"
   ]
  },
  {
   "cell_type": "code",
   "execution_count": 39,
   "metadata": {
    "execution": {
     "iopub.execute_input": "2022-10-23T11:40:17.168209Z",
     "iopub.status.busy": "2022-10-23T11:40:17.167305Z",
     "iopub.status.idle": "2022-10-23T11:40:21.049757Z",
     "shell.execute_reply": "2022-10-23T11:40:21.049226Z",
     "shell.execute_reply.started": "2022-10-22T13:32:00.772151Z"
    },
    "papermill": {
     "duration": 3.979497,
     "end_time": "2022-10-23T11:40:21.049899",
     "exception": false,
     "start_time": "2022-10-23T11:40:17.070402",
     "status": "completed"
    },
    "tags": []
   },
   "outputs": [
    {
     "name": "stderr",
     "output_type": "stream",
     "text": [
      "100%|██████████| 1000/1000 [00:03<00:00, 301.83it/s]\n"
     ]
    },
    {
     "name": "stdout",
     "output_type": "stream",
     "text": [
      "  to_frame - done in 0.04775s\n",
      "  sim_tfidf - done in 0.01812s\n"
     ]
    },
    {
     "data": {
      "text/plain": [
       "13"
      ]
     },
     "execution_count": 39,
     "metadata": {},
     "output_type": "execute_result"
    }
   ],
   "source": [
    "row_titles = df['title'].values\n",
    "posting_ids = df['posting_id'].values\n",
    "\n",
    "tmp_dir = Path('/tmp/rows')\n",
    "tmp_dir.mkdir(exist_ok=True, parents=True)\n",
    "\n",
    "rows = []\n",
    "for i in tqdm(range(len(df))):\n",
    "    right_indexes = set(indexes_img[i].tolist() + indexes_bert[i].tolist())\n",
    "\n",
    "    for _, j in enumerate(right_indexes):\n",
    "        if i == j:\n",
    "            continue\n",
    "        sim_img = simmat_img.get((i, j), 0)\n",
    "        sim_bert = simmat_bert.get((i, j), 0)\n",
    "        sim_mm = simmat_mm.get((i, j), 0)\n",
    "        if sim_img == 0 and sim_bert == 0:\n",
    "            continue\n",
    "\n",
    "        rows.append({\n",
    "            'i': i,\n",
    "            'j': j,\n",
    "            'posting_id': posting_ids[i],\n",
    "            'posting_id_target': posting_ids[j],\n",
    "            'sim_img': sim_img,\n",
    "            'sim_bert': sim_bert,\n",
    "            'sim_mm': sim_mm,\n",
    "            'edit_distance': editdistance.eval(titles[i], titles[j]),\n",
    "            'title_len': len(row_titles[i]),\n",
    "            'title_len_target': len(row_titles[j]),\n",
    "            'title_num_words': len(row_titles[i].split()),\n",
    "            'title_num_words_target': len(row_titles[j].split()),\n",
    "            'mean_sim_img_top5': mean_sim_img_top5[i],\n",
    "            'mean_sim_img_target_top5': mean_sim_img_top5[j],\n",
    "            'mean_sim_bert_top5': mean_sim_bert_top5[i],\n",
    "            'mean_sim_bert_target_top5': mean_sim_bert_top5[j],\n",
    "            'mean_sim_img_top15': mean_sim_img_top15[i],\n",
    "            'mean_sim_img_target_top15': mean_sim_img_top15[j],\n",
    "            'mean_sim_bert_top15': mean_sim_bert_top15[i],\n",
    "            'mean_sim_bert_target_top15': mean_sim_bert_top15[j],\n",
    "            'mean_sim_img_top30': mean_sim_img_top30[i],\n",
    "            'mean_sim_img_target_top30': mean_sim_img_top30[j],\n",
    "            'mean_sim_bert_top30': mean_sim_bert_top30[i],\n",
    "            'mean_sim_bert_target_top30': mean_sim_bert_top30[j],\n",
    "            'st_size': st_sizes[i],\n",
    "            'st_size_target': st_sizes[j],\n",
    "            'wxh/st_size': img_ws[i] * img_hs[i] / st_sizes[i],\n",
    "            'wxh/st_size_target': img_ws[j] * img_hs[j] / st_sizes[j],\n",
    "            'mean_mean_sim_img_top5': mean_mean_sim_img_top5[i],\n",
    "            'mean_mean_sim_img_target_top5': mean_mean_sim_img_top5[j],\n",
    "            'mean_mean_sim_bert_top5': mean_mean_sim_bert_top5[i],\n",
    "            'mean_mean_sim_bert_target_top5': mean_mean_sim_bert_top5[j],\n",
    "            'mean_sim_mm_top5': mean_sim_mm_top5[i],\n",
    "            'mean_sim_mm_target_top5': mean_sim_mm_top5[j],\n",
    "            'mean_sim_mm_top15': mean_sim_mm_top15[i],\n",
    "            'mean_sim_mm_target_top15': mean_sim_mm_top15[j],\n",
    "            'mean_sim_mm_top30': mean_sim_mm_top30[i],\n",
    "            'mean_sim_mm_target_top30': mean_sim_mm_top30[j],\n",
    "            'mean_mean_sim_mm_top5': mean_mean_sim_mm_top5[i],\n",
    "            'mean_mean_sim_mm_target_top5': mean_mean_sim_mm_top5[j],\n",
    "        })\n",
    "\n",
    "    if i % 10000 == 9999 or i == len(df) - 1:\n",
    "        tmp_df = pd.DataFrame(rows)\n",
    "        for col in tmp_df.columns:\n",
    "            if tmp_df[col].dtype == 'float64':\n",
    "                tmp_df[col] = tmp_df[col].astype('float32')\n",
    "            elif tmp_df[col].dtype == 'int64':\n",
    "                tmp_df[col] = tmp_df[col].astype('int32')\n",
    "        tmp_df.to_feather(tmp_dir / f'{i}.feather')\n",
    "        rows = []\n",
    "\n",
    "df.drop(['image', 'title'], axis=1, inplace=True)\n",
    "del (\n",
    "    mean_sim_img_top5, mean_sim_img_top15, mean_sim_img_top30, mean_mean_sim_img_top5,\n",
    "    mean_sim_bert_top5, mean_sim_bert_top15, mean_sim_bert_top30, mean_mean_sim_bert_top5,\n",
    "    mean_sim_mm_top5, mean_sim_mm_top15, mean_sim_mm_top30, mean_mean_sim_mm_top5,\n",
    "    simmat_img, simmat_bert, simmat_mm,\n",
    "    similarities_img, indexes_img,\n",
    "    similarities_bert, indexes_bert,\n",
    "    similarities_mm, indexes_mm,\n",
    ")\n",
    "gc.collect()\n",
    "\n",
    "with timer('to_frame'):\n",
    "    df_pair = pd.concat([pd.read_feather(path) for path in tmp_dir.glob('**/*.feather')], axis=0).reset_index(drop=True)\n",
    "    \n",
    "del rows\n",
    "gc.collect()\n",
    "\n",
    "with timer('sim_tfidf'):\n",
    "    df_pair['sim_tfidf'] = tfidf_feats[df_pair['i'].values].multiply(tfidf_feats[df_pair['j'].values]).sum(axis=1)\n",
    "df_pair['title_len_diff'] = np.abs(df_pair['title_len'] - df_pair['title_len_target'])\n",
    "df_pair['title_num_words_diff'] = np.abs(df_pair['title_num_words'] - df_pair['title_num_words_target'])\n",
    "\n",
    "del tfidf_feats\n",
    "gc.collect()"
   ]
  },
  {
   "cell_type": "code",
   "execution_count": 40,
   "metadata": {
    "execution": {
     "iopub.execute_input": "2022-10-23T11:40:21.232452Z",
     "iopub.status.busy": "2022-10-23T11:40:21.231708Z",
     "iopub.status.idle": "2022-10-23T11:40:30.744805Z",
     "shell.execute_reply": "2022-10-23T11:40:30.745354Z",
     "shell.execute_reply.started": "2022-10-22T13:32:04.692474Z"
    },
    "papermill": {
     "duration": 9.6075,
     "end_time": "2022-10-23T11:40:30.745575",
     "exception": false,
     "start_time": "2022-10-23T11:40:21.138075",
     "status": "completed"
    },
    "tags": []
   },
   "outputs": [
    {
     "name": "stdout",
     "output_type": "stream",
     "text": [
      "[11:40:27] ../src/frontend/lightgbm.cc:544: model.num_tree = 1630\n",
      "[11:40:28] ../src/frontend/lightgbm.cc:544: model.num_tree = 1630\n",
      "[11:40:28] ../src/frontend/lightgbm.cc:544: model.num_tree = 1630\n",
      "[11:40:29] ../src/frontend/lightgbm.cc:544: model.num_tree = 1630\n",
      "[11:40:29] ../src/frontend/lightgbm.cc:544: model.num_tree = 1630\n",
      "  predict - done in 0.56358s\n"
     ]
    }
   ],
   "source": [
    "from cuml import ForestInference\n",
    "import treelite\n",
    "\n",
    "list_clf = []\n",
    "for clf in joblib.load('../input/shopee/boosters_v34_v45_mm.pickle'):\n",
    "    clf.save_model('/tmp/tmp.lgb')\n",
    "    fi = ForestInference()\n",
    "    fi.load_from_treelite_model(treelite.Model.load('/tmp/tmp.lgb', model_format='lightgbm'))\n",
    "    list_clf.append(fi)\n",
    "\n",
    "X = df_pair[[\n",
    "    'sim_img', 'sim_tfidf', 'sim_bert', 'sim_mm', 'edit_distance',\n",
    "    'title_len', 'title_len_target', 'title_len_diff',\n",
    "    'title_num_words', 'title_num_words_target', 'title_num_words_diff',\n",
    "    'mean_sim_img_top5', 'mean_sim_img_target_top5',\n",
    "    'mean_sim_bert_top5', 'mean_sim_bert_target_top5',\n",
    "    'mean_sim_mm_top5', 'mean_sim_mm_target_top5',\n",
    "    'mean_sim_img_top15', 'mean_sim_img_target_top15',\n",
    "    'mean_sim_bert_top15', 'mean_sim_bert_target_top15',\n",
    "    'mean_sim_mm_top15', 'mean_sim_mm_target_top15',\n",
    "    'mean_sim_img_top30', 'mean_sim_img_target_top30',\n",
    "    'mean_sim_bert_top30', 'mean_sim_bert_target_top30',\n",
    "    'mean_sim_mm_top30', 'mean_sim_mm_target_top30',\n",
    "    'st_size', 'st_size_target',\n",
    "    'wxh/st_size', 'wxh/st_size_target',\n",
    "    'mean_mean_sim_img_top5', 'mean_mean_sim_img_target_top5',\n",
    "    'mean_mean_sim_bert_top5', 'mean_mean_sim_bert_target_top5',\n",
    "    'mean_mean_sim_mm_top5', 'mean_mean_sim_mm_target_top5',\n",
    "]]\n",
    "\n",
    "# passing as cupy array might be able to avoid multipy copy to GPU.\n",
    "X = cp.asarray(X[clf.feature_name()].values.astype(np.float32))\n",
    "df_pair = df_pair[['posting_id', 'posting_id_target']]\n",
    "\n",
    "gc.collect()\n",
    "\n",
    "with timer('predict'):\n",
    "    df_pair['pred'] = np.mean([clf.predict(X).get() for clf in list_clf], axis=0) - conf_th\n",
    "\n",
    "df_pair.to_pickle('submission_lgb.pkl')"
   ]
  },
  {
   "cell_type": "markdown",
   "metadata": {
    "papermill": {
     "duration": 0.087187,
     "end_time": "2022-10-23T11:40:30.918910",
     "exception": false,
     "start_time": "2022-10-23T11:40:30.831723",
     "status": "completed"
    },
    "tags": []
   },
   "source": [
    "# Postprocess"
   ]
  },
  {
   "cell_type": "code",
   "execution_count": 41,
   "metadata": {
    "execution": {
     "iopub.execute_input": "2022-10-23T11:40:31.097636Z",
     "iopub.status.busy": "2022-10-23T11:40:31.096533Z",
     "iopub.status.idle": "2022-10-23T11:40:31.130408Z",
     "shell.execute_reply": "2022-10-23T11:40:31.129966Z",
     "shell.execute_reply.started": "2022-10-22T13:38:41.309789Z"
    },
    "papermill": {
     "duration": 0.124551,
     "end_time": "2022-10-23T11:40:31.130546",
     "exception": false,
     "start_time": "2022-10-23T11:40:31.005995",
     "status": "completed"
    },
    "tags": []
   },
   "outputs": [],
   "source": [
    "df_gcn = pd.read_pickle('submission_gcn.pkl')\n",
    "df_lgb = pd.read_pickle('submission_lgb.pkl')\n",
    "\n",
    "df_gcn['pred'] *= 2\n",
    "df_lgb['pred'] *= 1\n",
    "\n",
    "# for adding self-to-self rows back\n",
    "if DEBUG:\n",
    "    nrows = 1000\n",
    "    df_self = pd.read_csv('../input/shopee-product-matching/train.csv', nrows=nrows, usecols=['posting_id'])\n",
    "else:\n",
    "    df_self = pd.read_csv('../input/shopee-product-matching/test.csv', usecols=['posting_id'])\n",
    "df_self['posting_id_target'] = df['posting_id']\n",
    "df['pred'] = 0"
   ]
  },
  {
   "cell_type": "code",
   "execution_count": 42,
   "metadata": {
    "execution": {
     "iopub.execute_input": "2022-10-23T11:40:31.311802Z",
     "iopub.status.busy": "2022-10-23T11:40:31.310946Z",
     "iopub.status.idle": "2022-10-23T11:40:31.478973Z",
     "shell.execute_reply": "2022-10-23T11:40:31.479982Z",
     "shell.execute_reply.started": "2022-10-22T13:38:42.548619Z"
    },
    "papermill": {
     "duration": 0.262451,
     "end_time": "2022-10-23T11:40:31.480166",
     "exception": false,
     "start_time": "2022-10-23T11:40:31.217715",
     "status": "completed"
    },
    "tags": []
   },
   "outputs": [
    {
     "data": {
      "text/html": [
       "<div>\n",
       "<style scoped>\n",
       "    .dataframe tbody tr th:only-of-type {\n",
       "        vertical-align: middle;\n",
       "    }\n",
       "\n",
       "    .dataframe tbody tr th {\n",
       "        vertical-align: top;\n",
       "    }\n",
       "\n",
       "    .dataframe thead th {\n",
       "        text-align: right;\n",
       "    }\n",
       "</style>\n",
       "<table border=\"1\" class=\"dataframe\">\n",
       "  <thead>\n",
       "    <tr style=\"text-align: right;\">\n",
       "      <th></th>\n",
       "      <th>posting_id</th>\n",
       "      <th>posting_id_target</th>\n",
       "      <th>pred</th>\n",
       "    </tr>\n",
       "  </thead>\n",
       "  <tbody>\n",
       "    <tr>\n",
       "      <th>0</th>\n",
       "      <td>train_1002628427</td>\n",
       "      <td>train_1002628427</td>\n",
       "      <td>0.500000</td>\n",
       "    </tr>\n",
       "    <tr>\n",
       "      <th>1</th>\n",
       "      <td>train_1010868925</td>\n",
       "      <td>train_1010868925</td>\n",
       "      <td>0.500000</td>\n",
       "    </tr>\n",
       "    <tr>\n",
       "      <th>2</th>\n",
       "      <td>train_1010868925</td>\n",
       "      <td>train_4184037897</td>\n",
       "      <td>0.562619</td>\n",
       "    </tr>\n",
       "    <tr>\n",
       "      <th>3</th>\n",
       "      <td>train_1011324296</td>\n",
       "      <td>train_1011324296</td>\n",
       "      <td>0.500000</td>\n",
       "    </tr>\n",
       "    <tr>\n",
       "      <th>4</th>\n",
       "      <td>train_1011324296</td>\n",
       "      <td>train_1343380721</td>\n",
       "      <td>0.229234</td>\n",
       "    </tr>\n",
       "    <tr>\n",
       "      <th>...</th>\n",
       "      <td>...</td>\n",
       "      <td>...</td>\n",
       "      <td>...</td>\n",
       "    </tr>\n",
       "    <tr>\n",
       "      <th>1847</th>\n",
       "      <td>train_993003820</td>\n",
       "      <td>train_993003820</td>\n",
       "      <td>0.500000</td>\n",
       "    </tr>\n",
       "    <tr>\n",
       "      <th>1848</th>\n",
       "      <td>train_993079226</td>\n",
       "      <td>train_993079226</td>\n",
       "      <td>0.500000</td>\n",
       "    </tr>\n",
       "    <tr>\n",
       "      <th>1849</th>\n",
       "      <td>train_998568945</td>\n",
       "      <td>train_2413283241</td>\n",
       "      <td>0.226483</td>\n",
       "    </tr>\n",
       "    <tr>\n",
       "      <th>1850</th>\n",
       "      <td>train_998568945</td>\n",
       "      <td>train_998568945</td>\n",
       "      <td>0.500000</td>\n",
       "    </tr>\n",
       "    <tr>\n",
       "      <th>1851</th>\n",
       "      <td>train_999391364</td>\n",
       "      <td>train_999391364</td>\n",
       "      <td>0.500000</td>\n",
       "    </tr>\n",
       "  </tbody>\n",
       "</table>\n",
       "<p>1852 rows × 3 columns</p>\n",
       "</div>"
      ],
      "text/plain": [
       "            posting_id posting_id_target      pred\n",
       "0     train_1002628427  train_1002628427  0.500000\n",
       "1     train_1010868925  train_1010868925  0.500000\n",
       "2     train_1010868925  train_4184037897  0.562619\n",
       "3     train_1011324296  train_1011324296  0.500000\n",
       "4     train_1011324296  train_1343380721  0.229234\n",
       "...                ...               ...       ...\n",
       "1847   train_993003820   train_993003820  0.500000\n",
       "1848   train_993079226   train_993079226  0.500000\n",
       "1849   train_998568945  train_2413283241  0.226483\n",
       "1850   train_998568945   train_998568945  0.500000\n",
       "1851   train_999391364   train_999391364  0.500000\n",
       "\n",
       "[1852 rows x 3 columns]"
      ]
     },
     "execution_count": 42,
     "metadata": {},
     "output_type": "execute_result"
    }
   ],
   "source": [
    "df_pred = pd.concat([df_gcn, df_lgb, df_self], axis=0, ignore_index=True).groupby(['posting_id', 'posting_id_target'])[['pred']].sum() / 3\n",
    "\n",
    "df_pred.reset_index(inplace=True)\n",
    "df_pred.loc[df_pred['posting_id'] == df_pred['posting_id_target'], 'pred'] = 0.5\n",
    "df_pred.set_index(['posting_id', 'posting_id_target'], inplace=True)\n",
    "\n",
    "df_pred = df_pred.query('pred > 0')\n",
    "df_pred = df_pred[df_pred.apply(lambda row: (row.name[1], row.name[0]) in df_pred.index, axis=1)].reset_index()\n",
    "\n",
    "df_pred"
   ]
  },
  {
   "cell_type": "markdown",
   "metadata": {
    "papermill": {
     "duration": 0.085827,
     "end_time": "2022-10-23T11:40:31.654898",
     "exception": false,
     "start_time": "2022-10-23T11:40:31.569071",
     "status": "completed"
    },
    "tags": []
   },
   "source": [
    "Remove edges by betweenness centrality:"
   ]
  },
  {
   "cell_type": "code",
   "execution_count": 43,
   "metadata": {
    "execution": {
     "iopub.execute_input": "2022-10-23T11:40:31.840259Z",
     "iopub.status.busy": "2022-10-23T11:40:31.839448Z",
     "iopub.status.idle": "2022-10-23T11:40:31.867697Z",
     "shell.execute_reply": "2022-10-23T11:40:31.867259Z",
     "shell.execute_reply.started": "2022-10-22T13:39:02.908589Z"
    },
    "papermill": {
     "duration": 0.12651,
     "end_time": "2022-10-23T11:40:31.867828",
     "exception": false,
     "start_time": "2022-10-23T11:40:31.741318",
     "status": "completed"
    },
    "tags": []
   },
   "outputs": [
    {
     "data": {
      "text/html": [
       "<div>\n",
       "<style scoped>\n",
       "    .dataframe tbody tr th:only-of-type {\n",
       "        vertical-align: middle;\n",
       "    }\n",
       "\n",
       "    .dataframe tbody tr th {\n",
       "        vertical-align: top;\n",
       "    }\n",
       "\n",
       "    .dataframe thead th {\n",
       "        text-align: right;\n",
       "    }\n",
       "</style>\n",
       "<table border=\"1\" class=\"dataframe\">\n",
       "  <thead>\n",
       "    <tr style=\"text-align: right;\">\n",
       "      <th></th>\n",
       "      <th>posting_id</th>\n",
       "      <th>matches</th>\n",
       "    </tr>\n",
       "  </thead>\n",
       "  <tbody>\n",
       "    <tr>\n",
       "      <th>0</th>\n",
       "      <td>train_1002628427</td>\n",
       "      <td>train_1002628427</td>\n",
       "    </tr>\n",
       "    <tr>\n",
       "      <th>1</th>\n",
       "      <td>train_1010868925</td>\n",
       "      <td>train_4184037897 train_1010868925</td>\n",
       "    </tr>\n",
       "    <tr>\n",
       "      <th>2</th>\n",
       "      <td>train_1011324296</td>\n",
       "      <td>train_1011324296 train_1343380721</td>\n",
       "    </tr>\n",
       "    <tr>\n",
       "      <th>3</th>\n",
       "      <td>train_1012209986</td>\n",
       "      <td>train_1012209986 train_1969570411</td>\n",
       "    </tr>\n",
       "    <tr>\n",
       "      <th>4</th>\n",
       "      <td>train_1014754278</td>\n",
       "      <td>train_1014754278</td>\n",
       "    </tr>\n",
       "    <tr>\n",
       "      <th>...</th>\n",
       "      <td>...</td>\n",
       "      <td>...</td>\n",
       "    </tr>\n",
       "    <tr>\n",
       "      <th>995</th>\n",
       "      <td>train_990204630</td>\n",
       "      <td>train_990204630 train_1724760722</td>\n",
       "    </tr>\n",
       "    <tr>\n",
       "      <th>996</th>\n",
       "      <td>train_993003820</td>\n",
       "      <td>train_993003820</td>\n",
       "    </tr>\n",
       "    <tr>\n",
       "      <th>997</th>\n",
       "      <td>train_993079226</td>\n",
       "      <td>train_993079226</td>\n",
       "    </tr>\n",
       "    <tr>\n",
       "      <th>998</th>\n",
       "      <td>train_998568945</td>\n",
       "      <td>train_2413283241 train_998568945</td>\n",
       "    </tr>\n",
       "    <tr>\n",
       "      <th>999</th>\n",
       "      <td>train_999391364</td>\n",
       "      <td>train_999391364</td>\n",
       "    </tr>\n",
       "  </tbody>\n",
       "</table>\n",
       "<p>1000 rows × 2 columns</p>\n",
       "</div>"
      ],
      "text/plain": [
       "           posting_id                            matches\n",
       "0    train_1002628427                   train_1002628427\n",
       "1    train_1010868925  train_4184037897 train_1010868925\n",
       "2    train_1011324296  train_1011324296 train_1343380721\n",
       "3    train_1012209986  train_1012209986 train_1969570411\n",
       "4    train_1014754278                   train_1014754278\n",
       "..                ...                                ...\n",
       "995   train_990204630   train_990204630 train_1724760722\n",
       "996   train_993003820                    train_993003820\n",
       "997   train_993079226                    train_993079226\n",
       "998   train_998568945   train_2413283241 train_998568945\n",
       "999   train_999391364                    train_999391364\n",
       "\n",
       "[1000 rows x 2 columns]"
      ]
     },
     "execution_count": 43,
     "metadata": {},
     "output_type": "execute_result"
    }
   ],
   "source": [
    "from networkx import edge_betweenness_centrality\n",
    "\n",
    "G = nx.Graph()\n",
    "for i, j, w in df_pred[['posting_id', 'posting_id_target', 'pred']].values:\n",
    "    G.add_edge(i, j, weight=w)\n",
    "\n",
    "list_remove_edges = []\n",
    "list_add_edges = []\n",
    "\n",
    "def split_graph(G):\n",
    "    list_comp = list(nx.connected_components(G))\n",
    "    n = len(G.nodes)\n",
    "    if len(list_comp) == 1:\n",
    "        map_bet = edge_betweenness_centrality(G, normalized=True)\n",
    "        map_bet = {(i, j): w  for (i, j), w in map_bet.items() \n",
    "                   if G[i][j]['weight'] < 0.15780210284453428}\n",
    "        if len(map_bet) == 0:\n",
    "            return\n",
    "        edge, val = max(map_bet.items(), key=lambda x: x[1])\n",
    "        if val > 0.11766651703447985:\n",
    "            G.remove_edge(*edge)\n",
    "            list_remove_edges.append(edge)\n",
    "            return split_graph(G)\n",
    "    else:\n",
    "        iters = list_comp\n",
    "        for comp in iters:\n",
    "            if len(comp) > 6:\n",
    "                split_graph(nx.Graph(G.subgraph(comp)))\n",
    "                \n",
    "split_graph(G)\n",
    "\n",
    "for edge in list_remove_edges:\n",
    "    G.remove_edge(*edge)\n",
    "\n",
    "def get_score(i, j):\n",
    "    try:\n",
    "        return G[i][j]['weight']\n",
    "    except KeyError:\n",
    "        return -1\n",
    "\n",
    "posting_ids = df_pred['posting_id'].unique()\n",
    "\n",
    "matches = []\n",
    "for i in posting_ids:\n",
    "    if i in G:\n",
    "        m = list(set([i] + list(G.neighbors(i))))\n",
    "    else:\n",
    "        m = [i]\n",
    "    if len(m) > 51:\n",
    "        m = sorted(m, key=lambda x: get_score(i, x), reverse=True)[:51]\n",
    "    matches.append(' '.join(m))\n",
    "    \n",
    "matched = pd.DataFrame(dict(posting_id=posting_ids, matches=matches))\n",
    "\n",
    "matched.to_csv('submission.csv', index=False)\n",
    "matched"
   ]
  }
 ],
 "metadata": {
  "kernelspec": {
   "display_name": "Python 3",
   "language": "python",
   "name": "python3"
  },
  "language_info": {
   "codemirror_mode": {
    "name": "ipython",
    "version": 3
   },
   "file_extension": ".py",
   "mimetype": "text/x-python",
   "name": "python",
   "nbconvert_exporter": "python",
   "pygments_lexer": "ipython3",
   "version": "3.7.9"
  },
  "papermill": {
   "default_parameters": {},
   "duration": 254.806546,
   "end_time": "2022-10-23T11:40:35.007278",
   "environment_variables": {},
   "exception": null,
   "input_path": "__notebook__.ipynb",
   "output_path": "__notebook__.ipynb",
   "parameters": {},
   "start_time": "2022-10-23T11:36:20.200732",
   "version": "2.2.2"
  }
 },
 "nbformat": 4,
 "nbformat_minor": 4
}
